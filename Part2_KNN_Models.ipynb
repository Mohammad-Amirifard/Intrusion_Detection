{
  "metadata": {
    "colab": {
      "collapsed_sections": [
        "330cc221"
      ],
      "provenance": [],
      "include_colab_link": true
    },
    "kaggle": {
      "accelerator": "none",
      "dataSources": [],
      "dockerImageVersionId": 30746,
      "isInternetEnabled": true,
      "language": "python",
      "sourceType": "notebook",
      "isGpuEnabled": false
    },
    "kernelspec": {
      "name": "python3",
      "display_name": "Python 3",
      "language": "python"
    },
    "language_info": {
      "name": "python",
      "version": "3.10.13",
      "mimetype": "text/x-python",
      "codemirror_mode": {
        "name": "ipython",
        "version": 3
      },
      "pygments_lexer": "ipython3",
      "nbconvert_exporter": "python",
      "file_extension": ".py"
    },
    "papermill": {
      "default_parameters": {},
      "duration": 8845.934972,
      "end_time": "2024-08-09T23:34:39.914144",
      "environment_variables": {},
      "exception": true,
      "input_path": "__notebook__.ipynb",
      "output_path": "__notebook__.ipynb",
      "parameters": {},
      "start_time": "2024-08-09T21:07:13.979172",
      "version": "2.5.0"
    }
  },
  "nbformat_minor": 5,
  "nbformat": 4,
  "cells": [
    {
      "cell_type": "markdown",
      "metadata": {
        "id": "view-in-github",
        "colab_type": "text"
      },
      "source": [
        "<a href=\"https://colab.research.google.com/github/Mohammad-Amirifard/Intrusion_Detection/blob/main/Part2_KNN_Models.ipynb\" target=\"_parent\"><img src=\"https://colab.research.google.com/assets/colab-badge.svg\" alt=\"Open In Colab\"/></a>"
      ]
    },
    {
      "cell_type": "markdown",
      "source": [
        "# **Intrusion Detection Using Machine Learning Techniques On CIC-IDS2017 Dataset**\n",
        "\n",
        "Created By [Mohammad Amirifard](https://www.linkedin.com/in/mohammad-amirifard/)\n",
        "\n",
        "\n",
        "<img src=\"https://www.teligentsolutions.com/wp-content/uploads/2015/04/Teligent_Solutions_Intrusion_Detection.jpg\" alt=\"Image\" />\n",
        "\n",
        "# **Structure of notebooks**\n",
        "`This program includes several notebooks regarding different parts.`\n",
        "\n",
        "This is **notebook number 2**, called **Part2_KNN_Models**\n",
        "\n",
        "For other notebooks you can use the following links:\n",
        "\n",
        "\n",
        "1.   Notebook number 1, [Part1_EDA](https://github.com/Mohammad-Amirifard/Intrusion_Detection/blob/main/Notebooks/Part1_EDA.ipynb)\n",
        "2.   Notebook number 2, [Part2_KNN_Models](https://github.com/Mohammad-Amirifard/Intrusion_Detection/blob/main/Notebooks/Part2_KNN_Models.ipynb)\n",
        "3.   Notebook number 3, [Part3_SVM_Models](https://github.com/Mohammad-Amirifard/Intrusion_Detection/blob/main/Notebooks/Part3_SVM_Models.ipynb)\n",
        "4.   Notebook number 4, [Part4_Gboost_Model](https://github.com/Mohammad-Amirifard/Intrusion_Detection/blob/main/Notebooks/Part4_GBoost_Model.ipynb)\n",
        "5.   Notebook number 5, [Part5_MLP_Model](https://github.com/Mohammad-Amirifard/Intrusion_Detection/blob/main/Notebooks/Part5_MLP_Model.ipynb)\n",
        "6.   Notebook number 6, [Part6_Conclusion]()\n"
      ],
      "metadata": {
        "id": "52a0fb8d",
        "papermill": {
          "duration": 0.013972,
          "end_time": "2024-08-12T18:41:38.465643",
          "exception": false,
          "start_time": "2024-08-12T18:41:38.451671",
          "status": "completed"
        },
        "pycharm": {
          "name": "#%% md\n"
        },
        "tags": []
      },
      "id": "52a0fb8d"
    },
    {
      "cell_type": "markdown",
      "source": [
        "# **Problem Statement**\n",
        "The objective of this project is to **detect** and classify various types of **anomalies** within the `CIC-IDS2017 dataset`, which is a widely recognized benchmark dataset used for cybersecurity research, particularly in the domain of intrusion detection systems (IDS). Anomalies in this context refer to unusual or suspicious patterns in the network traffic data that may indicate potential security threats such as attacks or intrusions.\n",
        "\n",
        "To achieve this, we will apply a range of **machine learning techniques** that are commonly used for anomaly detection and classification tasks. These techniques include, but are not limited to, supervised learning methods, such as decision trees, support vector machines, and neural networks, as well as unsupervised learning approaches like clustering algorithms and autoencoders. By leveraging these methods, we aim to accurately classify network traffic data into normal and anomalous categories.\n",
        "\n",
        "The problem we are addressing is inherently a classification problem, where the primary goal is to categorize the data into predefined classes based on the learned patterns. This involves training machine learning models on labeled data to distinguish between normal and anomalous network traffic, enabling the detection of potential security threats with high precision and recall.\n",
        "\n",
        "**Goal:**\n",
        "\n",
        "Our ultimate aim is to develop a robust system that can effectively identify various types of anomalies, contributing to the enhancement of network security measures.\n",
        "\n",
        "**Dataset:**\n",
        "\n",
        "you can see detail of available dataset on this [link](https://www.unb.ca/cic/datasets/ids-2017.html)"
      ],
      "metadata": {
        "id": "vtCIogpl-B7R",
        "pycharm": {
          "name": "#%% md\n"
        }
      },
      "id": "vtCIogpl-B7R"
    },
    {
      "cell_type": "markdown",
      "source": [
        "# **Table of Content**\n",
        "\n"
      ],
      "metadata": {
        "id": "xqAmhWxo2_ix",
        "pycharm": {
          "name": "#%% md\n"
        }
      },
      "id": "xqAmhWxo2_ix"
    },
    {
      "cell_type": "markdown",
      "source": [
        "<div class=\"toc\" style=\"background-color: #d4d0cf; padding: 10px; border-radius: 5px;\">\n",
        "  <h2 style=\"color: black;\"></h2>\n",
        "  <ul>\n",
        "    <li style=\"color: black;\">Import Libraries</li>\n",
        "    <li style=\"color: black;\">Download Clean CIC-IDS2017 Dataset</li>\n",
        "    <li style=\"color: black;\">Load datasets</li>\n",
        "    <li style=\"color: black;\">Encode Labels</li>\n",
        "    <li style=\"color: black;\">Split dataset</li>\n",
        "    <li style=\"color: black;\">Normalize Data</li>\n",
        "    <li style=\"color: black;\">Performance function</li>\n",
        "    <li style=\"color: black;\">Perfomance Plot</li>\n",
        "    <li style=\"color: black;\">K-Nearest Neighbour Models\n",
        "      <ul>\n",
        "        <li style=\"color: black;\">KNN_1</li>\n",
        "        <li style=\"color: black;\">KNN_2</li>\n",
        "        <li style=\"color: black;\">KNN_3</li>\n",
        "      </ul>\n",
        "    </li>\n",
        "    <li style=\"color: black;\">KNN_models Performance</li>\n",
        "  </ul>\n",
        "</div>\n"
      ],
      "metadata": {
        "id": "CcBc0rStzmm1",
        "pycharm": {
          "name": "#%% md\n"
        }
      },
      "id": "CcBc0rStzmm1"
    },
    {
      "cell_type": "markdown",
      "source": [
        "# **Import Libraries**\n",
        "\n",
        "Here we import libraries on which we need to work."
      ],
      "metadata": {
        "id": "81ec61a6",
        "papermill": {
          "duration": 0.010601,
          "end_time": "2024-08-09T21:07:17.240880",
          "exception": false,
          "start_time": "2024-08-09T21:07:17.230279",
          "status": "completed"
        },
        "pycharm": {
          "name": "#%% md\n"
        },
        "tags": []
      },
      "id": "81ec61a6"
    },
    {
      "cell_type": "code",
      "source": [
        "!pip install -qq gdown\n",
        "import pandas as pd\n",
        "import numpy as np\n",
        "import matplotlib.pyplot as plt\n",
        "import scipy\n",
        "import os, gdown\n",
        "import zipfile, time\n",
        "import warnings\n",
        "import joblib\n",
        "warnings.filterwarnings('ignore')\n"
      ],
      "metadata": {
        "id": "c3c12dd0",
        "papermill": {
          "duration": 18.512771,
          "end_time": "2024-08-09T21:07:35.764173",
          "exception": false,
          "start_time": "2024-08-09T21:07:17.251402",
          "status": "completed"
        },
        "pycharm": {
          "name": "#%%\n"
        },
        "tags": []
      },
      "execution_count": null,
      "outputs": [],
      "id": "c3c12dd0"
    },
    {
      "cell_type": "markdown",
      "source": [
        "# **Download Clean CIC-IDS2017 Dataset**\n",
        "\n",
        "Here we download dataset from google drive and try to unzip it. This is not the main dataset. This is the clean dataset obtained from Part 1."
      ],
      "metadata": {
        "id": "330cc221",
        "papermill": {
          "duration": 0.010036,
          "end_time": "2024-08-09T21:07:35.784688",
          "exception": false,
          "start_time": "2024-08-09T21:07:35.774652",
          "status": "completed"
        },
        "pycharm": {
          "name": "#%% md\n"
        },
        "tags": []
      },
      "id": "330cc221"
    },
    {
      "cell_type": "code",
      "source": [
        "def download_file_from_google_drive(file_id, destination):\n",
        "\n",
        "    \"\"\"\n",
        "    Input: file_id (Obtained from google drive), destionation (For saving the file)\n",
        "    Output: _ (Download the file in destination directory)\n",
        "    \"\"\"\n",
        "    url = f\"https://drive.google.com/uc?id={file_id}\"\n",
        "    gdown.download(url, destination, quiet=True) # download file using given URL\n",
        "\n",
        "\n",
        "def unzip_dataset(extraction_dir):\n",
        "\n",
        "  \"\"\"\n",
        "  Input: Extraction_dir (Direction of dataset to unzip into)\n",
        "  Output: _ (Exract the zip file in the given direction)\n",
        "  \"\"\"\n",
        "\n",
        "  # Ensure the extraction directory exists\n",
        "  os.makedirs(extraction_dir, exist_ok=True)\n",
        "\n",
        "  # Unzip the file\n",
        "  with zipfile.ZipFile(zip_file_path, 'r') as zip_ref:\n",
        "      zip_ref.extractall(extraction_dir)\n",
        "\n",
        "\n",
        "\n",
        "# Setup variables to download dataset\n",
        "current_working_dir = os.getcwd()\n",
        "destination = current_working_dir\n",
        "zip_file_path = os.path.join(destination, 'clean_dataset.zip')\n",
        "file_id =  '1CG1DqRkNUBAOTcmT-eSg9fHMWy3FQacl' # File Id\n",
        "extraction_dir = os.path.join(destination,'dataset/')\n",
        "# call functions\n",
        "download_file_from_google_drive(file_id, zip_file_path) # Download\n",
        "print('clean_dataset.zip was downloaded successfuly.')\n",
        "unzip_dataset(extraction_dir)                           # Unzip\n",
        "print('clean_dataset.zip  was unziped successfuly.')"
      ],
      "metadata": {
        "colab": {
          "base_uri": "https://localhost:8080/"
        },
        "id": "890f5dd3",
        "outputId": "bc620215-73ef-4ae2-f32c-ca729506354c",
        "papermill": {
          "duration": 9.545265,
          "end_time": "2024-08-09T21:07:45.340781",
          "exception": false,
          "start_time": "2024-08-09T21:07:35.795516",
          "status": "completed"
        },
        "pycharm": {
          "name": "#%%\n"
        },
        "tags": []
      },
      "execution_count": null,
      "outputs": [
        {
          "name": "stdout",
          "output_type": "stream",
          "text": "clean_dataset.zip was downloaded successfuly.\n\nclean_dataset.zip  was unziped successfuly.\n"
        }
      ],
      "id": "890f5dd3"
    },
    {
      "cell_type": "markdown",
      "source": [
        "# **Load datasets**\n",
        "On this [link](https://www.unb.ca/cic/datasets/ids-2017.html), You can access all information you need about dataset."
      ],
      "metadata": {
        "id": "598ebbd0",
        "papermill": {
          "duration": 0.010875,
          "end_time": "2024-08-09T21:07:45.362089",
          "exception": false,
          "start_time": "2024-08-09T21:07:45.351214",
          "status": "completed"
        },
        "pycharm": {
          "name": "#%% md\n"
        },
        "tags": []
      },
      "id": "598ebbd0"
    },
    {
      "cell_type": "code",
      "source": [
        "# Let's load all csv files.\n",
        "initial_time = time.time()\n",
        "clean_df = pd.read_csv(os.path.join(extraction_dir,'clean_df.csv'))\n",
        "# Shuffling the dataframe\n",
        "clean_df = clean_df.sample(frac=1, random_state=42).reset_index(drop=True)\n",
        "\n",
        "# Here for not wasting time we choose a part of dataset.\n",
        "# no_sample_to_model = 10000 # Samples\n",
        "# clean_df =clean_df[:no_sample_to_model]\n",
        "\n",
        "\n",
        "# Load best features obtained from EDA part\n",
        "best_feature_list_from_MI = np.load(os.path.join(extraction_dir,'best_feature_list_from_MI.npy'),allow_pickle =True)\n",
        "best_feature_list_from_Anova = np.load(os.path.join(extraction_dir,'best_feature_list_from_Anova.npy'),allow_pickle =True)\n",
        "best_feature_list_from_RF = np.load(os.path.join(extraction_dir,'best_feature_list_from_RF.npy'),allow_pickle =True)"
      ],
      "metadata": {
        "id": "d961be1b",
        "papermill": {
          "duration": 16.594767,
          "end_time": "2024-08-09T21:08:01.969073",
          "exception": false,
          "start_time": "2024-08-09T21:07:45.374306",
          "status": "completed"
        },
        "pycharm": {
          "name": "#%%\n"
        },
        "tags": []
      },
      "execution_count": null,
      "outputs": [],
      "id": "d961be1b"
    },
    {
      "cell_type": "code",
      "source": [
        "# Let's see one of them.\n",
        "display(clean_df)"
      ],
      "metadata": {
        "colab": {
          "base_uri": "https://localhost:8080/",
          "height": 495
        },
        "id": "7def9dbb",
        "outputId": "2eb2c4f2-5482-4e2b-891d-e14e52a9329f",
        "papermill": {
          "duration": 0.153888,
          "end_time": "2024-08-09T21:08:02.133402",
          "exception": false,
          "start_time": "2024-08-09T21:08:01.979514",
          "status": "completed"
        },
        "pycharm": {
          "name": "#%%\n"
        },
        "tags": []
      },
      "execution_count": null,
      "outputs": [
        {
          "output_type": "display_data",
          "data": {
            "text/html": [
              "<div>\n",
              "<style scoped>\n",
              "    .dataframe tbody tr th:only-of-type {\n",
              "        vertical-align: middle;\n",
              "    }\n",
              "\n",
              "    .dataframe tbody tr th {\n",
              "        vertical-align: top;\n",
              "    }\n",
              "\n",
              "    .dataframe thead th {\n",
              "        text-align: right;\n",
              "    }\n",
              "</style>\n",
              "<table border=\"1\" class=\"dataframe\">\n",
              "  <thead>\n",
              "    <tr style=\"text-align: right;\">\n",
              "      <th></th>\n",
              "      <th>Flow Duration</th>\n",
              "      <th>Total Backward Packets</th>\n",
              "      <th>Total Length of Bwd Packets</th>\n",
              "      <th>Fwd Packet Length Min</th>\n",
              "      <th>Fwd Packet Length Std</th>\n",
              "      <th>Bwd Packet Length Min</th>\n",
              "      <th>Bwd Packet Length Std</th>\n",
              "      <th>Flow Packets/s</th>\n",
              "      <th>Flow IAT Std</th>\n",
              "      <th>Flow IAT Min</th>\n",
              "      <th>...</th>\n",
              "      <th>Bwd Avg Bulk Rate</th>\n",
              "      <th>Subflow Fwd Bytes</th>\n",
              "      <th>Subflow Bwd Bytes</th>\n",
              "      <th>Init_Win_bytes_backward</th>\n",
              "      <th>min_seg_size_forward</th>\n",
              "      <th>Active Std</th>\n",
              "      <th>Active Min</th>\n",
              "      <th>Idle Std</th>\n",
              "      <th>Idle Min</th>\n",
              "      <th>Label</th>\n",
              "    </tr>\n",
              "  </thead>\n",
              "  <tbody>\n",
              "    <tr>\n",
              "      <th>0</th>\n",
              "      <td>134</td>\n",
              "      <td>2</td>\n",
              "      <td>96</td>\n",
              "      <td>32</td>\n",
              "      <td>0.000000</td>\n",
              "      <td>48</td>\n",
              "      <td>0.000000</td>\n",
              "      <td>29850.746270</td>\n",
              "      <td>7.216878e+01</td>\n",
              "      <td>3</td>\n",
              "      <td>...</td>\n",
              "      <td>0</td>\n",
              "      <td>64</td>\n",
              "      <td>96</td>\n",
              "      <td>-1</td>\n",
              "      <td>32</td>\n",
              "      <td>0.0</td>\n",
              "      <td>0</td>\n",
              "      <td>0.0</td>\n",
              "      <td>0</td>\n",
              "      <td>BENIGN</td>\n",
              "    </tr>\n",
              "    <tr>\n",
              "      <th>1</th>\n",
              "      <td>29</td>\n",
              "      <td>1</td>\n",
              "      <td>6</td>\n",
              "      <td>0</td>\n",
              "      <td>0.000000</td>\n",
              "      <td>6</td>\n",
              "      <td>0.000000</td>\n",
              "      <td>68965.517240</td>\n",
              "      <td>0.000000e+00</td>\n",
              "      <td>29</td>\n",
              "      <td>...</td>\n",
              "      <td>0</td>\n",
              "      <td>0</td>\n",
              "      <td>6</td>\n",
              "      <td>0</td>\n",
              "      <td>40</td>\n",
              "      <td>0.0</td>\n",
              "      <td>0</td>\n",
              "      <td>0.0</td>\n",
              "      <td>0</td>\n",
              "      <td>PortScan</td>\n",
              "    </tr>\n",
              "    <tr>\n",
              "      <th>2</th>\n",
              "      <td>4</td>\n",
              "      <td>0</td>\n",
              "      <td>0</td>\n",
              "      <td>0</td>\n",
              "      <td>0.000000</td>\n",
              "      <td>0</td>\n",
              "      <td>0.000000</td>\n",
              "      <td>750000.000000</td>\n",
              "      <td>1.414214e+00</td>\n",
              "      <td>1</td>\n",
              "      <td>...</td>\n",
              "      <td>0</td>\n",
              "      <td>0</td>\n",
              "      <td>0</td>\n",
              "      <td>-1</td>\n",
              "      <td>32</td>\n",
              "      <td>0.0</td>\n",
              "      <td>0</td>\n",
              "      <td>0.0</td>\n",
              "      <td>0</td>\n",
              "      <td>BENIGN</td>\n",
              "    </tr>\n",
              "    <tr>\n",
              "      <th>3</th>\n",
              "      <td>82052747</td>\n",
              "      <td>6</td>\n",
              "      <td>11607</td>\n",
              "      <td>0</td>\n",
              "      <td>5.656854</td>\n",
              "      <td>0</td>\n",
              "      <td>2177.344966</td>\n",
              "      <td>0.170622</td>\n",
              "      <td>1.980000e+07</td>\n",
              "      <td>0</td>\n",
              "      <td>...</td>\n",
              "      <td>0</td>\n",
              "      <td>56</td>\n",
              "      <td>11607</td>\n",
              "      <td>229</td>\n",
              "      <td>20</td>\n",
              "      <td>0.0</td>\n",
              "      <td>1000</td>\n",
              "      <td>43600000.0</td>\n",
              "      <td>9985727</td>\n",
              "      <td>DDoS</td>\n",
              "    </tr>\n",
              "    <tr>\n",
              "      <th>4</th>\n",
              "      <td>1408725</td>\n",
              "      <td>4</td>\n",
              "      <td>3619</td>\n",
              "      <td>0</td>\n",
              "      <td>39.244426</td>\n",
              "      <td>0</td>\n",
              "      <td>701.785995</td>\n",
              "      <td>8.518341</td>\n",
              "      <td>3.200900e+05</td>\n",
              "      <td>9</td>\n",
              "      <td>...</td>\n",
              "      <td>0</td>\n",
              "      <td>111</td>\n",
              "      <td>3619</td>\n",
              "      <td>35466</td>\n",
              "      <td>20</td>\n",
              "      <td>0.0</td>\n",
              "      <td>0</td>\n",
              "      <td>0.0</td>\n",
              "      <td>0</td>\n",
              "      <td>BENIGN</td>\n",
              "    </tr>\n",
              "    <tr>\n",
              "      <th>...</th>\n",
              "      <td>...</td>\n",
              "      <td>...</td>\n",
              "      <td>...</td>\n",
              "      <td>...</td>\n",
              "      <td>...</td>\n",
              "      <td>...</td>\n",
              "      <td>...</td>\n",
              "      <td>...</td>\n",
              "      <td>...</td>\n",
              "      <td>...</td>\n",
              "      <td>...</td>\n",
              "      <td>...</td>\n",
              "      <td>...</td>\n",
              "      <td>...</td>\n",
              "      <td>...</td>\n",
              "      <td>...</td>\n",
              "      <td>...</td>\n",
              "      <td>...</td>\n",
              "      <td>...</td>\n",
              "      <td>...</td>\n",
              "      <td>...</td>\n",
              "    </tr>\n",
              "    <tr>\n",
              "      <th>9995</th>\n",
              "      <td>211</td>\n",
              "      <td>2</td>\n",
              "      <td>254</td>\n",
              "      <td>41</td>\n",
              "      <td>0.000000</td>\n",
              "      <td>127</td>\n",
              "      <td>0.000000</td>\n",
              "      <td>18957.345970</td>\n",
              "      <td>7.987699e+01</td>\n",
              "      <td>4</td>\n",
              "      <td>...</td>\n",
              "      <td>0</td>\n",
              "      <td>82</td>\n",
              "      <td>254</td>\n",
              "      <td>-1</td>\n",
              "      <td>32</td>\n",
              "      <td>0.0</td>\n",
              "      <td>0</td>\n",
              "      <td>0.0</td>\n",
              "      <td>0</td>\n",
              "      <td>BENIGN</td>\n",
              "    </tr>\n",
              "    <tr>\n",
              "      <th>9996</th>\n",
              "      <td>49777</td>\n",
              "      <td>1</td>\n",
              "      <td>77</td>\n",
              "      <td>61</td>\n",
              "      <td>0.000000</td>\n",
              "      <td>77</td>\n",
              "      <td>0.000000</td>\n",
              "      <td>40.179199</td>\n",
              "      <td>0.000000e+00</td>\n",
              "      <td>49777</td>\n",
              "      <td>...</td>\n",
              "      <td>0</td>\n",
              "      <td>61</td>\n",
              "      <td>77</td>\n",
              "      <td>-1</td>\n",
              "      <td>20</td>\n",
              "      <td>0.0</td>\n",
              "      <td>0</td>\n",
              "      <td>0.0</td>\n",
              "      <td>0</td>\n",
              "      <td>BENIGN</td>\n",
              "    </tr>\n",
              "    <tr>\n",
              "      <th>9997</th>\n",
              "      <td>206</td>\n",
              "      <td>0</td>\n",
              "      <td>0</td>\n",
              "      <td>0</td>\n",
              "      <td>17.897858</td>\n",
              "      <td>0</td>\n",
              "      <td>0.000000</td>\n",
              "      <td>14563.106796</td>\n",
              "      <td>1.442498e+02</td>\n",
              "      <td>1</td>\n",
              "      <td>...</td>\n",
              "      <td>0</td>\n",
              "      <td>31</td>\n",
              "      <td>0</td>\n",
              "      <td>-1</td>\n",
              "      <td>32</td>\n",
              "      <td>0.0</td>\n",
              "      <td>0</td>\n",
              "      <td>0.0</td>\n",
              "      <td>0</td>\n",
              "      <td>BENIGN</td>\n",
              "    </tr>\n",
              "    <tr>\n",
              "      <th>9998</th>\n",
              "      <td>4</td>\n",
              "      <td>0</td>\n",
              "      <td>0</td>\n",
              "      <td>2</td>\n",
              "      <td>0.000000</td>\n",
              "      <td>0</td>\n",
              "      <td>0.000000</td>\n",
              "      <td>500000.000000</td>\n",
              "      <td>0.000000e+00</td>\n",
              "      <td>4</td>\n",
              "      <td>...</td>\n",
              "      <td>0</td>\n",
              "      <td>4</td>\n",
              "      <td>0</td>\n",
              "      <td>-1</td>\n",
              "      <td>24</td>\n",
              "      <td>0.0</td>\n",
              "      <td>0</td>\n",
              "      <td>0.0</td>\n",
              "      <td>0</td>\n",
              "      <td>BENIGN</td>\n",
              "    </tr>\n",
              "    <tr>\n",
              "      <th>9999</th>\n",
              "      <td>31</td>\n",
              "      <td>1</td>\n",
              "      <td>0</td>\n",
              "      <td>0</td>\n",
              "      <td>0.000000</td>\n",
              "      <td>0</td>\n",
              "      <td>0.000000</td>\n",
              "      <td>64516.129030</td>\n",
              "      <td>0.000000e+00</td>\n",
              "      <td>31</td>\n",
              "      <td>...</td>\n",
              "      <td>0</td>\n",
              "      <td>0</td>\n",
              "      <td>0</td>\n",
              "      <td>33304</td>\n",
              "      <td>32</td>\n",
              "      <td>0.0</td>\n",
              "      <td>0</td>\n",
              "      <td>0.0</td>\n",
              "      <td>0</td>\n",
              "      <td>BENIGN</td>\n",
              "    </tr>\n",
              "  </tbody>\n",
              "</table>\n",
              "<p>10000 rows × 43 columns</p>\n",
              "</div>"
            ],
            "text/plain": [
              "       Flow Duration   Total Backward Packets   Total Length of Bwd Packets  \\\n",
              "0                134                        2                            96   \n",
              "1                 29                        1                             6   \n",
              "2                  4                        0                             0   \n",
              "3           82052747                        6                         11607   \n",
              "4            1408725                        4                          3619   \n",
              "...              ...                      ...                           ...   \n",
              "9995             211                        2                           254   \n",
              "9996           49777                        1                            77   \n",
              "9997             206                        0                             0   \n",
              "9998               4                        0                             0   \n",
              "9999              31                        1                             0   \n",
              "\n",
              "       Fwd Packet Length Min   Fwd Packet Length Std   Bwd Packet Length Min  \\\n",
              "0                         32                0.000000                      48   \n",
              "1                          0                0.000000                       6   \n",
              "2                          0                0.000000                       0   \n",
              "3                          0                5.656854                       0   \n",
              "4                          0               39.244426                       0   \n",
              "...                      ...                     ...                     ...   \n",
              "9995                      41                0.000000                     127   \n",
              "9996                      61                0.000000                      77   \n",
              "9997                       0               17.897858                       0   \n",
              "9998                       2                0.000000                       0   \n",
              "9999                       0                0.000000                       0   \n",
              "\n",
              "       Bwd Packet Length Std   Flow Packets/s   Flow IAT Std   Flow IAT Min  \\\n",
              "0                   0.000000     29850.746270   7.216878e+01              3   \n",
              "1                   0.000000     68965.517240   0.000000e+00             29   \n",
              "2                   0.000000    750000.000000   1.414214e+00              1   \n",
              "3                2177.344966         0.170622   1.980000e+07              0   \n",
              "4                 701.785995         8.518341   3.200900e+05              9   \n",
              "...                      ...              ...            ...            ...   \n",
              "9995                0.000000     18957.345970   7.987699e+01              4   \n",
              "9996                0.000000        40.179199   0.000000e+00          49777   \n",
              "9997                0.000000     14563.106796   1.442498e+02              1   \n",
              "9998                0.000000    500000.000000   0.000000e+00              4   \n",
              "9999                0.000000     64516.129030   0.000000e+00             31   \n",
              "\n",
              "      ...  Bwd Avg Bulk Rate   Subflow Fwd Bytes   Subflow Bwd Bytes  \\\n",
              "0     ...                  0                  64                  96   \n",
              "1     ...                  0                   0                   6   \n",
              "2     ...                  0                   0                   0   \n",
              "3     ...                  0                  56               11607   \n",
              "4     ...                  0                 111                3619   \n",
              "...   ...                ...                 ...                 ...   \n",
              "9995  ...                  0                  82                 254   \n",
              "9996  ...                  0                  61                  77   \n",
              "9997  ...                  0                  31                   0   \n",
              "9998  ...                  0                   4                   0   \n",
              "9999  ...                  0                   0                   0   \n",
              "\n",
              "       Init_Win_bytes_backward   min_seg_size_forward   Active Std  \\\n",
              "0                           -1                     32          0.0   \n",
              "1                            0                     40          0.0   \n",
              "2                           -1                     32          0.0   \n",
              "3                          229                     20          0.0   \n",
              "4                        35466                     20          0.0   \n",
              "...                        ...                    ...          ...   \n",
              "9995                        -1                     32          0.0   \n",
              "9996                        -1                     20          0.0   \n",
              "9997                        -1                     32          0.0   \n",
              "9998                        -1                     24          0.0   \n",
              "9999                     33304                     32          0.0   \n",
              "\n",
              "       Active Min    Idle Std   Idle Min     Label  \n",
              "0               0         0.0          0    BENIGN  \n",
              "1               0         0.0          0  PortScan  \n",
              "2               0         0.0          0    BENIGN  \n",
              "3            1000  43600000.0    9985727      DDoS  \n",
              "4               0         0.0          0    BENIGN  \n",
              "...           ...         ...        ...       ...  \n",
              "9995            0         0.0          0    BENIGN  \n",
              "9996            0         0.0          0    BENIGN  \n",
              "9997            0         0.0          0    BENIGN  \n",
              "9998            0         0.0          0    BENIGN  \n",
              "9999            0         0.0          0    BENIGN  \n",
              "\n",
              "[10000 rows x 43 columns]"
            ]
          },
          "metadata": {}
        }
      ],
      "id": "7def9dbb"
    },
    {
      "cell_type": "markdown",
      "source": [
        "# **Encode Labels**"
      ],
      "metadata": {
        "id": "ffab8b61",
        "papermill": {
          "duration": 0.011452,
          "end_time": "2024-08-09T21:08:02.155925",
          "exception": false,
          "start_time": "2024-08-09T21:08:02.144473",
          "status": "completed"
        },
        "pycharm": {
          "name": "#%% md\n"
        },
        "tags": []
      },
      "id": "ffab8b61"
    },
    {
      "cell_type": "code",
      "source": [
        "# Here we check that ,per class, there are at least 2 samples. Otherwise we remove that class from dataset.\n",
        "no_of_classes = len(np.unique(clean_df[' Label'],return_counts=True)[0])\n",
        "print('No of clasees: ',no_of_classes)\n",
        "print('No items in each clasess:')\n",
        "print(np.unique(clean_df[' Label'],return_counts=True))\n",
        "classes , classes_samples = np.unique(clean_df[' Label'],return_counts=True)\n",
        "\n",
        "\n",
        "\n",
        "claess_with_one_sample = []\n",
        "for index,sample in enumerate(classes_samples):\n",
        "  if sample==1:\n",
        "    claess_with_one_sample.append(classes[index])\n",
        "\n",
        "if len(claess_with_one_sample)>=1:\n",
        "\n",
        "  for item in claess_with_one_sample:\n",
        "    clean_df = clean_df.drop(index = clean_df[clean_df[' Label']==item].index, axis=1)\n",
        "\n",
        "  print('*'*100)\n",
        "  print('After removing those classes with just one sample, we have:')\n",
        "  print('No of clasees: ',len(np.unique(clean_df[' Label'],return_counts=True)[0]))\n",
        "  print('No items in each clasess:')\n",
        "\n",
        "else:\n",
        "    print('*'*100)\n",
        "    print('In this selected part of dataset, there is no class having one sample as evidence. So, it means all classes have more than one sample as their evidence.')\n",
        "\n",
        "\n",
        "\n",
        "no_of_classes , classes_samples = np.unique(clean_df[' Label'],return_counts=True)\n",
        "np.unique(clean_df[' Label'],return_counts=True)"
      ],
      "metadata": {
        "colab": {
          "base_uri": "https://localhost:8080/"
        },
        "id": "mKdGzR2IiLdR",
        "outputId": "c00acd90-dcdd-4887-a1e0-f118b8b6616d",
        "pycharm": {
          "name": "#%%\n"
        }
      },
      "execution_count": null,
      "outputs": [
        {
          "name": "stdout",
          "output_type": "stream",
          "text": "No of clasees:  5\n\nNo items in each clasess:\n\n(array(['BENIGN', 'Botnet', 'DDoS', 'Exploitation', 'PortScan'],\n\n      dtype=object), array([8757,    9,  495,  105,  634], dtype=int64))\n\n****************************************************************************************************\n\nIn this selected part of dataset, there is no class having one sample as evidence. So, it means all classes have more than one sample as their evidence.\n"
        },
        {
          "execution_count": 5,
          "output_type": "execute_result",
          "data": {
            "text/plain": [
              "(array(['BENIGN', 'Botnet', 'DDoS', 'Exploitation', 'PortScan'],\n",
              "       dtype=object),\n",
              " array([8757,    9,  495,  105,  634], dtype=int64))"
            ]
          },
          "metadata": {}
        }
      ],
      "id": "mKdGzR2IiLdR"
    },
    {
      "cell_type": "code",
      "source": [
        "# We need to encode labels.\n",
        "from sklearn.preprocessing import LabelEncoder\n",
        "encoder = LabelEncoder()\n",
        "encoded_labels = encoder.fit_transform(clean_df[' Label'])\n",
        "clean_df[' Label'] = encoded_labels\n",
        "print('After Encoding:')\n",
        "classes , class_samples = np.unique(clean_df[' Label'],return_counts=True)\n",
        "no_of_classes = len(classes)\n",
        "dataframe = pd.DataFrame({'Classes':classes,'Samples per class':class_samples})\n",
        "display(dataframe)\n",
        "\n"
      ],
      "metadata": {
        "colab": {
          "base_uri": "https://localhost:8080/"
        },
        "id": "6d37c543",
        "outputId": "b39bbbb5-1389-4d3f-d0c6-d619a82fc2e4",
        "papermill": {
          "duration": 2.589292,
          "end_time": "2024-08-09T21:08:04.757466",
          "exception": false,
          "start_time": "2024-08-09T21:08:02.168174",
          "status": "completed"
        },
        "pycharm": {
          "name": "#%%\n"
        },
        "tags": []
      },
      "execution_count": null,
      "outputs": [
        {
          "name": "stdout",
          "output_type": "stream",
          "text": "After Encoding:\n"
        },
        {
          "output_type": "display_data",
          "data": {
            "text/html": [
              "<div>\n",
              "<style scoped>\n",
              "    .dataframe tbody tr th:only-of-type {\n",
              "        vertical-align: middle;\n",
              "    }\n",
              "\n",
              "    .dataframe tbody tr th {\n",
              "        vertical-align: top;\n",
              "    }\n",
              "\n",
              "    .dataframe thead th {\n",
              "        text-align: right;\n",
              "    }\n",
              "</style>\n",
              "<table border=\"1\" class=\"dataframe\">\n",
              "  <thead>\n",
              "    <tr style=\"text-align: right;\">\n",
              "      <th></th>\n",
              "      <th>Classes</th>\n",
              "      <th>Samples per class</th>\n",
              "    </tr>\n",
              "  </thead>\n",
              "  <tbody>\n",
              "    <tr>\n",
              "      <th>0</th>\n",
              "      <td>0</td>\n",
              "      <td>8757</td>\n",
              "    </tr>\n",
              "    <tr>\n",
              "      <th>1</th>\n",
              "      <td>1</td>\n",
              "      <td>9</td>\n",
              "    </tr>\n",
              "    <tr>\n",
              "      <th>2</th>\n",
              "      <td>2</td>\n",
              "      <td>495</td>\n",
              "    </tr>\n",
              "    <tr>\n",
              "      <th>3</th>\n",
              "      <td>3</td>\n",
              "      <td>105</td>\n",
              "    </tr>\n",
              "    <tr>\n",
              "      <th>4</th>\n",
              "      <td>4</td>\n",
              "      <td>634</td>\n",
              "    </tr>\n",
              "  </tbody>\n",
              "</table>\n",
              "</div>"
            ],
            "text/plain": [
              "   Classes  Samples per class\n",
              "0        0               8757\n",
              "1        1                  9\n",
              "2        2                495\n",
              "3        3                105\n",
              "4        4                634"
            ]
          },
          "metadata": {}
        }
      ],
      "id": "6d37c543"
    },
    {
      "cell_type": "markdown",
      "source": [
        "# **Split dataset**\n",
        "<!DOCTYPE html>\n",
        "<html lang=\"en\">\n",
        "<head>\n",
        "    <meta charset=\"UTF-8\">\n",
        "    <meta name=\"viewport\" content=\"width=device-width, initial-scale=1.0\">\n",
        "    <title></title>\n",
        "</head>\n",
        "<body>\n",
        "    <img src=\"https://drive.google.com/uc?export=view&id=1zn-wpJgfOO6Pa_w-Kk35BgwNwwPm70gh\" width=\"50%\">\n",
        "</body>\n",
        "</html>\n",
        "\n"
      ],
      "metadata": {
        "id": "9cfc48a5",
        "papermill": {
          "duration": 0.010965,
          "end_time": "2024-08-09T21:08:04.872103",
          "exception": false,
          "start_time": "2024-08-09T21:08:04.861138",
          "status": "completed"
        },
        "pycharm": {
          "name": "#%% md\n"
        },
        "tags": []
      },
      "id": "9cfc48a5"
    },
    {
      "cell_type": "code",
      "source": [
        "from sklearn.model_selection import train_test_split\n",
        "def spliting(df, best_feature_list):\n",
        "\n",
        "\n",
        "  test_size = 0.2 # 20%\n",
        "  X = df[best_feature_list]\n",
        "  y  = df[' Label']\n",
        "\n",
        "  our_X_train, our_x_test, our_y_train, our_y_test = train_test_split(X,y,test_size=test_size, stratify=y,random_state=True)\n",
        "  print('X_train.shape:',our_X_train.shape)\n",
        "  print('x_test.shape:',our_x_test.shape)\n",
        "  print('y_train.shape:',our_y_train.shape)\n",
        "  print('y_test.shape:',our_y_test.shape)\n",
        "  no_of_anomalies_in_test_part = np.where(our_y_test!=0)[0].shape[0]\n",
        "  no_of_normal_points_in_test_part = np.where(our_y_test==0)[0].shape[0]\n",
        "  no_of_anomalies_in_train_part = np.where(our_y_train!=0)[0].shape[0]\n",
        "  no_of_normal_points_in_train_part = np.where(our_y_train==0)[0].shape[0]\n",
        "\n",
        "  print(f'In the train dataset we have:{no_of_anomalies_in_train_part} anomalies with this distribution {np.unique(our_y_train,return_counts=True)[1]}and {no_of_normal_points_in_train_part} normal points')\n",
        "  print(f'In the test dataset we have:{no_of_anomalies_in_test_part} anomalies with this distribution {np.unique(our_y_test,return_counts=True)[1]} and {no_of_normal_points_in_test_part} normal points')\n",
        "  print('*'*100)\n",
        "  return our_X_train, our_x_test, our_y_train, our_y_test"
      ],
      "metadata": {
        "id": "0f4134c3",
        "papermill": {
          "duration": 0.135983,
          "end_time": "2024-08-09T21:08:05.019860",
          "exception": false,
          "start_time": "2024-08-09T21:08:04.883877",
          "status": "completed"
        },
        "pycharm": {
          "name": "#%%\n"
        },
        "tags": []
      },
      "execution_count": null,
      "outputs": [],
      "id": "0f4134c3"
    },
    {
      "cell_type": "markdown",
      "source": [
        "# **Normalize Data**\n",
        "\n",
        "\n",
        "### MinMaxScaler Formula\n",
        "\n",
        "The MinMaxScaler scales each feature to a given range, typically between 0 and 1. The formula for MinMax scaling is:\n",
        "\n",
        "$[\n",
        "X_{\\text{scaled}} = \\frac{X - X_{\\text{min}}}{X_{\\text{max}} - X_{\\text{min}}}\n",
        "]$\n",
        "\n",
        "Where:\n",
        "- $( X $) is the original value.\n",
        "- $( X_{\\text{min}} $) is the minimum value of the feature.\n",
        "- $( X_{\\text{max}} $) is the maximum value of the feature.\n",
        "- $( X_{\\text{scaled}} $) is the scaled value.\n",
        "\n",
        "The resulting $( X_{\\text{scaled}} $) will be within the range [0, 1] (by default).\n",
        "\n",
        "\n"
      ],
      "metadata": {
        "id": "3696366f",
        "papermill": {
          "duration": 0.010916,
          "end_time": "2024-08-09T21:08:05.042482",
          "exception": false,
          "start_time": "2024-08-09T21:08:05.031566",
          "status": "completed"
        },
        "pycharm": {
          "name": "#%% md\n"
        },
        "tags": []
      },
      "id": "3696366f"
    },
    {
      "cell_type": "code",
      "source": [
        "from sklearn.preprocessing import MinMaxScaler\n",
        "\n",
        "def normalizing(X_train, x_test):\n",
        "\n",
        "  scaler = MinMaxScaler ()\n",
        "  our_X_train = scaler.fit_transform(X_train)\n",
        "  our_x_test = scaler.transform(x_test)\n",
        "  print('After Normalizing we have:')\n",
        "  print('X_train_normalized.shape:',our_X_train.shape)\n",
        "  print('x_test_normalized.shape:',our_x_test.shape)\n",
        "  print('*'*100)\n",
        "\n",
        "  return our_X_train, our_x_test"
      ],
      "metadata": {
        "id": "98c553fd",
        "papermill": {
          "duration": 0.023318,
          "end_time": "2024-08-09T21:08:05.077727",
          "exception": false,
          "start_time": "2024-08-09T21:08:05.054409",
          "status": "completed"
        },
        "pycharm": {
          "name": "#%%\n"
        },
        "tags": []
      },
      "execution_count": null,
      "outputs": [],
      "id": "98c553fd"
    },
    {
      "cell_type": "markdown",
      "source": [
        "# **Performance function**\n",
        "\n",
        "### For our models, we result; Precision, Recall, and F1 Score Formulas\n",
        "\n",
        "\n",
        "$ \\text{Precision} = \\frac{\\text{True Positives (TP)}}{\\text{True Positives (TP)} + \\text{False Positives (FP)}} $\n",
        "\n",
        "\n",
        "\n",
        "$ \\text{Recall} = \\frac{\\text{True Positives (TP)}}{\\text{True Positives (TP)} + \\text{False Negatives (FN)}} $\n",
        "\n",
        "\n",
        "\n",
        "$ \\text{F1 Score} = 2 \\times \\frac{\\text{Precision} \\times \\text{Recall}}{\\text{Precision} + \\text{Recall}} $\n",
        "\n",
        "Also, we collect `training time` and `prediciting time` and `multicalsss confusion matirx`.\n",
        "\n",
        "\n",
        "\n",
        "\n"
      ],
      "metadata": {
        "id": "0b3b4042",
        "papermill": {
          "duration": 0.011894,
          "end_time": "2024-08-09T21:08:05.101174",
          "exception": false,
          "start_time": "2024-08-09T21:08:05.089280",
          "status": "completed"
        },
        "pycharm": {
          "name": "#%% md\n"
        },
        "tags": []
      },
      "id": "0b3b4042"
    },
    {
      "cell_type": "code",
      "source": [
        "from sklearn import metrics\n",
        "from sklearn.metrics import classification_report\n",
        "\n",
        "def performance(model_name,y_test,y_pred,clean_df,train_time,pred_time):\n",
        "\n",
        "  \"\"\"This function tries to calculate the Precesion, Recall, and F1_score for each given model.\\\n",
        "  Input: model_name,y_test,y_pred,clean_df,train_time,pred_time for each model we will create in the future.\n",
        "  Output: styled_df (Which is just for view),df (which is used for more access in the futrue.)\n",
        "  \"\"\"\n",
        "\n",
        "  labels = [f'Class-{index}' for index in range(len(np.unique(clean_df[' Label'])))]\n",
        "\n",
        "  report = classification_report(y_test, y_pred, target_names=labels, output_dict=True)\n",
        "  report_df = pd.DataFrame(report).transpose()\n",
        "\n",
        "  precision =report_df['precision'].values\n",
        "  recall =report_df['recall'].values\n",
        "  f1_score =report_df['f1-score'].values\n",
        "  support = report_df['support'].values\n",
        "\n",
        "\n",
        "\n",
        "  # Creating the DataFrame\n",
        "  data = {\n",
        "      'Precision': precision,\n",
        "      'Recall': recall,\n",
        "      'F1_Score': f1_score,\n",
        "      'Support':support,\n",
        "      'Training_Time':train_time,\n",
        "      'Predicting_Time':pred_time\n",
        "\n",
        "  }\n",
        "\n",
        "  # Using a MultiIndex for the rows\n",
        "  index = pd.MultiIndex.from_product([[model_name], labels+['accuracy','macro avg','weighted avg']], names=['Model_name', 'Classes'])\n",
        "\n",
        "  df = pd.DataFrame(data, index=index)\n",
        "\n",
        "  # Using Styler to merge cells in 'Column3'\n",
        "  def highlight_merge(s):\n",
        "\n",
        "      return ['background-color: #dcdcdc '] * len(s) if pd.notna(s.iloc[0]) else ['display: none'] * len(s)\n",
        "\n",
        "\n",
        "  styled_df = df.style.apply(highlight_merge, subset=['Training_Time','Predicting_Time'], axis=1)\n",
        "\n",
        "\n",
        "\n",
        "  # Displaying the styled DataFrame\n",
        "  display(styled_df)\n",
        "\n",
        "  return styled_df,df\n",
        "\n",
        "\n"
      ],
      "metadata": {
        "id": "4c67e4c1",
        "papermill": {
          "duration": 0.02915,
          "end_time": "2024-08-09T21:08:05.141739",
          "exception": false,
          "start_time": "2024-08-09T21:08:05.112589",
          "status": "completed"
        },
        "pycharm": {
          "name": "#%%\n"
        },
        "tags": []
      },
      "execution_count": null,
      "outputs": [],
      "id": "4c67e4c1"
    },
    {
      "cell_type": "markdown",
      "source": [
        "# **Perfomance Plot**"
      ],
      "metadata": {
        "id": "UCYlmUHgRoA7",
        "pycharm": {
          "name": "#%% md\n"
        }
      },
      "id": "UCYlmUHgRoA7"
    },
    {
      "cell_type": "code",
      "source": [
        "import matplotlib.pyplot as plt\n",
        "import numpy as np\n",
        "\n",
        "def plot_performance(model_names, F1_Score_Macro_Avg_list, F1_Score_Weighted_Avg_list, Accuracy_list):\n",
        "\n",
        "    species = model_names\n",
        "    penguin_means = {\n",
        "        'F1_Score_Macro_Avg': F1_Score_Macro_Avg_list,\n",
        "        'F1_Score_Weighted_Avg': F1_Score_Weighted_Avg_list,\n",
        "        'Accuracy': Accuracy_list\n",
        "    }\n",
        "\n",
        "    x = np.arange(len(species))  # the label locations\n",
        "    width = 0.15  # the width of the bars\n",
        "    multiplier = 0\n",
        "\n",
        "    fig, ax = plt.subplots(layout='constrained',figsize=(8,5))\n",
        "\n",
        "    for attribute, measurement in penguin_means.items():\n",
        "        offset = width * multiplier\n",
        "        rects = ax.bar(x + offset, measurement, width, label=attribute)\n",
        "\n",
        "        # Set different padding and alignment for each set of bars\n",
        "        ax.bar_label(rects, padding=6 + multiplier * 9, label_type='edge')\n",
        "\n",
        "        multiplier += 1\n",
        "\n",
        "    # Add some text for labels, title, and custom x-axis tick labels, etc.\n",
        "    ax.set_ylabel('Percentage (%)')\n",
        "    ax.set_title('Models Performance')\n",
        "    ax.set_xticks(x + (width * 1.5), species)  # Adjusted for better alignment\n",
        "    ax.legend(loc='upper left', ncols=3)\n",
        "\n",
        "    # Optionally, set y-axis limits and grid\n",
        "    ax.set_ylim(0, 1.3)\n",
        "    plt.grid()\n",
        "\n",
        "    plt.show()\n",
        "\n",
        "\n"
      ],
      "metadata": {
        "id": "z_zrnC3_RsSp",
        "pycharm": {
          "name": "#%%\n"
        }
      },
      "execution_count": null,
      "outputs": [],
      "id": "z_zrnC3_RsSp"
    },
    {
      "cell_type": "markdown",
      "source": [
        "# **K-Nearest Neighbour Models**"
      ],
      "metadata": {
        "id": "bb47ffaa",
        "papermill": {
          "duration": 0.010997,
          "end_time": "2024-08-09T21:08:05.164690",
          "exception": false,
          "start_time": "2024-08-09T21:08:05.153693",
          "status": "completed"
        },
        "pycharm": {
          "name": "#%% md\n"
        },
        "tags": []
      },
      "id": "bb47ffaa"
    },
    {
      "cell_type": "markdown",
      "source": [
        "In this method, two hyperparameters are really important:\n",
        "\n",
        "**1) K** which is the number of neighbours and\n",
        "\n",
        "**2) metric** which is the method you calculate the distance of the given data with other points."
      ],
      "metadata": {
        "id": "L9Xqlx6a813X",
        "pycharm": {
          "name": "#%% md\n"
        }
      },
      "id": "L9Xqlx6a813X"
    },
    {
      "cell_type": "markdown",
      "source": [
        "## KNN_1"
      ],
      "metadata": {
        "id": "F8cl6jBspxWS",
        "pycharm": {
          "name": "#%% md\n"
        }
      },
      "id": "F8cl6jBspxWS"
    },
    {
      "cell_type": "code",
      "source": [
        "from sklearn.neighbors import KNeighborsClassifier\n",
        "\n",
        "# Step0) Hyperparameters\n",
        "k = 3 # Number of neighbors\n",
        "p = 2 # Power parameter for the Minkowski metric. When p = 1, this is equivalent to using manhattan_distance (l1), and euclidean_distance (l2) for p = 2.\n",
        "metric = 'manhattan' # Or it can be 'euclidean' , 'manhattan', 'l2'\n",
        "\n",
        "# Step1) We start running models with best feature list obtained from Random Forest\n",
        "\n",
        "best_feature_list = best_feature_list_from_RF\n",
        "print('This result is for KNN_1 using best feature list obtained from Random Foresrt method:')\n",
        "print('-'*100)\n",
        "\n",
        "# Step2) Splitting\n",
        "X_train, x_test, y_train, y_test = spliting(df= clean_df, best_feature_list= best_feature_list)\n",
        "\n",
        "# Step3) Normalizing\n",
        "X_train_normalized, x_test_normalized = normalizing(X_train, x_test)\n",
        "\n",
        "# Define Model\n",
        "def knn_model(X_train_normalized,y_train,k,metric):\n",
        "\n",
        "  knn = KNeighborsClassifier(n_neighbors=k,metric=metric)\n",
        "\n",
        "  start_time = time.time()\n",
        "  model = knn.fit(X_train_normalized,y_train )\n",
        "  stop_time = time.time()\n",
        "\n",
        "  train_time = (stop_time-start_time)/60\n",
        "\n",
        "  return model, train_time\n",
        "\n",
        "# Step4) Call Model\n",
        "k_NN_model, train_time = knn_model(X_train_normalized,y_train,k,metric)\n",
        "\n",
        "# Define pred function\n",
        "def pred_knn(model,x_test_normalized):\n",
        "\n",
        "  start_time = time.time()\n",
        "  predictions = model.predict(x_test_normalized)\n",
        "  stop_time = time.time()\n",
        "\n",
        "  pred_time = (stop_time-start_time)/60\n",
        "\n",
        "  return predictions,pred_time\n",
        "\n",
        "# Step5) Call pred function\n",
        "y_pred, pred_time = pred_knn(k_NN_model,x_test_normalized)\n",
        "\n",
        "# Step6) Call Performance\n",
        "print('*'*40,'Performance Table','*'*40)\n",
        "_,KNN_1_performance_df  = performance('KNN_1',y_test,y_pred,clean_df,train_time,pred_time)\n",
        "print(f'\\nIt takes you  {int((time.time() - initial_time)/60)} minutes to see KNN_1')\n",
        "\n",
        "# Step7) Save model performance\n",
        "current_working_dir = os.getcwd()\n",
        "os.makedirs(os.path.join(current_working_dir,'Models_results'),exist_ok=True)\n",
        "Model_results_folder = os.path.join(current_working_dir,'Models_results')\n",
        "KNN_1_performance_df.to_csv(os.path.join(Model_results_folder,'KNN_1_performance_df.csv'),index=True)\n"
      ],
      "metadata": {
        "colab": {
          "base_uri": "https://localhost:8080/",
          "height": 629
        },
        "id": "92b2606d",
        "outputId": "76a87435-16c2-439c-acd5-55500dbb3539",
        "papermill": {
          "duration": 105.527593,
          "end_time": "2024-08-09T21:09:50.703670",
          "exception": false,
          "start_time": "2024-08-09T21:08:05.176077",
          "status": "completed"
        },
        "pycharm": {
          "name": "#%%\n"
        },
        "tags": []
      },
      "execution_count": null,
      "outputs": [
        {
          "name": "stdout",
          "output_type": "stream",
          "text": "This result is for KNN_1 using best feature list obtained from Random Foresrt method:\n\n----------------------------------------------------------------------------------------------------\n\nX_train.shape: (8000, 20)\n\nx_test.shape: (2000, 20)\n\ny_train.shape: (8000,)\n\ny_test.shape: (2000,)\n\nIn the train dataset we have:994 anomalies with this distribution [7006    7  396   84  507]and 7006 normal points\n\nIn the test dataset we have:249 anomalies with this distribution [1751    2   99   21  127] and 1751 normal points\n\n****************************************************************************************************\n\nAfter Normalizing we have:\n\nX_train_normalized.shape: (8000, 20)\n\nx_test_normalized.shape: (2000, 20)\n\n****************************************************************************************************\n\n**************************************** Performance Table ****************************************\n"
        },
        {
          "output_type": "display_data",
          "data": {
            "text/html": [
              "<style type=\"text/css\">\n",
              "#T_136da_row0_col4, #T_136da_row0_col5, #T_136da_row1_col4, #T_136da_row1_col5, #T_136da_row2_col4, #T_136da_row2_col5, #T_136da_row3_col4, #T_136da_row3_col5, #T_136da_row4_col4, #T_136da_row4_col5, #T_136da_row5_col4, #T_136da_row5_col5, #T_136da_row6_col4, #T_136da_row6_col5, #T_136da_row7_col4, #T_136da_row7_col5 {\n",
              "  background-color: #dcdcdc;\n",
              "}\n",
              "</style>\n",
              "<table id=\"T_136da\">\n",
              "  <thead>\n",
              "    <tr>\n",
              "      <th class=\"blank\" >&nbsp;</th>\n",
              "      <th class=\"blank level0\" >&nbsp;</th>\n",
              "      <th id=\"T_136da_level0_col0\" class=\"col_heading level0 col0\" >Precision</th>\n",
              "      <th id=\"T_136da_level0_col1\" class=\"col_heading level0 col1\" >Recall</th>\n",
              "      <th id=\"T_136da_level0_col2\" class=\"col_heading level0 col2\" >F1_Score</th>\n",
              "      <th id=\"T_136da_level0_col3\" class=\"col_heading level0 col3\" >Support</th>\n",
              "      <th id=\"T_136da_level0_col4\" class=\"col_heading level0 col4\" >Training_Time</th>\n",
              "      <th id=\"T_136da_level0_col5\" class=\"col_heading level0 col5\" >Predicting_Time</th>\n",
              "    </tr>\n",
              "    <tr>\n",
              "      <th class=\"index_name level0\" >Model_name</th>\n",
              "      <th class=\"index_name level1\" >Classes</th>\n",
              "      <th class=\"blank col0\" >&nbsp;</th>\n",
              "      <th class=\"blank col1\" >&nbsp;</th>\n",
              "      <th class=\"blank col2\" >&nbsp;</th>\n",
              "      <th class=\"blank col3\" >&nbsp;</th>\n",
              "      <th class=\"blank col4\" >&nbsp;</th>\n",
              "      <th class=\"blank col5\" >&nbsp;</th>\n",
              "    </tr>\n",
              "  </thead>\n",
              "  <tbody>\n",
              "    <tr>\n",
              "      <th id=\"T_136da_level0_row0\" class=\"row_heading level0 row0\" rowspan=\"8\">KNN_1</th>\n",
              "      <th id=\"T_136da_level1_row0\" class=\"row_heading level1 row0\" >Class-0</th>\n",
              "      <td id=\"T_136da_row0_col0\" class=\"data row0 col0\" >0.996566</td>\n",
              "      <td id=\"T_136da_row0_col1\" class=\"data row0 col1\" >0.994289</td>\n",
              "      <td id=\"T_136da_row0_col2\" class=\"data row0 col2\" >0.995426</td>\n",
              "      <td id=\"T_136da_row0_col3\" class=\"data row0 col3\" >1751.000000</td>\n",
              "      <td id=\"T_136da_row0_col4\" class=\"data row0 col4\" >0.000287</td>\n",
              "      <td id=\"T_136da_row0_col5\" class=\"data row0 col5\" >0.008723</td>\n",
              "    </tr>\n",
              "    <tr>\n",
              "      <th id=\"T_136da_level1_row1\" class=\"row_heading level1 row1\" >Class-1</th>\n",
              "      <td id=\"T_136da_row1_col0\" class=\"data row1 col0\" >0.666667</td>\n",
              "      <td id=\"T_136da_row1_col1\" class=\"data row1 col1\" >1.000000</td>\n",
              "      <td id=\"T_136da_row1_col2\" class=\"data row1 col2\" >0.800000</td>\n",
              "      <td id=\"T_136da_row1_col3\" class=\"data row1 col3\" >2.000000</td>\n",
              "      <td id=\"T_136da_row1_col4\" class=\"data row1 col4\" >0.000287</td>\n",
              "      <td id=\"T_136da_row1_col5\" class=\"data row1 col5\" >0.008723</td>\n",
              "    </tr>\n",
              "    <tr>\n",
              "      <th id=\"T_136da_level1_row2\" class=\"row_heading level1 row2\" >Class-2</th>\n",
              "      <td id=\"T_136da_row2_col0\" class=\"data row2 col0\" >0.989796</td>\n",
              "      <td id=\"T_136da_row2_col1\" class=\"data row2 col1\" >0.979798</td>\n",
              "      <td id=\"T_136da_row2_col2\" class=\"data row2 col2\" >0.984772</td>\n",
              "      <td id=\"T_136da_row2_col3\" class=\"data row2 col3\" >99.000000</td>\n",
              "      <td id=\"T_136da_row2_col4\" class=\"data row2 col4\" >0.000287</td>\n",
              "      <td id=\"T_136da_row2_col5\" class=\"data row2 col5\" >0.008723</td>\n",
              "    </tr>\n",
              "    <tr>\n",
              "      <th id=\"T_136da_level1_row3\" class=\"row_heading level1 row3\" >Class-3</th>\n",
              "      <td id=\"T_136da_row3_col0\" class=\"data row3 col0\" >0.869565</td>\n",
              "      <td id=\"T_136da_row3_col1\" class=\"data row3 col1\" >0.952381</td>\n",
              "      <td id=\"T_136da_row3_col2\" class=\"data row3 col2\" >0.909091</td>\n",
              "      <td id=\"T_136da_row3_col3\" class=\"data row3 col3\" >21.000000</td>\n",
              "      <td id=\"T_136da_row3_col4\" class=\"data row3 col4\" >0.000287</td>\n",
              "      <td id=\"T_136da_row3_col5\" class=\"data row3 col5\" >0.008723</td>\n",
              "    </tr>\n",
              "    <tr>\n",
              "      <th id=\"T_136da_level1_row4\" class=\"row_heading level1 row4\" >Class-4</th>\n",
              "      <td id=\"T_136da_row4_col0\" class=\"data row4 col0\" >0.961240</td>\n",
              "      <td id=\"T_136da_row4_col1\" class=\"data row4 col1\" >0.976378</td>\n",
              "      <td id=\"T_136da_row4_col2\" class=\"data row4 col2\" >0.968750</td>\n",
              "      <td id=\"T_136da_row4_col3\" class=\"data row4 col3\" >127.000000</td>\n",
              "      <td id=\"T_136da_row4_col4\" class=\"data row4 col4\" >0.000287</td>\n",
              "      <td id=\"T_136da_row4_col5\" class=\"data row4 col5\" >0.008723</td>\n",
              "    </tr>\n",
              "    <tr>\n",
              "      <th id=\"T_136da_level1_row5\" class=\"row_heading level1 row5\" >accuracy</th>\n",
              "      <td id=\"T_136da_row5_col0\" class=\"data row5 col0\" >0.992000</td>\n",
              "      <td id=\"T_136da_row5_col1\" class=\"data row5 col1\" >0.992000</td>\n",
              "      <td id=\"T_136da_row5_col2\" class=\"data row5 col2\" >0.992000</td>\n",
              "      <td id=\"T_136da_row5_col3\" class=\"data row5 col3\" >0.992000</td>\n",
              "      <td id=\"T_136da_row5_col4\" class=\"data row5 col4\" >0.000287</td>\n",
              "      <td id=\"T_136da_row5_col5\" class=\"data row5 col5\" >0.008723</td>\n",
              "    </tr>\n",
              "    <tr>\n",
              "      <th id=\"T_136da_level1_row6\" class=\"row_heading level1 row6\" >macro avg</th>\n",
              "      <td id=\"T_136da_row6_col0\" class=\"data row6 col0\" >0.896767</td>\n",
              "      <td id=\"T_136da_row6_col1\" class=\"data row6 col1\" >0.980569</td>\n",
              "      <td id=\"T_136da_row6_col2\" class=\"data row6 col2\" >0.931608</td>\n",
              "      <td id=\"T_136da_row6_col3\" class=\"data row6 col3\" >2000.000000</td>\n",
              "      <td id=\"T_136da_row6_col4\" class=\"data row6 col4\" >0.000287</td>\n",
              "      <td id=\"T_136da_row6_col5\" class=\"data row6 col5\" >0.008723</td>\n",
              "    </tr>\n",
              "    <tr>\n",
              "      <th id=\"T_136da_level1_row7\" class=\"row_heading level1 row7\" >weighted avg</th>\n",
              "      <td id=\"T_136da_row7_col0\" class=\"data row7 col0\" >0.992324</td>\n",
              "      <td id=\"T_136da_row7_col1\" class=\"data row7 col1\" >0.992000</td>\n",
              "      <td id=\"T_136da_row7_col2\" class=\"data row7 col2\" >0.992103</td>\n",
              "      <td id=\"T_136da_row7_col3\" class=\"data row7 col3\" >2000.000000</td>\n",
              "      <td id=\"T_136da_row7_col4\" class=\"data row7 col4\" >0.000287</td>\n",
              "      <td id=\"T_136da_row7_col5\" class=\"data row7 col5\" >0.008723</td>\n",
              "    </tr>\n",
              "  </tbody>\n",
              "</table>\n"
            ],
            "text/plain": [
              "<pandas.io.formats.style.Styler at 0x1a453bb21c0>"
            ]
          },
          "metadata": {}
        },
        {
          "name": "stdout",
          "output_type": "stream",
          "text": "\n\nIt takes you  0 minutes to see KNN_1\n"
        }
      ],
      "id": "92b2606d"
    },
    {
      "cell_type": "markdown",
      "source": [
        "## KNN_2"
      ],
      "metadata": {
        "id": "yZbNVoVsp0KJ",
        "pycharm": {
          "name": "#%% md\n"
        }
      },
      "id": "yZbNVoVsp0KJ"
    },
    {
      "cell_type": "code",
      "source": [
        "#The result is good but let's see wheater we can do better or not. Let's try different feature lsit obtained from feature selection part.\n",
        "\n",
        "# Step1) Choose another set of features\n",
        "best_feature_list = best_feature_list_from_MI\n",
        "print('This result is for KNN_2 using best feature list obtained from Mutual Information method:')\n",
        "print('-'*100)\n",
        "\n",
        "# Step2) Splitting\n",
        "X_train, x_test, y_train, y_test = spliting(df= clean_df, best_feature_list= best_feature_list)\n",
        "\n",
        "# Step3) Normalizing\n",
        "X_train_normalized, x_test_normalized = normalizing(X_train, x_test)\n",
        "\n",
        "# Step4) Call Model\n",
        "k_NN_model, train_time = knn_model(X_train_normalized,y_train,k,metric)\n",
        "\n",
        "# Step5) Call pred function\n",
        "y_pred, pred_time = pred_knn(k_NN_model,x_test_normalized)\n",
        "\n",
        "\n",
        "# Step6) Call Performance\n",
        "print('*'*40,'Performance Table','*'*40)\n",
        "_,KNN_2_performance_df  = performance('KNN_2',y_test,y_pred,clean_df,train_time,pred_time)\n",
        "print(f'It takes you  {int((time.time() - initial_time)/60)} minutes to see KNN_2')\n",
        "\n",
        "# Step7) Save model performance\n",
        "KNN_2_performance_df.to_csv(os.path.join(Model_results_folder,'KNN_2_performance_df.csv'),index=True)\n"
      ],
      "metadata": {
        "colab": {
          "base_uri": "https://localhost:8080/",
          "height": 612
        },
        "id": "78c81963",
        "outputId": "189eb25a-f8c5-446b-bcb3-28acd414df9b",
        "papermill": {
          "duration": 104.907406,
          "end_time": "2024-08-09T21:11:35.622935",
          "exception": false,
          "start_time": "2024-08-09T21:09:50.715529",
          "status": "completed"
        },
        "pycharm": {
          "name": "#%%\n"
        },
        "tags": []
      },
      "execution_count": null,
      "outputs": [
        {
          "name": "stdout",
          "output_type": "stream",
          "text": "This result is for KNN_2 using best feature list obtained from Mutual Information method:\n\n----------------------------------------------------------------------------------------------------\n\nX_train.shape: (8000, 20)\n\nx_test.shape: (2000, 20)\n\ny_train.shape: (8000,)\n\ny_test.shape: (2000,)\n\nIn the train dataset we have:994 anomalies with this distribution [7006    7  396   84  507]and 7006 normal points\n\nIn the test dataset we have:249 anomalies with this distribution [1751    2   99   21  127] and 1751 normal points\n\n****************************************************************************************************\n\nAfter Normalizing we have:\n\nX_train_normalized.shape: (8000, 20)\n\nx_test_normalized.shape: (2000, 20)\n\n****************************************************************************************************\n\n**************************************** Performance Table ****************************************\n"
        },
        {
          "output_type": "display_data",
          "data": {
            "text/html": [
              "<style type=\"text/css\">\n",
              "#T_6202e_row0_col4, #T_6202e_row0_col5, #T_6202e_row1_col4, #T_6202e_row1_col5, #T_6202e_row2_col4, #T_6202e_row2_col5, #T_6202e_row3_col4, #T_6202e_row3_col5, #T_6202e_row4_col4, #T_6202e_row4_col5, #T_6202e_row5_col4, #T_6202e_row5_col5, #T_6202e_row6_col4, #T_6202e_row6_col5, #T_6202e_row7_col4, #T_6202e_row7_col5 {\n",
              "  background-color: #dcdcdc;\n",
              "}\n",
              "</style>\n",
              "<table id=\"T_6202e\">\n",
              "  <thead>\n",
              "    <tr>\n",
              "      <th class=\"blank\" >&nbsp;</th>\n",
              "      <th class=\"blank level0\" >&nbsp;</th>\n",
              "      <th id=\"T_6202e_level0_col0\" class=\"col_heading level0 col0\" >Precision</th>\n",
              "      <th id=\"T_6202e_level0_col1\" class=\"col_heading level0 col1\" >Recall</th>\n",
              "      <th id=\"T_6202e_level0_col2\" class=\"col_heading level0 col2\" >F1_Score</th>\n",
              "      <th id=\"T_6202e_level0_col3\" class=\"col_heading level0 col3\" >Support</th>\n",
              "      <th id=\"T_6202e_level0_col4\" class=\"col_heading level0 col4\" >Training_Time</th>\n",
              "      <th id=\"T_6202e_level0_col5\" class=\"col_heading level0 col5\" >Predicting_Time</th>\n",
              "    </tr>\n",
              "    <tr>\n",
              "      <th class=\"index_name level0\" >Model_name</th>\n",
              "      <th class=\"index_name level1\" >Classes</th>\n",
              "      <th class=\"blank col0\" >&nbsp;</th>\n",
              "      <th class=\"blank col1\" >&nbsp;</th>\n",
              "      <th class=\"blank col2\" >&nbsp;</th>\n",
              "      <th class=\"blank col3\" >&nbsp;</th>\n",
              "      <th class=\"blank col4\" >&nbsp;</th>\n",
              "      <th class=\"blank col5\" >&nbsp;</th>\n",
              "    </tr>\n",
              "  </thead>\n",
              "  <tbody>\n",
              "    <tr>\n",
              "      <th id=\"T_6202e_level0_row0\" class=\"row_heading level0 row0\" rowspan=\"8\">KNN_2</th>\n",
              "      <th id=\"T_6202e_level1_row0\" class=\"row_heading level1 row0\" >Class-0</th>\n",
              "      <td id=\"T_6202e_row0_col0\" class=\"data row0 col0\" >0.995423</td>\n",
              "      <td id=\"T_6202e_row0_col1\" class=\"data row0 col1\" >0.993718</td>\n",
              "      <td id=\"T_6202e_row0_col2\" class=\"data row0 col2\" >0.994570</td>\n",
              "      <td id=\"T_6202e_row0_col3\" class=\"data row0 col3\" >1751.000000</td>\n",
              "      <td id=\"T_6202e_row0_col4\" class=\"data row0 col4\" >0.000168</td>\n",
              "      <td id=\"T_6202e_row0_col5\" class=\"data row0 col5\" >0.003779</td>\n",
              "    </tr>\n",
              "    <tr>\n",
              "      <th id=\"T_6202e_level1_row1\" class=\"row_heading level1 row1\" >Class-1</th>\n",
              "      <td id=\"T_6202e_row1_col0\" class=\"data row1 col0\" >1.000000</td>\n",
              "      <td id=\"T_6202e_row1_col1\" class=\"data row1 col1\" >1.000000</td>\n",
              "      <td id=\"T_6202e_row1_col2\" class=\"data row1 col2\" >1.000000</td>\n",
              "      <td id=\"T_6202e_row1_col3\" class=\"data row1 col3\" >2.000000</td>\n",
              "      <td id=\"T_6202e_row1_col4\" class=\"data row1 col4\" >0.000168</td>\n",
              "      <td id=\"T_6202e_row1_col5\" class=\"data row1 col5\" >0.003779</td>\n",
              "    </tr>\n",
              "    <tr>\n",
              "      <th id=\"T_6202e_level1_row2\" class=\"row_heading level1 row2\" >Class-2</th>\n",
              "      <td id=\"T_6202e_row2_col0\" class=\"data row2 col0\" >0.980000</td>\n",
              "      <td id=\"T_6202e_row2_col1\" class=\"data row2 col1\" >0.989899</td>\n",
              "      <td id=\"T_6202e_row2_col2\" class=\"data row2 col2\" >0.984925</td>\n",
              "      <td id=\"T_6202e_row2_col3\" class=\"data row2 col3\" >99.000000</td>\n",
              "      <td id=\"T_6202e_row2_col4\" class=\"data row2 col4\" >0.000168</td>\n",
              "      <td id=\"T_6202e_row2_col5\" class=\"data row2 col5\" >0.003779</td>\n",
              "    </tr>\n",
              "    <tr>\n",
              "      <th id=\"T_6202e_level1_row3\" class=\"row_heading level1 row3\" >Class-3</th>\n",
              "      <td id=\"T_6202e_row3_col0\" class=\"data row3 col0\" >0.857143</td>\n",
              "      <td id=\"T_6202e_row3_col1\" class=\"data row3 col1\" >0.857143</td>\n",
              "      <td id=\"T_6202e_row3_col2\" class=\"data row3 col2\" >0.857143</td>\n",
              "      <td id=\"T_6202e_row3_col3\" class=\"data row3 col3\" >21.000000</td>\n",
              "      <td id=\"T_6202e_row3_col4\" class=\"data row3 col4\" >0.000168</td>\n",
              "      <td id=\"T_6202e_row3_col5\" class=\"data row3 col5\" >0.003779</td>\n",
              "    </tr>\n",
              "    <tr>\n",
              "      <th id=\"T_6202e_level1_row4\" class=\"row_heading level1 row4\" >Class-4</th>\n",
              "      <td id=\"T_6202e_row4_col0\" class=\"data row4 col0\" >0.953488</td>\n",
              "      <td id=\"T_6202e_row4_col1\" class=\"data row4 col1\" >0.968504</td>\n",
              "      <td id=\"T_6202e_row4_col2\" class=\"data row4 col2\" >0.960938</td>\n",
              "      <td id=\"T_6202e_row4_col3\" class=\"data row4 col3\" >127.000000</td>\n",
              "      <td id=\"T_6202e_row4_col4\" class=\"data row4 col4\" >0.000168</td>\n",
              "      <td id=\"T_6202e_row4_col5\" class=\"data row4 col5\" >0.003779</td>\n",
              "    </tr>\n",
              "    <tr>\n",
              "      <th id=\"T_6202e_level1_row5\" class=\"row_heading level1 row5\" >accuracy</th>\n",
              "      <td id=\"T_6202e_row5_col0\" class=\"data row5 col0\" >0.990500</td>\n",
              "      <td id=\"T_6202e_row5_col1\" class=\"data row5 col1\" >0.990500</td>\n",
              "      <td id=\"T_6202e_row5_col2\" class=\"data row5 col2\" >0.990500</td>\n",
              "      <td id=\"T_6202e_row5_col3\" class=\"data row5 col3\" >0.990500</td>\n",
              "      <td id=\"T_6202e_row5_col4\" class=\"data row5 col4\" >0.000168</td>\n",
              "      <td id=\"T_6202e_row5_col5\" class=\"data row5 col5\" >0.003779</td>\n",
              "    </tr>\n",
              "    <tr>\n",
              "      <th id=\"T_6202e_level1_row6\" class=\"row_heading level1 row6\" >macro avg</th>\n",
              "      <td id=\"T_6202e_row6_col0\" class=\"data row6 col0\" >0.957211</td>\n",
              "      <td id=\"T_6202e_row6_col1\" class=\"data row6 col1\" >0.961853</td>\n",
              "      <td id=\"T_6202e_row6_col2\" class=\"data row6 col2\" >0.959515</td>\n",
              "      <td id=\"T_6202e_row6_col3\" class=\"data row6 col3\" >2000.000000</td>\n",
              "      <td id=\"T_6202e_row6_col4\" class=\"data row6 col4\" >0.000168</td>\n",
              "      <td id=\"T_6202e_row6_col5\" class=\"data row6 col5\" >0.003779</td>\n",
              "    </tr>\n",
              "    <tr>\n",
              "      <th id=\"T_6202e_level1_row7\" class=\"row_heading level1 row7\" >weighted avg</th>\n",
              "      <td id=\"T_6202e_row7_col0\" class=\"data row7 col0\" >0.990550</td>\n",
              "      <td id=\"T_6202e_row7_col1\" class=\"data row7 col1\" >0.990500</td>\n",
              "      <td id=\"T_6202e_row7_col2\" class=\"data row7 col2\" >0.990519</td>\n",
              "      <td id=\"T_6202e_row7_col3\" class=\"data row7 col3\" >2000.000000</td>\n",
              "      <td id=\"T_6202e_row7_col4\" class=\"data row7 col4\" >0.000168</td>\n",
              "      <td id=\"T_6202e_row7_col5\" class=\"data row7 col5\" >0.003779</td>\n",
              "    </tr>\n",
              "  </tbody>\n",
              "</table>\n"
            ],
            "text/plain": [
              "<pandas.io.formats.style.Styler at 0x1a456fa7c10>"
            ]
          },
          "metadata": {}
        },
        {
          "name": "stdout",
          "output_type": "stream",
          "text": "It takes you  0 minutes to see KNN_2\n"
        }
      ],
      "id": "78c81963"
    },
    {
      "cell_type": "markdown",
      "source": [
        "## KNN_3"
      ],
      "metadata": {
        "id": "Zw-zX1l5p25X",
        "pycharm": {
          "name": "#%% md\n"
        }
      },
      "id": "Zw-zX1l5p25X"
    },
    {
      "cell_type": "code",
      "source": [
        "#The result is good but let's see wheater we can do better or not. Let's try different feature lsit obtained from feature selection part.\n",
        "\n",
        "# Step1) Choose another set of features\n",
        "best_feature_list = best_feature_list_from_Anova\n",
        "print('This result is for KNN_3 using best feature list obtained from Anova method:')\n",
        "print('-'*100)\n",
        "\n",
        "# Step2) Splitting\n",
        "X_train, x_test, y_train, y_test = spliting(df= clean_df, best_feature_list= best_feature_list)\n",
        "\n",
        "# Step3) Normalizing\n",
        "X_train_normalized, x_test_normalized = normalizing(X_train, x_test)\n",
        "\n",
        "# Step4) Call Model\n",
        "k_NN_model, train_time = knn_model(X_train_normalized,y_train,k,metric)\n",
        "\n",
        "# Step5) Call pred function\n",
        "y_pred, pred_time = pred_knn(k_NN_model,x_test_normalized)\n",
        "\n",
        "\n",
        "# Step6) Call Performance\n",
        "print('*'*40,'Performance Table','*'*40)\n",
        "_,KNN_3_performance_df  = performance('KNN_3',y_test,y_pred,clean_df,train_time,pred_time)\n",
        "print(f'It takes you  {int((time.time() - initial_time)/60)} minutes to see KNN_3')\n",
        "\n",
        "# Step7) Save model performance\n",
        "KNN_3_performance_df.to_csv(os.path.join(Model_results_folder,'KNN_3_performance_df.csv'),index=True)\n"
      ],
      "metadata": {
        "colab": {
          "base_uri": "https://localhost:8080/",
          "height": 612
        },
        "id": "be6ce83d",
        "outputId": "38bf13d6-166b-4801-c134-6fb07ec2dede",
        "papermill": {
          "duration": 105.924356,
          "end_time": "2024-08-09T21:13:21.560048",
          "exception": false,
          "start_time": "2024-08-09T21:11:35.635692",
          "status": "completed"
        },
        "pycharm": {
          "name": "#%%\n"
        },
        "tags": []
      },
      "execution_count": null,
      "outputs": [
        {
          "name": "stdout",
          "output_type": "stream",
          "text": "This result is for KNN_3 using best feature list obtained from Anova method:\n\n----------------------------------------------------------------------------------------------------\n\nX_train.shape: (8000, 20)\n\nx_test.shape: (2000, 20)\n\ny_train.shape: (8000,)\n\ny_test.shape: (2000,)\n\nIn the train dataset we have:994 anomalies with this distribution [7006    7  396   84  507]and 7006 normal points\n\nIn the test dataset we have:249 anomalies with this distribution [1751    2   99   21  127] and 1751 normal points\n\n****************************************************************************************************\n\nAfter Normalizing we have:\n\nX_train_normalized.shape: (8000, 20)\n\nx_test_normalized.shape: (2000, 20)\n\n****************************************************************************************************\n\n**************************************** Performance Table ****************************************\n"
        },
        {
          "output_type": "display_data",
          "data": {
            "text/html": [
              "<style type=\"text/css\">\n",
              "#T_86c27_row0_col4, #T_86c27_row0_col5, #T_86c27_row1_col4, #T_86c27_row1_col5, #T_86c27_row2_col4, #T_86c27_row2_col5, #T_86c27_row3_col4, #T_86c27_row3_col5, #T_86c27_row4_col4, #T_86c27_row4_col5, #T_86c27_row5_col4, #T_86c27_row5_col5, #T_86c27_row6_col4, #T_86c27_row6_col5, #T_86c27_row7_col4, #T_86c27_row7_col5 {\n",
              "  background-color: #dcdcdc;\n",
              "}\n",
              "</style>\n",
              "<table id=\"T_86c27\">\n",
              "  <thead>\n",
              "    <tr>\n",
              "      <th class=\"blank\" >&nbsp;</th>\n",
              "      <th class=\"blank level0\" >&nbsp;</th>\n",
              "      <th id=\"T_86c27_level0_col0\" class=\"col_heading level0 col0\" >Precision</th>\n",
              "      <th id=\"T_86c27_level0_col1\" class=\"col_heading level0 col1\" >Recall</th>\n",
              "      <th id=\"T_86c27_level0_col2\" class=\"col_heading level0 col2\" >F1_Score</th>\n",
              "      <th id=\"T_86c27_level0_col3\" class=\"col_heading level0 col3\" >Support</th>\n",
              "      <th id=\"T_86c27_level0_col4\" class=\"col_heading level0 col4\" >Training_Time</th>\n",
              "      <th id=\"T_86c27_level0_col5\" class=\"col_heading level0 col5\" >Predicting_Time</th>\n",
              "    </tr>\n",
              "    <tr>\n",
              "      <th class=\"index_name level0\" >Model_name</th>\n",
              "      <th class=\"index_name level1\" >Classes</th>\n",
              "      <th class=\"blank col0\" >&nbsp;</th>\n",
              "      <th class=\"blank col1\" >&nbsp;</th>\n",
              "      <th class=\"blank col2\" >&nbsp;</th>\n",
              "      <th class=\"blank col3\" >&nbsp;</th>\n",
              "      <th class=\"blank col4\" >&nbsp;</th>\n",
              "      <th class=\"blank col5\" >&nbsp;</th>\n",
              "    </tr>\n",
              "  </thead>\n",
              "  <tbody>\n",
              "    <tr>\n",
              "      <th id=\"T_86c27_level0_row0\" class=\"row_heading level0 row0\" rowspan=\"8\">KNN_3</th>\n",
              "      <th id=\"T_86c27_level1_row0\" class=\"row_heading level1 row0\" >Class-0</th>\n",
              "      <td id=\"T_86c27_row0_col0\" class=\"data row0 col0\" >0.994834</td>\n",
              "      <td id=\"T_86c27_row0_col1\" class=\"data row0 col1\" >0.989720</td>\n",
              "      <td id=\"T_86c27_row0_col2\" class=\"data row0 col2\" >0.992270</td>\n",
              "      <td id=\"T_86c27_row0_col3\" class=\"data row0 col3\" >1751.000000</td>\n",
              "      <td id=\"T_86c27_row0_col4\" class=\"data row0 col4\" >0.000000</td>\n",
              "      <td id=\"T_86c27_row0_col5\" class=\"data row0 col5\" >0.003945</td>\n",
              "    </tr>\n",
              "    <tr>\n",
              "      <th id=\"T_86c27_level1_row1\" class=\"row_heading level1 row1\" >Class-1</th>\n",
              "      <td id=\"T_86c27_row1_col0\" class=\"data row1 col0\" >0.666667</td>\n",
              "      <td id=\"T_86c27_row1_col1\" class=\"data row1 col1\" >1.000000</td>\n",
              "      <td id=\"T_86c27_row1_col2\" class=\"data row1 col2\" >0.800000</td>\n",
              "      <td id=\"T_86c27_row1_col3\" class=\"data row1 col3\" >2.000000</td>\n",
              "      <td id=\"T_86c27_row1_col4\" class=\"data row1 col4\" >0.000000</td>\n",
              "      <td id=\"T_86c27_row1_col5\" class=\"data row1 col5\" >0.003945</td>\n",
              "    </tr>\n",
              "    <tr>\n",
              "      <th id=\"T_86c27_level1_row2\" class=\"row_heading level1 row2\" >Class-2</th>\n",
              "      <td id=\"T_86c27_row2_col0\" class=\"data row2 col0\" >0.950495</td>\n",
              "      <td id=\"T_86c27_row2_col1\" class=\"data row2 col1\" >0.969697</td>\n",
              "      <td id=\"T_86c27_row2_col2\" class=\"data row2 col2\" >0.960000</td>\n",
              "      <td id=\"T_86c27_row2_col3\" class=\"data row2 col3\" >99.000000</td>\n",
              "      <td id=\"T_86c27_row2_col4\" class=\"data row2 col4\" >0.000000</td>\n",
              "      <td id=\"T_86c27_row2_col5\" class=\"data row2 col5\" >0.003945</td>\n",
              "    </tr>\n",
              "    <tr>\n",
              "      <th id=\"T_86c27_level1_row3\" class=\"row_heading level1 row3\" >Class-3</th>\n",
              "      <td id=\"T_86c27_row3_col0\" class=\"data row3 col0\" >0.857143</td>\n",
              "      <td id=\"T_86c27_row3_col1\" class=\"data row3 col1\" >0.857143</td>\n",
              "      <td id=\"T_86c27_row3_col2\" class=\"data row3 col2\" >0.857143</td>\n",
              "      <td id=\"T_86c27_row3_col3\" class=\"data row3 col3\" >21.000000</td>\n",
              "      <td id=\"T_86c27_row3_col4\" class=\"data row3 col4\" >0.000000</td>\n",
              "      <td id=\"T_86c27_row3_col5\" class=\"data row3 col5\" >0.003945</td>\n",
              "    </tr>\n",
              "    <tr>\n",
              "      <th id=\"T_86c27_level1_row4\" class=\"row_heading level1 row4\" >Class-4</th>\n",
              "      <td id=\"T_86c27_row4_col0\" class=\"data row4 col0\" >0.932331</td>\n",
              "      <td id=\"T_86c27_row4_col1\" class=\"data row4 col1\" >0.976378</td>\n",
              "      <td id=\"T_86c27_row4_col2\" class=\"data row4 col2\" >0.953846</td>\n",
              "      <td id=\"T_86c27_row4_col3\" class=\"data row4 col3\" >127.000000</td>\n",
              "      <td id=\"T_86c27_row4_col4\" class=\"data row4 col4\" >0.000000</td>\n",
              "      <td id=\"T_86c27_row4_col5\" class=\"data row4 col5\" >0.003945</td>\n",
              "    </tr>\n",
              "    <tr>\n",
              "      <th id=\"T_86c27_level1_row5\" class=\"row_heading level1 row5\" >accuracy</th>\n",
              "      <td id=\"T_86c27_row5_col0\" class=\"data row5 col0\" >0.986500</td>\n",
              "      <td id=\"T_86c27_row5_col1\" class=\"data row5 col1\" >0.986500</td>\n",
              "      <td id=\"T_86c27_row5_col2\" class=\"data row5 col2\" >0.986500</td>\n",
              "      <td id=\"T_86c27_row5_col3\" class=\"data row5 col3\" >0.986500</td>\n",
              "      <td id=\"T_86c27_row5_col4\" class=\"data row5 col4\" >0.000000</td>\n",
              "      <td id=\"T_86c27_row5_col5\" class=\"data row5 col5\" >0.003945</td>\n",
              "    </tr>\n",
              "    <tr>\n",
              "      <th id=\"T_86c27_level1_row6\" class=\"row_heading level1 row6\" >macro avg</th>\n",
              "      <td id=\"T_86c27_row6_col0\" class=\"data row6 col0\" >0.880294</td>\n",
              "      <td id=\"T_86c27_row6_col1\" class=\"data row6 col1\" >0.958588</td>\n",
              "      <td id=\"T_86c27_row6_col2\" class=\"data row6 col2\" >0.912652</td>\n",
              "      <td id=\"T_86c27_row6_col3\" class=\"data row6 col3\" >2000.000000</td>\n",
              "      <td id=\"T_86c27_row6_col4\" class=\"data row6 col4\" >0.000000</td>\n",
              "      <td id=\"T_86c27_row6_col5\" class=\"data row6 col5\" >0.003945</td>\n",
              "    </tr>\n",
              "    <tr>\n",
              "      <th id=\"T_86c27_level1_row7\" class=\"row_heading level1 row7\" >weighted avg</th>\n",
              "      <td id=\"T_86c27_row7_col0\" class=\"data row7 col0\" >0.986896</td>\n",
              "      <td id=\"T_86c27_row7_col1\" class=\"data row7 col1\" >0.986500</td>\n",
              "      <td id=\"T_86c27_row7_col2\" class=\"data row7 col2\" >0.986622</td>\n",
              "      <td id=\"T_86c27_row7_col3\" class=\"data row7 col3\" >2000.000000</td>\n",
              "      <td id=\"T_86c27_row7_col4\" class=\"data row7 col4\" >0.000000</td>\n",
              "      <td id=\"T_86c27_row7_col5\" class=\"data row7 col5\" >0.003945</td>\n",
              "    </tr>\n",
              "  </tbody>\n",
              "</table>\n"
            ],
            "text/plain": [
              "<pandas.io.formats.style.Styler at 0x1a45597d640>"
            ]
          },
          "metadata": {}
        },
        {
          "name": "stdout",
          "output_type": "stream",
          "text": "It takes you  0 minutes to see KNN_3\n"
        }
      ],
      "id": "be6ce83d"
    },
    {
      "cell_type": "markdown",
      "source": [
        "# **KNN_models Performance**"
      ],
      "metadata": {
        "id": "TrO0LRXzHSf2",
        "pycharm": {
          "name": "#%% md\n"
        }
      },
      "id": "TrO0LRXzHSf2"
    },
    {
      "cell_type": "code",
      "source": [
        "# Let's see the the performance of three KNNs\n",
        "model_names = ['KNN_1','KNN_2','KNN_3']\n",
        "Accuracy_list, F1_Score_Macro_Avg_list,F1_Score_Weighted_Avg_list = [],[],[]\n",
        "Accuracy_list = np.round([KNN_1_performance_df['F1_Score'][-3],KNN_2_performance_df['F1_Score'][-3],KNN_3_performance_df['F1_Score'][-3]],3)\n",
        "F1_Score_Macro_Avg_list = np.round([KNN_1_performance_df['F1_Score'][-2],KNN_2_performance_df['F1_Score'][-2],KNN_3_performance_df['F1_Score'][-2]],3)\n",
        "F1_Score_Weighted_Avg_list = np.round([KNN_1_performance_df['F1_Score'][-1],KNN_2_performance_df['F1_Score'][-1],KNN_3_performance_df['F1_Score'][-1]],3)\n",
        "plot_performance(model_names, F1_Score_Macro_Avg_list, F1_Score_Weighted_Avg_list,Accuracy_list)"
      ],
      "metadata": {
        "colab": {
          "base_uri": "https://localhost:8080/",
          "height": 528
        },
        "id": "ZZ1w7yNGTtHH",
        "outputId": "eef7b54d-aeb4-478d-82b6-e4dd0a02a6b9",
        "pycharm": {
          "name": "#%%\n"
        }
      },
      "execution_count": null,
      "outputs": [
        {
          "output_type": "display_data",
          "data": {
            "image/png": "[encoded data removed]",
            "text/plain": [
              "<Figure size 800x500 with 1 Axes>"
            ]
          },
          "metadata": {}
        }
      ],
      "id": "ZZ1w7yNGTtHH"
    },
    {
      "cell_type": "code",
      "source": [
        "# So, as shown above the best feature list belongs to Anova method\n",
        "best_feature_list  = best_feature_list_from_Anova\n",
        "print('best_feature_list is the one obtained from Anova Method:')\n",
        "print('*'*100)\n",
        "print(best_feature_list)\n",
        "print('*'*100)\n",
        "print('Number of selected features: ',len(best_feature_list))"
      ],
      "metadata": {
        "colab": {
          "base_uri": "https://localhost:8080/"
        },
        "id": "462dc9fb",
        "outputId": "346788f0-e85d-48dc-a563-190d0dec8f46",
        "papermill": {
          "duration": 0.025196,
          "end_time": "2024-08-09T21:13:21.598864",
          "exception": false,
          "start_time": "2024-08-09T21:13:21.573668",
          "status": "completed"
        },
        "pycharm": {
          "name": "#%%\n"
        },
        "tags": []
      },
      "execution_count": null,
      "outputs": [
        {
          "name": "stdout",
          "output_type": "stream",
          "text": "best_feature_list is the one obtained from Anova Method:\n\n****************************************************************************************************\n\n[' Flow Duration' ' Active Min' ' Active Std' ' Init_Win_bytes_backward'\n\n ' Subflow Fwd Bytes' ' Avg Fwd Segment Size' ' Down/Up Ratio'\n\n ' ACK Flag Count' 'FIN Flag Count' ' Packet Length Std'\n\n ' Max Packet Length' ' Idle Std' ' Bwd IAT Min' ' Bwd Packets/s'\n\n 'Bwd IAT Total' ' Fwd Packet Length Min' ' Fwd Packet Length Std'\n\n ' Bwd Packet Length Min' ' Bwd IAT Std' ' Flow Packets/s']\n\n****************************************************************************************************\n\nNumber of selected features:  20\n"
        }
      ],
      "id": "462dc9fb"
    },
    {
      "cell_type": "code",
      "source": [
        "last_time = time.time()\n",
        "print('All Duration:')\n",
        "print((last_time - initial_time )/60,'Minutes')"
      ],
      "metadata": {
        "colab": {
          "base_uri": "https://localhost:8080/"
        },
        "id": "yQmyJr-YrN18",
        "outputId": "06bbde83-fc0b-4f52-af09-2738e1d1e7a5",
        "pycharm": {
          "name": "#%%\n"
        }
      },
      "execution_count": null,
      "outputs": [
        {
          "name": "stdout",
          "output_type": "stream",
          "text": "All Duration:\n\n0.3405892451604207 Minutes\n"
        }
      ],
      "id": "yQmyJr-YrN18"
    }
  ]
}