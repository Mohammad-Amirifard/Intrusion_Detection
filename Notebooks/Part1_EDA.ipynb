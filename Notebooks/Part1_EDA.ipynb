{
 "cells": [
  {
   "cell_type": "markdown",
   "metadata": {
    "id": "view-in-github",
    "colab_type": "text",
    "pycharm": {
     "name": "#%% md\n"
    }
   },
   "source": [
    "<a href=\"https://colab.research.google.com/github/Mohammad-Amirifard/Intrusion_Detection/blob/main/Part1_EDA.ipynb\" target=\"_parent\"><img src=\"https://colab.research.google.com/assets/colab-badge.svg\" alt=\"Open In Colab\"/></a>"
   ]
  },
  {
   "cell_type": "markdown",
   "id": "1de0f8da",
   "metadata": {
    "id": "1de0f8da",
    "papermill": {
     "duration": 0.016326,
     "end_time": "2024-08-14T13:08:44.282689",
     "exception": false,
     "start_time": "2024-08-14T13:08:44.266363",
     "status": "completed"
    },
    "pycharm": {
     "name": "#%% md\n"
    },
    "tags": []
   },
   "source": [
    "# **Intrusion Detection Using Machine Learning Techniques On CIC-IDS2017 Dataset**\n",
    "\n",
    "Created By [Mohammad Amirifard](https://www.linkedin.com/in/mohammad-amirifard/)\n",
    "\n",
    "\n",
    "<img src=\"https://www.teligentsolutions.com/wp-content/uploads/2015/04/Teligent_Solutions_Intrusion_Detection.jpg\" alt=\"Image\" />\n",
    "\n",
    "# **Structure of notebooks**\n",
    "`This program includes several notebooks regarding different parts.`\n",
    "\n",
    "This is **notebook number 1**, called **Part1_EDA**\n",
    "\n",
    "For other notebooks you can use the following links:\n",
    "\n",
    "\n",
    "1.   Notebook number 1, [Part1_EDA](https://github.com/Mohammad-Amirifard/Intrusion_Detection/blob/main/Notebooks/Part1_EDA.ipynb)\n",
    "2.   Notebook number 2, [Part2_KNN_Models](https://github.com/Mohammad-Amirifard/Intrusion_Detection/blob/main/Notebooks/Part2_KNN_Models.ipynb)\n",
    "3.   Notebook number 3, [Part3_SVM_Models](https://github.com/Mohammad-Amirifard/Intrusion_Detection/blob/main/Notebooks/Part3_SVM_Models.ipynb)\n",
    "4.   Notebook number 4, [Part4_Gboost_Model](https://github.com/Mohammad-Amirifard/Intrusion_Detection/blob/main/Notebooks/Part4_GBoost_Model.ipynb)\n",
    "5.   Notebook number 5, [Part5_MLP_Model](https://github.com/Mohammad-Amirifard/Intrusion_Detection/blob/main/Notebooks/Part5_MLP_Model.ipynb)\n",
    "6.   Notebook number 6, [Part6_Conclusion](https://github.com/Mohammad-Amirifard/Intrusion_Detection/blob/main/Notebooks/Part6_Conclusion.ipynb)"
   ]
  },
  {
   "cell_type": "markdown",
   "id": "8c49c261",
   "metadata": {
    "id": "8c49c261",
    "papermill": {
     "duration": 0.015644,
     "end_time": "2024-08-14T13:08:44.314978",
     "exception": false,
     "start_time": "2024-08-14T13:08:44.299334",
     "status": "completed"
    },
    "pycharm": {
     "name": "#%% md\n"
    },
    "tags": []
   },
   "source": [
    "# **Problem Statement**\n",
    "The objective of this project is to **detect** and classify various types of **anomalies** within the `CIC-IDS2017 dataset`, which is a widely recognized benchmark dataset used for cybersecurity research, particularly in the domain of intrusion detection systems (IDS). Anomalies in this context refer to unusual or suspicious patterns in the network traffic data that may indicate potential security threats such as attacks or intrusions.\n",
    "\n",
    "To achieve this, we will apply a range of **machine learning techniques** that are commonly used for anomaly detection and classification tasks. These techniques include, but are not limited to, supervised learning methods, such as decision trees, support vector machines, and neural networks, as well as unsupervised learning approaches like clustering algorithms and autoencoders. By leveraging these methods, we aim to accurately classify network traffic data into normal and anomalous categories.\n",
    "\n",
    "The problem we are addressing is inherently a classification problem, where the primary goal is to categorize the data into predefined classes based on the learned patterns. This involves training machine learning models on labeled data to distinguish between normal and anomalous network traffic, enabling the detection of potential security threats with high precision and recall.\n",
    "\n",
    "**Goal:**\n",
    "\n",
    "Our ultimate aim is to develop a robust system that can effectively identify various types of anomalies, contributing to the enhancement of network security measures.\n",
    "\n",
    "**Dataset:**\n",
    "\n",
    "you can see detail of available dataset on this [link](https://www.unb.ca/cic/datasets/ids-2017.html)"
   ]
  },
  {
   "cell_type": "markdown",
   "id": "bce723c5",
   "metadata": {
    "id": "bce723c5",
    "papermill": {
     "duration": 0.015292,
     "end_time": "2024-08-14T13:08:44.345601",
     "exception": false,
     "start_time": "2024-08-14T13:08:44.330309",
     "status": "completed"
    },
    "pycharm": {
     "name": "#%% md\n"
    },
    "tags": []
   },
   "source": [
    "# **Table of Content**\n",
    "\n"
   ]
  },
  {
   "cell_type": "markdown",
   "id": "a5316921",
   "metadata": {
    "id": "a5316921",
    "papermill": {
     "duration": 0.014509,
     "end_time": "2024-08-14T13:08:44.375497",
     "exception": false,
     "start_time": "2024-08-14T13:08:44.360988",
     "status": "completed"
    },
    "pycharm": {
     "name": "#%% md\n"
    },
    "tags": []
   },
   "source": [
    "<div class=\"toc\" style=\"background-color: #d4d0cf; padding: 10px; border-radius: 5px;\">\n",
    "  <h2 style=\"color: black;\"></h2>\n",
    "  <ul>\n",
    "    <li style=\"color: black;\">Import Libraries</li>\n",
    "    <li style=\"color: black;\">Download CIC-IDS2017 Dataset</li>\n",
    "    <li style=\"color: black;\">Exploratory Data Analysis\n",
    "      <ul>\n",
    "        <li style=\"color: black;\">Load datasets</li>\n",
    "        <li style=\"color: black;\">Unique labels</li>\n",
    "      </ul>\n",
    "    </li>\n",
    "    <li style=\"color: black;\">Feature Engineering\n",
    "      <ul>\n",
    "        <li style=\"color: black;\">Remove columns including unique items</li>\n",
    "        <li style=\"color: black;\">Fill inf and NaN values</li>\n",
    "        <li style=\"color: black;\">Feature Selection\n",
    "          <ul>\n",
    "            <li style=\"color: black;\">1. Mutual Info filter</li>\n",
    "            <li style=\"color: black;\">2. Anova filter</li>\n",
    "            <li style=\"color: black;\">3. Random Forest</li>\n",
    "          </ul>\n",
    "        </li>\n",
    "      </ul>\n",
    "    </li>\n",
    "    <li style=\"color: black;\">Save results</li>\n",
    "  </ul>\n",
    "</div>\n"
   ]
  },
  {
   "cell_type": "markdown",
   "id": "37559ccf",
   "metadata": {
    "id": "37559ccf",
    "papermill": {
     "duration": 0.014089,
     "end_time": "2024-08-14T13:08:44.405237",
     "exception": false,
     "start_time": "2024-08-14T13:08:44.391148",
     "status": "completed"
    },
    "pycharm": {
     "name": "#%% md\n"
    },
    "tags": []
   },
   "source": [
    "# **Import Libraries**\n",
    "\n",
    "\n",
    "Here we import libraries on which we need to work."
   ]
  },
  {
   "cell_type": "code",
   "execution_count": null,
   "id": "63cad903",
   "metadata": {
    "execution": {
     "iopub.execute_input": "2024-08-14T13:08:44.435490Z",
     "iopub.status.busy": "2024-08-14T13:08:44.435049Z",
     "iopub.status.idle": "2024-08-14T13:09:03.711727Z",
     "shell.execute_reply": "2024-08-14T13:09:03.710134Z"
    },
    "id": "63cad903",
    "papermill": {
     "duration": 19.295476,
     "end_time": "2024-08-14T13:09:03.714970",
     "exception": false,
     "start_time": "2024-08-14T13:08:44.419494",
     "status": "completed"
    },
    "pycharm": {
     "name": "#%%\n"
    },
    "tags": []
   },
   "outputs": [],
   "source": [
    "! pip install -qq gdown\n",
    "import pandas as pd\n",
    "import numpy as np\n",
    "import matplotlib.pyplot as plt\n",
    "import scipy\n",
    "import os, gdown\n",
    "import zipfile, time\n",
    "import warnings\n",
    "import joblib\n",
    "warnings.filterwarnings('ignore')\n",
    "initial_time = time.time()"
   ]
  },
  {
   "cell_type": "markdown",
   "id": "33fc1faf",
   "metadata": {
    "id": "33fc1faf",
    "papermill": {
     "duration": 0.01378,
     "end_time": "2024-08-14T13:09:03.743496",
     "exception": false,
     "start_time": "2024-08-14T13:09:03.729716",
     "status": "completed"
    },
    "pycharm": {
     "name": "#%% md\n"
    },
    "tags": []
   },
   "source": [
    "# **Download CIC-IDS2017 Dataset**\n",
    "\n",
    "\n",
    "Here we download dataset from google drive and try to unzip it"
   ]
  },
  {
   "cell_type": "code",
   "execution_count": null,
   "id": "e8c90667",
   "metadata": {
    "execution": {
     "iopub.execute_input": "2024-08-14T13:09:03.773818Z",
     "iopub.status.busy": "2024-08-14T13:09:03.773251Z",
     "iopub.status.idle": "2024-08-14T13:09:17.783924Z",
     "shell.execute_reply": "2024-08-14T13:09:17.782524Z"
    },
    "id": "e8c90667",
    "papermill": {
     "duration": 14.028919,
     "end_time": "2024-08-14T13:09:17.786636",
     "exception": false,
     "start_time": "2024-08-14T13:09:03.757717",
     "status": "completed"
    },
    "pycharm": {
     "name": "#%%\n"
    },
    "tags": [],
    "outputId": "c1a72e53-969d-469e-da90-6adcde4210b2"
   },
   "outputs": [
    {
     "name": "stdout",
     "output_type": "stream",
     "text": [
      "clean_dataset.zip was downloaded successfuly.\n",
      "clean_dataset.zip  was unziped successfuly.\n"
     ]
    }
   ],
   "source": [
    "def download_file_from_google_drive(file_id, destination):\n",
    "\n",
    "    \"\"\"\n",
    "    Input: file_id (Obtained from google drive), destionation (For saving the file)\n",
    "    Output: _ (Download the file in destination directory)\n",
    "    \"\"\"\n",
    "    url = f\"https://drive.google.com/uc?id={file_id}\"\n",
    "    gdown.download(url, destination, quiet=True) # download file using given URL\n",
    "\n",
    "\n",
    "def unzip_dataset(extraction_dir):\n",
    "\n",
    "  \"\"\"\n",
    "  Input: Extraction_dir (Direction of dataset to unzip into)\n",
    "  Output: _ (Exract the zip file in the given direction)\n",
    "  \"\"\"\n",
    "\n",
    "  # Ensure the extraction directory exists\n",
    "  os.makedirs(extraction_dir, exist_ok=True)\n",
    "\n",
    "  # Unzip the file\n",
    "  with zipfile.ZipFile(zip_file_path, 'r') as zip_ref:\n",
    "      zip_ref.extractall(extraction_dir)\n",
    "\n",
    "\n",
    "\n",
    "# Setup variables to download dataset\n",
    "current_working_dir = os.getcwd()\n",
    "destination = current_working_dir\n",
    "zip_file_path = os.path.join(destination, 'dataset.zip')\n",
    "file_id =  '1a7z1lGFg-shaBUTfmPewFAebCc8FDhx5' # File Id\n",
    "extraction_dir = os.path.join(destination,'dataset/')\n",
    "\n",
    "# call functions\n",
    "download_file_from_google_drive(file_id, zip_file_path) # Download\n",
    "print('clean_dataset.zip was downloaded successfuly.')\n",
    "\n",
    "unzip_dataset(extraction_dir)                           # Unzip\n",
    "print('clean_dataset.zip  was unziped successfuly.')"
   ]
  },
  {
   "cell_type": "markdown",
   "id": "74820146",
   "metadata": {
    "id": "74820146",
    "papermill": {
     "duration": 0.014498,
     "end_time": "2024-08-14T13:09:17.815803",
     "exception": false,
     "start_time": "2024-08-14T13:09:17.801305",
     "status": "completed"
    },
    "pycharm": {
     "name": "#%% md\n"
    },
    "tags": []
   },
   "source": [
    "# **Exploratory Data Analysis**\n"
   ]
  },
  {
   "cell_type": "markdown",
   "id": "866cea71",
   "metadata": {
    "id": "866cea71",
    "papermill": {
     "duration": 0.015201,
     "end_time": "2024-08-14T13:09:17.845577",
     "exception": false,
     "start_time": "2024-08-14T13:09:17.830376",
     "status": "completed"
    },
    "pycharm": {
     "name": "#%% md\n"
    },
    "tags": []
   },
   "source": [
    "## Load datasets\n",
    "\n",
    "On this [link](https://www.unb.ca/cic/datasets/ids-2017.html), You can access to all information about dataset."
   ]
  },
  {
   "cell_type": "code",
   "execution_count": null,
   "id": "d8bffdcb",
   "metadata": {
    "execution": {
     "iopub.execute_input": "2024-08-14T13:09:17.878233Z",
     "iopub.status.busy": "2024-08-14T13:09:17.877775Z",
     "iopub.status.idle": "2024-08-14T13:09:42.308969Z",
     "shell.execute_reply": "2024-08-14T13:09:42.307741Z"
    },
    "id": "d8bffdcb",
    "papermill": {
     "duration": 24.451605,
     "end_time": "2024-08-14T13:09:42.312554",
     "exception": false,
     "start_time": "2024-08-14T13:09:17.860949",
     "status": "completed"
    },
    "pycharm": {
     "name": "#%%\n"
    },
    "tags": []
   },
   "outputs": [],
   "source": [
    "# Let's load all csv files.\n",
    "\n",
    "Friday_Morning_pcap_df = pd.read_csv(os.path.join(extraction_dir,'MachineLearningCVE/Friday-WorkingHours-Morning.pcap_ISCX.csv'))\n",
    "Friday_Afternoon_PortScand_df = pd.read_csv(os.path.join(extraction_dir,'MachineLearningCVE/Friday-WorkingHours-Afternoon-PortScan.pcap_ISCX.csv'))\n",
    "Friday_Afternoon_DDos_df = pd.read_csv(os.path.join(extraction_dir,'MachineLearningCVE/Friday-WorkingHours-Afternoon-DDos.pcap_ISCX.csv'))\n",
    "Monday_df = pd.read_csv(os.path.join(extraction_dir,'MachineLearningCVE/Monday-WorkingHours.pcap_ISCX.csv'))\n",
    "Thursday_Afternoon_Infilteration_df =pd.read_csv( os.path.join(extraction_dir,'MachineLearningCVE/Thursday-WorkingHours-Afternoon-Infilteration.pcap_ISCX.csv'))\n",
    "Thursday_Morning_WebAttacks_df = pd.read_csv(os.path.join(extraction_dir,'MachineLearningCVE/Thursday-WorkingHours-Morning-WebAttacks.pcap_ISCX.csv'))\n",
    "Tuesday_pcap_ISCX_df = pd.read_csv(os.path.join(extraction_dir,'MachineLearningCVE/Tuesday-WorkingHours.pcap_ISCX.csv'))\n",
    "Wednesday_pcap_ISCX_df = pd.read_csv(os.path.join(extraction_dir,'MachineLearningCVE/Tuesday-WorkingHours.pcap_ISCX.csv'))\n",
    "\n",
    "\n"
   ]
  },
  {
   "cell_type": "code",
   "execution_count": null,
   "id": "0aefd582",
   "metadata": {
    "execution": {
     "iopub.execute_input": "2024-08-14T13:09:42.347164Z",
     "iopub.status.busy": "2024-08-14T13:09:42.346735Z",
     "iopub.status.idle": "2024-08-14T13:09:42.440225Z",
     "shell.execute_reply": "2024-08-14T13:09:42.439038Z"
    },
    "id": "0aefd582",
    "outputId": "ad116536-eeed-43cd-bb14-3a2b44f10e74",
    "papermill": {
     "duration": 0.11314,
     "end_time": "2024-08-14T13:09:42.443145",
     "exception": false,
     "start_time": "2024-08-14T13:09:42.330005",
     "status": "completed"
    },
    "pycharm": {
     "name": "#%%\n"
    },
    "tags": []
   },
   "outputs": [
    {
     "data": {
      "text/html": [
       "<div>\n",
       "<style scoped>\n",
       "    .dataframe tbody tr th:only-of-type {\n",
       "        vertical-align: middle;\n",
       "    }\n",
       "\n",
       "    .dataframe tbody tr th {\n",
       "        vertical-align: top;\n",
       "    }\n",
       "\n",
       "    .dataframe thead th {\n",
       "        text-align: right;\n",
       "    }\n",
       "</style>\n",
       "<table border=\"1\" class=\"dataframe\">\n",
       "  <thead>\n",
       "    <tr style=\"text-align: right;\">\n",
       "      <th></th>\n",
       "      <th>Destination Port</th>\n",
       "      <th>Flow Duration</th>\n",
       "      <th>Total Fwd Packets</th>\n",
       "      <th>Total Backward Packets</th>\n",
       "      <th>Total Length of Fwd Packets</th>\n",
       "      <th>Total Length of Bwd Packets</th>\n",
       "      <th>Fwd Packet Length Max</th>\n",
       "      <th>Fwd Packet Length Min</th>\n",
       "      <th>Fwd Packet Length Mean</th>\n",
       "      <th>Fwd Packet Length Std</th>\n",
       "      <th>...</th>\n",
       "      <th>min_seg_size_forward</th>\n",
       "      <th>Active Mean</th>\n",
       "      <th>Active Std</th>\n",
       "      <th>Active Max</th>\n",
       "      <th>Active Min</th>\n",
       "      <th>Idle Mean</th>\n",
       "      <th>Idle Std</th>\n",
       "      <th>Idle Max</th>\n",
       "      <th>Idle Min</th>\n",
       "      <th>Label</th>\n",
       "    </tr>\n",
       "  </thead>\n",
       "  <tbody>\n",
       "    <tr>\n",
       "      <th>0</th>\n",
       "      <td>3268</td>\n",
       "      <td>112740690</td>\n",
       "      <td>32</td>\n",
       "      <td>16</td>\n",
       "      <td>6448</td>\n",
       "      <td>1152</td>\n",
       "      <td>403</td>\n",
       "      <td>0</td>\n",
       "      <td>201.5</td>\n",
       "      <td>204.724205</td>\n",
       "      <td>...</td>\n",
       "      <td>32</td>\n",
       "      <td>3.594286e+02</td>\n",
       "      <td>1.199802e+01</td>\n",
       "      <td>380</td>\n",
       "      <td>343</td>\n",
       "      <td>16100000.0</td>\n",
       "      <td>4.988048e+05</td>\n",
       "      <td>16400000</td>\n",
       "      <td>15400000</td>\n",
       "      <td>BENIGN</td>\n",
       "    </tr>\n",
       "    <tr>\n",
       "      <th>1</th>\n",
       "      <td>389</td>\n",
       "      <td>112740560</td>\n",
       "      <td>32</td>\n",
       "      <td>16</td>\n",
       "      <td>6448</td>\n",
       "      <td>5056</td>\n",
       "      <td>403</td>\n",
       "      <td>0</td>\n",
       "      <td>201.5</td>\n",
       "      <td>204.724205</td>\n",
       "      <td>...</td>\n",
       "      <td>32</td>\n",
       "      <td>3.202857e+02</td>\n",
       "      <td>1.574499e+01</td>\n",
       "      <td>330</td>\n",
       "      <td>285</td>\n",
       "      <td>16100000.0</td>\n",
       "      <td>4.987937e+05</td>\n",
       "      <td>16400000</td>\n",
       "      <td>15400000</td>\n",
       "      <td>BENIGN</td>\n",
       "    </tr>\n",
       "    <tr>\n",
       "      <th>2</th>\n",
       "      <td>0</td>\n",
       "      <td>113757377</td>\n",
       "      <td>545</td>\n",
       "      <td>0</td>\n",
       "      <td>0</td>\n",
       "      <td>0</td>\n",
       "      <td>0</td>\n",
       "      <td>0</td>\n",
       "      <td>0.0</td>\n",
       "      <td>0.000000</td>\n",
       "      <td>...</td>\n",
       "      <td>0</td>\n",
       "      <td>9.361829e+06</td>\n",
       "      <td>7.324646e+06</td>\n",
       "      <td>18900000</td>\n",
       "      <td>19</td>\n",
       "      <td>12200000.0</td>\n",
       "      <td>6.935824e+06</td>\n",
       "      <td>20800000</td>\n",
       "      <td>5504997</td>\n",
       "      <td>BENIGN</td>\n",
       "    </tr>\n",
       "    <tr>\n",
       "      <th>3</th>\n",
       "      <td>5355</td>\n",
       "      <td>100126</td>\n",
       "      <td>22</td>\n",
       "      <td>0</td>\n",
       "      <td>616</td>\n",
       "      <td>0</td>\n",
       "      <td>28</td>\n",
       "      <td>28</td>\n",
       "      <td>28.0</td>\n",
       "      <td>0.000000</td>\n",
       "      <td>...</td>\n",
       "      <td>32</td>\n",
       "      <td>0.000000e+00</td>\n",
       "      <td>0.000000e+00</td>\n",
       "      <td>0</td>\n",
       "      <td>0</td>\n",
       "      <td>0.0</td>\n",
       "      <td>0.000000e+00</td>\n",
       "      <td>0</td>\n",
       "      <td>0</td>\n",
       "      <td>BENIGN</td>\n",
       "    </tr>\n",
       "    <tr>\n",
       "      <th>4</th>\n",
       "      <td>0</td>\n",
       "      <td>54760</td>\n",
       "      <td>4</td>\n",
       "      <td>0</td>\n",
       "      <td>0</td>\n",
       "      <td>0</td>\n",
       "      <td>0</td>\n",
       "      <td>0</td>\n",
       "      <td>0.0</td>\n",
       "      <td>0.000000</td>\n",
       "      <td>...</td>\n",
       "      <td>0</td>\n",
       "      <td>0.000000e+00</td>\n",
       "      <td>0.000000e+00</td>\n",
       "      <td>0</td>\n",
       "      <td>0</td>\n",
       "      <td>0.0</td>\n",
       "      <td>0.000000e+00</td>\n",
       "      <td>0</td>\n",
       "      <td>0</td>\n",
       "      <td>BENIGN</td>\n",
       "    </tr>\n",
       "    <tr>\n",
       "      <th>...</th>\n",
       "      <td>...</td>\n",
       "      <td>...</td>\n",
       "      <td>...</td>\n",
       "      <td>...</td>\n",
       "      <td>...</td>\n",
       "      <td>...</td>\n",
       "      <td>...</td>\n",
       "      <td>...</td>\n",
       "      <td>...</td>\n",
       "      <td>...</td>\n",
       "      <td>...</td>\n",
       "      <td>...</td>\n",
       "      <td>...</td>\n",
       "      <td>...</td>\n",
       "      <td>...</td>\n",
       "      <td>...</td>\n",
       "      <td>...</td>\n",
       "      <td>...</td>\n",
       "      <td>...</td>\n",
       "      <td>...</td>\n",
       "      <td>...</td>\n",
       "    </tr>\n",
       "    <tr>\n",
       "      <th>191028</th>\n",
       "      <td>53</td>\n",
       "      <td>61452</td>\n",
       "      <td>4</td>\n",
       "      <td>2</td>\n",
       "      <td>180</td>\n",
       "      <td>354</td>\n",
       "      <td>45</td>\n",
       "      <td>45</td>\n",
       "      <td>45.0</td>\n",
       "      <td>0.000000</td>\n",
       "      <td>...</td>\n",
       "      <td>20</td>\n",
       "      <td>0.000000e+00</td>\n",
       "      <td>0.000000e+00</td>\n",
       "      <td>0</td>\n",
       "      <td>0</td>\n",
       "      <td>0.0</td>\n",
       "      <td>0.000000e+00</td>\n",
       "      <td>0</td>\n",
       "      <td>0</td>\n",
       "      <td>BENIGN</td>\n",
       "    </tr>\n",
       "    <tr>\n",
       "      <th>191029</th>\n",
       "      <td>53</td>\n",
       "      <td>171</td>\n",
       "      <td>2</td>\n",
       "      <td>2</td>\n",
       "      <td>80</td>\n",
       "      <td>272</td>\n",
       "      <td>40</td>\n",
       "      <td>40</td>\n",
       "      <td>40.0</td>\n",
       "      <td>0.000000</td>\n",
       "      <td>...</td>\n",
       "      <td>32</td>\n",
       "      <td>0.000000e+00</td>\n",
       "      <td>0.000000e+00</td>\n",
       "      <td>0</td>\n",
       "      <td>0</td>\n",
       "      <td>0.0</td>\n",
       "      <td>0.000000e+00</td>\n",
       "      <td>0</td>\n",
       "      <td>0</td>\n",
       "      <td>BENIGN</td>\n",
       "    </tr>\n",
       "    <tr>\n",
       "      <th>191030</th>\n",
       "      <td>53</td>\n",
       "      <td>222</td>\n",
       "      <td>2</td>\n",
       "      <td>2</td>\n",
       "      <td>90</td>\n",
       "      <td>354</td>\n",
       "      <td>45</td>\n",
       "      <td>45</td>\n",
       "      <td>45.0</td>\n",
       "      <td>0.000000</td>\n",
       "      <td>...</td>\n",
       "      <td>32</td>\n",
       "      <td>0.000000e+00</td>\n",
       "      <td>0.000000e+00</td>\n",
       "      <td>0</td>\n",
       "      <td>0</td>\n",
       "      <td>0.0</td>\n",
       "      <td>0.000000e+00</td>\n",
       "      <td>0</td>\n",
       "      <td>0</td>\n",
       "      <td>BENIGN</td>\n",
       "    </tr>\n",
       "    <tr>\n",
       "      <th>191031</th>\n",
       "      <td>123</td>\n",
       "      <td>16842</td>\n",
       "      <td>1</td>\n",
       "      <td>1</td>\n",
       "      <td>48</td>\n",
       "      <td>48</td>\n",
       "      <td>48</td>\n",
       "      <td>48</td>\n",
       "      <td>48.0</td>\n",
       "      <td>0.000000</td>\n",
       "      <td>...</td>\n",
       "      <td>20</td>\n",
       "      <td>0.000000e+00</td>\n",
       "      <td>0.000000e+00</td>\n",
       "      <td>0</td>\n",
       "      <td>0</td>\n",
       "      <td>0.0</td>\n",
       "      <td>0.000000e+00</td>\n",
       "      <td>0</td>\n",
       "      <td>0</td>\n",
       "      <td>BENIGN</td>\n",
       "    </tr>\n",
       "    <tr>\n",
       "      <th>191032</th>\n",
       "      <td>53</td>\n",
       "      <td>153</td>\n",
       "      <td>2</td>\n",
       "      <td>2</td>\n",
       "      <td>68</td>\n",
       "      <td>100</td>\n",
       "      <td>34</td>\n",
       "      <td>34</td>\n",
       "      <td>34.0</td>\n",
       "      <td>0.000000</td>\n",
       "      <td>...</td>\n",
       "      <td>20</td>\n",
       "      <td>0.000000e+00</td>\n",
       "      <td>0.000000e+00</td>\n",
       "      <td>0</td>\n",
       "      <td>0</td>\n",
       "      <td>0.0</td>\n",
       "      <td>0.000000e+00</td>\n",
       "      <td>0</td>\n",
       "      <td>0</td>\n",
       "      <td>BENIGN</td>\n",
       "    </tr>\n",
       "  </tbody>\n",
       "</table>\n",
       "<p>191033 rows × 79 columns</p>\n",
       "</div>"
      ],
      "text/plain": [
       "         Destination Port   Flow Duration   Total Fwd Packets  \\\n",
       "0                    3268       112740690                  32   \n",
       "1                     389       112740560                  32   \n",
       "2                       0       113757377                 545   \n",
       "3                    5355          100126                  22   \n",
       "4                       0           54760                   4   \n",
       "...                   ...             ...                 ...   \n",
       "191028                 53           61452                   4   \n",
       "191029                 53             171                   2   \n",
       "191030                 53             222                   2   \n",
       "191031                123           16842                   1   \n",
       "191032                 53             153                   2   \n",
       "\n",
       "         Total Backward Packets  Total Length of Fwd Packets  \\\n",
       "0                            16                         6448   \n",
       "1                            16                         6448   \n",
       "2                             0                            0   \n",
       "3                             0                          616   \n",
       "4                             0                            0   \n",
       "...                         ...                          ...   \n",
       "191028                        2                          180   \n",
       "191029                        2                           80   \n",
       "191030                        2                           90   \n",
       "191031                        1                           48   \n",
       "191032                        2                           68   \n",
       "\n",
       "         Total Length of Bwd Packets   Fwd Packet Length Max  \\\n",
       "0                               1152                     403   \n",
       "1                               5056                     403   \n",
       "2                                  0                       0   \n",
       "3                                  0                      28   \n",
       "4                                  0                       0   \n",
       "...                              ...                     ...   \n",
       "191028                           354                      45   \n",
       "191029                           272                      40   \n",
       "191030                           354                      45   \n",
       "191031                            48                      48   \n",
       "191032                           100                      34   \n",
       "\n",
       "         Fwd Packet Length Min   Fwd Packet Length Mean  \\\n",
       "0                            0                    201.5   \n",
       "1                            0                    201.5   \n",
       "2                            0                      0.0   \n",
       "3                           28                     28.0   \n",
       "4                            0                      0.0   \n",
       "...                        ...                      ...   \n",
       "191028                      45                     45.0   \n",
       "191029                      40                     40.0   \n",
       "191030                      45                     45.0   \n",
       "191031                      48                     48.0   \n",
       "191032                      34                     34.0   \n",
       "\n",
       "         Fwd Packet Length Std  ...   min_seg_size_forward   Active Mean  \\\n",
       "0                   204.724205  ...                     32  3.594286e+02   \n",
       "1                   204.724205  ...                     32  3.202857e+02   \n",
       "2                     0.000000  ...                      0  9.361829e+06   \n",
       "3                     0.000000  ...                     32  0.000000e+00   \n",
       "4                     0.000000  ...                      0  0.000000e+00   \n",
       "...                        ...  ...                    ...           ...   \n",
       "191028                0.000000  ...                     20  0.000000e+00   \n",
       "191029                0.000000  ...                     32  0.000000e+00   \n",
       "191030                0.000000  ...                     32  0.000000e+00   \n",
       "191031                0.000000  ...                     20  0.000000e+00   \n",
       "191032                0.000000  ...                     20  0.000000e+00   \n",
       "\n",
       "          Active Std   Active Max   Active Min   Idle Mean      Idle Std  \\\n",
       "0       1.199802e+01          380          343  16100000.0  4.988048e+05   \n",
       "1       1.574499e+01          330          285  16100000.0  4.987937e+05   \n",
       "2       7.324646e+06     18900000           19  12200000.0  6.935824e+06   \n",
       "3       0.000000e+00            0            0         0.0  0.000000e+00   \n",
       "4       0.000000e+00            0            0         0.0  0.000000e+00   \n",
       "...              ...          ...          ...         ...           ...   \n",
       "191028  0.000000e+00            0            0         0.0  0.000000e+00   \n",
       "191029  0.000000e+00            0            0         0.0  0.000000e+00   \n",
       "191030  0.000000e+00            0            0         0.0  0.000000e+00   \n",
       "191031  0.000000e+00            0            0         0.0  0.000000e+00   \n",
       "191032  0.000000e+00            0            0         0.0  0.000000e+00   \n",
       "\n",
       "         Idle Max   Idle Min   Label  \n",
       "0        16400000   15400000  BENIGN  \n",
       "1        16400000   15400000  BENIGN  \n",
       "2        20800000    5504997  BENIGN  \n",
       "3               0          0  BENIGN  \n",
       "4               0          0  BENIGN  \n",
       "...           ...        ...     ...  \n",
       "191028          0          0  BENIGN  \n",
       "191029          0          0  BENIGN  \n",
       "191030          0          0  BENIGN  \n",
       "191031          0          0  BENIGN  \n",
       "191032          0          0  BENIGN  \n",
       "\n",
       "[191033 rows x 79 columns]"
      ]
     },
     "metadata": {},
     "output_type": "display_data"
    }
   ],
   "source": [
    "# Let's see one of them.\n",
    "display(Friday_Morning_pcap_df)"
   ]
  },
  {
   "cell_type": "markdown",
   "id": "23058ef9",
   "metadata": {
    "id": "23058ef9",
    "papermill": {
     "duration": 0.015604,
     "end_time": "2024-08-14T13:09:42.474206",
     "exception": false,
     "start_time": "2024-08-14T13:09:42.458602",
     "status": "completed"
    },
    "pycharm": {
     "name": "#%% md\n"
    },
    "tags": []
   },
   "source": [
    "## Unique labels\n"
   ]
  },
  {
   "cell_type": "code",
   "execution_count": null,
   "id": "cbbb1952",
   "metadata": {
    "execution": {
     "iopub.execute_input": "2024-08-14T13:09:42.508432Z",
     "iopub.status.busy": "2024-08-14T13:09:42.507980Z",
     "iopub.status.idle": "2024-08-14T13:09:42.525510Z",
     "shell.execute_reply": "2024-08-14T13:09:42.524117Z"
    },
    "id": "cbbb1952",
    "papermill": {
     "duration": 0.037915,
     "end_time": "2024-08-14T13:09:42.528191",
     "exception": false,
     "start_time": "2024-08-14T13:09:42.490276",
     "status": "completed"
    },
    "pycharm": {
     "name": "#%%\n"
    },
    "tags": []
   },
   "outputs": [],
   "source": [
    "def find_uniques(df):\n",
    "\n",
    "  \"\"\"\n",
    "  This function finds the unique items available in the column called \"Label\" in datasets.\n",
    "  Input: df (Each dataframe you would like to find)\n",
    "  Output: unique_lables, no_of_Bengine(Normal), and no_of_attack\n",
    "  \"\"\"\n",
    "\n",
    "\n",
    "  # Let's look at its shape\n",
    "  print('For this dataset we have:')\n",
    "  print('*'*100)\n",
    "  print(f'No of rows (instances): {df.shape[0]} \\nNo of columns (features + Label): {df.shape[1]}')\n",
    "  print('*'*100)\n",
    "  # Let's look at the type of traffic\n",
    "  # Be careful about column names. some of them include white space.\n",
    "  unique_lables = np.unique(df[\" Label\"], return_counts=True)[0]\n",
    "  print('unique_lables:',unique_lables)\n",
    "\n",
    "  if len(unique_lables)==2:\n",
    "    no_of_Bengine , no_of_attack = np.unique(df[\" Label\"], return_counts=True)[1]\n",
    "    print(f'There are [{no_of_Bengine}] and [{no_of_attack}] traffic flows for normal and attack behaviours, respectively.')\n",
    "    print(f'Therfore, we see there are {len(unique_lables)} types of traffic: [{unique_lables[0]}] --> denotes for Normal Traffic and [{unique_lables[1]}]-->Denotes for Attack_1. ')\n",
    "    fig, ax = plt.subplots(figsize=(6,4))\n",
    "    bars = plt.bar([f'{unique_lables[0]} (Normal)',f'{unique_lables[1]} (Anomaly)'],[no_of_Bengine,no_of_attack ])\n",
    "\n",
    "  elif len(unique_lables)==3:\n",
    "    no_of_Bengine , no_of_attack_1,no_of_attack_2 = np.unique(df[\" Label\"], return_counts=True)[1]\n",
    "    print(f'There are [{no_of_Bengine}] and [{no_of_attack_1}] and [{no_of_attack_2}] traffic flows for normal and attacks behaviours, respectively.')\n",
    "    print(f'Therfore, we see there are {len(unique_lables)} types of traffic: [{unique_lables[0]}] --> denotes for Normal Traffic and [{unique_lables[1]}]-->Denotes for Attack_1 and [{unique_lables[2]}]-->Denotes for Attack_2.')\n",
    "\n",
    "    fig, ax = plt.subplots(figsize=(6,4))\n",
    "    bars = plt.bar([f'{unique_lables[0]} (Normal)',f'{unique_lables[1]}',f'{unique_lables[2]}'],[no_of_Bengine,no_of_attack_1,no_of_attack_2])\n",
    "  else:\n",
    "    no_of_Bengine = np.unique(df[\" Label\"], return_counts=True)[1][0]\n",
    "    print(f'There are [{no_of_Bengine}] traffic flows for Normal behaviours. We do not have Attack in this dataset')\n",
    "    fig, ax = plt.subplots(figsize=(6,4))\n",
    "    bars = plt.bar([f'{unique_lables[0]} (Normal)'],[no_of_Bengine])\n",
    "\n",
    "  # Add value labels to each bar\n",
    "  for bar in bars:\n",
    "      yval = bar.get_height()\n",
    "      ax.text(bar.get_x() + bar.get_width() / 2, yval + 0.05, round(yval, 2), ha='center', va='bottom',color='r',fontsize=10)\n",
    "\n",
    "\n",
    "  if len(unique_lables)==2:\n",
    "    return unique_lables,no_of_Bengine,no_of_attack\n",
    "\n",
    "  elif len(unique_lables)>2:\n",
    "    return unique_lables,no_of_Bengine,no_of_attack_1, no_of_attack_2\n",
    "\n",
    "\n",
    "  else:\n",
    "    return unique_lables,no_of_Bengine\n",
    "\n",
    "\n"
   ]
  },
  {
   "cell_type": "code",
   "execution_count": null,
   "id": "eac2df50",
   "metadata": {
    "execution": {
     "iopub.execute_input": "2024-08-14T13:09:42.561853Z",
     "iopub.status.busy": "2024-08-14T13:09:42.560848Z",
     "iopub.status.idle": "2024-08-14T13:09:43.311689Z",
     "shell.execute_reply": "2024-08-14T13:09:43.310394Z"
    },
    "id": "eac2df50",
    "outputId": "ea80f185-c052-49a4-be3d-5d056ba8ed98",
    "papermill": {
     "duration": 0.770109,
     "end_time": "2024-08-14T13:09:43.314263",
     "exception": false,
     "start_time": "2024-08-14T13:09:42.544154",
     "status": "completed"
    },
    "pycharm": {
     "name": "#%%\n"
    },
    "tags": []
   },
   "outputs": [
    {
     "name": "stdout",
     "output_type": "stream",
     "text": [
      "For this dataset we have:\n",
      "****************************************************************************************************\n",
      "No of rows (instances): 191033 \n",
      "No of columns (features + Label): 79\n",
      "****************************************************************************************************\n",
      "unique_lables: ['BENIGN' 'Bot']\n",
      "There are [189067] and [1966] traffic flows for normal and attack behaviours, respectively.\n",
      "Therfore, we see there are 2 types of traffic: [BENIGN] --> denotes for Normal Traffic and [Bot]-->Denotes for Attack_1. \n"
     ]
    },
    {
     "data": {
      "image/png": "[encoded data removed]",
      "text/plain": [
       "<Figure size 600x400 with 1 Axes>"
      ]
     },
     "metadata": {},
     "output_type": "display_data"
    }
   ],
   "source": [
    "unique_lables,no_of_Bengine,no_of_attack = find_uniques(df = Friday_Morning_pcap_df)"
   ]
  },
  {
   "cell_type": "code",
   "execution_count": null,
   "id": "231205bf",
   "metadata": {
    "execution": {
     "iopub.execute_input": "2024-08-14T13:09:43.349746Z",
     "iopub.status.busy": "2024-08-14T13:09:43.349341Z",
     "iopub.status.idle": "2024-08-14T13:09:44.362208Z",
     "shell.execute_reply": "2024-08-14T13:09:44.360863Z"
    },
    "id": "231205bf",
    "outputId": "773f3b8b-d727-4940-9539-a79ddfea6e5d",
    "papermill": {
     "duration": 1.034442,
     "end_time": "2024-08-14T13:09:44.365364",
     "exception": false,
     "start_time": "2024-08-14T13:09:43.330922",
     "status": "completed"
    },
    "pycharm": {
     "name": "#%%\n"
    },
    "tags": []
   },
   "outputs": [
    {
     "name": "stdout",
     "output_type": "stream",
     "text": [
      "For this dataset we have:\n",
      "****************************************************************************************************\n",
      "No of rows (instances): 286467 \n",
      "No of columns (features + Label): 79\n",
      "****************************************************************************************************\n",
      "unique_lables: ['BENIGN' 'PortScan']\n",
      "There are [127537] and [158930] traffic flows for normal and attack behaviours, respectively.\n",
      "Therfore, we see there are 2 types of traffic: [BENIGN] --> denotes for Normal Traffic and [PortScan]-->Denotes for Attack_1. \n"
     ]
    },
    {
     "data": {
      "image/png": "[encoded data removed]",
      "text/plain": [
       "<Figure size 600x400 with 1 Axes>"
      ]
     },
     "metadata": {},
     "output_type": "display_data"
    }
   ],
   "source": [
    "unique_lables,no_of_Bengine,no_of_attack = find_uniques(df = Friday_Afternoon_PortScand_df)"
   ]
  },
  {
   "cell_type": "code",
   "execution_count": null,
   "id": "bfe51042",
   "metadata": {
    "execution": {
     "iopub.execute_input": "2024-08-14T13:09:44.403195Z",
     "iopub.status.busy": "2024-08-14T13:09:44.402774Z",
     "iopub.status.idle": "2024-08-14T13:09:45.230344Z",
     "shell.execute_reply": "2024-08-14T13:09:45.228963Z"
    },
    "id": "bfe51042",
    "outputId": "560ef85a-2ad1-4cbf-a7f4-becec16d224b",
    "papermill": {
     "duration": 0.848629,
     "end_time": "2024-08-14T13:09:45.232953",
     "exception": false,
     "start_time": "2024-08-14T13:09:44.384324",
     "status": "completed"
    },
    "pycharm": {
     "name": "#%%\n"
    },
    "tags": []
   },
   "outputs": [
    {
     "name": "stdout",
     "output_type": "stream",
     "text": [
      "For this dataset we have:\n",
      "****************************************************************************************************\n",
      "No of rows (instances): 225745 \n",
      "No of columns (features + Label): 79\n",
      "****************************************************************************************************\n",
      "unique_lables: ['BENIGN' 'DDoS']\n",
      "There are [97718] and [128027] traffic flows for normal and attack behaviours, respectively.\n",
      "Therfore, we see there are 2 types of traffic: [BENIGN] --> denotes for Normal Traffic and [DDoS]-->Denotes for Attack_1. \n"
     ]
    },
    {
     "data": {
      "image/png": "[encoded data removed]",
      "text/plain": [
       "<Figure size 600x400 with 1 Axes>"
      ]
     },
     "metadata": {},
     "output_type": "display_data"
    }
   ],
   "source": [
    "unique_lables,no_of_Bengine,no_of_attack = find_uniques(df = Friday_Afternoon_DDos_df)"
   ]
  },
  {
   "cell_type": "code",
   "execution_count": null,
   "id": "ec4d01d4",
   "metadata": {
    "execution": {
     "iopub.execute_input": "2024-08-14T13:09:45.271005Z",
     "iopub.status.busy": "2024-08-14T13:09:45.270625Z",
     "iopub.status.idle": "2024-08-14T13:09:46.784892Z",
     "shell.execute_reply": "2024-08-14T13:09:46.783693Z"
    },
    "id": "ec4d01d4",
    "outputId": "6c6a7b20-ba7a-47e6-e3e0-ff7614ab2997",
    "papermill": {
     "duration": 1.53649,
     "end_time": "2024-08-14T13:09:46.787540",
     "exception": false,
     "start_time": "2024-08-14T13:09:45.251050",
     "status": "completed"
    },
    "pycharm": {
     "name": "#%%\n"
    },
    "tags": []
   },
   "outputs": [
    {
     "name": "stdout",
     "output_type": "stream",
     "text": [
      "For this dataset we have:\n",
      "****************************************************************************************************\n",
      "No of rows (instances): 445909 \n",
      "No of columns (features + Label): 79\n",
      "****************************************************************************************************\n",
      "unique_lables: ['BENIGN' 'FTP-Patator' 'SSH-Patator']\n",
      "There are [432074] and [7938] and [5897] traffic flows for normal and attacks behaviours, respectively.\n",
      "Therfore, we see there are 3 types of traffic: [BENIGN] --> denotes for Normal Traffic and [FTP-Patator]-->Denotes for Attack_1 and [SSH-Patator]-->Denotes for Attack_2.\n"
     ]
    },
    {
     "data": {
      "image/png": "[encoded data removed]",
      "text/plain": [
       "<Figure size 600x400 with 1 Axes>"
      ]
     },
     "metadata": {},
     "output_type": "display_data"
    }
   ],
   "source": [
    "unique_lables,no_of_Bengine,no_of_attack1,no_of_attack_2 = find_uniques(df = Tuesday_pcap_ISCX_df)"
   ]
  },
  {
   "cell_type": "code",
   "execution_count": null,
   "id": "37c3fc5d",
   "metadata": {
    "execution": {
     "iopub.execute_input": "2024-08-14T13:09:46.947660Z",
     "iopub.status.busy": "2024-08-14T13:09:46.947167Z",
     "iopub.status.idle": "2024-08-14T13:09:48.776933Z",
     "shell.execute_reply": "2024-08-14T13:09:48.775501Z"
    },
    "id": "37c3fc5d",
    "outputId": "d6f7ee98-10f5-41f1-f033-8a68e570e294",
    "papermill": {
     "duration": 1.888001,
     "end_time": "2024-08-14T13:09:48.780291",
     "exception": false,
     "start_time": "2024-08-14T13:09:46.892290",
     "status": "completed"
    },
    "pycharm": {
     "name": "#%%\n"
    },
    "tags": []
   },
   "outputs": [
    {
     "name": "stdout",
     "output_type": "stream",
     "text": [
      "For this dataset we have:\n",
      "****************************************************************************************************\n",
      "No of rows (instances): 529918 \n",
      "No of columns (features + Label): 79\n",
      "****************************************************************************************************\n",
      "unique_lables: ['BENIGN']\n",
      "There are [529918] traffic flows for Normal behaviours. We do not have Attack in this dataset\n"
     ]
    },
    {
     "data": {
      "image/png": "[encoded data removed]",
      "text/plain": [
       "<Figure size 600x400 with 1 Axes>"
      ]
     },
     "metadata": {},
     "output_type": "display_data"
    }
   ],
   "source": [
    "unique_lables,no_of_Bengine = find_uniques(df = Monday_df)"
   ]
  },
  {
   "cell_type": "code",
   "execution_count": null,
   "id": "32ab681d",
   "metadata": {
    "execution": {
     "iopub.execute_input": "2024-08-14T13:09:48.824182Z",
     "iopub.status.busy": "2024-08-14T13:09:48.823658Z",
     "iopub.status.idle": "2024-08-14T13:09:49.530593Z",
     "shell.execute_reply": "2024-08-14T13:09:49.529390Z"
    },
    "id": "32ab681d",
    "papermill": {
     "duration": 0.730823,
     "end_time": "2024-08-14T13:09:49.533553",
     "exception": false,
     "start_time": "2024-08-14T13:09:48.802730",
     "status": "completed"
    },
    "pycharm": {
     "name": "#%%\n"
    },
    "tags": []
   },
   "outputs": [],
   "source": [
    "# Lets concatenate all dataframes together.\n",
    "df = pd.concat([Friday_Morning_pcap_df,Friday_Afternoon_PortScand_df,Friday_Afternoon_DDos_df,\n",
    "                Monday_df,Thursday_Afternoon_Infilteration_df,Thursday_Morning_WebAttacks_df,\n",
    "                Tuesday_pcap_ISCX_df,Wednesday_pcap_ISCX_df])\n"
   ]
  },
  {
   "cell_type": "code",
   "execution_count": null,
   "id": "8e381c79",
   "metadata": {
    "execution": {
     "iopub.execute_input": "2024-08-14T13:09:49.574377Z",
     "iopub.status.busy": "2024-08-14T13:09:49.573919Z",
     "iopub.status.idle": "2024-08-14T13:09:50.831904Z",
     "shell.execute_reply": "2024-08-14T13:09:50.830576Z"
    },
    "id": "8e381c79",
    "outputId": "4f6c966c-d47c-4694-9495-829ba2eec6f5",
    "papermill": {
     "duration": 1.281213,
     "end_time": "2024-08-14T13:09:50.834429",
     "exception": false,
     "start_time": "2024-08-14T13:09:49.553216",
     "status": "completed"
    },
    "pycharm": {
     "name": "#%%\n"
    },
    "tags": []
   },
   "outputs": [
    {
     "data": {
      "text/html": [
       "<div>\n",
       "<style scoped>\n",
       "    .dataframe tbody tr th:only-of-type {\n",
       "        vertical-align: middle;\n",
       "    }\n",
       "\n",
       "    .dataframe tbody tr th {\n",
       "        vertical-align: top;\n",
       "    }\n",
       "\n",
       "    .dataframe thead th {\n",
       "        text-align: right;\n",
       "    }\n",
       "</style>\n",
       "<table border=\"1\" class=\"dataframe\">\n",
       "  <thead>\n",
       "    <tr style=\"text-align: right;\">\n",
       "      <th></th>\n",
       "      <th>Destination Port</th>\n",
       "      <th>Flow Duration</th>\n",
       "      <th>Total Fwd Packets</th>\n",
       "      <th>Total Backward Packets</th>\n",
       "      <th>Total Length of Fwd Packets</th>\n",
       "      <th>Total Length of Bwd Packets</th>\n",
       "      <th>Fwd Packet Length Max</th>\n",
       "      <th>Fwd Packet Length Min</th>\n",
       "      <th>Fwd Packet Length Mean</th>\n",
       "      <th>Fwd Packet Length Std</th>\n",
       "      <th>...</th>\n",
       "      <th>min_seg_size_forward</th>\n",
       "      <th>Active Mean</th>\n",
       "      <th>Active Std</th>\n",
       "      <th>Active Max</th>\n",
       "      <th>Active Min</th>\n",
       "      <th>Idle Mean</th>\n",
       "      <th>Idle Std</th>\n",
       "      <th>Idle Max</th>\n",
       "      <th>Idle Min</th>\n",
       "      <th>Label</th>\n",
       "    </tr>\n",
       "  </thead>\n",
       "  <tbody>\n",
       "    <tr>\n",
       "      <th>0</th>\n",
       "      <td>3268</td>\n",
       "      <td>112740690</td>\n",
       "      <td>32</td>\n",
       "      <td>16</td>\n",
       "      <td>6448</td>\n",
       "      <td>1152</td>\n",
       "      <td>403</td>\n",
       "      <td>0</td>\n",
       "      <td>201.5</td>\n",
       "      <td>204.724205</td>\n",
       "      <td>...</td>\n",
       "      <td>32</td>\n",
       "      <td>3.594286e+02</td>\n",
       "      <td>1.199802e+01</td>\n",
       "      <td>380</td>\n",
       "      <td>343</td>\n",
       "      <td>16100000.0</td>\n",
       "      <td>4.988048e+05</td>\n",
       "      <td>16400000</td>\n",
       "      <td>15400000</td>\n",
       "      <td>BENIGN</td>\n",
       "    </tr>\n",
       "    <tr>\n",
       "      <th>1</th>\n",
       "      <td>389</td>\n",
       "      <td>112740560</td>\n",
       "      <td>32</td>\n",
       "      <td>16</td>\n",
       "      <td>6448</td>\n",
       "      <td>5056</td>\n",
       "      <td>403</td>\n",
       "      <td>0</td>\n",
       "      <td>201.5</td>\n",
       "      <td>204.724205</td>\n",
       "      <td>...</td>\n",
       "      <td>32</td>\n",
       "      <td>3.202857e+02</td>\n",
       "      <td>1.574499e+01</td>\n",
       "      <td>330</td>\n",
       "      <td>285</td>\n",
       "      <td>16100000.0</td>\n",
       "      <td>4.987937e+05</td>\n",
       "      <td>16400000</td>\n",
       "      <td>15400000</td>\n",
       "      <td>BENIGN</td>\n",
       "    </tr>\n",
       "    <tr>\n",
       "      <th>2</th>\n",
       "      <td>0</td>\n",
       "      <td>113757377</td>\n",
       "      <td>545</td>\n",
       "      <td>0</td>\n",
       "      <td>0</td>\n",
       "      <td>0</td>\n",
       "      <td>0</td>\n",
       "      <td>0</td>\n",
       "      <td>0.0</td>\n",
       "      <td>0.000000</td>\n",
       "      <td>...</td>\n",
       "      <td>0</td>\n",
       "      <td>9.361829e+06</td>\n",
       "      <td>7.324646e+06</td>\n",
       "      <td>18900000</td>\n",
       "      <td>19</td>\n",
       "      <td>12200000.0</td>\n",
       "      <td>6.935824e+06</td>\n",
       "      <td>20800000</td>\n",
       "      <td>5504997</td>\n",
       "      <td>BENIGN</td>\n",
       "    </tr>\n",
       "    <tr>\n",
       "      <th>3</th>\n",
       "      <td>5355</td>\n",
       "      <td>100126</td>\n",
       "      <td>22</td>\n",
       "      <td>0</td>\n",
       "      <td>616</td>\n",
       "      <td>0</td>\n",
       "      <td>28</td>\n",
       "      <td>28</td>\n",
       "      <td>28.0</td>\n",
       "      <td>0.000000</td>\n",
       "      <td>...</td>\n",
       "      <td>32</td>\n",
       "      <td>0.000000e+00</td>\n",
       "      <td>0.000000e+00</td>\n",
       "      <td>0</td>\n",
       "      <td>0</td>\n",
       "      <td>0.0</td>\n",
       "      <td>0.000000e+00</td>\n",
       "      <td>0</td>\n",
       "      <td>0</td>\n",
       "      <td>BENIGN</td>\n",
       "    </tr>\n",
       "    <tr>\n",
       "      <th>4</th>\n",
       "      <td>0</td>\n",
       "      <td>54760</td>\n",
       "      <td>4</td>\n",
       "      <td>0</td>\n",
       "      <td>0</td>\n",
       "      <td>0</td>\n",
       "      <td>0</td>\n",
       "      <td>0</td>\n",
       "      <td>0.0</td>\n",
       "      <td>0.000000</td>\n",
       "      <td>...</td>\n",
       "      <td>0</td>\n",
       "      <td>0.000000e+00</td>\n",
       "      <td>0.000000e+00</td>\n",
       "      <td>0</td>\n",
       "      <td>0</td>\n",
       "      <td>0.0</td>\n",
       "      <td>0.000000e+00</td>\n",
       "      <td>0</td>\n",
       "      <td>0</td>\n",
       "      <td>BENIGN</td>\n",
       "    </tr>\n",
       "    <tr>\n",
       "      <th>...</th>\n",
       "      <td>...</td>\n",
       "      <td>...</td>\n",
       "      <td>...</td>\n",
       "      <td>...</td>\n",
       "      <td>...</td>\n",
       "      <td>...</td>\n",
       "      <td>...</td>\n",
       "      <td>...</td>\n",
       "      <td>...</td>\n",
       "      <td>...</td>\n",
       "      <td>...</td>\n",
       "      <td>...</td>\n",
       "      <td>...</td>\n",
       "      <td>...</td>\n",
       "      <td>...</td>\n",
       "      <td>...</td>\n",
       "      <td>...</td>\n",
       "      <td>...</td>\n",
       "      <td>...</td>\n",
       "      <td>...</td>\n",
       "      <td>...</td>\n",
       "    </tr>\n",
       "    <tr>\n",
       "      <th>445904</th>\n",
       "      <td>53</td>\n",
       "      <td>155</td>\n",
       "      <td>2</td>\n",
       "      <td>2</td>\n",
       "      <td>88</td>\n",
       "      <td>120</td>\n",
       "      <td>44</td>\n",
       "      <td>44</td>\n",
       "      <td>44.0</td>\n",
       "      <td>0.000000</td>\n",
       "      <td>...</td>\n",
       "      <td>32</td>\n",
       "      <td>0.000000e+00</td>\n",
       "      <td>0.000000e+00</td>\n",
       "      <td>0</td>\n",
       "      <td>0</td>\n",
       "      <td>0.0</td>\n",
       "      <td>0.000000e+00</td>\n",
       "      <td>0</td>\n",
       "      <td>0</td>\n",
       "      <td>BENIGN</td>\n",
       "    </tr>\n",
       "    <tr>\n",
       "      <th>445905</th>\n",
       "      <td>59317</td>\n",
       "      <td>110</td>\n",
       "      <td>1</td>\n",
       "      <td>1</td>\n",
       "      <td>0</td>\n",
       "      <td>0</td>\n",
       "      <td>0</td>\n",
       "      <td>0</td>\n",
       "      <td>0.0</td>\n",
       "      <td>0.000000</td>\n",
       "      <td>...</td>\n",
       "      <td>20</td>\n",
       "      <td>0.000000e+00</td>\n",
       "      <td>0.000000e+00</td>\n",
       "      <td>0</td>\n",
       "      <td>0</td>\n",
       "      <td>0.0</td>\n",
       "      <td>0.000000e+00</td>\n",
       "      <td>0</td>\n",
       "      <td>0</td>\n",
       "      <td>BENIGN</td>\n",
       "    </tr>\n",
       "    <tr>\n",
       "      <th>445906</th>\n",
       "      <td>53</td>\n",
       "      <td>166</td>\n",
       "      <td>2</td>\n",
       "      <td>2</td>\n",
       "      <td>88</td>\n",
       "      <td>188</td>\n",
       "      <td>44</td>\n",
       "      <td>44</td>\n",
       "      <td>44.0</td>\n",
       "      <td>0.000000</td>\n",
       "      <td>...</td>\n",
       "      <td>32</td>\n",
       "      <td>0.000000e+00</td>\n",
       "      <td>0.000000e+00</td>\n",
       "      <td>0</td>\n",
       "      <td>0</td>\n",
       "      <td>0.0</td>\n",
       "      <td>0.000000e+00</td>\n",
       "      <td>0</td>\n",
       "      <td>0</td>\n",
       "      <td>BENIGN</td>\n",
       "    </tr>\n",
       "    <tr>\n",
       "      <th>445907</th>\n",
       "      <td>54726</td>\n",
       "      <td>81</td>\n",
       "      <td>1</td>\n",
       "      <td>1</td>\n",
       "      <td>0</td>\n",
       "      <td>0</td>\n",
       "      <td>0</td>\n",
       "      <td>0</td>\n",
       "      <td>0.0</td>\n",
       "      <td>0.000000</td>\n",
       "      <td>...</td>\n",
       "      <td>32</td>\n",
       "      <td>0.000000e+00</td>\n",
       "      <td>0.000000e+00</td>\n",
       "      <td>0</td>\n",
       "      <td>0</td>\n",
       "      <td>0.0</td>\n",
       "      <td>0.000000e+00</td>\n",
       "      <td>0</td>\n",
       "      <td>0</td>\n",
       "      <td>BENIGN</td>\n",
       "    </tr>\n",
       "    <tr>\n",
       "      <th>445908</th>\n",
       "      <td>53</td>\n",
       "      <td>202</td>\n",
       "      <td>2</td>\n",
       "      <td>2</td>\n",
       "      <td>102</td>\n",
       "      <td>158</td>\n",
       "      <td>51</td>\n",
       "      <td>51</td>\n",
       "      <td>51.0</td>\n",
       "      <td>0.000000</td>\n",
       "      <td>...</td>\n",
       "      <td>20</td>\n",
       "      <td>0.000000e+00</td>\n",
       "      <td>0.000000e+00</td>\n",
       "      <td>0</td>\n",
       "      <td>0</td>\n",
       "      <td>0.0</td>\n",
       "      <td>0.000000e+00</td>\n",
       "      <td>0</td>\n",
       "      <td>0</td>\n",
       "      <td>BENIGN</td>\n",
       "    </tr>\n",
       "  </tbody>\n",
       "</table>\n",
       "<p>2583949 rows × 79 columns</p>\n",
       "</div>"
      ],
      "text/plain": [
       "         Destination Port   Flow Duration   Total Fwd Packets  \\\n",
       "0                    3268       112740690                  32   \n",
       "1                     389       112740560                  32   \n",
       "2                       0       113757377                 545   \n",
       "3                    5355          100126                  22   \n",
       "4                       0           54760                   4   \n",
       "...                   ...             ...                 ...   \n",
       "445904                 53             155                   2   \n",
       "445905              59317             110                   1   \n",
       "445906                 53             166                   2   \n",
       "445907              54726              81                   1   \n",
       "445908                 53             202                   2   \n",
       "\n",
       "         Total Backward Packets  Total Length of Fwd Packets  \\\n",
       "0                            16                         6448   \n",
       "1                            16                         6448   \n",
       "2                             0                            0   \n",
       "3                             0                          616   \n",
       "4                             0                            0   \n",
       "...                         ...                          ...   \n",
       "445904                        2                           88   \n",
       "445905                        1                            0   \n",
       "445906                        2                           88   \n",
       "445907                        1                            0   \n",
       "445908                        2                          102   \n",
       "\n",
       "         Total Length of Bwd Packets   Fwd Packet Length Max  \\\n",
       "0                               1152                     403   \n",
       "1                               5056                     403   \n",
       "2                                  0                       0   \n",
       "3                                  0                      28   \n",
       "4                                  0                       0   \n",
       "...                              ...                     ...   \n",
       "445904                           120                      44   \n",
       "445905                             0                       0   \n",
       "445906                           188                      44   \n",
       "445907                             0                       0   \n",
       "445908                           158                      51   \n",
       "\n",
       "         Fwd Packet Length Min   Fwd Packet Length Mean  \\\n",
       "0                            0                    201.5   \n",
       "1                            0                    201.5   \n",
       "2                            0                      0.0   \n",
       "3                           28                     28.0   \n",
       "4                            0                      0.0   \n",
       "...                        ...                      ...   \n",
       "445904                      44                     44.0   \n",
       "445905                       0                      0.0   \n",
       "445906                      44                     44.0   \n",
       "445907                       0                      0.0   \n",
       "445908                      51                     51.0   \n",
       "\n",
       "         Fwd Packet Length Std  ...   min_seg_size_forward   Active Mean  \\\n",
       "0                   204.724205  ...                     32  3.594286e+02   \n",
       "1                   204.724205  ...                     32  3.202857e+02   \n",
       "2                     0.000000  ...                      0  9.361829e+06   \n",
       "3                     0.000000  ...                     32  0.000000e+00   \n",
       "4                     0.000000  ...                      0  0.000000e+00   \n",
       "...                        ...  ...                    ...           ...   \n",
       "445904                0.000000  ...                     32  0.000000e+00   \n",
       "445905                0.000000  ...                     20  0.000000e+00   \n",
       "445906                0.000000  ...                     32  0.000000e+00   \n",
       "445907                0.000000  ...                     32  0.000000e+00   \n",
       "445908                0.000000  ...                     20  0.000000e+00   \n",
       "\n",
       "          Active Std   Active Max   Active Min   Idle Mean      Idle Std  \\\n",
       "0       1.199802e+01          380          343  16100000.0  4.988048e+05   \n",
       "1       1.574499e+01          330          285  16100000.0  4.987937e+05   \n",
       "2       7.324646e+06     18900000           19  12200000.0  6.935824e+06   \n",
       "3       0.000000e+00            0            0         0.0  0.000000e+00   \n",
       "4       0.000000e+00            0            0         0.0  0.000000e+00   \n",
       "...              ...          ...          ...         ...           ...   \n",
       "445904  0.000000e+00            0            0         0.0  0.000000e+00   \n",
       "445905  0.000000e+00            0            0         0.0  0.000000e+00   \n",
       "445906  0.000000e+00            0            0         0.0  0.000000e+00   \n",
       "445907  0.000000e+00            0            0         0.0  0.000000e+00   \n",
       "445908  0.000000e+00            0            0         0.0  0.000000e+00   \n",
       "\n",
       "         Idle Max   Idle Min   Label  \n",
       "0        16400000   15400000  BENIGN  \n",
       "1        16400000   15400000  BENIGN  \n",
       "2        20800000    5504997  BENIGN  \n",
       "3               0          0  BENIGN  \n",
       "4               0          0  BENIGN  \n",
       "...           ...        ...     ...  \n",
       "445904          0          0  BENIGN  \n",
       "445905          0          0  BENIGN  \n",
       "445906          0          0  BENIGN  \n",
       "445907          0          0  BENIGN  \n",
       "445908          0          0  BENIGN  \n",
       "\n",
       "[2583949 rows x 79 columns]"
      ]
     },
     "execution_count": 12,
     "metadata": {},
     "output_type": "execute_result"
    }
   ],
   "source": [
    "df"
   ]
  },
  {
   "cell_type": "code",
   "execution_count": null,
   "id": "128b0fd4",
   "metadata": {
    "execution": {
     "iopub.execute_input": "2024-08-14T13:09:50.876376Z",
     "iopub.status.busy": "2024-08-14T13:09:50.875909Z",
     "iopub.status.idle": "2024-08-14T13:09:55.388646Z",
     "shell.execute_reply": "2024-08-14T13:09:55.387382Z"
    },
    "id": "128b0fd4",
    "outputId": "fcf1cdbb-511a-40ca-94c4-6d5e85d1e810",
    "papermill": {
     "duration": 4.536627,
     "end_time": "2024-08-14T13:09:55.391130",
     "exception": false,
     "start_time": "2024-08-14T13:09:50.854503",
     "status": "completed"
    },
    "pycharm": {
     "name": "#%%\n"
    },
    "tags": []
   },
   "outputs": [
    {
     "name": "stdout",
     "output_type": "stream",
     "text": [
      "These are types of traffic we have:\n",
      "****************************************************************************************************\n"
     ]
    },
    {
     "data": {
      "text/plain": [
       "array(['BENIGN', 'Bot', 'DDoS', 'FTP-Patator', 'Infiltration', 'PortScan',\n",
       "       'SSH-Patator', 'Web Attack � Brute Force',\n",
       "       'Web Attack � Sql Injection', 'Web Attack � XSS'], dtype=object)"
      ]
     },
     "execution_count": 13,
     "metadata": {},
     "output_type": "execute_result"
    }
   ],
   "source": [
    "# Let's look at unique items available in dataframe\n",
    "print('These are types of traffic we have:')\n",
    "print('*'*100)\n",
    "np.unique(df[' Label'])"
   ]
  },
  {
   "cell_type": "code",
   "execution_count": null,
   "id": "fab52964",
   "metadata": {
    "execution": {
     "iopub.execute_input": "2024-08-14T13:09:55.502282Z",
     "iopub.status.busy": "2024-08-14T13:09:55.501054Z",
     "iopub.status.idle": "2024-08-14T13:10:11.446210Z",
     "shell.execute_reply": "2024-08-14T13:10:11.444607Z"
    },
    "id": "fab52964",
    "outputId": "e16fca79-6c9a-4829-f1c9-506629e59cef",
    "papermill": {
     "duration": 16.037128,
     "end_time": "2024-08-14T13:10:11.449189",
     "exception": false,
     "start_time": "2024-08-14T13:09:55.412061",
     "status": "completed"
    },
    "pycharm": {
     "name": "#%%\n"
    },
    "tags": []
   },
   "outputs": [
    {
     "name": "stdout",
     "output_type": "stream",
     "text": [
      "Now, These are new types of traffic we have:\n",
      "****************************************************************************************************\n"
     ]
    },
    {
     "data": {
      "text/plain": [
       "array(['BENIGN', 'Botnet', 'DDoS', 'Exploitation', 'PortScan'],\n",
       "      dtype=object)"
      ]
     },
     "execution_count": 14,
     "metadata": {},
     "output_type": "execute_result"
    }
   ],
   "source": [
    "# Let's try to choose better name for them\n",
    "\n",
    "# 'Web Attack � Brute Force' --> converted to 'Brute Force'\n",
    "df.loc[df[' Label'].str.startswith('Web Attack � Brute Force'), ' Label'] = 'Brute Force'\n",
    "\n",
    "#'Web Attack � Sql Injection'--> converted to 'Sql Injection'\n",
    "df.loc[df[' Label'].str.startswith('Web Attack � Sql Injection'), ' Label'] = 'Sql Injection'\n",
    "\n",
    "# 'Web Attack � XSS' --> converted to 'XSS'\n",
    "df.loc[df[' Label'].str.startswith('Web Attack � XSS'), ' Label'] = 'XSS'\n",
    "\n",
    "# Also, We know that 'SSH-Patator' and 'FTP-Patator' are considered as Brute Force Attach. So:\n",
    "df.loc[df[' Label'].str.startswith('SSH'), ' Label'] = 'Brute Force'\n",
    "df.loc[df[' Label'].str.startswith('FTP'), ' Label'] = 'Brute Force'\n",
    "\n",
    "\n",
    "\n",
    "# We can conisder Bot and Infiltration attacks as one group called Botnet attack\n",
    "df.loc[df[' Label'].str.startswith('Bot'), ' Label'] = 'Botnet'\n",
    "df.loc[df[' Label'].str.startswith('Infiltration'), ' Label'] = 'Botnet'\n",
    "\n",
    "\n",
    "# We can conisder Brute Force and Sql Injection and XSS attacks as one group called Exploitation attack\n",
    "df.loc[df[' Label'].str.startswith('Brute Force'), ' Label'] = 'Exploitation'\n",
    "df.loc[df[' Label'].str.startswith('Sql Injection'), ' Label'] = 'Exploitation'\n",
    "df.loc[df[' Label'].str.startswith('XSS'), ' Label'] = 'Exploitation'\n",
    "\n",
    "\n",
    "print('Now, These are new types of traffic we have:')\n",
    "print('*'*100)\n",
    "np.unique(df[' Label'])"
   ]
  },
  {
   "cell_type": "code",
   "execution_count": null,
   "id": "9088df84",
   "metadata": {
    "execution": {
     "iopub.execute_input": "2024-08-14T13:10:11.495007Z",
     "iopub.status.busy": "2024-08-14T13:10:11.494579Z",
     "iopub.status.idle": "2024-08-14T13:10:20.686126Z",
     "shell.execute_reply": "2024-08-14T13:10:20.684775Z"
    },
    "id": "9088df84",
    "outputId": "20321364-2b4a-432e-b21e-4896a2daf1cb",
    "papermill": {
     "duration": 9.21805,
     "end_time": "2024-08-14T13:10:20.688987",
     "exception": false,
     "start_time": "2024-08-14T13:10:11.470937",
     "status": "completed"
    },
    "pycharm": {
     "name": "#%%\n"
    },
    "tags": []
   },
   "outputs": [
    {
     "data": {
      "image/png": "[encoded data removed]",
      "text/plain": [
       "<Figure size 600x400 with 1 Axes>"
      ]
     },
     "metadata": {},
     "output_type": "display_data"
    }
   ],
   "source": [
    "fig, ax = plt.subplots(figsize=(6,4))\n",
    "labels = np.unique(df[' Label'],return_counts=True)[0]\n",
    "values =np.unique(df[' Label'],return_counts=True)[1]\n",
    "bars = plt.bar(labels,values,label='Different Types of Traffic')\n",
    "plt.grid()\n",
    "plt.legend()\n",
    "plt.xticks(rotation=90)\n",
    "\n",
    "# Add value labels to each bar\n",
    "for bar in bars:\n",
    "  yval = bar.get_height()\n",
    "  ax.text(bar.get_x() + bar.get_width() / 2, yval + 0.05, round(yval, 2), ha='center', va='bottom',color='r',fontsize=10)"
   ]
  },
  {
   "cell_type": "code",
   "execution_count": null,
   "id": "8e6effda",
   "metadata": {
    "execution": {
     "iopub.execute_input": "2024-08-14T13:10:20.735061Z",
     "iopub.status.busy": "2024-08-14T13:10:20.733980Z",
     "iopub.status.idle": "2024-08-14T13:10:20.743046Z",
     "shell.execute_reply": "2024-08-14T13:10:20.741668Z"
    },
    "id": "8e6effda",
    "outputId": "a8167e63-b898-4922-a1e4-93773402dc28",
    "papermill": {
     "duration": 0.035597,
     "end_time": "2024-08-14T13:10:20.746042",
     "exception": false,
     "start_time": "2024-08-14T13:10:20.710445",
     "status": "completed"
    },
    "pycharm": {
     "name": "#%%\n"
    },
    "tags": []
   },
   "outputs": [
    {
     "name": "stdout",
     "output_type": "stream",
     "text": [
      "Number of features in this list: 78\n",
      "****************************************************************************************************\n",
      "name_of_features:\n",
      " [' Destination Port', ' Flow Duration', ' Total Fwd Packets', ' Total Backward Packets', 'Total Length of Fwd Packets', ' Total Length of Bwd Packets', ' Fwd Packet Length Max', ' Fwd Packet Length Min', ' Fwd Packet Length Mean', ' Fwd Packet Length Std', 'Bwd Packet Length Max', ' Bwd Packet Length Min', ' Bwd Packet Length Mean', ' Bwd Packet Length Std', 'Flow Bytes/s', ' Flow Packets/s', ' Flow IAT Mean', ' Flow IAT Std', ' Flow IAT Max', ' Flow IAT Min', 'Fwd IAT Total', ' Fwd IAT Mean', ' Fwd IAT Std', ' Fwd IAT Max', ' Fwd IAT Min', 'Bwd IAT Total', ' Bwd IAT Mean', ' Bwd IAT Std', ' Bwd IAT Max', ' Bwd IAT Min', 'Fwd PSH Flags', ' Bwd PSH Flags', ' Fwd URG Flags', ' Bwd URG Flags', ' Fwd Header Length', ' Bwd Header Length', 'Fwd Packets/s', ' Bwd Packets/s', ' Min Packet Length', ' Max Packet Length', ' Packet Length Mean', ' Packet Length Std', ' Packet Length Variance', 'FIN Flag Count', ' SYN Flag Count', ' RST Flag Count', ' PSH Flag Count', ' ACK Flag Count', ' URG Flag Count', ' CWE Flag Count', ' ECE Flag Count', ' Down/Up Ratio', ' Average Packet Size', ' Avg Fwd Segment Size', ' Avg Bwd Segment Size', ' Fwd Header Length.1', 'Fwd Avg Bytes/Bulk', ' Fwd Avg Packets/Bulk', ' Fwd Avg Bulk Rate', ' Bwd Avg Bytes/Bulk', ' Bwd Avg Packets/Bulk', 'Bwd Avg Bulk Rate', 'Subflow Fwd Packets', ' Subflow Fwd Bytes', ' Subflow Bwd Packets', ' Subflow Bwd Bytes', 'Init_Win_bytes_forward', ' Init_Win_bytes_backward', ' act_data_pkt_fwd', ' min_seg_size_forward', 'Active Mean', ' Active Std', ' Active Max', ' Active Min', 'Idle Mean', ' Idle Std', ' Idle Max', ' Idle Min']\n",
      "****************************************************************************************************\n",
      " Oops, lots of features. Let's do feature engineering\n"
     ]
    }
   ],
   "source": [
    "# Let's look at the features\n",
    "feature_list = list(df.columns[:-1])\n",
    "print('Number of features in this list:',len(feature_list))\n",
    "print('*'*100)\n",
    "print('name_of_features:\\n',feature_list)\n",
    "print('*'*100)\n",
    "print(\" Oops, lots of features. Let's do feature engineering\")"
   ]
  },
  {
   "cell_type": "markdown",
   "id": "f4a6b8d4",
   "metadata": {
    "id": "f4a6b8d4",
    "papermill": {
     "duration": 0.021822,
     "end_time": "2024-08-14T13:10:20.792454",
     "exception": false,
     "start_time": "2024-08-14T13:10:20.770632",
     "status": "completed"
    },
    "pycharm": {
     "name": "#%% md\n"
    },
    "tags": []
   },
   "source": [
    "# **Feature Engineering**\n"
   ]
  },
  {
   "cell_type": "markdown",
   "id": "098ec9c5",
   "metadata": {
    "id": "098ec9c5",
    "papermill": {
     "duration": 0.023149,
     "end_time": "2024-08-14T13:10:20.839470",
     "exception": false,
     "start_time": "2024-08-14T13:10:20.816321",
     "status": "completed"
    },
    "pycharm": {
     "name": "#%% md\n"
    },
    "tags": []
   },
   "source": [
    "## Remove columns including unique items\n"
   ]
  },
  {
   "cell_type": "code",
   "execution_count": null,
   "id": "370bff43",
   "metadata": {
    "execution": {
     "iopub.execute_input": "2024-08-14T13:10:20.889326Z",
     "iopub.status.busy": "2024-08-14T13:10:20.888789Z",
     "iopub.status.idle": "2024-08-14T13:10:26.102562Z",
     "shell.execute_reply": "2024-08-14T13:10:26.101257Z"
    },
    "id": "370bff43",
    "outputId": "d745c79d-8fe6-477a-ebd9-7060be5b565d",
    "papermill": {
     "duration": 5.243165,
     "end_time": "2024-08-14T13:10:26.105615",
     "exception": false,
     "start_time": "2024-08-14T13:10:20.862450",
     "status": "completed"
    },
    "pycharm": {
     "name": "#%%\n"
    },
    "tags": []
   },
   "outputs": [
    {
     "name": "stdout",
     "output_type": "stream",
     "text": [
      "The following features have been removed from the original dataframe.\n",
      "[' Destination Port', ' Total Fwd Packets', 'Total Length of Fwd Packets', ' Fwd Packet Length Max', ' Fwd Packet Length Mean', 'Bwd Packet Length Max', ' Bwd Packet Length Mean', 'Flow Bytes/s', ' Flow IAT Mean', ' Flow IAT Max', 'Fwd IAT Total', ' Fwd IAT Std', ' Fwd IAT Min', ' Bwd IAT Mean', ' Bwd IAT Max', 'Fwd PSH Flags', ' Fwd URG Flags', ' Fwd Header Length', 'Fwd Packets/s', ' Min Packet Length', ' Packet Length Mean', ' Packet Length Variance', ' SYN Flag Count', ' PSH Flag Count', ' URG Flag Count', ' ECE Flag Count', ' Average Packet Size', ' Avg Bwd Segment Size', 'Subflow Fwd Packets', ' Subflow Bwd Packets', 'Init_Win_bytes_forward', ' act_data_pkt_fwd', 'Active Mean', ' Active Max', 'Idle Mean', ' Idle Max']\n",
      "****************************************************************************************************\n",
      "No of rows (instances): 2583949. \n",
      "No of columns (features + Label): 43\n",
      "Great we dropped 35 features, since they had one uniqe item in different instances.\n"
     ]
    }
   ],
   "source": [
    "# Let's look at all of them and find thier uniqe items\n",
    "\n",
    "# We can remove those which have one unique item, meaning taht they cannot affect the label result.\n",
    "def remove_features_with_one_item(dataframe,feature_list):\n",
    "\n",
    "  \"\"\"\n",
    "  This function find columns that have just a unique item, meaning that these columns don't affect target.So, We should remove them.\n",
    "  Input: dataframe,feature_list\n",
    "  Output: new_feature_list and new_dataframe which have less values.\n",
    "  \"\"\"\n",
    "\n",
    "  removed_feature_list = []\n",
    "  for feature in feature_list:\n",
    "    unique_items = np.unique(dataframe[feature])\n",
    "    if len(unique_items)>1 : # Bigger than 1 means we have more than 1 unique item in this feature.\n",
    "      removed_feature_list.append(feature)\n",
    "      feature_list.remove(feature)\n",
    "\n",
    "    else:\n",
    "      pass\n",
    "\n",
    "\n",
    "  print('The following features have been removed from the original dataframe.')\n",
    "  print(removed_feature_list)\n",
    "  new_feature_list = feature_list\n",
    "  new_dataframe = dataframe.drop(removed_feature_list,axis=1)\n",
    "\n",
    "  return new_feature_list, new_dataframe\n",
    "\n",
    "\n",
    "# Call function\n",
    "feature_list, clean_df = remove_features_with_one_item(df,feature_list)\n",
    "# Now, let's again look at shape\n",
    "print('*'*100)\n",
    "print(f'No of rows (instances): {clean_df.shape[0]}. \\nNo of columns (features + Label): {clean_df.shape[1]}')\n",
    "print('Great we dropped 35 features, since they had one uniqe item in different instances.')"
   ]
  },
  {
   "cell_type": "markdown",
   "id": "d498d94a",
   "metadata": {
    "id": "d498d94a",
    "papermill": {
     "duration": 0.022268,
     "end_time": "2024-08-14T13:10:26.150915",
     "exception": false,
     "start_time": "2024-08-14T13:10:26.128647",
     "status": "completed"
    },
    "pycharm": {
     "name": "#%% md\n"
    },
    "tags": []
   },
   "source": [
    "## Fill inf and NaN values\n"
   ]
  },
  {
   "cell_type": "code",
   "execution_count": null,
   "id": "b0ffd28f",
   "metadata": {
    "execution": {
     "iopub.execute_input": "2024-08-14T13:10:26.197889Z",
     "iopub.status.busy": "2024-08-14T13:10:26.197481Z",
     "iopub.status.idle": "2024-08-14T13:10:30.191721Z",
     "shell.execute_reply": "2024-08-14T13:10:30.189854Z"
    },
    "id": "b0ffd28f",
    "outputId": "c9d21b13-d897-4ce4-ae9a-c1759bfc8e19",
    "papermill": {
     "duration": 4.022109,
     "end_time": "2024-08-14T13:10:30.196010",
     "exception": false,
     "start_time": "2024-08-14T13:10:26.173901",
     "status": "completed"
    },
    "pycharm": {
     "name": "#%%\n"
    },
    "tags": []
   },
   "outputs": [
    {
     "name": "stdout",
     "output_type": "stream",
     "text": [
      "Index_list of + inf values:\n",
      " [    604    3786    4153 ... 2576418 2577669 2578398]\n",
      "\n",
      "Column_list of + inf values:\n",
      " [7 7 7 ... 7 7 7]\n",
      "****************************************************************************************************\n",
      "Index_list of - inf values:\n",
      " []\n",
      "\n",
      "Column_list of - inf values:\n",
      " []\n",
      "****************************************************************************************************\n",
      "As shown above, in column number 7, we have values which are infinitive.\n",
      "So, we can replace them with nan values.\n"
     ]
    }
   ],
   "source": [
    "# Look at inf values\n",
    "\n",
    "index_of_inf_values1,column_of_inf_values1 = np.where(clean_df==np.inf)\n",
    "print('Index_list of + inf values:\\n',index_of_inf_values1)\n",
    "print('\\nColumn_list of + inf values:\\n',column_of_inf_values1)\n",
    "print('*'*100)\n",
    "index_of_inf_values2,column_of_inf_values2 = np.where(clean_df==-np.inf)\n",
    "print('Index_list of - inf values:\\n',index_of_inf_values2)\n",
    "print('\\nColumn_list of - inf values:\\n',column_of_inf_values2)\n",
    "\n",
    "print('*'*100)\n",
    "print('As shown above, in column number 7, we have values which are infinitive.')\n",
    "print('So, we can replace them with nan values.')\n",
    "clean_df.replace([np.inf, -np.inf], np.nan, inplace=True)"
   ]
  },
  {
   "cell_type": "code",
   "execution_count": null,
   "id": "54f7a7e3",
   "metadata": {
    "execution": {
     "iopub.execute_input": "2024-08-14T13:10:30.267088Z",
     "iopub.status.busy": "2024-08-14T13:10:30.266419Z",
     "iopub.status.idle": "2024-08-14T13:10:30.687358Z",
     "shell.execute_reply": "2024-08-14T13:10:30.686123Z"
    },
    "id": "54f7a7e3",
    "outputId": "d9e8b3a0-1eb2-47ce-a7f3-8fe1f51c4918",
    "papermill": {
     "duration": 0.466344,
     "end_time": "2024-08-14T13:10:30.691112",
     "exception": false,
     "start_time": "2024-08-14T13:10:30.224768",
     "status": "completed"
    },
    "pycharm": {
     "name": "#%%\n"
    },
    "tags": []
   },
   "outputs": [
    {
     "name": "stdout",
     "output_type": "stream",
     "text": [
      "The following data shows that we have several missing values in our dataset\n",
      "****************************************************************************************************\n"
     ]
    },
    {
     "data": {
      "text/plain": [
       " Flow Duration                     0\n",
       " Total Backward Packets            0\n",
       " Total Length of Bwd Packets       0\n",
       " Fwd Packet Length Min             0\n",
       " Fwd Packet Length Std             0\n",
       " Bwd Packet Length Min             0\n",
       " Bwd Packet Length Std             0\n",
       " Flow Packets/s                 1834\n",
       " Flow IAT Std                      0\n",
       " Flow IAT Min                      0\n",
       " Fwd IAT Mean                      0\n",
       " Fwd IAT Max                       0\n",
       "Bwd IAT Total                      0\n",
       " Bwd IAT Std                       0\n",
       " Bwd IAT Min                       0\n",
       " Bwd PSH Flags                     0\n",
       " Bwd URG Flags                     0\n",
       " Bwd Header Length                 0\n",
       " Bwd Packets/s                     0\n",
       " Max Packet Length                 0\n",
       " Packet Length Std                 0\n",
       "FIN Flag Count                     0\n",
       " RST Flag Count                    0\n",
       " ACK Flag Count                    0\n",
       " CWE Flag Count                    0\n",
       " Down/Up Ratio                     0\n",
       " Avg Fwd Segment Size              0\n",
       " Fwd Header Length.1               0\n",
       "Fwd Avg Bytes/Bulk                 0\n",
       " Fwd Avg Packets/Bulk              0\n",
       " Fwd Avg Bulk Rate                 0\n",
       " Bwd Avg Bytes/Bulk                0\n",
       " Bwd Avg Packets/Bulk              0\n",
       "Bwd Avg Bulk Rate                  0\n",
       " Subflow Fwd Bytes                 0\n",
       " Subflow Bwd Bytes                 0\n",
       " Init_Win_bytes_backward           0\n",
       " min_seg_size_forward              0\n",
       " Active Std                        0\n",
       " Active Min                        0\n",
       " Idle Std                          0\n",
       " Idle Min                          0\n",
       " Label                             0\n",
       "dtype: int64"
      ]
     },
     "execution_count": 19,
     "metadata": {},
     "output_type": "execute_result"
    }
   ],
   "source": [
    "# Let's look at missing values.\n",
    "print(\"The following data shows that we have several missing values in our dataset\")\n",
    "print('*'*100)\n",
    "clean_df.isnull().sum()\n"
   ]
  },
  {
   "cell_type": "code",
   "execution_count": null,
   "id": "7efded6f",
   "metadata": {
    "execution": {
     "iopub.execute_input": "2024-08-14T13:10:30.741084Z",
     "iopub.status.busy": "2024-08-14T13:10:30.740119Z",
     "iopub.status.idle": "2024-08-14T13:10:31.819086Z",
     "shell.execute_reply": "2024-08-14T13:10:31.817861Z"
    },
    "id": "7efded6f",
    "outputId": "f2214dcd-f589-4df2-9d22-3885c3043bed",
    "papermill": {
     "duration": 1.107111,
     "end_time": "2024-08-14T13:10:31.821852",
     "exception": false,
     "start_time": "2024-08-14T13:10:30.714741",
     "status": "completed"
    },
    "pycharm": {
     "name": "#%%\n"
    },
    "tags": []
   },
   "outputs": [
    {
     "name": "stdout",
     "output_type": "stream",
     "text": [
      "The following data shows that we don't have several missing values in our dataset\n",
      "****************************************************************************************************\n"
     ]
    },
    {
     "data": {
      "text/plain": [
       " Flow Duration                  0\n",
       " Total Backward Packets         0\n",
       " Total Length of Bwd Packets    0\n",
       " Fwd Packet Length Min          0\n",
       " Fwd Packet Length Std          0\n",
       " Bwd Packet Length Min          0\n",
       " Bwd Packet Length Std          0\n",
       " Flow Packets/s                 0\n",
       " Flow IAT Std                   0\n",
       " Flow IAT Min                   0\n",
       " Fwd IAT Mean                   0\n",
       " Fwd IAT Max                    0\n",
       "Bwd IAT Total                   0\n",
       " Bwd IAT Std                    0\n",
       " Bwd IAT Min                    0\n",
       " Bwd PSH Flags                  0\n",
       " Bwd URG Flags                  0\n",
       " Bwd Header Length              0\n",
       " Bwd Packets/s                  0\n",
       " Max Packet Length              0\n",
       " Packet Length Std              0\n",
       "FIN Flag Count                  0\n",
       " RST Flag Count                 0\n",
       " ACK Flag Count                 0\n",
       " CWE Flag Count                 0\n",
       " Down/Up Ratio                  0\n",
       " Avg Fwd Segment Size           0\n",
       " Fwd Header Length.1            0\n",
       "Fwd Avg Bytes/Bulk              0\n",
       " Fwd Avg Packets/Bulk           0\n",
       " Fwd Avg Bulk Rate              0\n",
       " Bwd Avg Bytes/Bulk             0\n",
       " Bwd Avg Packets/Bulk           0\n",
       "Bwd Avg Bulk Rate               0\n",
       " Subflow Fwd Bytes              0\n",
       " Subflow Bwd Bytes              0\n",
       " Init_Win_bytes_backward        0\n",
       " min_seg_size_forward           0\n",
       " Active Std                     0\n",
       " Active Min                     0\n",
       " Idle Std                       0\n",
       " Idle Min                       0\n",
       " Label                          0\n",
       "dtype: int64"
      ]
     },
     "execution_count": 20,
     "metadata": {},
     "output_type": "execute_result"
    }
   ],
   "source": [
    "# We can fill nan  values forward fill method\n",
    "clean_df.ffill(inplace = True)\n",
    "\n",
    "# Let's look at missing values again.\n",
    "print(\"The following data shows that we don't have several missing values in our dataset\")\n",
    "print('*'*100)\n",
    "\n",
    "clean_df.isnull().sum()\n"
   ]
  },
  {
   "cell_type": "markdown",
   "id": "ca6a5eb2",
   "metadata": {
    "id": "ca6a5eb2",
    "papermill": {
     "duration": 0.023753,
     "end_time": "2024-08-14T13:10:31.868811",
     "exception": false,
     "start_time": "2024-08-14T13:10:31.845058",
     "status": "completed"
    },
    "pycharm": {
     "name": "#%% md\n"
    },
    "tags": []
   },
   "source": [
    "## Feature Selection\n"
   ]
  },
  {
   "cell_type": "code",
   "execution_count": null,
   "id": "64c1acc0",
   "metadata": {
    "execution": {
     "iopub.execute_input": "2024-08-14T13:10:31.919363Z",
     "iopub.status.busy": "2024-08-14T13:10:31.918876Z",
     "iopub.status.idle": "2024-08-14T13:10:40.158682Z",
     "shell.execute_reply": "2024-08-14T13:10:40.157073Z"
    },
    "id": "64c1acc0",
    "outputId": "a1f8ca1d-8b45-44c7-e863-1645c948b09c",
    "papermill": {
     "duration": 8.267084,
     "end_time": "2024-08-14T13:10:40.161555",
     "exception": false,
     "start_time": "2024-08-14T13:10:31.894471",
     "status": "completed"
    },
    "pycharm": {
     "name": "#%%\n"
    },
    "tags": []
   },
   "outputs": [
    {
     "name": "stdout",
     "output_type": "stream",
     "text": [
      "<class 'pandas.core.frame.DataFrame'>\n",
      "RangeIndex: 2583949 entries, 0 to 2583948\n",
      "Data columns (total 43 columns):\n",
      " #   Column                        Dtype  \n",
      "---  ------                        -----  \n",
      " 0    Flow Duration                int64  \n",
      " 1    Total Backward Packets       int64  \n",
      " 2    Total Length of Bwd Packets  int64  \n",
      " 3    Fwd Packet Length Min        int64  \n",
      " 4    Fwd Packet Length Std        float64\n",
      " 5    Bwd Packet Length Min        int64  \n",
      " 6    Bwd Packet Length Std        float64\n",
      " 7    Flow Packets/s               float64\n",
      " 8    Flow IAT Std                 float64\n",
      " 9    Flow IAT Min                 int64  \n",
      " 10   Fwd IAT Mean                 float64\n",
      " 11   Fwd IAT Max                  int64  \n",
      " 12  Bwd IAT Total                 int64  \n",
      " 13   Bwd IAT Std                  float64\n",
      " 14   Bwd IAT Min                  int64  \n",
      " 15   Bwd PSH Flags                int64  \n",
      " 16   Bwd URG Flags                int64  \n",
      " 17   Bwd Header Length            int64  \n",
      " 18   Bwd Packets/s                float64\n",
      " 19   Max Packet Length            int64  \n",
      " 20   Packet Length Std            float64\n",
      " 21  FIN Flag Count                int64  \n",
      " 22   RST Flag Count               int64  \n",
      " 23   ACK Flag Count               int64  \n",
      " 24   CWE Flag Count               int64  \n",
      " 25   Down/Up Ratio                int64  \n",
      " 26   Avg Fwd Segment Size         float64\n",
      " 27   Fwd Header Length.1          int64  \n",
      " 28  Fwd Avg Bytes/Bulk            int64  \n",
      " 29   Fwd Avg Packets/Bulk         int64  \n",
      " 30   Fwd Avg Bulk Rate            int64  \n",
      " 31   Bwd Avg Bytes/Bulk           int64  \n",
      " 32   Bwd Avg Packets/Bulk         int64  \n",
      " 33  Bwd Avg Bulk Rate             int64  \n",
      " 34   Subflow Fwd Bytes            int64  \n",
      " 35   Subflow Bwd Bytes            int64  \n",
      " 36   Init_Win_bytes_backward      int64  \n",
      " 37   min_seg_size_forward         int64  \n",
      " 38   Active Std                   float64\n",
      " 39   Active Min                   int64  \n",
      " 40   Idle Std                     float64\n",
      " 41   Idle Min                     int64  \n",
      " 42   Label                        object \n",
      "dtypes: float64(11), int64(31), object(1)\n",
      "memory usage: 847.7+ MB\n"
     ]
    },
    {
     "data": {
      "text/plain": [
       "array(['BENIGN', 'Botnet', 'DDoS', 'Exploitation', 'PortScan'],\n",
       "      dtype=object)"
      ]
     },
     "execution_count": 21,
     "metadata": {},
     "output_type": "execute_result"
    }
   ],
   "source": [
    "# Shuffling the dataframe\n",
    "clean_df = clean_df.sample(frac=1, random_state=42).reset_index(drop=True)\n",
    "\n",
    "\n",
    "clean_df.info()\n",
    "np.unique(clean_df[' Label'])"
   ]
  },
  {
   "cell_type": "markdown",
   "id": "3ef100db",
   "metadata": {
    "id": "3ef100db",
    "papermill": {
     "duration": 0.034063,
     "end_time": "2024-08-14T13:10:40.219075",
     "exception": false,
     "start_time": "2024-08-14T13:10:40.185012",
     "status": "completed"
    },
    "pycharm": {
     "name": "#%% md\n"
    },
    "tags": []
   },
   "source": [
    "### 1. Mutual Info filter</h3>\n"
   ]
  },
  {
   "cell_type": "code",
   "execution_count": null,
   "id": "d0661cf2",
   "metadata": {
    "execution": {
     "iopub.execute_input": "2024-08-14T13:10:40.285811Z",
     "iopub.status.busy": "2024-08-14T13:10:40.285432Z",
     "iopub.status.idle": "2024-08-14T13:10:42.094272Z",
     "shell.execute_reply": "2024-08-14T13:10:42.092907Z"
    },
    "id": "d0661cf2",
    "papermill": {
     "duration": 1.843983,
     "end_time": "2024-08-14T13:10:42.097280",
     "exception": false,
     "start_time": "2024-08-14T13:10:40.253297",
     "status": "completed"
    },
    "pycharm": {
     "name": "#%%\n"
    },
    "tags": []
   },
   "outputs": [],
   "source": [
    "# As shown above, all features have type of int64 or float64, which means we are dealing with numerical features.\n",
    "# Now, here we can use Mutual Information\n",
    "from sklearn.feature_selection import mutual_info_classif\n",
    "\n",
    "def Mutual_info(df,feature_list):\n",
    "\n",
    "  \"\"\"\n",
    "  This function finds the mutual information score for each feature and target pair.\n",
    "  Input: df (dataframe), feature_list (the list of feature otained before)\n",
    "  output: best_feature_list (Those ones have highest scores)\n",
    "  \"\"\"\n",
    "  # Compute Mutual Information between each feature and the target\n",
    "  X = df[feature_list]\n",
    "  y = df[' Label']\n",
    "  mi_scores = mutual_info_classif(X, y)\n",
    "\n",
    "  # Create a DataFrame to view the scores alongside feature names\n",
    "  mi_scores_df = pd.DataFrame(mi_scores, index=X.columns, columns=['MI Scores'])\n",
    "\n",
    "  # Sort\n",
    "  mi_scores_df = mi_scores_df.sort_values(by='MI Scores',ascending=False)\n",
    "  print(\"Let's see 20 most important features:\")\n",
    "  best_feature_list = mi_scores_df[:20].index\n",
    "  best_feature_list = np.array(best_feature_list)\n",
    "  display(mi_scores_df[:20])\n",
    "\n",
    "  return best_feature_list"
   ]
  },
  {
   "cell_type": "code",
   "execution_count": null,
   "id": "dbf03085",
   "metadata": {
    "execution": {
     "iopub.execute_input": "2024-08-14T13:10:42.147005Z",
     "iopub.status.busy": "2024-08-14T13:10:42.146594Z",
     "iopub.status.idle": "2024-08-14T13:37:34.265622Z",
     "shell.execute_reply": "2024-08-14T13:37:34.263861Z"
    },
    "id": "dbf03085",
    "outputId": "f98fb58a-09cd-4d1f-a488-e330a0dd08a3",
    "papermill": {
     "duration": 1612.175697,
     "end_time": "2024-08-14T13:37:34.296430",
     "exception": false,
     "start_time": "2024-08-14T13:10:42.120733",
     "status": "completed"
    },
    "pycharm": {
     "name": "#%%\n"
    },
    "tags": []
   },
   "outputs": [
    {
     "name": "stdout",
     "output_type": "stream",
     "text": [
      "Let's see 20 most important features:\n"
     ]
    },
    {
     "data": {
      "text/html": [
       "<div>\n",
       "<style scoped>\n",
       "    .dataframe tbody tr th:only-of-type {\n",
       "        vertical-align: middle;\n",
       "    }\n",
       "\n",
       "    .dataframe tbody tr th {\n",
       "        vertical-align: top;\n",
       "    }\n",
       "\n",
       "    .dataframe thead th {\n",
       "        text-align: right;\n",
       "    }\n",
       "</style>\n",
       "<table border=\"1\" class=\"dataframe\">\n",
       "  <thead>\n",
       "    <tr style=\"text-align: right;\">\n",
       "      <th></th>\n",
       "      <th>MI Scores</th>\n",
       "    </tr>\n",
       "  </thead>\n",
       "  <tbody>\n",
       "    <tr>\n",
       "      <th>Packet Length Std</th>\n",
       "      <td>0.387527</td>\n",
       "    </tr>\n",
       "    <tr>\n",
       "      <th>Subflow Fwd Bytes</th>\n",
       "      <td>0.358909</td>\n",
       "    </tr>\n",
       "    <tr>\n",
       "      <th>Total Length of Bwd Packets</th>\n",
       "      <td>0.323903</td>\n",
       "    </tr>\n",
       "    <tr>\n",
       "      <th>Subflow Bwd Bytes</th>\n",
       "      <td>0.323827</td>\n",
       "    </tr>\n",
       "    <tr>\n",
       "      <th>Avg Fwd Segment Size</th>\n",
       "      <td>0.300026</td>\n",
       "    </tr>\n",
       "    <tr>\n",
       "      <th>Init_Win_bytes_backward</th>\n",
       "      <td>0.297564</td>\n",
       "    </tr>\n",
       "    <tr>\n",
       "      <th>Max Packet Length</th>\n",
       "      <td>0.284518</td>\n",
       "    </tr>\n",
       "    <tr>\n",
       "      <th>Fwd Header Length.1</th>\n",
       "      <td>0.278591</td>\n",
       "    </tr>\n",
       "    <tr>\n",
       "      <th>Flow Duration</th>\n",
       "      <td>0.239816</td>\n",
       "    </tr>\n",
       "    <tr>\n",
       "      <th>Bwd Header Length</th>\n",
       "      <td>0.239383</td>\n",
       "    </tr>\n",
       "    <tr>\n",
       "      <th>Fwd IAT Max</th>\n",
       "      <td>0.226540</td>\n",
       "    </tr>\n",
       "    <tr>\n",
       "      <th>Bwd Packets/s</th>\n",
       "      <td>0.225103</td>\n",
       "    </tr>\n",
       "    <tr>\n",
       "      <th>Flow Packets/s</th>\n",
       "      <td>0.215979</td>\n",
       "    </tr>\n",
       "    <tr>\n",
       "      <th>Down/Up Ratio</th>\n",
       "      <td>0.215514</td>\n",
       "    </tr>\n",
       "    <tr>\n",
       "      <th>Fwd IAT Mean</th>\n",
       "      <td>0.210439</td>\n",
       "    </tr>\n",
       "    <tr>\n",
       "      <th>min_seg_size_forward</th>\n",
       "      <td>0.200691</td>\n",
       "    </tr>\n",
       "    <tr>\n",
       "      <th>Bwd Packet Length Min</th>\n",
       "      <td>0.188364</td>\n",
       "    </tr>\n",
       "    <tr>\n",
       "      <th>Fwd Packet Length Std</th>\n",
       "      <td>0.174762</td>\n",
       "    </tr>\n",
       "    <tr>\n",
       "      <th>Total Backward Packets</th>\n",
       "      <td>0.174480</td>\n",
       "    </tr>\n",
       "    <tr>\n",
       "      <th>Flow IAT Std</th>\n",
       "      <td>0.170411</td>\n",
       "    </tr>\n",
       "  </tbody>\n",
       "</table>\n",
       "</div>"
      ],
      "text/plain": [
       "                             MI Scores\n",
       "Packet Length Std             0.387527\n",
       "Subflow Fwd Bytes             0.358909\n",
       "Total Length of Bwd Packets   0.323903\n",
       "Subflow Bwd Bytes             0.323827\n",
       "Avg Fwd Segment Size          0.300026\n",
       "Init_Win_bytes_backward       0.297564\n",
       "Max Packet Length             0.284518\n",
       "Fwd Header Length.1           0.278591\n",
       "Flow Duration                 0.239816\n",
       "Bwd Header Length             0.239383\n",
       "Fwd IAT Max                   0.226540\n",
       "Bwd Packets/s                 0.225103\n",
       "Flow Packets/s                0.215979\n",
       "Down/Up Ratio                 0.215514\n",
       "Fwd IAT Mean                  0.210439\n",
       "min_seg_size_forward          0.200691\n",
       "Bwd Packet Length Min         0.188364\n",
       "Fwd Packet Length Std         0.174762\n",
       "Total Backward Packets        0.174480\n",
       "Flow IAT Std                  0.170411"
      ]
     },
     "metadata": {},
     "output_type": "display_data"
    }
   ],
   "source": [
    "best_feature_list_from_MI = Mutual_info(df=clean_df,feature_list=feature_list)"
   ]
  },
  {
   "cell_type": "markdown",
   "id": "0da4cadb",
   "metadata": {
    "id": "0da4cadb",
    "papermill": {
     "duration": 0.02508,
     "end_time": "2024-08-14T13:37:34.345283",
     "exception": false,
     "start_time": "2024-08-14T13:37:34.320203",
     "status": "completed"
    },
    "pycharm": {
     "name": "#%% md\n"
    },
    "tags": []
   },
   "source": [
    "### 2. Anova filter\n"
   ]
  },
  {
   "cell_type": "code",
   "execution_count": null,
   "id": "20c8a355",
   "metadata": {
    "execution": {
     "iopub.execute_input": "2024-08-14T13:37:34.396715Z",
     "iopub.status.busy": "2024-08-14T13:37:34.396262Z",
     "iopub.status.idle": "2024-08-14T13:37:34.405938Z",
     "shell.execute_reply": "2024-08-14T13:37:34.404757Z"
    },
    "id": "20c8a355",
    "papermill": {
     "duration": 0.038804,
     "end_time": "2024-08-14T13:37:34.408813",
     "exception": false,
     "start_time": "2024-08-14T13:37:34.370009",
     "status": "completed"
    },
    "pycharm": {
     "name": "#%%\n"
    },
    "tags": []
   },
   "outputs": [],
   "source": [
    "from sklearn.feature_selection import f_classif\n",
    "\n",
    "def Anova_filter(df,feature_list):\n",
    "\n",
    "  \"\"\"\n",
    "  This function finds the Anova score for each feature and target pair.\n",
    "  Input: df (dataframe), feature_list (the list of feature otained before)\n",
    "  output: best_feature_list (Those ones have highest scores)\n",
    "  \"\"\"\n",
    "  # Compute Anova between each feature and the target\n",
    "  X = df[feature_list]\n",
    "  y = df[' Label']\n",
    "  anova_scores = f_classif(X, y)\n",
    "\n",
    "  # Create a DataFrame to view the scores alongside feature names\n",
    "  anova_scores_df = pd.DataFrame(anova_scores[1], index=X.columns, columns=['Anova_scores (p_value)'])\n",
    "\n",
    "  # Sort\n",
    "  print(\"Let's see 20 most important features got from Anova Test:\")\n",
    "  anova_scores_df = anova_scores_df.sort_values(by='Anova_scores (p_value)')\n",
    "  best_feature_list = anova_scores_df[:20].index\n",
    "  best_feature_list = np.array(best_feature_list)\n",
    "  display(anova_scores_df[:20])\n",
    "\n",
    "  return best_feature_list"
   ]
  },
  {
   "cell_type": "code",
   "execution_count": null,
   "id": "21eab2d4",
   "metadata": {
    "execution": {
     "iopub.execute_input": "2024-08-14T13:37:34.458390Z",
     "iopub.status.busy": "2024-08-14T13:37:34.457918Z",
     "iopub.status.idle": "2024-08-14T13:37:43.467213Z",
     "shell.execute_reply": "2024-08-14T13:37:43.466077Z"
    },
    "id": "21eab2d4",
    "outputId": "d2be456c-98c0-42c2-9871-d65339912109",
    "papermill": {
     "duration": 9.037104,
     "end_time": "2024-08-14T13:37:43.469987",
     "exception": false,
     "start_time": "2024-08-14T13:37:34.432883",
     "status": "completed"
    },
    "pycharm": {
     "name": "#%%\n"
    },
    "tags": []
   },
   "outputs": [
    {
     "name": "stdout",
     "output_type": "stream",
     "text": [
      "Let's see 20 most important features got from Anova Test:\n"
     ]
    },
    {
     "data": {
      "text/html": [
       "<div>\n",
       "<style scoped>\n",
       "    .dataframe tbody tr th:only-of-type {\n",
       "        vertical-align: middle;\n",
       "    }\n",
       "\n",
       "    .dataframe tbody tr th {\n",
       "        vertical-align: top;\n",
       "    }\n",
       "\n",
       "    .dataframe thead th {\n",
       "        text-align: right;\n",
       "    }\n",
       "</style>\n",
       "<table border=\"1\" class=\"dataframe\">\n",
       "  <thead>\n",
       "    <tr style=\"text-align: right;\">\n",
       "      <th></th>\n",
       "      <th>Anova_scores (p_value)</th>\n",
       "    </tr>\n",
       "  </thead>\n",
       "  <tbody>\n",
       "    <tr>\n",
       "      <th>Flow Duration</th>\n",
       "      <td>0.0</td>\n",
       "    </tr>\n",
       "    <tr>\n",
       "      <th>Active Min</th>\n",
       "      <td>0.0</td>\n",
       "    </tr>\n",
       "    <tr>\n",
       "      <th>Active Std</th>\n",
       "      <td>0.0</td>\n",
       "    </tr>\n",
       "    <tr>\n",
       "      <th>Init_Win_bytes_backward</th>\n",
       "      <td>0.0</td>\n",
       "    </tr>\n",
       "    <tr>\n",
       "      <th>Subflow Fwd Bytes</th>\n",
       "      <td>0.0</td>\n",
       "    </tr>\n",
       "    <tr>\n",
       "      <th>Avg Fwd Segment Size</th>\n",
       "      <td>0.0</td>\n",
       "    </tr>\n",
       "    <tr>\n",
       "      <th>Down/Up Ratio</th>\n",
       "      <td>0.0</td>\n",
       "    </tr>\n",
       "    <tr>\n",
       "      <th>ACK Flag Count</th>\n",
       "      <td>0.0</td>\n",
       "    </tr>\n",
       "    <tr>\n",
       "      <th>FIN Flag Count</th>\n",
       "      <td>0.0</td>\n",
       "    </tr>\n",
       "    <tr>\n",
       "      <th>Packet Length Std</th>\n",
       "      <td>0.0</td>\n",
       "    </tr>\n",
       "    <tr>\n",
       "      <th>Max Packet Length</th>\n",
       "      <td>0.0</td>\n",
       "    </tr>\n",
       "    <tr>\n",
       "      <th>Idle Std</th>\n",
       "      <td>0.0</td>\n",
       "    </tr>\n",
       "    <tr>\n",
       "      <th>Bwd IAT Min</th>\n",
       "      <td>0.0</td>\n",
       "    </tr>\n",
       "    <tr>\n",
       "      <th>Bwd Packets/s</th>\n",
       "      <td>0.0</td>\n",
       "    </tr>\n",
       "    <tr>\n",
       "      <th>Bwd IAT Total</th>\n",
       "      <td>0.0</td>\n",
       "    </tr>\n",
       "    <tr>\n",
       "      <th>Fwd Packet Length Min</th>\n",
       "      <td>0.0</td>\n",
       "    </tr>\n",
       "    <tr>\n",
       "      <th>Fwd Packet Length Std</th>\n",
       "      <td>0.0</td>\n",
       "    </tr>\n",
       "    <tr>\n",
       "      <th>Bwd Packet Length Min</th>\n",
       "      <td>0.0</td>\n",
       "    </tr>\n",
       "    <tr>\n",
       "      <th>Bwd IAT Std</th>\n",
       "      <td>0.0</td>\n",
       "    </tr>\n",
       "    <tr>\n",
       "      <th>Flow Packets/s</th>\n",
       "      <td>0.0</td>\n",
       "    </tr>\n",
       "  </tbody>\n",
       "</table>\n",
       "</div>"
      ],
      "text/plain": [
       "                          Anova_scores (p_value)\n",
       " Flow Duration                               0.0\n",
       " Active Min                                  0.0\n",
       " Active Std                                  0.0\n",
       " Init_Win_bytes_backward                     0.0\n",
       " Subflow Fwd Bytes                           0.0\n",
       " Avg Fwd Segment Size                        0.0\n",
       " Down/Up Ratio                               0.0\n",
       " ACK Flag Count                              0.0\n",
       "FIN Flag Count                               0.0\n",
       " Packet Length Std                           0.0\n",
       " Max Packet Length                           0.0\n",
       " Idle Std                                    0.0\n",
       " Bwd IAT Min                                 0.0\n",
       " Bwd Packets/s                               0.0\n",
       "Bwd IAT Total                                0.0\n",
       " Fwd Packet Length Min                       0.0\n",
       " Fwd Packet Length Std                       0.0\n",
       " Bwd Packet Length Min                       0.0\n",
       " Bwd IAT Std                                 0.0\n",
       " Flow Packets/s                              0.0"
      ]
     },
     "metadata": {},
     "output_type": "display_data"
    }
   ],
   "source": [
    "best_feature_list_from_Anova = Anova_filter(df=clean_df,feature_list=feature_list)"
   ]
  },
  {
   "cell_type": "markdown",
   "id": "98eda403",
   "metadata": {
    "id": "98eda403",
    "papermill": {
     "duration": 0.024079,
     "end_time": "2024-08-14T13:37:43.518291",
     "exception": false,
     "start_time": "2024-08-14T13:37:43.494212",
     "status": "completed"
    },
    "pycharm": {
     "name": "#%% md\n"
    },
    "tags": []
   },
   "source": [
    "### 3. Random Forest\n"
   ]
  },
  {
   "cell_type": "code",
   "execution_count": null,
   "id": "c7ea5ba0",
   "metadata": {
    "execution": {
     "iopub.execute_input": "2024-08-14T13:37:43.568904Z",
     "iopub.status.busy": "2024-08-14T13:37:43.568401Z",
     "iopub.status.idle": "2024-08-14T13:37:43.686734Z",
     "shell.execute_reply": "2024-08-14T13:37:43.685715Z"
    },
    "id": "c7ea5ba0",
    "papermill": {
     "duration": 0.147365,
     "end_time": "2024-08-14T13:37:43.689716",
     "exception": false,
     "start_time": "2024-08-14T13:37:43.542351",
     "status": "completed"
    },
    "pycharm": {
     "name": "#%%\n"
    },
    "tags": []
   },
   "outputs": [],
   "source": [
    "from sklearn.ensemble import RandomForestClassifier\n",
    "def RF_ensembel(df,feature_list):\n",
    "\n",
    "  \"\"\"\n",
    "  This function finds the Random Forest score for each feature and target pair.\n",
    "  Input: df (dataframe), feature_list (the list of feature otained before)\n",
    "  output: best_feature_list (Those ones have highest scores)\n",
    "  \"\"\"\n",
    "\n",
    "  X = df[feature_list]\n",
    "  y = df[' Label']\n",
    "  RF_classifier = RandomForestClassifier()\n",
    "  model = RF_classifier.fit(X,y)\n",
    "  # Get feature importances\n",
    "  RF_socres = model.feature_importances_\n",
    "\n",
    "  # Create a DataFrame to view the scores alongside feature names\n",
    "  RF_socres_df = pd.DataFrame(RF_socres, index=X.columns, columns=['Random_Forest_score'])\n",
    "\n",
    "  # Sort\n",
    "  print(\"Let's see 20 most important features got from Random Forest:\")\n",
    "  RF_socres_df = RF_socres_df.sort_values(by='Random_Forest_score',ascending=False)\n",
    "  best_feature_list = RF_socres_df[:20].index\n",
    "  best_feature_list = np.array(best_feature_list)\n",
    "  display(RF_socres_df[:20])\n",
    "\n",
    "  return best_feature_list"
   ]
  },
  {
   "cell_type": "code",
   "execution_count": null,
   "id": "242383a0",
   "metadata": {
    "execution": {
     "iopub.execute_input": "2024-08-14T13:37:43.740615Z",
     "iopub.status.busy": "2024-08-14T13:37:43.740092Z",
     "iopub.status.idle": "2024-08-14T13:57:39.890872Z",
     "shell.execute_reply": "2024-08-14T13:57:39.889107Z"
    },
    "id": "242383a0",
    "outputId": "e7549fbd-45bf-4b48-94a7-35ed0e7a057f",
    "papermill": {
     "duration": 1196.20736,
     "end_time": "2024-08-14T13:57:39.921466",
     "exception": false,
     "start_time": "2024-08-14T13:37:43.714106",
     "status": "completed"
    },
    "pycharm": {
     "name": "#%%\n"
    },
    "tags": []
   },
   "outputs": [
    {
     "name": "stdout",
     "output_type": "stream",
     "text": [
      "Let's see 20 most important features got from Random Forest:\n"
     ]
    },
    {
     "data": {
      "text/html": [
       "<div>\n",
       "<style scoped>\n",
       "    .dataframe tbody tr th:only-of-type {\n",
       "        vertical-align: middle;\n",
       "    }\n",
       "\n",
       "    .dataframe tbody tr th {\n",
       "        vertical-align: top;\n",
       "    }\n",
       "\n",
       "    .dataframe thead th {\n",
       "        text-align: right;\n",
       "    }\n",
       "</style>\n",
       "<table border=\"1\" class=\"dataframe\">\n",
       "  <thead>\n",
       "    <tr style=\"text-align: right;\">\n",
       "      <th></th>\n",
       "      <th>Random_Forest_score</th>\n",
       "    </tr>\n",
       "  </thead>\n",
       "  <tbody>\n",
       "    <tr>\n",
       "      <th>Packet Length Std</th>\n",
       "      <td>0.093488</td>\n",
       "    </tr>\n",
       "    <tr>\n",
       "      <th>Max Packet Length</th>\n",
       "      <td>0.092471</td>\n",
       "    </tr>\n",
       "    <tr>\n",
       "      <th>Subflow Fwd Bytes</th>\n",
       "      <td>0.087007</td>\n",
       "    </tr>\n",
       "    <tr>\n",
       "      <th>Avg Fwd Segment Size</th>\n",
       "      <td>0.059593</td>\n",
       "    </tr>\n",
       "    <tr>\n",
       "      <th>Subflow Bwd Bytes</th>\n",
       "      <td>0.050489</td>\n",
       "    </tr>\n",
       "    <tr>\n",
       "      <th>Bwd Packet Length Std</th>\n",
       "      <td>0.050018</td>\n",
       "    </tr>\n",
       "    <tr>\n",
       "      <th>Fwd Header Length.1</th>\n",
       "      <td>0.048571</td>\n",
       "    </tr>\n",
       "    <tr>\n",
       "      <th>min_seg_size_forward</th>\n",
       "      <td>0.048469</td>\n",
       "    </tr>\n",
       "    <tr>\n",
       "      <th>Total Length of Bwd Packets</th>\n",
       "      <td>0.046341</td>\n",
       "    </tr>\n",
       "    <tr>\n",
       "      <th>Bwd Packets/s</th>\n",
       "      <td>0.043586</td>\n",
       "    </tr>\n",
       "    <tr>\n",
       "      <th>Init_Win_bytes_backward</th>\n",
       "      <td>0.039364</td>\n",
       "    </tr>\n",
       "    <tr>\n",
       "      <th>ACK Flag Count</th>\n",
       "      <td>0.036571</td>\n",
       "    </tr>\n",
       "    <tr>\n",
       "      <th>Bwd Header Length</th>\n",
       "      <td>0.036082</td>\n",
       "    </tr>\n",
       "    <tr>\n",
       "      <th>Bwd Packet Length Min</th>\n",
       "      <td>0.034463</td>\n",
       "    </tr>\n",
       "    <tr>\n",
       "      <th>Fwd Packet Length Min</th>\n",
       "      <td>0.028159</td>\n",
       "    </tr>\n",
       "    <tr>\n",
       "      <th>Flow IAT Std</th>\n",
       "      <td>0.026150</td>\n",
       "    </tr>\n",
       "    <tr>\n",
       "      <th>Fwd IAT Mean</th>\n",
       "      <td>0.024881</td>\n",
       "    </tr>\n",
       "    <tr>\n",
       "      <th>Flow Packets/s</th>\n",
       "      <td>0.024100</td>\n",
       "    </tr>\n",
       "    <tr>\n",
       "      <th>Flow Duration</th>\n",
       "      <td>0.022670</td>\n",
       "    </tr>\n",
       "    <tr>\n",
       "      <th>Fwd IAT Max</th>\n",
       "      <td>0.022020</td>\n",
       "    </tr>\n",
       "  </tbody>\n",
       "</table>\n",
       "</div>"
      ],
      "text/plain": [
       "                             Random_Forest_score\n",
       "Packet Length Std                       0.093488\n",
       "Max Packet Length                       0.092471\n",
       "Subflow Fwd Bytes                       0.087007\n",
       "Avg Fwd Segment Size                    0.059593\n",
       "Subflow Bwd Bytes                       0.050489\n",
       "Bwd Packet Length Std                   0.050018\n",
       "Fwd Header Length.1                     0.048571\n",
       "min_seg_size_forward                    0.048469\n",
       "Total Length of Bwd Packets             0.046341\n",
       "Bwd Packets/s                           0.043586\n",
       "Init_Win_bytes_backward                 0.039364\n",
       "ACK Flag Count                          0.036571\n",
       "Bwd Header Length                       0.036082\n",
       "Bwd Packet Length Min                   0.034463\n",
       "Fwd Packet Length Min                   0.028159\n",
       "Flow IAT Std                            0.026150\n",
       "Fwd IAT Mean                            0.024881\n",
       "Flow Packets/s                          0.024100\n",
       "Flow Duration                           0.022670\n",
       "Fwd IAT Max                             0.022020"
      ]
     },
     "metadata": {},
     "output_type": "display_data"
    }
   ],
   "source": [
    "best_feature_list_from_RF = RF_ensembel(df=clean_df,feature_list=feature_list)"
   ]
  },
  {
   "cell_type": "markdown",
   "id": "9284e9da",
   "metadata": {
    "id": "9284e9da",
    "papermill": {
     "duration": 0.024446,
     "end_time": "2024-08-14T13:57:39.970683",
     "exception": false,
     "start_time": "2024-08-14T13:57:39.946237",
     "status": "completed"
    },
    "pycharm": {
     "name": "#%% md\n"
    },
    "tags": []
   },
   "source": [
    "# **Save results**\n"
   ]
  },
  {
   "cell_type": "code",
   "execution_count": null,
   "id": "a4a9de88",
   "metadata": {
    "execution": {
     "iopub.execute_input": "2024-08-14T13:57:40.024242Z",
     "iopub.status.busy": "2024-08-14T13:57:40.023051Z",
     "iopub.status.idle": "2024-08-14T13:58:53.228783Z",
     "shell.execute_reply": "2024-08-14T13:58:53.227190Z"
    },
    "id": "a4a9de88",
    "papermill": {
     "duration": 73.237276,
     "end_time": "2024-08-14T13:58:53.232564",
     "exception": false,
     "start_time": "2024-08-14T13:57:39.995288",
     "status": "completed"
    },
    "pycharm": {
     "name": "#%%\n"
    },
    "tags": []
   },
   "outputs": [],
   "source": [
    "current_working_dir = os.getcwd()\n",
    "os.makedirs(os.path.join(current_working_dir,'EDA_result'),exist_ok=True)\n",
    "EDA_result_folder = os.path.join(current_working_dir,'EDA_result')\n",
    "clean_df.to_csv(path_or_buf=os.path.join(EDA_result_folder,'clean_df.csv'),index=False)\n",
    "np.save(os.path.join(EDA_result_folder,'best_feature_list_from_RF.npy'),best_feature_list_from_RF, allow_pickle=True)\n",
    "np.save(os.path.join(EDA_result_folder,'best_feature_list_from_Anova.npy'),best_feature_list_from_Anova, allow_pickle=True)\n",
    "np.save(os.path.join(EDA_result_folder,'best_feature_list_from_MI.npy'),best_feature_list_from_MI, allow_pickle=True)"
   ]
  },
  {
   "cell_type": "code",
   "execution_count": null,
   "id": "1c711bff",
   "metadata": {
    "execution": {
     "iopub.execute_input": "2024-08-14T13:58:53.285616Z",
     "iopub.status.busy": "2024-08-14T13:58:53.285102Z",
     "iopub.status.idle": "2024-08-14T13:58:53.292827Z",
     "shell.execute_reply": "2024-08-14T13:58:53.291124Z"
    },
    "id": "1c711bff",
    "outputId": "38aa7709-31f6-415b-8609-9a74fc87c702",
    "papermill": {
     "duration": 0.036831,
     "end_time": "2024-08-14T13:58:53.295602",
     "exception": false,
     "start_time": "2024-08-14T13:58:53.258771",
     "status": "completed"
    },
    "pycharm": {
     "name": "#%%\n"
    },
    "tags": []
   },
   "outputs": [
    {
     "name": "stdout",
     "output_type": "stream",
     "text": [
      "This notebook takes 49 minutes of your time.\n"
     ]
    }
   ],
   "source": [
    "last_time =  time.time()\n",
    "print(f'This notebook takes {int((last_time-initial_time)/60)} minutes of your time.')"
   ]
  },
  {
   "cell_type": "code",
   "execution_count": null,
   "id": "cc4c4618",
   "metadata": {
    "id": "cc4c4618",
    "papermill": {
     "duration": 0.027418,
     "end_time": "2024-08-14T13:58:53.349871",
     "exception": false,
     "start_time": "2024-08-14T13:58:53.322453",
     "status": "completed"
    },
    "pycharm": {
     "name": "#%%\n"
    },
    "tags": []
   },
   "outputs": [],
   "source": []
  },
  {
   "cell_type": "code",
   "execution_count": null,
   "id": "12920626",
   "metadata": {
    "papermill": {
     "duration": 0.027479,
     "end_time": "2024-08-14T13:58:53.403835",
     "exception": false,
     "start_time": "2024-08-14T13:58:53.376356",
     "status": "completed"
    },
    "tags": [],
    "id": "12920626",
    "pycharm": {
     "name": "#%%\n"
    }
   },
   "outputs": [],
   "source": []
  },
  {
   "cell_type": "code",
   "execution_count": null,
   "id": "ccd6e05d",
   "metadata": {
    "papermill": {
     "duration": 0.02749,
     "end_time": "2024-08-14T13:58:53.457138",
     "exception": false,
     "start_time": "2024-08-14T13:58:53.429648",
     "status": "completed"
    },
    "tags": [],
    "id": "ccd6e05d",
    "pycharm": {
     "name": "#%%\n"
    }
   },
   "outputs": [],
   "source": []
  }
 ],
 "metadata": {
  "colab": {
   "collapsed_sections": [
    "105a091d",
    "35a397a9",
    "61a8d42e",
    "54220519",
    "4a59b0be",
    "853d9430",
    "5d6c85ec",
    "48b5e1fe"
   ],
   "provenance": [],
   "include_colab_link": true
  },
  "kaggle": {
   "accelerator": "none",
   "dataSources": [],
   "dockerImageVersionId": 30746,
   "isGpuEnabled": false,
   "isInternetEnabled": true,
   "language": "python",
   "sourceType": "notebook"
  },
  "kernelspec": {
   "display_name": "Python 3",
   "language": "python",
   "name": "python3"
  },
  "language_info": {
   "codemirror_mode": {
    "name": "ipython",
    "version": 3
   },
   "file_extension": ".py",
   "mimetype": "text/x-python",
   "name": "python",
   "nbconvert_exporter": "python",
   "pygments_lexer": "ipython3",
   "version": "3.10.13"
  },
  "papermill": {
   "default_parameters": {},
   "duration": 3013.389585,
   "end_time": "2024-08-14T13:58:54.415945",
   "environment_variables": {},
   "exception": null,
   "input_path": "__notebook__.ipynb",
   "output_path": "__notebook__.ipynb",
   "parameters": {},
   "start_time": "2024-08-14T13:08:41.026360",
   "version": "2.5.0"
  }
 },
 "nbformat": 4,
 "nbformat_minor": 5
}