{
 "cells": [
  {
   "cell_type": "markdown",
   "metadata": {
    "id": "view-in-github",
    "colab_type": "text",
    "pycharm": {
     "name": "#%% md\n"
    }
   },
   "source": [
    "<a href=\"https://colab.research.google.com/github/Mohammad-Amirifard/Intrusion_Detection/blob/main/Part2_KNN_Models.ipynb\" target=\"_parent\"><img src=\"https://colab.research.google.com/assets/colab-badge.svg\" alt=\"Open In Colab\"/></a>"
   ]
  },
  {
   "cell_type": "markdown",
   "id": "9ccba666",
   "metadata": {
    "id": "9ccba666",
    "papermill": {
     "duration": 0.010676,
     "end_time": "2024-08-14T19:31:38.095433",
     "exception": false,
     "start_time": "2024-08-14T19:31:38.084757",
     "status": "completed"
    },
    "pycharm": {
     "name": "#%% md\n"
    },
    "tags": []
   },
   "source": [
    "# **Intrusion Detection Using Machine Learning Techniques On CIC-IDS2017 Dataset**\n",
    "\n",
    "Created By [Mohammad Amirifard](https://www.linkedin.com/in/mohammad-amirifard/)\n",
    "\n",
    "\n",
    "<img src=\"https://www.teligentsolutions.com/wp-content/uploads/2015/04/Teligent_Solutions_Intrusion_Detection.jpg\" alt=\"Image\" />\n",
    "\n",
    "# **Structure of notebooks**\n",
    "`This program includes several notebooks regarding different parts.`\n",
    "\n",
    "This is **notebook number 2**, called **Part2_KNN_Models**\n",
    "\n",
    "For other notebooks you can use the following links:\n",
    "\n",
    "\n",
    "1.   Notebook number 1, [Part1_EDA](https://github.com/Mohammad-Amirifard/Intrusion_Detection/blob/main/Notebooks/Part1_EDA.ipynb)\n",
    "2.   Notebook number 2, [Part2_KNN_Models](https://github.com/Mohammad-Amirifard/Intrusion_Detection/blob/main/Notebooks/Part2_KNN_Models.ipynb)\n",
    "3.   Notebook number 3, [Part3_SVM_Models](https://github.com/Mohammad-Amirifard/Intrusion_Detection/blob/main/Notebooks/Part3_SVM_Models.ipynb)\n",
    "4.   Notebook number 4, [Part4_Gboost_Model](https://github.com/Mohammad-Amirifard/Intrusion_Detection/blob/main/Notebooks/Part4_GBoost_Model.ipynb)\n",
    "5.   Notebook number 5, [Part5_MLP_Model](https://github.com/Mohammad-Amirifard/Intrusion_Detection/blob/main/Notebooks/Part5_MLP_Model.ipynb)\n",
    "6.   Notebook number 6, [Part6_Conclusion](https://github.com/Mohammad-Amirifard/Intrusion_Detection/blob/main/Notebooks/Part6_Conclusion.ipynb)\n"
   ]
  },
  {
   "cell_type": "markdown",
   "id": "15187833",
   "metadata": {
    "id": "15187833",
    "papermill": {
     "duration": 0.009932,
     "end_time": "2024-08-14T19:31:38.115775",
     "exception": false,
     "start_time": "2024-08-14T19:31:38.105843",
     "status": "completed"
    },
    "pycharm": {
     "name": "#%% md\n"
    },
    "tags": []
   },
   "source": [
    "# **Problem Statement**\n",
    "The objective of this project is to **detect** and classify various types of **anomalies** within the `CIC-IDS2017 dataset`, which is a widely recognized benchmark dataset used for cybersecurity research, particularly in the domain of intrusion detection systems (IDS). Anomalies in this context refer to unusual or suspicious patterns in the network traffic data that may indicate potential security threats such as attacks or intrusions.\n",
    "\n",
    "To achieve this, we will apply a range of **machine learning techniques** that are commonly used for anomaly detection and classification tasks. These techniques include, but are not limited to, supervised learning methods, such as decision trees, support vector machines, and neural networks, as well as unsupervised learning approaches like clustering algorithms and autoencoders. By leveraging these methods, we aim to accurately classify network traffic data into normal and anomalous categories.\n",
    "\n",
    "The problem we are addressing is inherently a classification problem, where the primary goal is to categorize the data into predefined classes based on the learned patterns. This involves training machine learning models on labeled data to distinguish between normal and anomalous network traffic, enabling the detection of potential security threats with high precision and recall.\n",
    "\n",
    "**Goal:**\n",
    "\n",
    "Our ultimate aim is to develop a robust system that can effectively identify various types of anomalies, contributing to the enhancement of network security measures.\n",
    "\n",
    "**Dataset:**\n",
    "\n",
    "you can see detail of available dataset on this [link](https://www.unb.ca/cic/datasets/ids-2017.html)"
   ]
  },
  {
   "cell_type": "markdown",
   "id": "a49dbe6e",
   "metadata": {
    "id": "a49dbe6e",
    "papermill": {
     "duration": 0.009828,
     "end_time": "2024-08-14T19:31:38.135788",
     "exception": false,
     "start_time": "2024-08-14T19:31:38.125960",
     "status": "completed"
    },
    "pycharm": {
     "name": "#%% md\n"
    },
    "tags": []
   },
   "source": [
    "# **Table of Content**\n",
    "\n"
   ]
  },
  {
   "cell_type": "markdown",
   "id": "e03c6e96",
   "metadata": {
    "id": "e03c6e96",
    "papermill": {
     "duration": 0.009903,
     "end_time": "2024-08-14T19:31:38.155851",
     "exception": false,
     "start_time": "2024-08-14T19:31:38.145948",
     "status": "completed"
    },
    "pycharm": {
     "name": "#%% md\n"
    },
    "tags": []
   },
   "source": [
    "<div class=\"toc\" style=\"background-color: #d4d0cf; padding: 10px; border-radius: 5px;\">\n",
    "  <h2 style=\"color: black;\"></h2>\n",
    "  <ul>\n",
    "    <li style=\"color: black;\">Import Libraries</li>\n",
    "    <li style=\"color: black;\">Download Clean CIC-IDS2017 Dataset</li>\n",
    "    <li style=\"color: black;\">Load datasets</li>\n",
    "    <li style=\"color: black;\">Encode Labels</li>\n",
    "    <li style=\"color: black;\">Split dataset</li>\n",
    "    <li style=\"color: black;\">Normalize Data</li>\n",
    "    <li style=\"color: black;\">Performance function</li>\n",
    "    <li style=\"color: black;\">Perfomance Plot</li>\n",
    "    <li style=\"color: black;\">K-Nearest Neighbour Models\n",
    "      <ul>\n",
    "        <li style=\"color: black;\">KNN_1</li>\n",
    "        <li style=\"color: black;\">KNN_2</li>\n",
    "        <li style=\"color: black;\">KNN_3</li>\n",
    "      </ul>\n",
    "    </li>\n",
    "    <li style=\"color: black;\">KNN_models Performance</li>\n",
    "  </ul>\n",
    "</div>\n"
   ]
  },
  {
   "cell_type": "markdown",
   "id": "67f1a7f7",
   "metadata": {
    "id": "67f1a7f7",
    "papermill": {
     "duration": 0.011161,
     "end_time": "2024-08-14T19:31:38.177430",
     "exception": false,
     "start_time": "2024-08-14T19:31:38.166269",
     "status": "completed"
    },
    "pycharm": {
     "name": "#%% md\n"
    },
    "tags": []
   },
   "source": [
    "# **Import Libraries**\n",
    "\n",
    "Here we import libraries on which we need to work."
   ]
  },
  {
   "cell_type": "code",
   "execution_count": null,
   "id": "cc6676f5",
   "metadata": {
    "execution": {
     "iopub.execute_input": "2024-08-14T19:31:38.201313Z",
     "iopub.status.busy": "2024-08-14T19:31:38.200906Z",
     "iopub.status.idle": "2024-08-14T19:31:57.231197Z",
     "shell.execute_reply": "2024-08-14T19:31:57.229999Z"
    },
    "id": "cc6676f5",
    "papermill": {
     "duration": 19.045356,
     "end_time": "2024-08-14T19:31:57.234175",
     "exception": false,
     "start_time": "2024-08-14T19:31:38.188819",
     "status": "completed"
    },
    "pycharm": {
     "name": "#%%\n"
    },
    "tags": []
   },
   "outputs": [],
   "source": [
    "!pip install -qq gdown\n",
    "import pandas as pd\n",
    "import numpy as np\n",
    "import matplotlib.pyplot as plt\n",
    "import scipy\n",
    "import os, gdown\n",
    "import zipfile, time\n",
    "import warnings\n",
    "import joblib\n",
    "warnings.filterwarnings('ignore')\n"
   ]
  },
  {
   "cell_type": "markdown",
   "id": "d8680aac",
   "metadata": {
    "id": "d8680aac",
    "papermill": {
     "duration": 0.01061,
     "end_time": "2024-08-14T19:31:57.256943",
     "exception": false,
     "start_time": "2024-08-14T19:31:57.246333",
     "status": "completed"
    },
    "pycharm": {
     "name": "#%% md\n"
    },
    "tags": []
   },
   "source": [
    "# **Download Clean CIC-IDS2017 Dataset**\n",
    "\n",
    "Here we download dataset from google drive and try to unzip it. This is not the main dataset. This is the clean dataset obtained from Part 1."
   ]
  },
  {
   "cell_type": "code",
   "execution_count": null,
   "id": "6fac4d36",
   "metadata": {
    "execution": {
     "iopub.execute_input": "2024-08-14T19:31:57.282477Z",
     "iopub.status.busy": "2024-08-14T19:31:57.281865Z",
     "iopub.status.idle": "2024-08-14T19:32:05.276394Z",
     "shell.execute_reply": "2024-08-14T19:32:05.275033Z"
    },
    "id": "6fac4d36",
    "outputId": "bc620215-73ef-4ae2-f32c-ca729506354c",
    "papermill": {
     "duration": 8.009862,
     "end_time": "2024-08-14T19:32:05.279411",
     "exception": false,
     "start_time": "2024-08-14T19:31:57.269549",
     "status": "completed"
    },
    "pycharm": {
     "name": "#%%\n"
    },
    "tags": []
   },
   "outputs": [
    {
     "name": "stdout",
     "output_type": "stream",
     "text": [
      "clean_dataset.zip was downloaded successfuly.\n",
      "clean_dataset.zip  was unziped successfuly.\n"
     ]
    }
   ],
   "source": [
    "def download_file_from_google_drive(file_id, destination):\n",
    "\n",
    "    \"\"\"\n",
    "    Input: file_id (Obtained from google drive), destionation (For saving the file)\n",
    "    Output: _ (Download the file in destination directory)\n",
    "    \"\"\"\n",
    "    url = f\"https://drive.google.com/uc?id={file_id}\"\n",
    "    gdown.download(url, destination, quiet=True) # download file using given URL\n",
    "\n",
    "\n",
    "def unzip_dataset(extraction_dir):\n",
    "\n",
    "  \"\"\"\n",
    "  Input: Extraction_dir (Direction of dataset to unzip into)\n",
    "  Output: _ (Exract the zip file in the given direction)\n",
    "  \"\"\"\n",
    "\n",
    "  # Ensure the extraction directory exists\n",
    "  os.makedirs(extraction_dir, exist_ok=True)\n",
    "\n",
    "  # Unzip the file\n",
    "  with zipfile.ZipFile(zip_file_path, 'r') as zip_ref:\n",
    "      zip_ref.extractall(extraction_dir)\n",
    "\n",
    "\n",
    "\n",
    "# Setup variables to download dataset\n",
    "current_working_dir = os.getcwd()\n",
    "destination = current_working_dir\n",
    "zip_file_path = os.path.join(destination, 'clean_dataset.zip')\n",
    "file_id =  '1Z0Xphi-xJelWL0t9joobDxwNBxzz0eAW' # File Id\n",
    "extraction_dir = os.path.join(destination,'dataset/')\n",
    "# call functions\n",
    "download_file_from_google_drive(file_id, zip_file_path) # Download\n",
    "print('clean_dataset.zip was downloaded successfuly.')\n",
    "unzip_dataset(extraction_dir)                           # Unzip\n",
    "print('clean_dataset.zip  was unziped successfuly.')"
   ]
  },
  {
   "cell_type": "markdown",
   "id": "e0b8c9ef",
   "metadata": {
    "id": "e0b8c9ef",
    "papermill": {
     "duration": 0.010947,
     "end_time": "2024-08-14T19:32:05.301747",
     "exception": false,
     "start_time": "2024-08-14T19:32:05.290800",
     "status": "completed"
    },
    "pycharm": {
     "name": "#%% md\n"
    },
    "tags": []
   },
   "source": [
    "# **Load datasets**\n",
    "On this [link](https://www.unb.ca/cic/datasets/ids-2017.html), You can access all information you need about dataset."
   ]
  },
  {
   "cell_type": "code",
   "execution_count": null,
   "id": "00f73205",
   "metadata": {
    "execution": {
     "iopub.execute_input": "2024-08-14T19:32:05.325533Z",
     "iopub.status.busy": "2024-08-14T19:32:05.324925Z",
     "iopub.status.idle": "2024-08-14T19:32:22.010708Z",
     "shell.execute_reply": "2024-08-14T19:32:22.009612Z"
    },
    "id": "00f73205",
    "papermill": {
     "duration": 16.701273,
     "end_time": "2024-08-14T19:32:22.013666",
     "exception": false,
     "start_time": "2024-08-14T19:32:05.312393",
     "status": "completed"
    },
    "pycharm": {
     "name": "#%%\n"
    },
    "tags": []
   },
   "outputs": [],
   "source": [
    "# Let's load all csv files.\n",
    "initial_time = time.time()\n",
    "clean_df = pd.read_csv(os.path.join(extraction_dir,'clean_df.csv'))\n",
    "# Shuffling the dataframe\n",
    "clean_df = clean_df.sample(frac=1, random_state=42).reset_index(drop=True)\n",
    "\n",
    "# Here for not wasting time we choose a part of dataset.\n",
    "no_sample_to_model = 500000 # Samples. About 1/5 of total\n",
    "clean_df =clean_df[:no_sample_to_model]\n",
    "\n",
    "\n",
    "# Load best features obtained from EDA part\n",
    "best_feature_list_from_MI = np.load(os.path.join(extraction_dir,'best_feature_list_from_MI.npy'),allow_pickle =True)\n",
    "best_feature_list_from_Anova = np.load(os.path.join(extraction_dir,'best_feature_list_from_Anova.npy'),allow_pickle =True)\n",
    "best_feature_list_from_RF = np.load(os.path.join(extraction_dir,'best_feature_list_from_RF.npy'),allow_pickle =True)"
   ]
  },
  {
   "cell_type": "code",
   "execution_count": null,
   "id": "6d1e60da",
   "metadata": {
    "execution": {
     "iopub.execute_input": "2024-08-14T19:32:22.036973Z",
     "iopub.status.busy": "2024-08-14T19:32:22.036559Z",
     "iopub.status.idle": "2024-08-14T19:32:22.172467Z",
     "shell.execute_reply": "2024-08-14T19:32:22.171342Z"
    },
    "id": "6d1e60da",
    "outputId": "2eb2c4f2-5482-4e2b-891d-e14e52a9329f",
    "papermill": {
     "duration": 0.150788,
     "end_time": "2024-08-14T19:32:22.175152",
     "exception": false,
     "start_time": "2024-08-14T19:32:22.024364",
     "status": "completed"
    },
    "pycharm": {
     "name": "#%%\n"
    },
    "tags": []
   },
   "outputs": [
    {
     "data": {
      "text/html": [
       "<div>\n",
       "<style scoped>\n",
       "    .dataframe tbody tr th:only-of-type {\n",
       "        vertical-align: middle;\n",
       "    }\n",
       "\n",
       "    .dataframe tbody tr th {\n",
       "        vertical-align: top;\n",
       "    }\n",
       "\n",
       "    .dataframe thead th {\n",
       "        text-align: right;\n",
       "    }\n",
       "</style>\n",
       "<table border=\"1\" class=\"dataframe\">\n",
       "  <thead>\n",
       "    <tr style=\"text-align: right;\">\n",
       "      <th></th>\n",
       "      <th>Flow Duration</th>\n",
       "      <th>Total Backward Packets</th>\n",
       "      <th>Total Length of Bwd Packets</th>\n",
       "      <th>Fwd Packet Length Min</th>\n",
       "      <th>Fwd Packet Length Std</th>\n",
       "      <th>Bwd Packet Length Min</th>\n",
       "      <th>Bwd Packet Length Std</th>\n",
       "      <th>Flow Packets/s</th>\n",
       "      <th>Flow IAT Std</th>\n",
       "      <th>Flow IAT Min</th>\n",
       "      <th>...</th>\n",
       "      <th>Bwd Avg Bulk Rate</th>\n",
       "      <th>Subflow Fwd Bytes</th>\n",
       "      <th>Subflow Bwd Bytes</th>\n",
       "      <th>Init_Win_bytes_backward</th>\n",
       "      <th>min_seg_size_forward</th>\n",
       "      <th>Active Std</th>\n",
       "      <th>Active Min</th>\n",
       "      <th>Idle Std</th>\n",
       "      <th>Idle Min</th>\n",
       "      <th>Label</th>\n",
       "    </tr>\n",
       "  </thead>\n",
       "  <tbody>\n",
       "    <tr>\n",
       "      <th>0</th>\n",
       "      <td>134</td>\n",
       "      <td>2</td>\n",
       "      <td>96</td>\n",
       "      <td>32</td>\n",
       "      <td>0.000000</td>\n",
       "      <td>48</td>\n",
       "      <td>0.000000</td>\n",
       "      <td>29850.746270</td>\n",
       "      <td>7.216878e+01</td>\n",
       "      <td>3</td>\n",
       "      <td>...</td>\n",
       "      <td>0</td>\n",
       "      <td>64</td>\n",
       "      <td>96</td>\n",
       "      <td>-1</td>\n",
       "      <td>32</td>\n",
       "      <td>0.0</td>\n",
       "      <td>0</td>\n",
       "      <td>0.0</td>\n",
       "      <td>0</td>\n",
       "      <td>BENIGN</td>\n",
       "    </tr>\n",
       "    <tr>\n",
       "      <th>1</th>\n",
       "      <td>29</td>\n",
       "      <td>1</td>\n",
       "      <td>6</td>\n",
       "      <td>0</td>\n",
       "      <td>0.000000</td>\n",
       "      <td>6</td>\n",
       "      <td>0.000000</td>\n",
       "      <td>68965.517240</td>\n",
       "      <td>0.000000e+00</td>\n",
       "      <td>29</td>\n",
       "      <td>...</td>\n",
       "      <td>0</td>\n",
       "      <td>0</td>\n",
       "      <td>6</td>\n",
       "      <td>0</td>\n",
       "      <td>40</td>\n",
       "      <td>0.0</td>\n",
       "      <td>0</td>\n",
       "      <td>0.0</td>\n",
       "      <td>0</td>\n",
       "      <td>PortScan</td>\n",
       "    </tr>\n",
       "    <tr>\n",
       "      <th>2</th>\n",
       "      <td>4</td>\n",
       "      <td>0</td>\n",
       "      <td>0</td>\n",
       "      <td>0</td>\n",
       "      <td>0.000000</td>\n",
       "      <td>0</td>\n",
       "      <td>0.000000</td>\n",
       "      <td>750000.000000</td>\n",
       "      <td>1.414214e+00</td>\n",
       "      <td>1</td>\n",
       "      <td>...</td>\n",
       "      <td>0</td>\n",
       "      <td>0</td>\n",
       "      <td>0</td>\n",
       "      <td>-1</td>\n",
       "      <td>32</td>\n",
       "      <td>0.0</td>\n",
       "      <td>0</td>\n",
       "      <td>0.0</td>\n",
       "      <td>0</td>\n",
       "      <td>BENIGN</td>\n",
       "    </tr>\n",
       "    <tr>\n",
       "      <th>3</th>\n",
       "      <td>82052747</td>\n",
       "      <td>6</td>\n",
       "      <td>11607</td>\n",
       "      <td>0</td>\n",
       "      <td>5.656854</td>\n",
       "      <td>0</td>\n",
       "      <td>2177.344966</td>\n",
       "      <td>0.170622</td>\n",
       "      <td>1.980000e+07</td>\n",
       "      <td>0</td>\n",
       "      <td>...</td>\n",
       "      <td>0</td>\n",
       "      <td>56</td>\n",
       "      <td>11607</td>\n",
       "      <td>229</td>\n",
       "      <td>20</td>\n",
       "      <td>0.0</td>\n",
       "      <td>1000</td>\n",
       "      <td>43600000.0</td>\n",
       "      <td>9985727</td>\n",
       "      <td>DDoS</td>\n",
       "    </tr>\n",
       "    <tr>\n",
       "      <th>4</th>\n",
       "      <td>1408725</td>\n",
       "      <td>4</td>\n",
       "      <td>3619</td>\n",
       "      <td>0</td>\n",
       "      <td>39.244426</td>\n",
       "      <td>0</td>\n",
       "      <td>701.785995</td>\n",
       "      <td>8.518341</td>\n",
       "      <td>3.200900e+05</td>\n",
       "      <td>9</td>\n",
       "      <td>...</td>\n",
       "      <td>0</td>\n",
       "      <td>111</td>\n",
       "      <td>3619</td>\n",
       "      <td>35466</td>\n",
       "      <td>20</td>\n",
       "      <td>0.0</td>\n",
       "      <td>0</td>\n",
       "      <td>0.0</td>\n",
       "      <td>0</td>\n",
       "      <td>BENIGN</td>\n",
       "    </tr>\n",
       "    <tr>\n",
       "      <th>...</th>\n",
       "      <td>...</td>\n",
       "      <td>...</td>\n",
       "      <td>...</td>\n",
       "      <td>...</td>\n",
       "      <td>...</td>\n",
       "      <td>...</td>\n",
       "      <td>...</td>\n",
       "      <td>...</td>\n",
       "      <td>...</td>\n",
       "      <td>...</td>\n",
       "      <td>...</td>\n",
       "      <td>...</td>\n",
       "      <td>...</td>\n",
       "      <td>...</td>\n",
       "      <td>...</td>\n",
       "      <td>...</td>\n",
       "      <td>...</td>\n",
       "      <td>...</td>\n",
       "      <td>...</td>\n",
       "      <td>...</td>\n",
       "      <td>...</td>\n",
       "    </tr>\n",
       "    <tr>\n",
       "      <th>499995</th>\n",
       "      <td>44</td>\n",
       "      <td>1</td>\n",
       "      <td>6</td>\n",
       "      <td>0</td>\n",
       "      <td>0.000000</td>\n",
       "      <td>6</td>\n",
       "      <td>0.000000</td>\n",
       "      <td>45454.545450</td>\n",
       "      <td>0.000000e+00</td>\n",
       "      <td>44</td>\n",
       "      <td>...</td>\n",
       "      <td>0</td>\n",
       "      <td>0</td>\n",
       "      <td>6</td>\n",
       "      <td>0</td>\n",
       "      <td>40</td>\n",
       "      <td>0.0</td>\n",
       "      <td>0</td>\n",
       "      <td>0.0</td>\n",
       "      <td>0</td>\n",
       "      <td>PortScan</td>\n",
       "    </tr>\n",
       "    <tr>\n",
       "      <th>499996</th>\n",
       "      <td>74</td>\n",
       "      <td>1</td>\n",
       "      <td>0</td>\n",
       "      <td>0</td>\n",
       "      <td>17.897858</td>\n",
       "      <td>0</td>\n",
       "      <td>0.000000</td>\n",
       "      <td>54054.054050</td>\n",
       "      <td>2.182506e+01</td>\n",
       "      <td>1</td>\n",
       "      <td>...</td>\n",
       "      <td>0</td>\n",
       "      <td>31</td>\n",
       "      <td>0</td>\n",
       "      <td>0</td>\n",
       "      <td>20</td>\n",
       "      <td>0.0</td>\n",
       "      <td>0</td>\n",
       "      <td>0.0</td>\n",
       "      <td>0</td>\n",
       "      <td>BENIGN</td>\n",
       "    </tr>\n",
       "    <tr>\n",
       "      <th>499997</th>\n",
       "      <td>184627</td>\n",
       "      <td>4</td>\n",
       "      <td>360</td>\n",
       "      <td>30</td>\n",
       "      <td>5.773503</td>\n",
       "      <td>56</td>\n",
       "      <td>39.259818</td>\n",
       "      <td>43.330607</td>\n",
       "      <td>6.148513e+04</td>\n",
       "      <td>3</td>\n",
       "      <td>...</td>\n",
       "      <td>0</td>\n",
       "      <td>140</td>\n",
       "      <td>360</td>\n",
       "      <td>-1</td>\n",
       "      <td>20</td>\n",
       "      <td>0.0</td>\n",
       "      <td>0</td>\n",
       "      <td>0.0</td>\n",
       "      <td>0</td>\n",
       "      <td>BENIGN</td>\n",
       "    </tr>\n",
       "    <tr>\n",
       "      <th>499998</th>\n",
       "      <td>183</td>\n",
       "      <td>2</td>\n",
       "      <td>288</td>\n",
       "      <td>36</td>\n",
       "      <td>0.000000</td>\n",
       "      <td>144</td>\n",
       "      <td>0.000000</td>\n",
       "      <td>21857.923500</td>\n",
       "      <td>1.004589e+02</td>\n",
       "      <td>3</td>\n",
       "      <td>...</td>\n",
       "      <td>0</td>\n",
       "      <td>72</td>\n",
       "      <td>288</td>\n",
       "      <td>-1</td>\n",
       "      <td>20</td>\n",
       "      <td>0.0</td>\n",
       "      <td>0</td>\n",
       "      <td>0.0</td>\n",
       "      <td>0</td>\n",
       "      <td>BENIGN</td>\n",
       "    </tr>\n",
       "    <tr>\n",
       "      <th>499999</th>\n",
       "      <td>83604</td>\n",
       "      <td>2</td>\n",
       "      <td>482</td>\n",
       "      <td>34</td>\n",
       "      <td>0.000000</td>\n",
       "      <td>241</td>\n",
       "      <td>0.000000</td>\n",
       "      <td>71.766901</td>\n",
       "      <td>2.418833e+04</td>\n",
       "      <td>3</td>\n",
       "      <td>...</td>\n",
       "      <td>0</td>\n",
       "      <td>136</td>\n",
       "      <td>482</td>\n",
       "      <td>-1</td>\n",
       "      <td>20</td>\n",
       "      <td>0.0</td>\n",
       "      <td>0</td>\n",
       "      <td>0.0</td>\n",
       "      <td>0</td>\n",
       "      <td>BENIGN</td>\n",
       "    </tr>\n",
       "  </tbody>\n",
       "</table>\n",
       "<p>500000 rows × 43 columns</p>\n",
       "</div>"
      ],
      "text/plain": [
       "         Flow Duration   Total Backward Packets   Total Length of Bwd Packets  \\\n",
       "0                  134                        2                            96   \n",
       "1                   29                        1                             6   \n",
       "2                    4                        0                             0   \n",
       "3             82052747                        6                         11607   \n",
       "4              1408725                        4                          3619   \n",
       "...                ...                      ...                           ...   \n",
       "499995              44                        1                             6   \n",
       "499996              74                        1                             0   \n",
       "499997          184627                        4                           360   \n",
       "499998             183                        2                           288   \n",
       "499999           83604                        2                           482   \n",
       "\n",
       "         Fwd Packet Length Min   Fwd Packet Length Std  \\\n",
       "0                           32                0.000000   \n",
       "1                            0                0.000000   \n",
       "2                            0                0.000000   \n",
       "3                            0                5.656854   \n",
       "4                            0               39.244426   \n",
       "...                        ...                     ...   \n",
       "499995                       0                0.000000   \n",
       "499996                       0               17.897858   \n",
       "499997                      30                5.773503   \n",
       "499998                      36                0.000000   \n",
       "499999                      34                0.000000   \n",
       "\n",
       "         Bwd Packet Length Min   Bwd Packet Length Std   Flow Packets/s  \\\n",
       "0                           48                0.000000     29850.746270   \n",
       "1                            6                0.000000     68965.517240   \n",
       "2                            0                0.000000    750000.000000   \n",
       "3                            0             2177.344966         0.170622   \n",
       "4                            0              701.785995         8.518341   \n",
       "...                        ...                     ...              ...   \n",
       "499995                       6                0.000000     45454.545450   \n",
       "499996                       0                0.000000     54054.054050   \n",
       "499997                      56               39.259818        43.330607   \n",
       "499998                     144                0.000000     21857.923500   \n",
       "499999                     241                0.000000        71.766901   \n",
       "\n",
       "         Flow IAT Std   Flow IAT Min  ...  Bwd Avg Bulk Rate  \\\n",
       "0        7.216878e+01              3  ...                  0   \n",
       "1        0.000000e+00             29  ...                  0   \n",
       "2        1.414214e+00              1  ...                  0   \n",
       "3        1.980000e+07              0  ...                  0   \n",
       "4        3.200900e+05              9  ...                  0   \n",
       "...               ...            ...  ...                ...   \n",
       "499995   0.000000e+00             44  ...                  0   \n",
       "499996   2.182506e+01              1  ...                  0   \n",
       "499997   6.148513e+04              3  ...                  0   \n",
       "499998   1.004589e+02              3  ...                  0   \n",
       "499999   2.418833e+04              3  ...                  0   \n",
       "\n",
       "         Subflow Fwd Bytes   Subflow Bwd Bytes   Init_Win_bytes_backward  \\\n",
       "0                       64                  96                        -1   \n",
       "1                        0                   6                         0   \n",
       "2                        0                   0                        -1   \n",
       "3                       56               11607                       229   \n",
       "4                      111                3619                     35466   \n",
       "...                    ...                 ...                       ...   \n",
       "499995                   0                   6                         0   \n",
       "499996                  31                   0                         0   \n",
       "499997                 140                 360                        -1   \n",
       "499998                  72                 288                        -1   \n",
       "499999                 136                 482                        -1   \n",
       "\n",
       "         min_seg_size_forward   Active Std   Active Min    Idle Std  \\\n",
       "0                          32          0.0            0         0.0   \n",
       "1                          40          0.0            0         0.0   \n",
       "2                          32          0.0            0         0.0   \n",
       "3                          20          0.0         1000  43600000.0   \n",
       "4                          20          0.0            0         0.0   \n",
       "...                       ...          ...          ...         ...   \n",
       "499995                     40          0.0            0         0.0   \n",
       "499996                     20          0.0            0         0.0   \n",
       "499997                     20          0.0            0         0.0   \n",
       "499998                     20          0.0            0         0.0   \n",
       "499999                     20          0.0            0         0.0   \n",
       "\n",
       "         Idle Min     Label  \n",
       "0               0    BENIGN  \n",
       "1               0  PortScan  \n",
       "2               0    BENIGN  \n",
       "3         9985727      DDoS  \n",
       "4               0    BENIGN  \n",
       "...           ...       ...  \n",
       "499995          0  PortScan  \n",
       "499996          0    BENIGN  \n",
       "499997          0    BENIGN  \n",
       "499998          0    BENIGN  \n",
       "499999          0    BENIGN  \n",
       "\n",
       "[500000 rows x 43 columns]"
      ]
     },
     "metadata": {},
     "output_type": "display_data"
    }
   ],
   "source": [
    "# Let's see one of them.\n",
    "display(clean_df)"
   ]
  },
  {
   "cell_type": "markdown",
   "id": "e1ecddd3",
   "metadata": {
    "id": "e1ecddd3",
    "papermill": {
     "duration": 0.010964,
     "end_time": "2024-08-14T19:32:22.197659",
     "exception": false,
     "start_time": "2024-08-14T19:32:22.186695",
     "status": "completed"
    },
    "pycharm": {
     "name": "#%% md\n"
    },
    "tags": []
   },
   "source": [
    "# **Encode Labels**"
   ]
  },
  {
   "cell_type": "code",
   "execution_count": null,
   "id": "ee6064d3",
   "metadata": {
    "execution": {
     "iopub.execute_input": "2024-08-14T19:32:22.222282Z",
     "iopub.status.busy": "2024-08-14T19:32:22.221853Z",
     "iopub.status.idle": "2024-08-14T19:32:26.976154Z",
     "shell.execute_reply": "2024-08-14T19:32:26.974729Z"
    },
    "id": "ee6064d3",
    "outputId": "c00acd90-dcdd-4887-a1e0-f118b8b6616d",
    "papermill": {
     "duration": 4.769701,
     "end_time": "2024-08-14T19:32:26.978808",
     "exception": false,
     "start_time": "2024-08-14T19:32:22.209107",
     "status": "completed"
    },
    "pycharm": {
     "name": "#%%\n"
    },
    "tags": []
   },
   "outputs": [
    {
     "name": "stdout",
     "output_type": "stream",
     "text": [
      "No of clasees:  5\n",
      "No items in each clasess:\n",
      "(array(['BENIGN', 'Botnet', 'DDoS', 'Exploitation', 'PortScan'],\n",
      "      dtype=object), array([438164,    379,  24887,   5840,  30730]))\n",
      "****************************************************************************************************\n",
      "In this selected part of dataset, there is no class having one sample as evidence. So, it means all classes have more than one sample as their evidence.\n"
     ]
    },
    {
     "data": {
      "text/plain": [
       "(array(['BENIGN', 'Botnet', 'DDoS', 'Exploitation', 'PortScan'],\n",
       "       dtype=object),\n",
       " array([438164,    379,  24887,   5840,  30730]))"
      ]
     },
     "execution_count": 5,
     "metadata": {},
     "output_type": "execute_result"
    }
   ],
   "source": [
    "# Here we check that ,per class, there are at least 2 samples. Otherwise we remove that class from dataset.\n",
    "no_of_classes = len(np.unique(clean_df[' Label'],return_counts=True)[0])\n",
    "print('No of clasees: ',no_of_classes)\n",
    "print('No items in each clasess:')\n",
    "print(np.unique(clean_df[' Label'],return_counts=True))\n",
    "classes , classes_samples = np.unique(clean_df[' Label'],return_counts=True)\n",
    "\n",
    "\n",
    "\n",
    "claess_with_one_sample = []\n",
    "for index,sample in enumerate(classes_samples):\n",
    "  if sample==1:\n",
    "    claess_with_one_sample.append(classes[index])\n",
    "\n",
    "if len(claess_with_one_sample)>=1:\n",
    "\n",
    "  for item in claess_with_one_sample:\n",
    "    clean_df = clean_df.drop(index = clean_df[clean_df[' Label']==item].index, axis=1)\n",
    "\n",
    "  print('*'*100)\n",
    "  print('After removing those classes with just one sample, we have:')\n",
    "  print('No of clasees: ',len(np.unique(clean_df[' Label'],return_counts=True)[0]))\n",
    "  print('No items in each clasess:')\n",
    "\n",
    "else:\n",
    "    print('*'*100)\n",
    "    print('In this selected part of dataset, there is no class having one sample as evidence. So, it means all classes have more than one sample as their evidence.')\n",
    "\n",
    "\n",
    "\n",
    "no_of_classes , classes_samples = np.unique(clean_df[' Label'],return_counts=True)\n",
    "np.unique(clean_df[' Label'],return_counts=True)"
   ]
  },
  {
   "cell_type": "code",
   "execution_count": null,
   "id": "0868ce88",
   "metadata": {
    "execution": {
     "iopub.execute_input": "2024-08-14T19:32:27.006160Z",
     "iopub.status.busy": "2024-08-14T19:32:27.005758Z",
     "iopub.status.idle": "2024-08-14T19:32:28.603825Z",
     "shell.execute_reply": "2024-08-14T19:32:28.602730Z"
    },
    "id": "0868ce88",
    "outputId": "b39bbbb5-1389-4d3f-d0c6-d619a82fc2e4",
    "papermill": {
     "duration": 1.615223,
     "end_time": "2024-08-14T19:32:28.606685",
     "exception": false,
     "start_time": "2024-08-14T19:32:26.991462",
     "status": "completed"
    },
    "pycharm": {
     "name": "#%%\n"
    },
    "tags": []
   },
   "outputs": [
    {
     "name": "stdout",
     "output_type": "stream",
     "text": [
      "After Encoding:\n"
     ]
    },
    {
     "data": {
      "text/html": [
       "<div>\n",
       "<style scoped>\n",
       "    .dataframe tbody tr th:only-of-type {\n",
       "        vertical-align: middle;\n",
       "    }\n",
       "\n",
       "    .dataframe tbody tr th {\n",
       "        vertical-align: top;\n",
       "    }\n",
       "\n",
       "    .dataframe thead th {\n",
       "        text-align: right;\n",
       "    }\n",
       "</style>\n",
       "<table border=\"1\" class=\"dataframe\">\n",
       "  <thead>\n",
       "    <tr style=\"text-align: right;\">\n",
       "      <th></th>\n",
       "      <th>Classes</th>\n",
       "      <th>Samples per class</th>\n",
       "    </tr>\n",
       "  </thead>\n",
       "  <tbody>\n",
       "    <tr>\n",
       "      <th>0</th>\n",
       "      <td>0</td>\n",
       "      <td>438164</td>\n",
       "    </tr>\n",
       "    <tr>\n",
       "      <th>1</th>\n",
       "      <td>1</td>\n",
       "      <td>379</td>\n",
       "    </tr>\n",
       "    <tr>\n",
       "      <th>2</th>\n",
       "      <td>2</td>\n",
       "      <td>24887</td>\n",
       "    </tr>\n",
       "    <tr>\n",
       "      <th>3</th>\n",
       "      <td>3</td>\n",
       "      <td>5840</td>\n",
       "    </tr>\n",
       "    <tr>\n",
       "      <th>4</th>\n",
       "      <td>4</td>\n",
       "      <td>30730</td>\n",
       "    </tr>\n",
       "  </tbody>\n",
       "</table>\n",
       "</div>"
      ],
      "text/plain": [
       "   Classes  Samples per class\n",
       "0        0             438164\n",
       "1        1                379\n",
       "2        2              24887\n",
       "3        3               5840\n",
       "4        4              30730"
      ]
     },
     "metadata": {},
     "output_type": "display_data"
    }
   ],
   "source": [
    "# We need to encode labels.\n",
    "from sklearn.preprocessing import LabelEncoder\n",
    "encoder = LabelEncoder()\n",
    "encoded_labels = encoder.fit_transform(clean_df[' Label'])\n",
    "clean_df[' Label'] = encoded_labels\n",
    "print('After Encoding:')\n",
    "classes , class_samples = np.unique(clean_df[' Label'],return_counts=True)\n",
    "no_of_classes = len(classes)\n",
    "dataframe = pd.DataFrame({'Classes':classes,'Samples per class':class_samples})\n",
    "display(dataframe)\n",
    "\n"
   ]
  },
  {
   "cell_type": "markdown",
   "id": "88c7a57f",
   "metadata": {
    "id": "88c7a57f",
    "papermill": {
     "duration": 0.012366,
     "end_time": "2024-08-14T19:32:28.632261",
     "exception": false,
     "start_time": "2024-08-14T19:32:28.619895",
     "status": "completed"
    },
    "pycharm": {
     "name": "#%% md\n"
    },
    "tags": []
   },
   "source": [
    "# **Split dataset**\n",
    "<!DOCTYPE html>\n",
    "<html lang=\"en\">\n",
    "<head>\n",
    "    <meta charset=\"UTF-8\">\n",
    "    <meta name=\"viewport\" content=\"width=device-width, initial-scale=1.0\">\n",
    "    <title></title>\n",
    "</head>\n",
    "<body>\n",
    "    <img src=\"https://drive.google.com/uc?export=view&id=1zn-wpJgfOO6Pa_w-Kk35BgwNwwPm70gh\" width=\"50%\">\n",
    "</body>\n",
    "</html>\n",
    "\n"
   ]
  },
  {
   "cell_type": "code",
   "execution_count": null,
   "id": "0f47c512",
   "metadata": {
    "execution": {
     "iopub.execute_input": "2024-08-14T19:32:28.659377Z",
     "iopub.status.busy": "2024-08-14T19:32:28.658945Z",
     "iopub.status.idle": "2024-08-14T19:32:28.789523Z",
     "shell.execute_reply": "2024-08-14T19:32:28.788235Z"
    },
    "id": "0f47c512",
    "papermill": {
     "duration": 0.147161,
     "end_time": "2024-08-14T19:32:28.792359",
     "exception": false,
     "start_time": "2024-08-14T19:32:28.645198",
     "status": "completed"
    },
    "pycharm": {
     "name": "#%%\n"
    },
    "tags": []
   },
   "outputs": [],
   "source": [
    "from sklearn.model_selection import train_test_split\n",
    "def spliting(df, best_feature_list):\n",
    "\n",
    "\n",
    "  test_size = 0.2 # 20%\n",
    "  X = df[best_feature_list]\n",
    "  y  = df[' Label']\n",
    "\n",
    "  our_X_train, our_x_test, our_y_train, our_y_test = train_test_split(X,y,test_size=test_size, stratify=y,random_state=True)\n",
    "  print('X_train.shape:',our_X_train.shape)\n",
    "  print('x_test.shape:',our_x_test.shape)\n",
    "  print('y_train.shape:',our_y_train.shape)\n",
    "  print('y_test.shape:',our_y_test.shape)\n",
    "  no_of_anomalies_in_test_part = np.where(our_y_test!=0)[0].shape[0]\n",
    "  no_of_normal_points_in_test_part = np.where(our_y_test==0)[0].shape[0]\n",
    "  no_of_anomalies_in_train_part = np.where(our_y_train!=0)[0].shape[0]\n",
    "  no_of_normal_points_in_train_part = np.where(our_y_train==0)[0].shape[0]\n",
    "\n",
    "  print(f'In the train dataset we have:{no_of_anomalies_in_train_part} anomalies with this distribution {np.unique(our_y_train,return_counts=True)[1]}and {no_of_normal_points_in_train_part} normal points')\n",
    "  print(f'In the test dataset we have:{no_of_anomalies_in_test_part} anomalies with this distribution {np.unique(our_y_test,return_counts=True)[1]} and {no_of_normal_points_in_test_part} normal points')\n",
    "  print('*'*100)\n",
    "  return our_X_train, our_x_test, our_y_train, our_y_test"
   ]
  },
  {
   "cell_type": "markdown",
   "id": "d085589d",
   "metadata": {
    "id": "d085589d",
    "papermill": {
     "duration": 0.012366,
     "end_time": "2024-08-14T19:32:28.817229",
     "exception": false,
     "start_time": "2024-08-14T19:32:28.804863",
     "status": "completed"
    },
    "pycharm": {
     "name": "#%% md\n"
    },
    "tags": []
   },
   "source": [
    "# **Normalize Data**\n",
    "\n",
    "\n",
    "### MinMaxScaler Formula\n",
    "\n",
    "The MinMaxScaler scales each feature to a given range, typically between 0 and 1. The formula for MinMax scaling is:\n",
    "\n",
    "$[\n",
    "X_{\\text{scaled}} = \\frac{X - X_{\\text{min}}}{X_{\\text{max}} - X_{\\text{min}}}\n",
    "]$\n",
    "\n",
    "Where:\n",
    "- $( X $) is the original value.\n",
    "- $( X_{\\text{min}} $) is the minimum value of the feature.\n",
    "- $( X_{\\text{max}} $) is the maximum value of the feature.\n",
    "- $( X_{\\text{scaled}} $) is the scaled value.\n",
    "\n",
    "The resulting $( X_{\\text{scaled}} $) will be within the range [0, 1] (by default).\n",
    "\n",
    "\n"
   ]
  },
  {
   "cell_type": "code",
   "execution_count": null,
   "id": "05ae24ee",
   "metadata": {
    "execution": {
     "iopub.execute_input": "2024-08-14T19:32:28.843785Z",
     "iopub.status.busy": "2024-08-14T19:32:28.843356Z",
     "iopub.status.idle": "2024-08-14T19:32:28.850744Z",
     "shell.execute_reply": "2024-08-14T19:32:28.849566Z"
    },
    "id": "05ae24ee",
    "papermill": {
     "duration": 0.023703,
     "end_time": "2024-08-14T19:32:28.853459",
     "exception": false,
     "start_time": "2024-08-14T19:32:28.829756",
     "status": "completed"
    },
    "pycharm": {
     "name": "#%%\n"
    },
    "tags": []
   },
   "outputs": [],
   "source": [
    "from sklearn.preprocessing import MinMaxScaler\n",
    "\n",
    "def normalizing(X_train, x_test):\n",
    "\n",
    "  scaler = MinMaxScaler ()\n",
    "  our_X_train = scaler.fit_transform(X_train)\n",
    "  our_x_test = scaler.transform(x_test)\n",
    "  print('After Normalizing we have:')\n",
    "  print('X_train_normalized.shape:',our_X_train.shape)\n",
    "  print('x_test_normalized.shape:',our_x_test.shape)\n",
    "  print('*'*100)\n",
    "\n",
    "  return our_X_train, our_x_test"
   ]
  },
  {
   "cell_type": "markdown",
   "id": "5b926274",
   "metadata": {
    "id": "5b926274",
    "papermill": {
     "duration": 0.012287,
     "end_time": "2024-08-14T19:32:28.878226",
     "exception": false,
     "start_time": "2024-08-14T19:32:28.865939",
     "status": "completed"
    },
    "pycharm": {
     "name": "#%% md\n"
    },
    "tags": []
   },
   "source": [
    "# **Performance function**\n",
    "\n",
    "### For our models, we result; Precision, Recall, and F1 Score Formulas\n",
    "\n",
    "\n",
    "$ \\text{Precision} = \\frac{\\text{True Positives (TP)}}{\\text{True Positives (TP)} + \\text{False Positives (FP)}} $\n",
    "\n",
    "\n",
    "\n",
    "$ \\text{Recall} = \\frac{\\text{True Positives (TP)}}{\\text{True Positives (TP)} + \\text{False Negatives (FN)}} $\n",
    "\n",
    "\n",
    "\n",
    "$ \\text{F1 Score} = 2 \\times \\frac{\\text{Precision} \\times \\text{Recall}}{\\text{Precision} + \\text{Recall}} $\n",
    "\n",
    "Also, we collect `training time` and `prediciting time` and `multicalsss confusion matirx`.\n",
    "\n",
    "\n",
    "\n",
    "\n"
   ]
  },
  {
   "cell_type": "code",
   "execution_count": null,
   "id": "f1ee40c0",
   "metadata": {
    "execution": {
     "iopub.execute_input": "2024-08-14T19:32:28.904927Z",
     "iopub.status.busy": "2024-08-14T19:32:28.904491Z",
     "iopub.status.idle": "2024-08-14T19:32:28.917348Z",
     "shell.execute_reply": "2024-08-14T19:32:28.916108Z"
    },
    "id": "f1ee40c0",
    "papermill": {
     "duration": 0.029587,
     "end_time": "2024-08-14T19:32:28.920246",
     "exception": false,
     "start_time": "2024-08-14T19:32:28.890659",
     "status": "completed"
    },
    "pycharm": {
     "name": "#%%\n"
    },
    "tags": []
   },
   "outputs": [],
   "source": [
    "from sklearn import metrics\n",
    "from sklearn.metrics import classification_report\n",
    "\n",
    "def performance(model_name,y_test,y_pred,clean_df,train_time,pred_time):\n",
    "\n",
    "  \"\"\"This function tries to calculate the Precesion, Recall, and F1_score for each given model.\\\n",
    "  Input: model_name,y_test,y_pred,clean_df,train_time,pred_time for each model we will create in the future.\n",
    "  Output: styled_df (Which is just for view),df (which is used for more access in the futrue.)\n",
    "  \"\"\"\n",
    "\n",
    "  labels = [f'Class-{index}' for index in range(len(np.unique(clean_df[' Label'])))]\n",
    "\n",
    "  report = classification_report(y_test, y_pred, target_names=labels, output_dict=True)\n",
    "  report_df = pd.DataFrame(report).transpose()\n",
    "\n",
    "  precision =report_df['precision'].values\n",
    "  recall =report_df['recall'].values\n",
    "  f1_score =report_df['f1-score'].values\n",
    "  support = report_df['support'].values\n",
    "\n",
    "\n",
    "\n",
    "  # Creating the DataFrame\n",
    "  data = {\n",
    "      'Precision': precision,\n",
    "      'Recall': recall,\n",
    "      'F1_Score': f1_score,\n",
    "      'Support':support,\n",
    "      'Training_Time':train_time,\n",
    "      'Predicting_Time':pred_time\n",
    "\n",
    "  }\n",
    "\n",
    "  # Using a MultiIndex for the rows\n",
    "  index = pd.MultiIndex.from_product([[model_name], labels+['accuracy','macro avg','weighted avg']], names=['Model_name', 'Classes'])\n",
    "\n",
    "  df = pd.DataFrame(data, index=index)\n",
    "\n",
    "  # Using Styler to merge cells in 'Column3'\n",
    "  def highlight_merge(s):\n",
    "\n",
    "      return ['background-color: #dcdcdc '] * len(s) if pd.notna(s.iloc[0]) else ['display: none'] * len(s)\n",
    "\n",
    "\n",
    "  styled_df = df.style.apply(highlight_merge, subset=['Training_Time','Predicting_Time'], axis=1)\n",
    "\n",
    "\n",
    "\n",
    "  # Displaying the styled DataFrame\n",
    "  display(styled_df)\n",
    "\n",
    "  return styled_df,df\n",
    "\n",
    "\n"
   ]
  },
  {
   "cell_type": "markdown",
   "id": "ac832f48",
   "metadata": {
    "id": "ac832f48",
    "papermill": {
     "duration": 0.012726,
     "end_time": "2024-08-14T19:32:28.946336",
     "exception": false,
     "start_time": "2024-08-14T19:32:28.933610",
     "status": "completed"
    },
    "pycharm": {
     "name": "#%% md\n"
    },
    "tags": []
   },
   "source": [
    "# **Perfomance Plot**"
   ]
  },
  {
   "cell_type": "code",
   "execution_count": null,
   "id": "0ce274d9",
   "metadata": {
    "execution": {
     "iopub.execute_input": "2024-08-14T19:32:28.973962Z",
     "iopub.status.busy": "2024-08-14T19:32:28.973366Z",
     "iopub.status.idle": "2024-08-14T19:32:28.984657Z",
     "shell.execute_reply": "2024-08-14T19:32:28.983414Z"
    },
    "id": "0ce274d9",
    "papermill": {
     "duration": 0.028412,
     "end_time": "2024-08-14T19:32:28.987265",
     "exception": false,
     "start_time": "2024-08-14T19:32:28.958853",
     "status": "completed"
    },
    "pycharm": {
     "name": "#%%\n"
    },
    "tags": []
   },
   "outputs": [],
   "source": [
    "import matplotlib.pyplot as plt\n",
    "import numpy as np\n",
    "\n",
    "def plot_performance(model_names, F1_Score_Macro_Avg_list, F1_Score_Weighted_Avg_list, Accuracy_list):\n",
    "\n",
    "    species = model_names\n",
    "    penguin_means = {\n",
    "        'F1_Score_Macro_Avg': F1_Score_Macro_Avg_list,\n",
    "        'F1_Score_Weighted_Avg': F1_Score_Weighted_Avg_list,\n",
    "        'Accuracy': Accuracy_list\n",
    "    }\n",
    "\n",
    "    x = np.arange(len(species))  # the label locations\n",
    "    width = 0.15  # the width of the bars\n",
    "    multiplier = 0\n",
    "\n",
    "    fig, ax = plt.subplots(layout='constrained',figsize=(8,5))\n",
    "\n",
    "    for attribute, measurement in penguin_means.items():\n",
    "        offset = width * multiplier\n",
    "        rects = ax.bar(x + offset, measurement, width, label=attribute)\n",
    "\n",
    "        # Set different padding and alignment for each set of bars\n",
    "        ax.bar_label(rects, padding=6 + multiplier * 9, label_type='edge')\n",
    "\n",
    "        multiplier += 1\n",
    "\n",
    "    # Add some text for labels, title, and custom x-axis tick labels, etc.\n",
    "    ax.set_ylabel('Percentage (%)')\n",
    "    ax.set_title('Models Performance')\n",
    "    ax.set_xticks(x + (width * 1.5), species)  # Adjusted for better alignment\n",
    "    ax.legend(loc='upper left', ncols=3)\n",
    "\n",
    "    # Optionally, set y-axis limits and grid\n",
    "    ax.set_ylim(0, 1.3)\n",
    "    plt.grid()\n",
    "\n",
    "    plt.show()\n",
    "\n",
    "\n"
   ]
  },
  {
   "cell_type": "markdown",
   "id": "c07feb1f",
   "metadata": {
    "id": "c07feb1f",
    "papermill": {
     "duration": 0.0122,
     "end_time": "2024-08-14T19:32:29.012046",
     "exception": false,
     "start_time": "2024-08-14T19:32:28.999846",
     "status": "completed"
    },
    "pycharm": {
     "name": "#%% md\n"
    },
    "tags": []
   },
   "source": [
    "# **K-Nearest Neighbour Models**"
   ]
  },
  {
   "cell_type": "markdown",
   "id": "014fd6bc",
   "metadata": {
    "id": "014fd6bc",
    "papermill": {
     "duration": 0.012149,
     "end_time": "2024-08-14T19:32:29.036834",
     "exception": false,
     "start_time": "2024-08-14T19:32:29.024685",
     "status": "completed"
    },
    "pycharm": {
     "name": "#%% md\n"
    },
    "tags": []
   },
   "source": [
    "In this method, two hyperparameters are really important:\n",
    "\n",
    "**1) K** which is the number of neighbours and\n",
    "\n",
    "**2) metric** which is the method you calculate the distance of the given data with other points."
   ]
  },
  {
   "cell_type": "markdown",
   "id": "fc22dcf8",
   "metadata": {
    "id": "fc22dcf8",
    "papermill": {
     "duration": 0.012961,
     "end_time": "2024-08-14T19:32:29.062731",
     "exception": false,
     "start_time": "2024-08-14T19:32:29.049770",
     "status": "completed"
    },
    "pycharm": {
     "name": "#%% md\n"
    },
    "tags": []
   },
   "source": [
    "## KNN_1"
   ]
  },
  {
   "cell_type": "code",
   "execution_count": null,
   "id": "f972f672",
   "metadata": {
    "execution": {
     "iopub.execute_input": "2024-08-14T19:32:29.091030Z",
     "iopub.status.busy": "2024-08-14T19:32:29.090581Z",
     "iopub.status.idle": "2024-08-14T19:42:16.254064Z",
     "shell.execute_reply": "2024-08-14T19:42:16.252822Z"
    },
    "id": "f972f672",
    "outputId": "76a87435-16c2-439c-acd5-55500dbb3539",
    "papermill": {
     "duration": 587.181142,
     "end_time": "2024-08-14T19:42:16.256774",
     "exception": false,
     "start_time": "2024-08-14T19:32:29.075632",
     "status": "completed"
    },
    "pycharm": {
     "name": "#%%\n"
    },
    "tags": []
   },
   "outputs": [
    {
     "name": "stdout",
     "output_type": "stream",
     "text": [
      "This result is for KNN_1 using best feature list obtained from Random Foresrt method:\n",
      "----------------------------------------------------------------------------------------------------\n",
      "X_train.shape: (400000, 20)\n",
      "x_test.shape: (100000, 20)\n",
      "y_train.shape: (400000,)\n",
      "y_test.shape: (100000,)\n",
      "In the train dataset we have:49469 anomalies with this distribution [350531    303  19910   4672  24584]and 350531 normal points\n",
      "In the test dataset we have:12367 anomalies with this distribution [87633    76  4977  1168  6146] and 87633 normal points\n",
      "****************************************************************************************************\n",
      "After Normalizing we have:\n",
      "X_train_normalized.shape: (400000, 20)\n",
      "x_test_normalized.shape: (100000, 20)\n",
      "****************************************************************************************************\n",
      "**************************************** Performance Table ****************************************\n"
     ]
    },
    {
     "data": {
      "text/html": [
       "<style type=\"text/css\">\n",
       "#T_73d42_row0_col4, #T_73d42_row0_col5, #T_73d42_row1_col4, #T_73d42_row1_col5, #T_73d42_row2_col4, #T_73d42_row2_col5, #T_73d42_row3_col4, #T_73d42_row3_col5, #T_73d42_row4_col4, #T_73d42_row4_col5, #T_73d42_row5_col4, #T_73d42_row5_col5, #T_73d42_row6_col4, #T_73d42_row6_col5, #T_73d42_row7_col4, #T_73d42_row7_col5 {\n",
       "  background-color: #dcdcdc;\n",
       "}\n",
       "</style>\n",
       "<table id=\"T_73d42\">\n",
       "  <thead>\n",
       "    <tr>\n",
       "      <th class=\"blank\" >&nbsp;</th>\n",
       "      <th class=\"blank level0\" >&nbsp;</th>\n",
       "      <th id=\"T_73d42_level0_col0\" class=\"col_heading level0 col0\" >Precision</th>\n",
       "      <th id=\"T_73d42_level0_col1\" class=\"col_heading level0 col1\" >Recall</th>\n",
       "      <th id=\"T_73d42_level0_col2\" class=\"col_heading level0 col2\" >F1_Score</th>\n",
       "      <th id=\"T_73d42_level0_col3\" class=\"col_heading level0 col3\" >Support</th>\n",
       "      <th id=\"T_73d42_level0_col4\" class=\"col_heading level0 col4\" >Training_Time</th>\n",
       "      <th id=\"T_73d42_level0_col5\" class=\"col_heading level0 col5\" >Predicting_Time</th>\n",
       "    </tr>\n",
       "    <tr>\n",
       "      <th class=\"index_name level0\" >Model_name</th>\n",
       "      <th class=\"index_name level1\" >Classes</th>\n",
       "      <th class=\"blank col0\" >&nbsp;</th>\n",
       "      <th class=\"blank col1\" >&nbsp;</th>\n",
       "      <th class=\"blank col2\" >&nbsp;</th>\n",
       "      <th class=\"blank col3\" >&nbsp;</th>\n",
       "      <th class=\"blank col4\" >&nbsp;</th>\n",
       "      <th class=\"blank col5\" >&nbsp;</th>\n",
       "    </tr>\n",
       "  </thead>\n",
       "  <tbody>\n",
       "    <tr>\n",
       "      <th id=\"T_73d42_level0_row0\" class=\"row_heading level0 row0\" rowspan=\"8\">KNN_1</th>\n",
       "      <th id=\"T_73d42_level1_row0\" class=\"row_heading level1 row0\" >Class-0</th>\n",
       "      <td id=\"T_73d42_row0_col0\" class=\"data row0 col0\" >0.999075</td>\n",
       "      <td id=\"T_73d42_row0_col1\" class=\"data row0 col1\" >0.998551</td>\n",
       "      <td id=\"T_73d42_row0_col2\" class=\"data row0 col2\" >0.998813</td>\n",
       "      <td id=\"T_73d42_row0_col3\" class=\"data row0 col3\" >87633.000000</td>\n",
       "      <td id=\"T_73d42_row0_col4\" class=\"data row0 col4\" >0.000779</td>\n",
       "      <td id=\"T_73d42_row0_col5\" class=\"data row0 col5\" >9.770045</td>\n",
       "    </tr>\n",
       "    <tr>\n",
       "      <th id=\"T_73d42_level1_row1\" class=\"row_heading level1 row1\" >Class-1</th>\n",
       "      <td id=\"T_73d42_row1_col0\" class=\"data row1 col0\" >0.740741</td>\n",
       "      <td id=\"T_73d42_row1_col1\" class=\"data row1 col1\" >0.526316</td>\n",
       "      <td id=\"T_73d42_row1_col2\" class=\"data row1 col2\" >0.615385</td>\n",
       "      <td id=\"T_73d42_row1_col3\" class=\"data row1 col3\" >76.000000</td>\n",
       "      <td id=\"T_73d42_row1_col4\" class=\"data row1 col4\" >0.000779</td>\n",
       "      <td id=\"T_73d42_row1_col5\" class=\"data row1 col5\" >9.770045</td>\n",
       "    </tr>\n",
       "    <tr>\n",
       "      <th id=\"T_73d42_level1_row2\" class=\"row_heading level1 row2\" >Class-2</th>\n",
       "      <td id=\"T_73d42_row2_col0\" class=\"data row2 col0\" >0.994599</td>\n",
       "      <td id=\"T_73d42_row2_col1\" class=\"data row2 col1\" >0.998995</td>\n",
       "      <td id=\"T_73d42_row2_col2\" class=\"data row2 col2\" >0.996792</td>\n",
       "      <td id=\"T_73d42_row2_col3\" class=\"data row2 col3\" >4977.000000</td>\n",
       "      <td id=\"T_73d42_row2_col4\" class=\"data row2 col4\" >0.000779</td>\n",
       "      <td id=\"T_73d42_row2_col5\" class=\"data row2 col5\" >9.770045</td>\n",
       "    </tr>\n",
       "    <tr>\n",
       "      <th id=\"T_73d42_level1_row3\" class=\"row_heading level1 row3\" >Class-3</th>\n",
       "      <td id=\"T_73d42_row3_col0\" class=\"data row3 col0\" >0.974935</td>\n",
       "      <td id=\"T_73d42_row3_col1\" class=\"data row3 col1\" >0.965753</td>\n",
       "      <td id=\"T_73d42_row3_col2\" class=\"data row3 col2\" >0.970323</td>\n",
       "      <td id=\"T_73d42_row3_col3\" class=\"data row3 col3\" >1168.000000</td>\n",
       "      <td id=\"T_73d42_row3_col4\" class=\"data row3 col4\" >0.000779</td>\n",
       "      <td id=\"T_73d42_row3_col5\" class=\"data row3 col5\" >9.770045</td>\n",
       "    </tr>\n",
       "    <tr>\n",
       "      <th id=\"T_73d42_level1_row4\" class=\"row_heading level1 row4\" >Class-4</th>\n",
       "      <td id=\"T_73d42_row4_col0\" class=\"data row4 col0\" >0.990488</td>\n",
       "      <td id=\"T_73d42_row4_col1\" class=\"data row4 col1\" >0.999675</td>\n",
       "      <td id=\"T_73d42_row4_col2\" class=\"data row4 col2\" >0.995060</td>\n",
       "      <td id=\"T_73d42_row4_col3\" class=\"data row4 col3\" >6146.000000</td>\n",
       "      <td id=\"T_73d42_row4_col4\" class=\"data row4 col4\" >0.000779</td>\n",
       "      <td id=\"T_73d42_row4_col5\" class=\"data row4 col5\" >9.770045</td>\n",
       "    </tr>\n",
       "    <tr>\n",
       "      <th id=\"T_73d42_level1_row5\" class=\"row_heading level1 row5\" >accuracy</th>\n",
       "      <td id=\"T_73d42_row5_col0\" class=\"data row5 col0\" >0.997900</td>\n",
       "      <td id=\"T_73d42_row5_col1\" class=\"data row5 col1\" >0.997900</td>\n",
       "      <td id=\"T_73d42_row5_col2\" class=\"data row5 col2\" >0.997900</td>\n",
       "      <td id=\"T_73d42_row5_col3\" class=\"data row5 col3\" >0.997900</td>\n",
       "      <td id=\"T_73d42_row5_col4\" class=\"data row5 col4\" >0.000779</td>\n",
       "      <td id=\"T_73d42_row5_col5\" class=\"data row5 col5\" >9.770045</td>\n",
       "    </tr>\n",
       "    <tr>\n",
       "      <th id=\"T_73d42_level1_row6\" class=\"row_heading level1 row6\" >macro avg</th>\n",
       "      <td id=\"T_73d42_row6_col0\" class=\"data row6 col0\" >0.939968</td>\n",
       "      <td id=\"T_73d42_row6_col1\" class=\"data row6 col1\" >0.897858</td>\n",
       "      <td id=\"T_73d42_row6_col2\" class=\"data row6 col2\" >0.915275</td>\n",
       "      <td id=\"T_73d42_row6_col3\" class=\"data row6 col3\" >100000.000000</td>\n",
       "      <td id=\"T_73d42_row6_col4\" class=\"data row6 col4\" >0.000779</td>\n",
       "      <td id=\"T_73d42_row6_col5\" class=\"data row6 col5\" >9.770045</td>\n",
       "    </tr>\n",
       "    <tr>\n",
       "      <th id=\"T_73d42_level1_row7\" class=\"row_heading level1 row7\" >weighted avg</th>\n",
       "      <td id=\"T_73d42_row7_col0\" class=\"data row7 col0\" >0.997846</td>\n",
       "      <td id=\"T_73d42_row7_col1\" class=\"data row7 col1\" >0.997900</td>\n",
       "      <td id=\"T_73d42_row7_col2\" class=\"data row7 col2\" >0.997858</td>\n",
       "      <td id=\"T_73d42_row7_col3\" class=\"data row7 col3\" >100000.000000</td>\n",
       "      <td id=\"T_73d42_row7_col4\" class=\"data row7 col4\" >0.000779</td>\n",
       "      <td id=\"T_73d42_row7_col5\" class=\"data row7 col5\" >9.770045</td>\n",
       "    </tr>\n",
       "  </tbody>\n",
       "</table>\n"
      ],
      "text/plain": [
       "<pandas.io.formats.style.Styler at 0x79017431cd90>"
      ]
     },
     "metadata": {},
     "output_type": "display_data"
    },
    {
     "name": "stdout",
     "output_type": "stream",
     "text": [
      "\n",
      "It takes you  10 minutes to see KNN_1\n"
     ]
    }
   ],
   "source": [
    "from sklearn.neighbors import KNeighborsClassifier\n",
    "\n",
    "# Step0) Hyperparameters\n",
    "k = 3 # Number of neighbors\n",
    "p = 2 # Power parameter for the Minkowski metric. When p = 1, this is equivalent to using manhattan_distance (l1), and euclidean_distance (l2) for p = 2.\n",
    "metric = 'manhattan' # Or it can be 'euclidean' , 'manhattan', 'l2'\n",
    "\n",
    "# Step1) We start running models with best feature list obtained from Random Forest\n",
    "\n",
    "best_feature_list = best_feature_list_from_RF\n",
    "print('This result is for KNN_1 using best feature list obtained from Random Foresrt method:')\n",
    "print('-'*100)\n",
    "\n",
    "# Step2) Splitting\n",
    "X_train, x_test, y_train, y_test = spliting(df= clean_df, best_feature_list= best_feature_list)\n",
    "\n",
    "# Step3) Normalizing\n",
    "X_train_normalized, x_test_normalized = normalizing(X_train, x_test)\n",
    "\n",
    "# Define Model\n",
    "def knn_model(X_train_normalized,y_train,k,metric):\n",
    "\n",
    "  knn = KNeighborsClassifier(n_neighbors=k,metric=metric)\n",
    "\n",
    "  start_time = time.time()\n",
    "  model = knn.fit(X_train_normalized,y_train )\n",
    "  stop_time = time.time()\n",
    "\n",
    "  train_time = (stop_time-start_time)/60\n",
    "\n",
    "  return model, train_time\n",
    "\n",
    "# Step4) Call Model\n",
    "k_NN_model, train_time = knn_model(X_train_normalized,y_train,k,metric)\n",
    "\n",
    "# Define pred function\n",
    "def pred_knn(model,x_test_normalized):\n",
    "\n",
    "  start_time = time.time()\n",
    "  predictions = model.predict(x_test_normalized)\n",
    "  stop_time = time.time()\n",
    "\n",
    "  pred_time = (stop_time-start_time)/60\n",
    "\n",
    "  return predictions,pred_time\n",
    "\n",
    "# Step5) Call pred function\n",
    "y_pred, pred_time = pred_knn(k_NN_model,x_test_normalized)\n",
    "\n",
    "# Step6) Call Performance\n",
    "print('*'*40,'Performance Table','*'*40)\n",
    "_,KNN_1_performance_df  = performance('KNN_1',y_test,y_pred,clean_df,train_time,pred_time)\n",
    "print(f'\\nIt takes you  {int((time.time() - initial_time)/60)} minutes to see KNN_1')\n",
    "\n",
    "# Step7) Save model performance\n",
    "current_working_dir = os.getcwd()\n",
    "os.makedirs(os.path.join(current_working_dir,'Models_results'),exist_ok=True)\n",
    "Model_results_folder = os.path.join(current_working_dir,'Models_results')\n",
    "KNN_1_performance_df.to_csv(os.path.join(Model_results_folder,'KNN_1_performance_df.csv'),index=True)\n"
   ]
  },
  {
   "cell_type": "markdown",
   "id": "4ec0d02b",
   "metadata": {
    "id": "4ec0d02b",
    "papermill": {
     "duration": 0.013794,
     "end_time": "2024-08-14T19:42:16.284853",
     "exception": false,
     "start_time": "2024-08-14T19:42:16.271059",
     "status": "completed"
    },
    "pycharm": {
     "name": "#%% md\n"
    },
    "tags": []
   },
   "source": [
    "## KNN_2"
   ]
  },
  {
   "cell_type": "code",
   "execution_count": null,
   "id": "cba3b4d7",
   "metadata": {
    "execution": {
     "iopub.execute_input": "2024-08-14T19:42:16.313798Z",
     "iopub.status.busy": "2024-08-14T19:42:16.313032Z",
     "iopub.status.idle": "2024-08-14T19:52:03.735091Z",
     "shell.execute_reply": "2024-08-14T19:52:03.733931Z"
    },
    "id": "cba3b4d7",
    "outputId": "189eb25a-f8c5-446b-bcb3-28acd414df9b",
    "papermill": {
     "duration": 587.451523,
     "end_time": "2024-08-14T19:52:03.749852",
     "exception": false,
     "start_time": "2024-08-14T19:42:16.298329",
     "status": "completed"
    },
    "pycharm": {
     "name": "#%%\n"
    },
    "tags": []
   },
   "outputs": [
    {
     "name": "stdout",
     "output_type": "stream",
     "text": [
      "This result is for KNN_2 using best feature list obtained from Mutual Information method:\n",
      "----------------------------------------------------------------------------------------------------\n",
      "X_train.shape: (400000, 20)\n",
      "x_test.shape: (100000, 20)\n",
      "y_train.shape: (400000,)\n",
      "y_test.shape: (100000,)\n",
      "In the train dataset we have:49469 anomalies with this distribution [350531    303  19910   4672  24584]and 350531 normal points\n",
      "In the test dataset we have:12367 anomalies with this distribution [87633    76  4977  1168  6146] and 87633 normal points\n",
      "****************************************************************************************************\n",
      "After Normalizing we have:\n",
      "X_train_normalized.shape: (400000, 20)\n",
      "x_test_normalized.shape: (100000, 20)\n",
      "****************************************************************************************************\n",
      "**************************************** Performance Table ****************************************\n"
     ]
    },
    {
     "data": {
      "text/html": [
       "<style type=\"text/css\">\n",
       "#T_e934a_row0_col4, #T_e934a_row0_col5, #T_e934a_row1_col4, #T_e934a_row1_col5, #T_e934a_row2_col4, #T_e934a_row2_col5, #T_e934a_row3_col4, #T_e934a_row3_col5, #T_e934a_row4_col4, #T_e934a_row4_col5, #T_e934a_row5_col4, #T_e934a_row5_col5, #T_e934a_row6_col4, #T_e934a_row6_col5, #T_e934a_row7_col4, #T_e934a_row7_col5 {\n",
       "  background-color: #dcdcdc;\n",
       "}\n",
       "</style>\n",
       "<table id=\"T_e934a\">\n",
       "  <thead>\n",
       "    <tr>\n",
       "      <th class=\"blank\" >&nbsp;</th>\n",
       "      <th class=\"blank level0\" >&nbsp;</th>\n",
       "      <th id=\"T_e934a_level0_col0\" class=\"col_heading level0 col0\" >Precision</th>\n",
       "      <th id=\"T_e934a_level0_col1\" class=\"col_heading level0 col1\" >Recall</th>\n",
       "      <th id=\"T_e934a_level0_col2\" class=\"col_heading level0 col2\" >F1_Score</th>\n",
       "      <th id=\"T_e934a_level0_col3\" class=\"col_heading level0 col3\" >Support</th>\n",
       "      <th id=\"T_e934a_level0_col4\" class=\"col_heading level0 col4\" >Training_Time</th>\n",
       "      <th id=\"T_e934a_level0_col5\" class=\"col_heading level0 col5\" >Predicting_Time</th>\n",
       "    </tr>\n",
       "    <tr>\n",
       "      <th class=\"index_name level0\" >Model_name</th>\n",
       "      <th class=\"index_name level1\" >Classes</th>\n",
       "      <th class=\"blank col0\" >&nbsp;</th>\n",
       "      <th class=\"blank col1\" >&nbsp;</th>\n",
       "      <th class=\"blank col2\" >&nbsp;</th>\n",
       "      <th class=\"blank col3\" >&nbsp;</th>\n",
       "      <th class=\"blank col4\" >&nbsp;</th>\n",
       "      <th class=\"blank col5\" >&nbsp;</th>\n",
       "    </tr>\n",
       "  </thead>\n",
       "  <tbody>\n",
       "    <tr>\n",
       "      <th id=\"T_e934a_level0_row0\" class=\"row_heading level0 row0\" rowspan=\"8\">KNN_2</th>\n",
       "      <th id=\"T_e934a_level1_row0\" class=\"row_heading level1 row0\" >Class-0</th>\n",
       "      <td id=\"T_e934a_row0_col0\" class=\"data row0 col0\" >0.999030</td>\n",
       "      <td id=\"T_e934a_row0_col1\" class=\"data row0 col1\" >0.998653</td>\n",
       "      <td id=\"T_e934a_row0_col2\" class=\"data row0 col2\" >0.998842</td>\n",
       "      <td id=\"T_e934a_row0_col3\" class=\"data row0 col3\" >87633.000000</td>\n",
       "      <td id=\"T_e934a_row0_col4\" class=\"data row0 col4\" >0.000729</td>\n",
       "      <td id=\"T_e934a_row0_col5\" class=\"data row0 col5\" >9.779687</td>\n",
       "    </tr>\n",
       "    <tr>\n",
       "      <th id=\"T_e934a_level1_row1\" class=\"row_heading level1 row1\" >Class-1</th>\n",
       "      <td id=\"T_e934a_row1_col0\" class=\"data row1 col0\" >0.750000</td>\n",
       "      <td id=\"T_e934a_row1_col1\" class=\"data row1 col1\" >0.513158</td>\n",
       "      <td id=\"T_e934a_row1_col2\" class=\"data row1 col2\" >0.609375</td>\n",
       "      <td id=\"T_e934a_row1_col3\" class=\"data row1 col3\" >76.000000</td>\n",
       "      <td id=\"T_e934a_row1_col4\" class=\"data row1 col4\" >0.000729</td>\n",
       "      <td id=\"T_e934a_row1_col5\" class=\"data row1 col5\" >9.779687</td>\n",
       "    </tr>\n",
       "    <tr>\n",
       "      <th id=\"T_e934a_level1_row2\" class=\"row_heading level1 row2\" >Class-2</th>\n",
       "      <td id=\"T_e934a_row2_col0\" class=\"data row2 col0\" >0.995595</td>\n",
       "      <td id=\"T_e934a_row2_col1\" class=\"data row2 col1\" >0.998995</td>\n",
       "      <td id=\"T_e934a_row2_col2\" class=\"data row2 col2\" >0.997292</td>\n",
       "      <td id=\"T_e934a_row2_col3\" class=\"data row2 col3\" >4977.000000</td>\n",
       "      <td id=\"T_e934a_row2_col4\" class=\"data row2 col4\" >0.000729</td>\n",
       "      <td id=\"T_e934a_row2_col5\" class=\"data row2 col5\" >9.779687</td>\n",
       "    </tr>\n",
       "    <tr>\n",
       "      <th id=\"T_e934a_level1_row3\" class=\"row_heading level1 row3\" >Class-3</th>\n",
       "      <td id=\"T_e934a_row3_col0\" class=\"data row3 col0\" >0.974870</td>\n",
       "      <td id=\"T_e934a_row3_col1\" class=\"data row3 col1\" >0.963185</td>\n",
       "      <td id=\"T_e934a_row3_col2\" class=\"data row3 col2\" >0.968992</td>\n",
       "      <td id=\"T_e934a_row3_col3\" class=\"data row3 col3\" >1168.000000</td>\n",
       "      <td id=\"T_e934a_row3_col4\" class=\"data row3 col4\" >0.000729</td>\n",
       "      <td id=\"T_e934a_row3_col5\" class=\"data row3 col5\" >9.779687</td>\n",
       "    </tr>\n",
       "    <tr>\n",
       "      <th id=\"T_e934a_level1_row4\" class=\"row_heading level1 row4\" >Class-4</th>\n",
       "      <td id=\"T_e934a_row4_col0\" class=\"data row4 col0\" >0.990968</td>\n",
       "      <td id=\"T_e934a_row4_col1\" class=\"data row4 col1\" >0.999675</td>\n",
       "      <td id=\"T_e934a_row4_col2\" class=\"data row4 col2\" >0.995302</td>\n",
       "      <td id=\"T_e934a_row4_col3\" class=\"data row4 col3\" >6146.000000</td>\n",
       "      <td id=\"T_e934a_row4_col4\" class=\"data row4 col4\" >0.000729</td>\n",
       "      <td id=\"T_e934a_row4_col5\" class=\"data row4 col5\" >9.779687</td>\n",
       "    </tr>\n",
       "    <tr>\n",
       "      <th id=\"T_e934a_level1_row5\" class=\"row_heading level1 row5\" >accuracy</th>\n",
       "      <td id=\"T_e934a_row5_col0\" class=\"data row5 col0\" >0.997950</td>\n",
       "      <td id=\"T_e934a_row5_col1\" class=\"data row5 col1\" >0.997950</td>\n",
       "      <td id=\"T_e934a_row5_col2\" class=\"data row5 col2\" >0.997950</td>\n",
       "      <td id=\"T_e934a_row5_col3\" class=\"data row5 col3\" >0.997950</td>\n",
       "      <td id=\"T_e934a_row5_col4\" class=\"data row5 col4\" >0.000729</td>\n",
       "      <td id=\"T_e934a_row5_col5\" class=\"data row5 col5\" >9.779687</td>\n",
       "    </tr>\n",
       "    <tr>\n",
       "      <th id=\"T_e934a_level1_row6\" class=\"row_heading level1 row6\" >macro avg</th>\n",
       "      <td id=\"T_e934a_row6_col0\" class=\"data row6 col0\" >0.942092</td>\n",
       "      <td id=\"T_e934a_row6_col1\" class=\"data row6 col1\" >0.894733</td>\n",
       "      <td id=\"T_e934a_row6_col2\" class=\"data row6 col2\" >0.913961</td>\n",
       "      <td id=\"T_e934a_row6_col3\" class=\"data row6 col3\" >100000.000000</td>\n",
       "      <td id=\"T_e934a_row6_col4\" class=\"data row6 col4\" >0.000729</td>\n",
       "      <td id=\"T_e934a_row6_col5\" class=\"data row6 col5\" >9.779687</td>\n",
       "    </tr>\n",
       "    <tr>\n",
       "      <th id=\"T_e934a_level1_row7\" class=\"row_heading level1 row7\" >weighted avg</th>\n",
       "      <td id=\"T_e934a_row7_col0\" class=\"data row7 col0\" >0.997892</td>\n",
       "      <td id=\"T_e934a_row7_col1\" class=\"data row7 col1\" >0.997950</td>\n",
       "      <td id=\"T_e934a_row7_col2\" class=\"data row7 col2\" >0.997902</td>\n",
       "      <td id=\"T_e934a_row7_col3\" class=\"data row7 col3\" >100000.000000</td>\n",
       "      <td id=\"T_e934a_row7_col4\" class=\"data row7 col4\" >0.000729</td>\n",
       "      <td id=\"T_e934a_row7_col5\" class=\"data row7 col5\" >9.779687</td>\n",
       "    </tr>\n",
       "  </tbody>\n",
       "</table>\n"
      ],
      "text/plain": [
       "<pandas.io.formats.style.Styler at 0x7901742f7be0>"
      ]
     },
     "metadata": {},
     "output_type": "display_data"
    },
    {
     "name": "stdout",
     "output_type": "stream",
     "text": [
      "It takes you  19 minutes to see KNN_2\n"
     ]
    }
   ],
   "source": [
    "#The result is good but let's see wheater we can do better or not. Let's try different feature lsit obtained from feature selection part.\n",
    "\n",
    "# Step1) Choose another set of features\n",
    "best_feature_list = best_feature_list_from_MI\n",
    "print('This result is for KNN_2 using best feature list obtained from Mutual Information method:')\n",
    "print('-'*100)\n",
    "\n",
    "# Step2) Splitting\n",
    "X_train, x_test, y_train, y_test = spliting(df= clean_df, best_feature_list= best_feature_list)\n",
    "\n",
    "# Step3) Normalizing\n",
    "X_train_normalized, x_test_normalized = normalizing(X_train, x_test)\n",
    "\n",
    "# Step4) Call Model\n",
    "k_NN_model, train_time = knn_model(X_train_normalized,y_train,k,metric)\n",
    "\n",
    "# Step5) Call pred function\n",
    "y_pred, pred_time = pred_knn(k_NN_model,x_test_normalized)\n",
    "\n",
    "\n",
    "# Step6) Call Performance\n",
    "print('*'*40,'Performance Table','*'*40)\n",
    "_,KNN_2_performance_df  = performance('KNN_2',y_test,y_pred,clean_df,train_time,pred_time)\n",
    "print(f'It takes you  {int((time.time() - initial_time)/60)} minutes to see KNN_2')\n",
    "\n",
    "# Step7) Save model performance\n",
    "KNN_2_performance_df.to_csv(os.path.join(Model_results_folder,'KNN_2_performance_df.csv'),index=True)\n"
   ]
  },
  {
   "cell_type": "markdown",
   "id": "3af5e19c",
   "metadata": {
    "id": "3af5e19c",
    "papermill": {
     "duration": 0.014437,
     "end_time": "2024-08-14T19:52:03.779005",
     "exception": false,
     "start_time": "2024-08-14T19:52:03.764568",
     "status": "completed"
    },
    "pycharm": {
     "name": "#%% md\n"
    },
    "tags": []
   },
   "source": [
    "## KNN_3"
   ]
  },
  {
   "cell_type": "code",
   "execution_count": null,
   "id": "e5901fb6",
   "metadata": {
    "execution": {
     "iopub.execute_input": "2024-08-14T19:52:03.809626Z",
     "iopub.status.busy": "2024-08-14T19:52:03.809165Z",
     "iopub.status.idle": "2024-08-14T20:01:52.315888Z",
     "shell.execute_reply": "2024-08-14T20:01:52.314167Z"
    },
    "id": "e5901fb6",
    "outputId": "38bf13d6-166b-4801-c134-6fb07ec2dede",
    "papermill": {
     "duration": 588.541025,
     "end_time": "2024-08-14T20:01:52.334314",
     "exception": false,
     "start_time": "2024-08-14T19:52:03.793289",
     "status": "completed"
    },
    "pycharm": {
     "name": "#%%\n"
    },
    "tags": []
   },
   "outputs": [
    {
     "name": "stdout",
     "output_type": "stream",
     "text": [
      "This result is for KNN_3 using best feature list obtained from Anova method:\n",
      "----------------------------------------------------------------------------------------------------\n",
      "X_train.shape: (400000, 20)\n",
      "x_test.shape: (100000, 20)\n",
      "y_train.shape: (400000,)\n",
      "y_test.shape: (100000,)\n",
      "In the train dataset we have:49469 anomalies with this distribution [350531    303  19910   4672  24584]and 350531 normal points\n",
      "In the test dataset we have:12367 anomalies with this distribution [87633    76  4977  1168  6146] and 87633 normal points\n",
      "****************************************************************************************************\n",
      "After Normalizing we have:\n",
      "X_train_normalized.shape: (400000, 20)\n",
      "x_test_normalized.shape: (100000, 20)\n",
      "****************************************************************************************************\n",
      "**************************************** Performance Table ****************************************\n"
     ]
    },
    {
     "data": {
      "text/html": [
       "<style type=\"text/css\">\n",
       "#T_3d1de_row0_col4, #T_3d1de_row0_col5, #T_3d1de_row1_col4, #T_3d1de_row1_col5, #T_3d1de_row2_col4, #T_3d1de_row2_col5, #T_3d1de_row3_col4, #T_3d1de_row3_col5, #T_3d1de_row4_col4, #T_3d1de_row4_col5, #T_3d1de_row5_col4, #T_3d1de_row5_col5, #T_3d1de_row6_col4, #T_3d1de_row6_col5, #T_3d1de_row7_col4, #T_3d1de_row7_col5 {\n",
       "  background-color: #dcdcdc;\n",
       "}\n",
       "</style>\n",
       "<table id=\"T_3d1de\">\n",
       "  <thead>\n",
       "    <tr>\n",
       "      <th class=\"blank\" >&nbsp;</th>\n",
       "      <th class=\"blank level0\" >&nbsp;</th>\n",
       "      <th id=\"T_3d1de_level0_col0\" class=\"col_heading level0 col0\" >Precision</th>\n",
       "      <th id=\"T_3d1de_level0_col1\" class=\"col_heading level0 col1\" >Recall</th>\n",
       "      <th id=\"T_3d1de_level0_col2\" class=\"col_heading level0 col2\" >F1_Score</th>\n",
       "      <th id=\"T_3d1de_level0_col3\" class=\"col_heading level0 col3\" >Support</th>\n",
       "      <th id=\"T_3d1de_level0_col4\" class=\"col_heading level0 col4\" >Training_Time</th>\n",
       "      <th id=\"T_3d1de_level0_col5\" class=\"col_heading level0 col5\" >Predicting_Time</th>\n",
       "    </tr>\n",
       "    <tr>\n",
       "      <th class=\"index_name level0\" >Model_name</th>\n",
       "      <th class=\"index_name level1\" >Classes</th>\n",
       "      <th class=\"blank col0\" >&nbsp;</th>\n",
       "      <th class=\"blank col1\" >&nbsp;</th>\n",
       "      <th class=\"blank col2\" >&nbsp;</th>\n",
       "      <th class=\"blank col3\" >&nbsp;</th>\n",
       "      <th class=\"blank col4\" >&nbsp;</th>\n",
       "      <th class=\"blank col5\" >&nbsp;</th>\n",
       "    </tr>\n",
       "  </thead>\n",
       "  <tbody>\n",
       "    <tr>\n",
       "      <th id=\"T_3d1de_level0_row0\" class=\"row_heading level0 row0\" rowspan=\"8\">KNN_3</th>\n",
       "      <th id=\"T_3d1de_level1_row0\" class=\"row_heading level1 row0\" >Class-0</th>\n",
       "      <td id=\"T_3d1de_row0_col0\" class=\"data row0 col0\" >0.998025</td>\n",
       "      <td id=\"T_3d1de_row0_col1\" class=\"data row0 col1\" >0.997353</td>\n",
       "      <td id=\"T_3d1de_row0_col2\" class=\"data row0 col2\" >0.997688</td>\n",
       "      <td id=\"T_3d1de_row0_col3\" class=\"data row0 col3\" >87633.000000</td>\n",
       "      <td id=\"T_3d1de_row0_col4\" class=\"data row0 col4\" >0.000760</td>\n",
       "      <td id=\"T_3d1de_row0_col5\" class=\"data row0 col5\" >9.797460</td>\n",
       "    </tr>\n",
       "    <tr>\n",
       "      <th id=\"T_3d1de_level1_row1\" class=\"row_heading level1 row1\" >Class-1</th>\n",
       "      <td id=\"T_3d1de_row1_col0\" class=\"data row1 col0\" >0.709091</td>\n",
       "      <td id=\"T_3d1de_row1_col1\" class=\"data row1 col1\" >0.513158</td>\n",
       "      <td id=\"T_3d1de_row1_col2\" class=\"data row1 col2\" >0.595420</td>\n",
       "      <td id=\"T_3d1de_row1_col3\" class=\"data row1 col3\" >76.000000</td>\n",
       "      <td id=\"T_3d1de_row1_col4\" class=\"data row1 col4\" >0.000760</td>\n",
       "      <td id=\"T_3d1de_row1_col5\" class=\"data row1 col5\" >9.797460</td>\n",
       "    </tr>\n",
       "    <tr>\n",
       "      <th id=\"T_3d1de_level1_row2\" class=\"row_heading level1 row2\" >Class-2</th>\n",
       "      <td id=\"T_3d1de_row2_col0\" class=\"data row2 col0\" >0.979515</td>\n",
       "      <td id=\"T_3d1de_row2_col1\" class=\"data row2 col1\" >0.989552</td>\n",
       "      <td id=\"T_3d1de_row2_col2\" class=\"data row2 col2\" >0.984508</td>\n",
       "      <td id=\"T_3d1de_row2_col3\" class=\"data row2 col3\" >4977.000000</td>\n",
       "      <td id=\"T_3d1de_row2_col4\" class=\"data row2 col4\" >0.000760</td>\n",
       "      <td id=\"T_3d1de_row2_col5\" class=\"data row2 col5\" >9.797460</td>\n",
       "    </tr>\n",
       "    <tr>\n",
       "      <th id=\"T_3d1de_level1_row3\" class=\"row_heading level1 row3\" >Class-3</th>\n",
       "      <td id=\"T_3d1de_row3_col0\" class=\"data row3 col0\" >0.948381</td>\n",
       "      <td id=\"T_3d1de_row3_col1\" class=\"data row3 col1\" >0.928082</td>\n",
       "      <td id=\"T_3d1de_row3_col2\" class=\"data row3 col2\" >0.938122</td>\n",
       "      <td id=\"T_3d1de_row3_col3\" class=\"data row3 col3\" >1168.000000</td>\n",
       "      <td id=\"T_3d1de_row3_col4\" class=\"data row3 col4\" >0.000760</td>\n",
       "      <td id=\"T_3d1de_row3_col5\" class=\"data row3 col5\" >9.797460</td>\n",
       "    </tr>\n",
       "    <tr>\n",
       "      <th id=\"T_3d1de_level1_row4\" class=\"row_heading level1 row4\" >Class-4</th>\n",
       "      <td id=\"T_3d1de_row4_col0\" class=\"data row4 col0\" >0.990968</td>\n",
       "      <td id=\"T_3d1de_row4_col1\" class=\"data row4 col1\" >0.999675</td>\n",
       "      <td id=\"T_3d1de_row4_col2\" class=\"data row4 col2\" >0.995302</td>\n",
       "      <td id=\"T_3d1de_row4_col3\" class=\"data row4 col3\" >6146.000000</td>\n",
       "      <td id=\"T_3d1de_row4_col4\" class=\"data row4 col4\" >0.000760</td>\n",
       "      <td id=\"T_3d1de_row4_col5\" class=\"data row4 col5\" >9.797460</td>\n",
       "    </tr>\n",
       "    <tr>\n",
       "      <th id=\"T_3d1de_level1_row5\" class=\"row_heading level1 row5\" >accuracy</th>\n",
       "      <td id=\"T_3d1de_row5_col0\" class=\"data row5 col0\" >0.995930</td>\n",
       "      <td id=\"T_3d1de_row5_col1\" class=\"data row5 col1\" >0.995930</td>\n",
       "      <td id=\"T_3d1de_row5_col2\" class=\"data row5 col2\" >0.995930</td>\n",
       "      <td id=\"T_3d1de_row5_col3\" class=\"data row5 col3\" >0.995930</td>\n",
       "      <td id=\"T_3d1de_row5_col4\" class=\"data row5 col4\" >0.000760</td>\n",
       "      <td id=\"T_3d1de_row5_col5\" class=\"data row5 col5\" >9.797460</td>\n",
       "    </tr>\n",
       "    <tr>\n",
       "      <th id=\"T_3d1de_level1_row6\" class=\"row_heading level1 row6\" >macro avg</th>\n",
       "      <td id=\"T_3d1de_row6_col0\" class=\"data row6 col0\" >0.925196</td>\n",
       "      <td id=\"T_3d1de_row6_col1\" class=\"data row6 col1\" >0.885564</td>\n",
       "      <td id=\"T_3d1de_row6_col2\" class=\"data row6 col2\" >0.902208</td>\n",
       "      <td id=\"T_3d1de_row6_col3\" class=\"data row6 col3\" >100000.000000</td>\n",
       "      <td id=\"T_3d1de_row6_col4\" class=\"data row6 col4\" >0.000760</td>\n",
       "      <td id=\"T_3d1de_row6_col5\" class=\"data row6 col5\" >9.797460</td>\n",
       "    </tr>\n",
       "    <tr>\n",
       "      <th id=\"T_3d1de_level1_row7\" class=\"row_heading level1 row7\" >weighted avg</th>\n",
       "      <td id=\"T_3d1de_row7_col0\" class=\"data row7 col0\" >0.995870</td>\n",
       "      <td id=\"T_3d1de_row7_col1\" class=\"data row7 col1\" >0.995930</td>\n",
       "      <td id=\"T_3d1de_row7_col2\" class=\"data row7 col2\" >0.995884</td>\n",
       "      <td id=\"T_3d1de_row7_col3\" class=\"data row7 col3\" >100000.000000</td>\n",
       "      <td id=\"T_3d1de_row7_col4\" class=\"data row7 col4\" >0.000760</td>\n",
       "      <td id=\"T_3d1de_row7_col5\" class=\"data row7 col5\" >9.797460</td>\n",
       "    </tr>\n",
       "  </tbody>\n",
       "</table>\n"
      ],
      "text/plain": [
       "<pandas.io.formats.style.Styler at 0x790174fd3790>"
      ]
     },
     "metadata": {},
     "output_type": "display_data"
    },
    {
     "name": "stdout",
     "output_type": "stream",
     "text": [
      "It takes you  29 minutes to see KNN_3\n"
     ]
    }
   ],
   "source": [
    "#The result is good but let's see wheater we can do better or not. Let's try different feature lsit obtained from feature selection part.\n",
    "\n",
    "# Step1) Choose another set of features\n",
    "best_feature_list = best_feature_list_from_Anova\n",
    "print('This result is for KNN_3 using best feature list obtained from Anova method:')\n",
    "print('-'*100)\n",
    "\n",
    "# Step2) Splitting\n",
    "X_train, x_test, y_train, y_test = spliting(df= clean_df, best_feature_list= best_feature_list)\n",
    "\n",
    "# Step3) Normalizing\n",
    "X_train_normalized, x_test_normalized = normalizing(X_train, x_test)\n",
    "\n",
    "# Step4) Call Model\n",
    "k_NN_model, train_time = knn_model(X_train_normalized,y_train,k,metric)\n",
    "\n",
    "# Step5) Call pred function\n",
    "y_pred, pred_time = pred_knn(k_NN_model,x_test_normalized)\n",
    "\n",
    "\n",
    "# Step6) Call Performance\n",
    "print('*'*40,'Performance Table','*'*40)\n",
    "_,KNN_3_performance_df  = performance('KNN_3',y_test,y_pred,clean_df,train_time,pred_time)\n",
    "print(f'It takes you  {int((time.time() - initial_time)/60)} minutes to see KNN_3')\n",
    "\n",
    "# Step7) Save model performance\n",
    "KNN_3_performance_df.to_csv(os.path.join(Model_results_folder,'KNN_3_performance_df.csv'),index=True)\n"
   ]
  },
  {
   "cell_type": "markdown",
   "id": "b91769cd",
   "metadata": {
    "id": "b91769cd",
    "papermill": {
     "duration": 0.015132,
     "end_time": "2024-08-14T20:01:52.437327",
     "exception": false,
     "start_time": "2024-08-14T20:01:52.422195",
     "status": "completed"
    },
    "pycharm": {
     "name": "#%% md\n"
    },
    "tags": []
   },
   "source": [
    "# **KNN_models Performance**"
   ]
  },
  {
   "cell_type": "code",
   "execution_count": null,
   "id": "a0dd2aa6",
   "metadata": {
    "execution": {
     "iopub.execute_input": "2024-08-14T20:01:52.473183Z",
     "iopub.status.busy": "2024-08-14T20:01:52.472750Z",
     "iopub.status.idle": "2024-08-14T20:01:53.012372Z",
     "shell.execute_reply": "2024-08-14T20:01:53.010961Z"
    },
    "id": "a0dd2aa6",
    "outputId": "eef7b54d-aeb4-478d-82b6-e4dd0a02a6b9",
    "papermill": {
     "duration": 0.560327,
     "end_time": "2024-08-14T20:01:53.015122",
     "exception": false,
     "start_time": "2024-08-14T20:01:52.454795",
     "status": "completed"
    },
    "pycharm": {
     "name": "#%%\n"
    },
    "tags": []
   },
   "outputs": [
    {
     "data": {
      "image/png": "[encoded data removed]",
      "text/plain": [
       "<Figure size 800x500 with 1 Axes>"
      ]
     },
     "metadata": {},
     "output_type": "display_data"
    }
   ],
   "source": [
    "# Let's see the the performance of three KNNs\n",
    "model_names = ['KNN_1','KNN_2','KNN_3']\n",
    "Accuracy_list, F1_Score_Macro_Avg_list,F1_Score_Weighted_Avg_list = [],[],[]\n",
    "Accuracy_list = np.round([KNN_1_performance_df['F1_Score'][-3],KNN_2_performance_df['F1_Score'][-3],KNN_3_performance_df['F1_Score'][-3]],3)\n",
    "F1_Score_Macro_Avg_list = np.round([KNN_1_performance_df['F1_Score'][-2],KNN_2_performance_df['F1_Score'][-2],KNN_3_performance_df['F1_Score'][-2]],3)\n",
    "F1_Score_Weighted_Avg_list = np.round([KNN_1_performance_df['F1_Score'][-1],KNN_2_performance_df['F1_Score'][-1],KNN_3_performance_df['F1_Score'][-1]],3)\n",
    "plot_performance(model_names, F1_Score_Macro_Avg_list, F1_Score_Weighted_Avg_list,Accuracy_list)"
   ]
  },
  {
   "cell_type": "code",
   "execution_count": null,
   "id": "7339075a",
   "metadata": {
    "execution": {
     "iopub.execute_input": "2024-08-14T20:01:53.051309Z",
     "iopub.status.busy": "2024-08-14T20:01:53.050468Z",
     "iopub.status.idle": "2024-08-14T20:01:53.057787Z",
     "shell.execute_reply": "2024-08-14T20:01:53.056101Z"
    },
    "id": "7339075a",
    "outputId": "06bbde83-fc0b-4f52-af09-2738e1d1e7a5",
    "papermill": {
     "duration": 0.029405,
     "end_time": "2024-08-14T20:01:53.060449",
     "exception": false,
     "start_time": "2024-08-14T20:01:53.031044",
     "status": "completed"
    },
    "pycharm": {
     "name": "#%%\n"
    },
    "tags": []
   },
   "outputs": [
    {
     "name": "stdout",
     "output_type": "stream",
     "text": [
      "All Duration:\n",
      "29.7953884601593 Minutes\n"
     ]
    }
   ],
   "source": [
    "last_time = time.time()\n",
    "print('All Duration:')\n",
    "print((last_time - initial_time )/60,'Minutes')"
   ]
  }
 ],
 "metadata": {
  "colab": {
   "collapsed_sections": [
    "330cc221"
   ],
   "provenance": [],
   "include_colab_link": true
  },
  "kaggle": {
   "accelerator": "none",
   "dataSources": [],
   "dockerImageVersionId": 30746,
   "isGpuEnabled": false,
   "isInternetEnabled": true,
   "language": "python",
   "sourceType": "notebook"
  },
  "kernelspec": {
   "display_name": "Python 3",
   "language": "python",
   "name": "python3"
  },
  "language_info": {
   "codemirror_mode": {
    "name": "ipython",
    "version": 3
   },
   "file_extension": ".py",
   "mimetype": "text/x-python",
   "name": "python",
   "nbconvert_exporter": "python",
   "pygments_lexer": "ipython3",
   "version": "3.10.13"
  },
  "papermill": {
   "default_parameters": {},
   "duration": 1819.130829,
   "end_time": "2024-08-14T20:01:53.803707",
   "environment_variables": {},
   "exception": null,
   "input_path": "__notebook__.ipynb",
   "output_path": "__notebook__.ipynb",
   "parameters": {},
   "start_time": "2024-08-14T19:31:34.672878",
   "version": "2.5.0"
  }
 },
 "nbformat": 4,
 "nbformat_minor": 5
}