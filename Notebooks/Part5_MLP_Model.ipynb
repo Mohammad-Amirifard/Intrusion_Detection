{
  "cells": [
    {
      "cell_type": "markdown",
      "metadata": {
        "id": "view-in-github",
        "colab_type": "text"
      },
      "source": [
        "<a href=\"https://colab.research.google.com/github/Mohammad-Amirifard/Intrusion_Detection/blob/main/Part5_MLP_Model.ipynb\" target=\"_parent\"><img src=\"https://colab.research.google.com/assets/colab-badge.svg\" alt=\"Open In Colab\"/></a>"
      ]
    },
    {
      "cell_type": "markdown",
      "id": "fdd426aa",
      "metadata": {
        "id": "fdd426aa",
        "papermill": {
          "duration": 0.006698,
          "end_time": "2024-08-16T14:29:24.213706",
          "exception": false,
          "start_time": "2024-08-16T14:29:24.207008",
          "status": "completed"
        },
        "tags": []
      },
      "source": [
        "# **Intrusion Detection Using Machine Learning Techniques On CIC-IDS2017 Dataset**\n",
        "\n",
        "Created By [Mohammad Amirifard](https://www.linkedin.com/in/mohammad-amirifard/)\n",
        "\n",
        "\n",
        "<img src=\"https://www.teligentsolutions.com/wp-content/uploads/2015/04/Teligent_Solutions_Intrusion_Detection.jpg\" alt=\"Image\" />\n",
        "\n",
        "# **Structure of notebooks**\n",
        "`This program includes several notebooks regarding different parts.`\n",
        "\n",
        "This is **notebook number 5**, called **Part5_MLP_Model**\n",
        "\n",
        "For other notebooks you can use the following links:\n",
        "\n",
        "\n",
        "\n",
        "\n",
        "\n",
        "1.   Notebook number 1, [Part1_EDA](https://github.com/Mohammad-Amirifard/Intrusion_Detection/blob/main/Notebooks/Part1_EDA.ipynb)\n",
        "2.   Notebook number 2, [Part2_KNN_Models](https://github.com/Mohammad-Amirifard/Intrusion_Detection/blob/main/Notebooks/Part2_KNN_Models.ipynb)\n",
        "3.   Notebook number 3, [Part3_SVM_Models](https://github.com/Mohammad-Amirifard/Intrusion_Detection/blob/main/Notebooks/Part3_SVM_Models.ipynb)\n",
        "4.   Notebook number 4, [Part4_Gboost_Model](https://github.com/Mohammad-Amirifard/Intrusion_Detection/blob/main/Notebooks/Part4_GBoost_Model.ipynb)\n",
        "5.   Notebook number 5, [Part5_MLP_Model](https://github.com/Mohammad-Amirifard/Intrusion_Detection/blob/main/Notebooks/Part5_MLP_Model.ipynb)\n",
        "6.   Notebook number 6, [Part6_Conclusion]()\n",
        "\n"
      ]
    },
    {
      "cell_type": "markdown",
      "id": "c1149d36",
      "metadata": {
        "id": "c1149d36",
        "papermill": {
          "duration": 0.005889,
          "end_time": "2024-08-16T14:29:24.225840",
          "exception": false,
          "start_time": "2024-08-16T14:29:24.219951",
          "status": "completed"
        },
        "tags": []
      },
      "source": [
        "# **Problem Statement**\n",
        "The objective of this project is to **detect** and classify various types of **anomalies** within the `CIC-IDS2017 dataset`, which is a widely recognized benchmark dataset used for cybersecurity research, particularly in the domain of intrusion detection systems (IDS). Anomalies in this context refer to unusual or suspicious patterns in the network traffic data that may indicate potential security threats such as attacks or intrusions.\n",
        "\n",
        "To achieve this, we will apply a range of **machine learning techniques** that are commonly used for anomaly detection and classification tasks. These techniques include, but are not limited to, supervised learning methods, such as decision trees, support vector machines, and neural networks, as well as unsupervised learning approaches like clustering algorithms and autoencoders. By leveraging these methods, we aim to accurately classify network traffic data into normal and anomalous categories.\n",
        "\n",
        "The problem we are addressing is inherently a classification problem, where the primary goal is to categorize the data into predefined classes based on the learned patterns. This involves training machine learning models on labeled data to distinguish between normal and anomalous network traffic, enabling the detection of potential security threats with high precision and recall.\n",
        "\n",
        "**Goal:**\n",
        "\n",
        "Our ultimate aim is to develop a robust system that can effectively identify various types of anomalies, contributing to the enhancement of network security measures.\n",
        "\n",
        "**Dataset:**\n",
        "\n",
        "you can see detail of available dataset on this [link](https://www.unb.ca/cic/datasets/ids-2017.html)"
      ]
    },
    {
      "cell_type": "markdown",
      "id": "58b090cd",
      "metadata": {
        "id": "58b090cd",
        "papermill": {
          "duration": 0.005826,
          "end_time": "2024-08-16T14:29:24.237714",
          "exception": false,
          "start_time": "2024-08-16T14:29:24.231888",
          "status": "completed"
        },
        "tags": []
      },
      "source": [
        "# **Table of Content**\n",
        "\n"
      ]
    },
    {
      "cell_type": "markdown",
      "id": "22932262",
      "metadata": {
        "id": "22932262",
        "papermill": {
          "duration": 0.005764,
          "end_time": "2024-08-16T14:29:24.249651",
          "exception": false,
          "start_time": "2024-08-16T14:29:24.243887",
          "status": "completed"
        },
        "tags": []
      },
      "source": [
        "<div class=\"toc\" style=\"background-color: #d4d0cf; padding: 10px; border-radius: 5px;\">\n",
        "  <h2 style=\"color: black;\"></h2>\n",
        "  <ul>\n",
        "    <li style=\"color: black;\">Import Libraries</li>\n",
        "    <li style=\"color: black;\">Download Clean CIC-IDS2017 Dataset</li>\n",
        "    <li style=\"color: black;\">Load datasets</li>\n",
        "    <li style=\"color: black;\">Encode Labels</li>\n",
        "    <li style=\"color: black;\">Split dataset</li>\n",
        "    <li style=\"color: black;\">Normalize Data</li>\n",
        "    <li style=\"color: black;\">Performance function</li>\n",
        "    <li style=\"color: black;\">Perfomance Plot</li>\n",
        "    <li style=\"color: black;\">MLP Model\n",
        "    </li>\n",
        "    <li style=\"color: black;\">MLP Model Performance</li>\n",
        "  </ul>\n",
        "</div>\n"
      ]
    },
    {
      "cell_type": "markdown",
      "id": "2dbb3a39",
      "metadata": {
        "id": "2dbb3a39",
        "papermill": {
          "duration": 0.005819,
          "end_time": "2024-08-16T14:29:24.261452",
          "exception": false,
          "start_time": "2024-08-16T14:29:24.255633",
          "status": "completed"
        },
        "tags": []
      },
      "source": [
        "# **Import Libraries**\n",
        "\n",
        "Here we import libraries on which we need to work."
      ]
    },
    {
      "cell_type": "code",
      "execution_count": null,
      "id": "6fed3dc3",
      "metadata": {
        "execution": {
          "iopub.execute_input": "2024-08-16T14:29:24.275125Z",
          "iopub.status.busy": "2024-08-16T14:29:24.274758Z",
          "iopub.status.idle": "2024-08-16T14:29:39.620578Z",
          "shell.execute_reply": "2024-08-16T14:29:39.619330Z"
        },
        "id": "6fed3dc3",
        "papermill": {
          "duration": 15.355822,
          "end_time": "2024-08-16T14:29:39.623281",
          "exception": false,
          "start_time": "2024-08-16T14:29:24.267459",
          "status": "completed"
        },
        "tags": []
      },
      "outputs": [],
      "source": [
        "!pip install -qq gdown\n",
        "import pandas as pd\n",
        "import numpy as np\n",
        "import matplotlib.pyplot as plt\n",
        "import scipy\n",
        "import os, gdown\n",
        "import zipfile, time\n",
        "import warnings\n",
        "import joblib\n",
        "warnings.filterwarnings('ignore')\n"
      ]
    },
    {
      "cell_type": "markdown",
      "id": "1a6304f6",
      "metadata": {
        "id": "1a6304f6",
        "papermill": {
          "duration": 0.005914,
          "end_time": "2024-08-16T14:29:39.635550",
          "exception": false,
          "start_time": "2024-08-16T14:29:39.629636",
          "status": "completed"
        },
        "tags": []
      },
      "source": [
        "# **Download Clean CIC-IDS2017 Dataset**\n",
        "\n",
        "Here we download dataset from google drive and try to unzip it. This is not the main dataset. This is the clean dataset obtained from Part 1."
      ]
    },
    {
      "cell_type": "code",
      "execution_count": null,
      "id": "92ce1bc1",
      "metadata": {
        "execution": {
          "iopub.execute_input": "2024-08-16T14:29:39.649643Z",
          "iopub.status.busy": "2024-08-16T14:29:39.649081Z",
          "iopub.status.idle": "2024-08-16T14:29:50.581460Z",
          "shell.execute_reply": "2024-08-16T14:29:50.580087Z"
        },
        "id": "92ce1bc1",
        "outputId": "7b026529-8cd2-4f9a-f67d-9f477ec83edb",
        "papermill": {
          "duration": 10.942342,
          "end_time": "2024-08-16T14:29:50.583961",
          "exception": false,
          "start_time": "2024-08-16T14:29:39.641619",
          "status": "completed"
        },
        "tags": []
      },
      "outputs": [
        {
          "name": "stdout",
          "output_type": "stream",
          "text": [
            "clean_dataset.zip was downloaded successfuly.\n",
            "clean_dataset.zip  was unziped successfuly.\n"
          ]
        }
      ],
      "source": [
        "def download_file_from_google_drive(file_id, destination):\n",
        "\n",
        "    \"\"\"\n",
        "    Input: file_id (Obtained from google drive), destionation (For saving the file)\n",
        "    Output: _ (Download the file in destination directory)\n",
        "    \"\"\"\n",
        "    url = f\"https://drive.google.com/uc?id={file_id}\"\n",
        "    gdown.download(url, destination, quiet=True) # download file using given URL\n",
        "\n",
        "\n",
        "def unzip_dataset(extraction_dir):\n",
        "\n",
        "  \"\"\"\n",
        "  Input: Extraction_dir (Direction of dataset to unzip into)\n",
        "  Output: _ (Exract the zip file in the given direction)\n",
        "  \"\"\"\n",
        "\n",
        "  # Ensure the extraction directory exists\n",
        "  os.makedirs(extraction_dir, exist_ok=True)\n",
        "\n",
        "  # Unzip the file\n",
        "  with zipfile.ZipFile(zip_file_path, 'r') as zip_ref:\n",
        "      zip_ref.extractall(extraction_dir)\n",
        "\n",
        "\n",
        "\n",
        "# Setup variables to download dataset\n",
        "current_working_dir = os.getcwd()\n",
        "destination = current_working_dir\n",
        "zip_file_path = os.path.join(destination, 'clean_dataset.zip')\n",
        "file_id =  '1CG1DqRkNUBAOTcmT-eSg9fHMWy3FQacl' # File Id\n",
        "extraction_dir = os.path.join(destination,'dataset/')\n",
        "# call functions\n",
        "download_file_from_google_drive(file_id, zip_file_path) # Download\n",
        "print('clean_dataset.zip was downloaded successfuly.')\n",
        "unzip_dataset(extraction_dir)                           # Unzip\n",
        "print('clean_dataset.zip  was unziped successfuly.')"
      ]
    },
    {
      "cell_type": "markdown",
      "id": "4715a9f3",
      "metadata": {
        "id": "4715a9f3",
        "papermill": {
          "duration": 0.006207,
          "end_time": "2024-08-16T14:29:50.596576",
          "exception": false,
          "start_time": "2024-08-16T14:29:50.590369",
          "status": "completed"
        },
        "tags": []
      },
      "source": [
        "# **Load datasets**\n",
        "On this [link](https://www.unb.ca/cic/datasets/ids-2017.html), You can access all information you need about dataset."
      ]
    },
    {
      "cell_type": "code",
      "execution_count": null,
      "id": "fc3bcb72",
      "metadata": {
        "execution": {
          "iopub.execute_input": "2024-08-16T14:29:50.610774Z",
          "iopub.status.busy": "2024-08-16T14:29:50.610400Z",
          "iopub.status.idle": "2024-08-16T14:30:03.663192Z",
          "shell.execute_reply": "2024-08-16T14:30:03.662151Z"
        },
        "id": "fc3bcb72",
        "papermill": {
          "duration": 13.062986,
          "end_time": "2024-08-16T14:30:03.665854",
          "exception": false,
          "start_time": "2024-08-16T14:29:50.602868",
          "status": "completed"
        },
        "tags": []
      },
      "outputs": [],
      "source": [
        "# Let's load all csv files.\n",
        "initial_time = time.time()\n",
        "clean_df = pd.read_csv(os.path.join(extraction_dir,'clean_df.csv'))\n",
        "# Shuffling the dataframe\n",
        "clean_df = clean_df.sample(frac=1, random_state=42).reset_index(drop=True)\n",
        "\n",
        "# Here for not wasting time we choose a part of dataset.\n",
        "no_sample_to_model = 500000 # Samples\n",
        "clean_df =clean_df[:no_sample_to_model]\n",
        "\n",
        "\n",
        "# Load best features obtained from EDA part\n",
        "best_feature_list_from_MI = np.load(os.path.join(extraction_dir,'best_feature_list_from_MI.npy'),allow_pickle =True)\n",
        "best_feature_list_from_Anova = np.load(os.path.join(extraction_dir,'best_feature_list_from_Anova.npy'),allow_pickle =True)\n",
        "best_feature_list_from_RF = np.load(os.path.join(extraction_dir,'best_feature_list_from_RF.npy'),allow_pickle =True)"
      ]
    },
    {
      "cell_type": "code",
      "execution_count": null,
      "id": "9d3e6253",
      "metadata": {
        "execution": {
          "iopub.execute_input": "2024-08-16T14:30:03.680852Z",
          "iopub.status.busy": "2024-08-16T14:30:03.680121Z",
          "iopub.status.idle": "2024-08-16T14:30:03.808180Z",
          "shell.execute_reply": "2024-08-16T14:30:03.807153Z"
        },
        "id": "9d3e6253",
        "outputId": "6dca06f0-7fb0-42dd-a62d-32137020c14e",
        "papermill": {
          "duration": 0.138229,
          "end_time": "2024-08-16T14:30:03.810747",
          "exception": false,
          "start_time": "2024-08-16T14:30:03.672518",
          "status": "completed"
        },
        "tags": []
      },
      "outputs": [
        {
          "data": {
            "text/html": [
              "<div>\n",
              "<style scoped>\n",
              "    .dataframe tbody tr th:only-of-type {\n",
              "        vertical-align: middle;\n",
              "    }\n",
              "\n",
              "    .dataframe tbody tr th {\n",
              "        vertical-align: top;\n",
              "    }\n",
              "\n",
              "    .dataframe thead th {\n",
              "        text-align: right;\n",
              "    }\n",
              "</style>\n",
              "<table border=\"1\" class=\"dataframe\">\n",
              "  <thead>\n",
              "    <tr style=\"text-align: right;\">\n",
              "      <th></th>\n",
              "      <th>Flow Duration</th>\n",
              "      <th>Total Backward Packets</th>\n",
              "      <th>Total Length of Bwd Packets</th>\n",
              "      <th>Fwd Packet Length Min</th>\n",
              "      <th>Fwd Packet Length Std</th>\n",
              "      <th>Bwd Packet Length Min</th>\n",
              "      <th>Bwd Packet Length Std</th>\n",
              "      <th>Flow Packets/s</th>\n",
              "      <th>Flow IAT Std</th>\n",
              "      <th>Flow IAT Min</th>\n",
              "      <th>...</th>\n",
              "      <th>Bwd Avg Bulk Rate</th>\n",
              "      <th>Subflow Fwd Bytes</th>\n",
              "      <th>Subflow Bwd Bytes</th>\n",
              "      <th>Init_Win_bytes_backward</th>\n",
              "      <th>min_seg_size_forward</th>\n",
              "      <th>Active Std</th>\n",
              "      <th>Active Min</th>\n",
              "      <th>Idle Std</th>\n",
              "      <th>Idle Min</th>\n",
              "      <th>Label</th>\n",
              "    </tr>\n",
              "  </thead>\n",
              "  <tbody>\n",
              "    <tr>\n",
              "      <th>0</th>\n",
              "      <td>134</td>\n",
              "      <td>2</td>\n",
              "      <td>96</td>\n",
              "      <td>32</td>\n",
              "      <td>0.000000</td>\n",
              "      <td>48</td>\n",
              "      <td>0.000000</td>\n",
              "      <td>29850.746270</td>\n",
              "      <td>7.216878e+01</td>\n",
              "      <td>3</td>\n",
              "      <td>...</td>\n",
              "      <td>0</td>\n",
              "      <td>64</td>\n",
              "      <td>96</td>\n",
              "      <td>-1</td>\n",
              "      <td>32</td>\n",
              "      <td>0.0</td>\n",
              "      <td>0</td>\n",
              "      <td>0.0</td>\n",
              "      <td>0</td>\n",
              "      <td>BENIGN</td>\n",
              "    </tr>\n",
              "    <tr>\n",
              "      <th>1</th>\n",
              "      <td>29</td>\n",
              "      <td>1</td>\n",
              "      <td>6</td>\n",
              "      <td>0</td>\n",
              "      <td>0.000000</td>\n",
              "      <td>6</td>\n",
              "      <td>0.000000</td>\n",
              "      <td>68965.517240</td>\n",
              "      <td>0.000000e+00</td>\n",
              "      <td>29</td>\n",
              "      <td>...</td>\n",
              "      <td>0</td>\n",
              "      <td>0</td>\n",
              "      <td>6</td>\n",
              "      <td>0</td>\n",
              "      <td>40</td>\n",
              "      <td>0.0</td>\n",
              "      <td>0</td>\n",
              "      <td>0.0</td>\n",
              "      <td>0</td>\n",
              "      <td>PortScan</td>\n",
              "    </tr>\n",
              "    <tr>\n",
              "      <th>2</th>\n",
              "      <td>4</td>\n",
              "      <td>0</td>\n",
              "      <td>0</td>\n",
              "      <td>0</td>\n",
              "      <td>0.000000</td>\n",
              "      <td>0</td>\n",
              "      <td>0.000000</td>\n",
              "      <td>750000.000000</td>\n",
              "      <td>1.414214e+00</td>\n",
              "      <td>1</td>\n",
              "      <td>...</td>\n",
              "      <td>0</td>\n",
              "      <td>0</td>\n",
              "      <td>0</td>\n",
              "      <td>-1</td>\n",
              "      <td>32</td>\n",
              "      <td>0.0</td>\n",
              "      <td>0</td>\n",
              "      <td>0.0</td>\n",
              "      <td>0</td>\n",
              "      <td>BENIGN</td>\n",
              "    </tr>\n",
              "    <tr>\n",
              "      <th>3</th>\n",
              "      <td>82052747</td>\n",
              "      <td>6</td>\n",
              "      <td>11607</td>\n",
              "      <td>0</td>\n",
              "      <td>5.656854</td>\n",
              "      <td>0</td>\n",
              "      <td>2177.344966</td>\n",
              "      <td>0.170622</td>\n",
              "      <td>1.980000e+07</td>\n",
              "      <td>0</td>\n",
              "      <td>...</td>\n",
              "      <td>0</td>\n",
              "      <td>56</td>\n",
              "      <td>11607</td>\n",
              "      <td>229</td>\n",
              "      <td>20</td>\n",
              "      <td>0.0</td>\n",
              "      <td>1000</td>\n",
              "      <td>43600000.0</td>\n",
              "      <td>9985727</td>\n",
              "      <td>DDoS</td>\n",
              "    </tr>\n",
              "    <tr>\n",
              "      <th>4</th>\n",
              "      <td>1408725</td>\n",
              "      <td>4</td>\n",
              "      <td>3619</td>\n",
              "      <td>0</td>\n",
              "      <td>39.244426</td>\n",
              "      <td>0</td>\n",
              "      <td>701.785995</td>\n",
              "      <td>8.518341</td>\n",
              "      <td>3.200900e+05</td>\n",
              "      <td>9</td>\n",
              "      <td>...</td>\n",
              "      <td>0</td>\n",
              "      <td>111</td>\n",
              "      <td>3619</td>\n",
              "      <td>35466</td>\n",
              "      <td>20</td>\n",
              "      <td>0.0</td>\n",
              "      <td>0</td>\n",
              "      <td>0.0</td>\n",
              "      <td>0</td>\n",
              "      <td>BENIGN</td>\n",
              "    </tr>\n",
              "    <tr>\n",
              "      <th>...</th>\n",
              "      <td>...</td>\n",
              "      <td>...</td>\n",
              "      <td>...</td>\n",
              "      <td>...</td>\n",
              "      <td>...</td>\n",
              "      <td>...</td>\n",
              "      <td>...</td>\n",
              "      <td>...</td>\n",
              "      <td>...</td>\n",
              "      <td>...</td>\n",
              "      <td>...</td>\n",
              "      <td>...</td>\n",
              "      <td>...</td>\n",
              "      <td>...</td>\n",
              "      <td>...</td>\n",
              "      <td>...</td>\n",
              "      <td>...</td>\n",
              "      <td>...</td>\n",
              "      <td>...</td>\n",
              "      <td>...</td>\n",
              "      <td>...</td>\n",
              "    </tr>\n",
              "    <tr>\n",
              "      <th>499995</th>\n",
              "      <td>44</td>\n",
              "      <td>1</td>\n",
              "      <td>6</td>\n",
              "      <td>0</td>\n",
              "      <td>0.000000</td>\n",
              "      <td>6</td>\n",
              "      <td>0.000000</td>\n",
              "      <td>45454.545450</td>\n",
              "      <td>0.000000e+00</td>\n",
              "      <td>44</td>\n",
              "      <td>...</td>\n",
              "      <td>0</td>\n",
              "      <td>0</td>\n",
              "      <td>6</td>\n",
              "      <td>0</td>\n",
              "      <td>40</td>\n",
              "      <td>0.0</td>\n",
              "      <td>0</td>\n",
              "      <td>0.0</td>\n",
              "      <td>0</td>\n",
              "      <td>PortScan</td>\n",
              "    </tr>\n",
              "    <tr>\n",
              "      <th>499996</th>\n",
              "      <td>74</td>\n",
              "      <td>1</td>\n",
              "      <td>0</td>\n",
              "      <td>0</td>\n",
              "      <td>17.897858</td>\n",
              "      <td>0</td>\n",
              "      <td>0.000000</td>\n",
              "      <td>54054.054050</td>\n",
              "      <td>2.182506e+01</td>\n",
              "      <td>1</td>\n",
              "      <td>...</td>\n",
              "      <td>0</td>\n",
              "      <td>31</td>\n",
              "      <td>0</td>\n",
              "      <td>0</td>\n",
              "      <td>20</td>\n",
              "      <td>0.0</td>\n",
              "      <td>0</td>\n",
              "      <td>0.0</td>\n",
              "      <td>0</td>\n",
              "      <td>BENIGN</td>\n",
              "    </tr>\n",
              "    <tr>\n",
              "      <th>499997</th>\n",
              "      <td>184627</td>\n",
              "      <td>4</td>\n",
              "      <td>360</td>\n",
              "      <td>30</td>\n",
              "      <td>5.773503</td>\n",
              "      <td>56</td>\n",
              "      <td>39.259818</td>\n",
              "      <td>43.330607</td>\n",
              "      <td>6.148513e+04</td>\n",
              "      <td>3</td>\n",
              "      <td>...</td>\n",
              "      <td>0</td>\n",
              "      <td>140</td>\n",
              "      <td>360</td>\n",
              "      <td>-1</td>\n",
              "      <td>20</td>\n",
              "      <td>0.0</td>\n",
              "      <td>0</td>\n",
              "      <td>0.0</td>\n",
              "      <td>0</td>\n",
              "      <td>BENIGN</td>\n",
              "    </tr>\n",
              "    <tr>\n",
              "      <th>499998</th>\n",
              "      <td>183</td>\n",
              "      <td>2</td>\n",
              "      <td>288</td>\n",
              "      <td>36</td>\n",
              "      <td>0.000000</td>\n",
              "      <td>144</td>\n",
              "      <td>0.000000</td>\n",
              "      <td>21857.923500</td>\n",
              "      <td>1.004589e+02</td>\n",
              "      <td>3</td>\n",
              "      <td>...</td>\n",
              "      <td>0</td>\n",
              "      <td>72</td>\n",
              "      <td>288</td>\n",
              "      <td>-1</td>\n",
              "      <td>20</td>\n",
              "      <td>0.0</td>\n",
              "      <td>0</td>\n",
              "      <td>0.0</td>\n",
              "      <td>0</td>\n",
              "      <td>BENIGN</td>\n",
              "    </tr>\n",
              "    <tr>\n",
              "      <th>499999</th>\n",
              "      <td>83604</td>\n",
              "      <td>2</td>\n",
              "      <td>482</td>\n",
              "      <td>34</td>\n",
              "      <td>0.000000</td>\n",
              "      <td>241</td>\n",
              "      <td>0.000000</td>\n",
              "      <td>71.766901</td>\n",
              "      <td>2.418833e+04</td>\n",
              "      <td>3</td>\n",
              "      <td>...</td>\n",
              "      <td>0</td>\n",
              "      <td>136</td>\n",
              "      <td>482</td>\n",
              "      <td>-1</td>\n",
              "      <td>20</td>\n",
              "      <td>0.0</td>\n",
              "      <td>0</td>\n",
              "      <td>0.0</td>\n",
              "      <td>0</td>\n",
              "      <td>BENIGN</td>\n",
              "    </tr>\n",
              "  </tbody>\n",
              "</table>\n",
              "<p>500000 rows × 43 columns</p>\n",
              "</div>"
            ],
            "text/plain": [
              "         Flow Duration   Total Backward Packets   Total Length of Bwd Packets  \\\n",
              "0                  134                        2                            96   \n",
              "1                   29                        1                             6   \n",
              "2                    4                        0                             0   \n",
              "3             82052747                        6                         11607   \n",
              "4              1408725                        4                          3619   \n",
              "...                ...                      ...                           ...   \n",
              "499995              44                        1                             6   \n",
              "499996              74                        1                             0   \n",
              "499997          184627                        4                           360   \n",
              "499998             183                        2                           288   \n",
              "499999           83604                        2                           482   \n",
              "\n",
              "         Fwd Packet Length Min   Fwd Packet Length Std  \\\n",
              "0                           32                0.000000   \n",
              "1                            0                0.000000   \n",
              "2                            0                0.000000   \n",
              "3                            0                5.656854   \n",
              "4                            0               39.244426   \n",
              "...                        ...                     ...   \n",
              "499995                       0                0.000000   \n",
              "499996                       0               17.897858   \n",
              "499997                      30                5.773503   \n",
              "499998                      36                0.000000   \n",
              "499999                      34                0.000000   \n",
              "\n",
              "         Bwd Packet Length Min   Bwd Packet Length Std   Flow Packets/s  \\\n",
              "0                           48                0.000000     29850.746270   \n",
              "1                            6                0.000000     68965.517240   \n",
              "2                            0                0.000000    750000.000000   \n",
              "3                            0             2177.344966         0.170622   \n",
              "4                            0              701.785995         8.518341   \n",
              "...                        ...                     ...              ...   \n",
              "499995                       6                0.000000     45454.545450   \n",
              "499996                       0                0.000000     54054.054050   \n",
              "499997                      56               39.259818        43.330607   \n",
              "499998                     144                0.000000     21857.923500   \n",
              "499999                     241                0.000000        71.766901   \n",
              "\n",
              "         Flow IAT Std   Flow IAT Min  ...  Bwd Avg Bulk Rate  \\\n",
              "0        7.216878e+01              3  ...                  0   \n",
              "1        0.000000e+00             29  ...                  0   \n",
              "2        1.414214e+00              1  ...                  0   \n",
              "3        1.980000e+07              0  ...                  0   \n",
              "4        3.200900e+05              9  ...                  0   \n",
              "...               ...            ...  ...                ...   \n",
              "499995   0.000000e+00             44  ...                  0   \n",
              "499996   2.182506e+01              1  ...                  0   \n",
              "499997   6.148513e+04              3  ...                  0   \n",
              "499998   1.004589e+02              3  ...                  0   \n",
              "499999   2.418833e+04              3  ...                  0   \n",
              "\n",
              "         Subflow Fwd Bytes   Subflow Bwd Bytes   Init_Win_bytes_backward  \\\n",
              "0                       64                  96                        -1   \n",
              "1                        0                   6                         0   \n",
              "2                        0                   0                        -1   \n",
              "3                       56               11607                       229   \n",
              "4                      111                3619                     35466   \n",
              "...                    ...                 ...                       ...   \n",
              "499995                   0                   6                         0   \n",
              "499996                  31                   0                         0   \n",
              "499997                 140                 360                        -1   \n",
              "499998                  72                 288                        -1   \n",
              "499999                 136                 482                        -1   \n",
              "\n",
              "         min_seg_size_forward   Active Std   Active Min    Idle Std  \\\n",
              "0                          32          0.0            0         0.0   \n",
              "1                          40          0.0            0         0.0   \n",
              "2                          32          0.0            0         0.0   \n",
              "3                          20          0.0         1000  43600000.0   \n",
              "4                          20          0.0            0         0.0   \n",
              "...                       ...          ...          ...         ...   \n",
              "499995                     40          0.0            0         0.0   \n",
              "499996                     20          0.0            0         0.0   \n",
              "499997                     20          0.0            0         0.0   \n",
              "499998                     20          0.0            0         0.0   \n",
              "499999                     20          0.0            0         0.0   \n",
              "\n",
              "         Idle Min     Label  \n",
              "0               0    BENIGN  \n",
              "1               0  PortScan  \n",
              "2               0    BENIGN  \n",
              "3         9985727      DDoS  \n",
              "4               0    BENIGN  \n",
              "...           ...       ...  \n",
              "499995          0  PortScan  \n",
              "499996          0    BENIGN  \n",
              "499997          0    BENIGN  \n",
              "499998          0    BENIGN  \n",
              "499999          0    BENIGN  \n",
              "\n",
              "[500000 rows x 43 columns]"
            ]
          },
          "metadata": {},
          "output_type": "display_data"
        }
      ],
      "source": [
        "# Let's see one of them.\n",
        "display(clean_df)"
      ]
    },
    {
      "cell_type": "markdown",
      "id": "25f6aaac",
      "metadata": {
        "id": "25f6aaac",
        "papermill": {
          "duration": 0.006519,
          "end_time": "2024-08-16T14:30:03.824214",
          "exception": false,
          "start_time": "2024-08-16T14:30:03.817695",
          "status": "completed"
        },
        "tags": []
      },
      "source": [
        "# **Encoding Labels**"
      ]
    },
    {
      "cell_type": "code",
      "execution_count": null,
      "id": "d22a8871",
      "metadata": {
        "execution": {
          "iopub.execute_input": "2024-08-16T14:30:03.840143Z",
          "iopub.status.busy": "2024-08-16T14:30:03.839795Z",
          "iopub.status.idle": "2024-08-16T14:30:06.256663Z",
          "shell.execute_reply": "2024-08-16T14:30:06.255297Z"
        },
        "id": "d22a8871",
        "outputId": "fc0caac4-3047-4a46-aac3-18052d38322d",
        "papermill": {
          "duration": 2.427767,
          "end_time": "2024-08-16T14:30:06.259512",
          "exception": false,
          "start_time": "2024-08-16T14:30:03.831745",
          "status": "completed"
        },
        "tags": []
      },
      "outputs": [
        {
          "name": "stdout",
          "output_type": "stream",
          "text": [
            "No of clasees:  5\n",
            "No items in each clasess:\n",
            "(array(['BENIGN', 'Botnet', 'DDoS', 'Exploitation', 'PortScan'],\n",
            "      dtype=object), array([438164,    379,  24887,   5840,  30730]))\n",
            "****************************************************************************************************\n",
            "In this selected part of dataset, there is no class having one sample as evidence. So, it means all classes have more than one sample as their evidence.\n"
          ]
        },
        {
          "data": {
            "text/plain": [
              "(array(['BENIGN', 'Botnet', 'DDoS', 'Exploitation', 'PortScan'],\n",
              "       dtype=object),\n",
              " array([438164,    379,  24887,   5840,  30730]))"
            ]
          },
          "execution_count": 5,
          "metadata": {},
          "output_type": "execute_result"
        }
      ],
      "source": [
        "# Here we check that ,per class, there are at least 2 samples. Otherwise we remove that class from dataset.\n",
        "no_of_classes = len(np.unique(clean_df[' Label'],return_counts=True)[0])\n",
        "print('No of clasees: ',no_of_classes)\n",
        "print('No items in each clasess:')\n",
        "print(np.unique(clean_df[' Label'],return_counts=True))\n",
        "classes , classes_samples = np.unique(clean_df[' Label'],return_counts=True)\n",
        "\n",
        "\n",
        "\n",
        "claess_with_one_sample = []\n",
        "for index,sample in enumerate(classes_samples):\n",
        "  if sample==1:\n",
        "    claess_with_one_sample.append(classes[index])\n",
        "\n",
        "if len(claess_with_one_sample)>=1:\n",
        "\n",
        "  for item in claess_with_one_sample:\n",
        "    clean_df = clean_df.drop(index = clean_df[clean_df[' Label']==item].index, axis=1)\n",
        "\n",
        "  print('*'*100)\n",
        "  print('After removing those classes with just one sample, we have:')\n",
        "  print('No of clasees: ',len(np.unique(clean_df[' Label'],return_counts=True)[0]))\n",
        "  print('No items in each clasess:')\n",
        "\n",
        "else:\n",
        "    print('*'*100)\n",
        "    print('In this selected part of dataset, there is no class having one sample as evidence. So, it means all classes have more than one sample as their evidence.')\n",
        "\n",
        "\n",
        "\n",
        "no_of_classes , classes_samples = np.unique(clean_df[' Label'],return_counts=True)\n",
        "np.unique(clean_df[' Label'],return_counts=True)"
      ]
    },
    {
      "cell_type": "code",
      "execution_count": null,
      "id": "53eed172",
      "metadata": {
        "execution": {
          "iopub.execute_input": "2024-08-16T14:30:06.278175Z",
          "iopub.status.busy": "2024-08-16T14:30:06.277188Z",
          "iopub.status.idle": "2024-08-16T14:30:07.625590Z",
          "shell.execute_reply": "2024-08-16T14:30:07.624219Z"
        },
        "id": "53eed172",
        "outputId": "becb3b64-c996-4ef0-e307-cd838322ff1d",
        "papermill": {
          "duration": 1.360297,
          "end_time": "2024-08-16T14:30:07.628144",
          "exception": false,
          "start_time": "2024-08-16T14:30:06.267847",
          "status": "completed"
        },
        "tags": []
      },
      "outputs": [
        {
          "name": "stdout",
          "output_type": "stream",
          "text": [
            "After Encoding:\n"
          ]
        },
        {
          "data": {
            "text/html": [
              "<div>\n",
              "<style scoped>\n",
              "    .dataframe tbody tr th:only-of-type {\n",
              "        vertical-align: middle;\n",
              "    }\n",
              "\n",
              "    .dataframe tbody tr th {\n",
              "        vertical-align: top;\n",
              "    }\n",
              "\n",
              "    .dataframe thead th {\n",
              "        text-align: right;\n",
              "    }\n",
              "</style>\n",
              "<table border=\"1\" class=\"dataframe\">\n",
              "  <thead>\n",
              "    <tr style=\"text-align: right;\">\n",
              "      <th></th>\n",
              "      <th>Classes</th>\n",
              "      <th>Samples per class</th>\n",
              "    </tr>\n",
              "  </thead>\n",
              "  <tbody>\n",
              "    <tr>\n",
              "      <th>0</th>\n",
              "      <td>0</td>\n",
              "      <td>438164</td>\n",
              "    </tr>\n",
              "    <tr>\n",
              "      <th>1</th>\n",
              "      <td>1</td>\n",
              "      <td>379</td>\n",
              "    </tr>\n",
              "    <tr>\n",
              "      <th>2</th>\n",
              "      <td>2</td>\n",
              "      <td>24887</td>\n",
              "    </tr>\n",
              "    <tr>\n",
              "      <th>3</th>\n",
              "      <td>3</td>\n",
              "      <td>5840</td>\n",
              "    </tr>\n",
              "    <tr>\n",
              "      <th>4</th>\n",
              "      <td>4</td>\n",
              "      <td>30730</td>\n",
              "    </tr>\n",
              "  </tbody>\n",
              "</table>\n",
              "</div>"
            ],
            "text/plain": [
              "   Classes  Samples per class\n",
              "0        0             438164\n",
              "1        1                379\n",
              "2        2              24887\n",
              "3        3               5840\n",
              "4        4              30730"
            ]
          },
          "metadata": {},
          "output_type": "display_data"
        }
      ],
      "source": [
        "# We need to encode labels.\n",
        "from sklearn.preprocessing import LabelEncoder\n",
        "encoder = LabelEncoder()\n",
        "encoded_labels = encoder.fit_transform(clean_df[' Label'])\n",
        "clean_df[' Label'] = encoded_labels\n",
        "print('After Encoding:')\n",
        "classes , class_samples = np.unique(clean_df[' Label'],return_counts=True)\n",
        "no_of_classes = len(classes)\n",
        "dataframe = pd.DataFrame({'Classes':classes,'Samples per class':class_samples})\n",
        "display(dataframe)\n",
        "\n"
      ]
    },
    {
      "cell_type": "markdown",
      "id": "649d9c13",
      "metadata": {
        "id": "649d9c13",
        "papermill": {
          "duration": 0.007341,
          "end_time": "2024-08-16T14:30:07.643316",
          "exception": false,
          "start_time": "2024-08-16T14:30:07.635975",
          "status": "completed"
        },
        "tags": []
      },
      "source": [
        "# **Split dataset**\n",
        "<!DOCTYPE html>\n",
        "<html lang=\"en\">\n",
        "<head>\n",
        "    <meta charset=\"UTF-8\">\n",
        "    <meta name=\"viewport\" content=\"width=device-width, initial-scale=1.0\">\n",
        "    <title></title>\n",
        "</head>\n",
        "<body>\n",
        "    <img src=\"https://drive.google.com/uc?export=view&id=1zn-wpJgfOO6Pa_w-Kk35BgwNwwPm70gh\" width=\"50%\">\n",
        "</body>\n",
        "</html>\n",
        "\n"
      ]
    },
    {
      "cell_type": "code",
      "execution_count": null,
      "id": "24d91fc4",
      "metadata": {
        "execution": {
          "iopub.execute_input": "2024-08-16T14:30:07.661007Z",
          "iopub.status.busy": "2024-08-16T14:30:07.660643Z",
          "iopub.status.idle": "2024-08-16T14:30:07.792475Z",
          "shell.execute_reply": "2024-08-16T14:30:07.791034Z"
        },
        "id": "24d91fc4",
        "papermill": {
          "duration": 0.143781,
          "end_time": "2024-08-16T14:30:07.795261",
          "exception": false,
          "start_time": "2024-08-16T14:30:07.651480",
          "status": "completed"
        },
        "tags": []
      },
      "outputs": [],
      "source": [
        "from sklearn.model_selection import train_test_split\n",
        "def spliting(df, best_feature_list):\n",
        "\n",
        "\n",
        "  test_size = 0.2 # 20%\n",
        "  X = df[best_feature_list]\n",
        "  y  = df[' Label']\n",
        "\n",
        "  our_X_train, our_x_test, our_y_train, our_y_test = train_test_split(X,y,test_size=test_size, stratify=y,random_state=True)\n",
        "  print('X_train.shape:',our_X_train.shape)\n",
        "  print('x_test.shape:',our_x_test.shape)\n",
        "  print('y_train.shape:',our_y_train.shape)\n",
        "  print('y_test.shape:',our_y_test.shape)\n",
        "  no_of_anomalies_in_test_part = np.where(our_y_test!=0)[0].shape[0]\n",
        "  no_of_normal_points_in_test_part = np.where(our_y_test==0)[0].shape[0]\n",
        "  no_of_anomalies_in_train_part = np.where(our_y_train!=0)[0].shape[0]\n",
        "  no_of_normal_points_in_train_part = np.where(our_y_train==0)[0].shape[0]\n",
        "\n",
        "  print(f'In the train dataset we have:{no_of_anomalies_in_train_part} anomalies with this distribution {np.unique(our_y_train,return_counts=True)[1]}and {no_of_normal_points_in_train_part} normal points')\n",
        "  print(f'In the test dataset we have:{no_of_anomalies_in_test_part} anomalies with this distribution {np.unique(our_y_test,return_counts=True)[1]} and {no_of_normal_points_in_test_part} normal points')\n",
        "  print('*'*100)\n",
        "  return our_X_train, our_x_test, our_y_train, our_y_test"
      ]
    },
    {
      "cell_type": "markdown",
      "id": "485f8e48",
      "metadata": {
        "id": "485f8e48",
        "papermill": {
          "duration": 0.007226,
          "end_time": "2024-08-16T14:30:07.810675",
          "exception": false,
          "start_time": "2024-08-16T14:30:07.803449",
          "status": "completed"
        },
        "tags": []
      },
      "source": [
        "# **Normalizing with MinMaxSclaer**\n",
        "\n",
        "\n",
        "### MinMaxScaler Formula\n",
        "\n",
        "The MinMaxScaler scales each feature to a given range, typically between 0 and 1. The formula for MinMax scaling is:\n",
        "\n",
        "$[\n",
        "X_{\\text{scaled}} = \\frac{X - X_{\\text{min}}}{X_{\\text{max}} - X_{\\text{min}}}\n",
        "]$\n",
        "\n",
        "Where:\n",
        "- $( X $) is the original value.\n",
        "- $( X_{\\text{min}} $) is the minimum value of the feature.\n",
        "- $( X_{\\text{max}} $) is the maximum value of the feature.\n",
        "- $( X_{\\text{scaled}} $) is the scaled value.\n",
        "\n",
        "The resulting $( X_{\\text{scaled}} $) will be within the range [0, 1] (by default).\n",
        "\n",
        "\n"
      ]
    },
    {
      "cell_type": "code",
      "execution_count": null,
      "id": "4781dcf4",
      "metadata": {
        "execution": {
          "iopub.execute_input": "2024-08-16T14:30:07.827445Z",
          "iopub.status.busy": "2024-08-16T14:30:07.827041Z",
          "iopub.status.idle": "2024-08-16T14:30:07.833502Z",
          "shell.execute_reply": "2024-08-16T14:30:07.832397Z"
        },
        "id": "4781dcf4",
        "papermill": {
          "duration": 0.017655,
          "end_time": "2024-08-16T14:30:07.835884",
          "exception": false,
          "start_time": "2024-08-16T14:30:07.818229",
          "status": "completed"
        },
        "tags": []
      },
      "outputs": [],
      "source": [
        "from sklearn.preprocessing import MinMaxScaler\n",
        "\n",
        "def normalizing(X_train, x_test):\n",
        "\n",
        "  scaler = MinMaxScaler ()\n",
        "  our_X_train = scaler.fit_transform(X_train)\n",
        "  our_x_test = scaler.transform(x_test)\n",
        "  print('After Normalizing we have:')\n",
        "  print('X_train_normalized.shape:',our_X_train.shape)\n",
        "  print('x_test_normalized.shape:',our_x_test.shape)\n",
        "  print('*'*100)\n",
        "\n",
        "  return our_X_train, our_x_test"
      ]
    },
    {
      "cell_type": "markdown",
      "id": "dd403f09",
      "metadata": {
        "id": "dd403f09",
        "papermill": {
          "duration": 0.007573,
          "end_time": "2024-08-16T14:30:07.851306",
          "exception": false,
          "start_time": "2024-08-16T14:30:07.843733",
          "status": "completed"
        },
        "tags": []
      },
      "source": [
        "# **Performance function**\n",
        "\n",
        "### For our models, we result; Precision, Recall, and F1 Score Formulas\n",
        "\n",
        "\n",
        "$ \\text{Precision} = \\frac{\\text{True Positives (TP)}}{\\text{True Positives (TP)} + \\text{False Positives (FP)}} $\n",
        "\n",
        "\n",
        "\n",
        "$ \\text{Recall} = \\frac{\\text{True Positives (TP)}}{\\text{True Positives (TP)} + \\text{False Negatives (FN)}} $\n",
        "\n",
        "\n",
        "\n",
        "$ \\text{F1 Score} = 2 \\times \\frac{\\text{Precision} \\times \\text{Recall}}{\\text{Precision} + \\text{Recall}} $\n",
        "\n",
        "Also, we collect `training time` and `prediciting time` and `multicalsss confusion matirx`.\n",
        "\n",
        "\n",
        "\n",
        "\n"
      ]
    },
    {
      "cell_type": "code",
      "execution_count": null,
      "id": "ad42d7b1",
      "metadata": {
        "execution": {
          "iopub.execute_input": "2024-08-16T14:30:07.869495Z",
          "iopub.status.busy": "2024-08-16T14:30:07.869062Z",
          "iopub.status.idle": "2024-08-16T14:30:07.880764Z",
          "shell.execute_reply": "2024-08-16T14:30:07.879354Z"
        },
        "id": "ad42d7b1",
        "papermill": {
          "duration": 0.023931,
          "end_time": "2024-08-16T14:30:07.883595",
          "exception": false,
          "start_time": "2024-08-16T14:30:07.859664",
          "status": "completed"
        },
        "tags": []
      },
      "outputs": [],
      "source": [
        "from sklearn import metrics\n",
        "from sklearn.metrics import classification_report\n",
        "\n",
        "def performance(model_name,y_test,y_pred,clean_df,train_time,pred_time):\n",
        "\n",
        "  \"\"\"This function tries to calculate the Precesion, Recall, and F1_score for each given model.\\\n",
        "  Input: model_name,y_test,y_pred,clean_df,train_time,pred_time for each model we will create in the future.\n",
        "  Output: styled_df (Which is just for view),df (which is used for more access in the futrue.)\n",
        "  \"\"\"\n",
        "\n",
        "  labels = [f'Class-{index}' for index in range(len(np.unique(clean_df[' Label'])))]\n",
        "\n",
        "  report = classification_report(y_test, y_pred, target_names=labels, output_dict=True)\n",
        "  report_df = pd.DataFrame(report).transpose()\n",
        "\n",
        "  precision =report_df['precision'].values\n",
        "  recall =report_df['recall'].values\n",
        "  f1_score =report_df['f1-score'].values\n",
        "  support = report_df['support'].values\n",
        "\n",
        "\n",
        "\n",
        "  # Creating the DataFrame\n",
        "  data = {\n",
        "      'Precision': precision,\n",
        "      'Recall': recall,\n",
        "      'F1_Score': f1_score,\n",
        "      'Support':support,\n",
        "      'Training_Time':train_time,\n",
        "      'Predicting_Time':pred_time\n",
        "\n",
        "  }\n",
        "\n",
        "  # Using a MultiIndex for the rows\n",
        "  index = pd.MultiIndex.from_product([[model_name], labels+['accuracy','macro avg','weighted avg']], names=['Model_name', 'Classes'])\n",
        "\n",
        "  df = pd.DataFrame(data, index=index)\n",
        "\n",
        "  # Using Styler to merge cells in 'Column3'\n",
        "  def highlight_merge(s):\n",
        "\n",
        "      return ['background-color: #dcdcdc '] * len(s) if pd.notna(s.iloc[0]) else ['display: none'] * len(s)\n",
        "\n",
        "\n",
        "  styled_df = df.style.apply(highlight_merge, subset=['Training_Time','Predicting_Time'], axis=1)\n",
        "\n",
        "\n",
        "\n",
        "  # Displaying the styled DataFrame\n",
        "  display(styled_df)\n",
        "\n",
        "  return styled_df,df\n",
        "\n",
        "\n"
      ]
    },
    {
      "cell_type": "markdown",
      "id": "a920028a",
      "metadata": {
        "id": "a920028a",
        "papermill": {
          "duration": 0.00722,
          "end_time": "2024-08-16T14:30:07.898610",
          "exception": false,
          "start_time": "2024-08-16T14:30:07.891390",
          "status": "completed"
        },
        "tags": []
      },
      "source": [
        "#**Perfomance Plot**"
      ]
    },
    {
      "cell_type": "code",
      "execution_count": null,
      "id": "676444bf",
      "metadata": {
        "execution": {
          "iopub.execute_input": "2024-08-16T14:30:07.915676Z",
          "iopub.status.busy": "2024-08-16T14:30:07.915271Z",
          "iopub.status.idle": "2024-08-16T14:30:07.924708Z",
          "shell.execute_reply": "2024-08-16T14:30:07.923329Z"
        },
        "id": "676444bf",
        "papermill": {
          "duration": 0.021294,
          "end_time": "2024-08-16T14:30:07.927442",
          "exception": false,
          "start_time": "2024-08-16T14:30:07.906148",
          "status": "completed"
        },
        "tags": []
      },
      "outputs": [],
      "source": [
        "import matplotlib.pyplot as plt\n",
        "import numpy as np\n",
        "\n",
        "def plot_performance(model_names, F1_Score_Macro_Avg_list, F1_Score_Weighted_Avg_list, Accuracy_list):\n",
        "\n",
        "    species = model_names\n",
        "    penguin_means = {\n",
        "        'F1_Score_Macro_Avg': F1_Score_Macro_Avg_list,\n",
        "        'F1_Score_Weighted_Avg': F1_Score_Weighted_Avg_list,\n",
        "        'Accuracy': Accuracy_list\n",
        "    }\n",
        "\n",
        "    x = np.arange(len(species))  # the label locations\n",
        "    width = 0.15  # the width of the bars\n",
        "    multiplier = 0\n",
        "\n",
        "    fig, ax = plt.subplots(layout='constrained',figsize=(8,5))\n",
        "\n",
        "    for attribute, measurement in penguin_means.items():\n",
        "        offset = width * multiplier\n",
        "        rects = ax.bar(x + offset, measurement, width, label=attribute)\n",
        "\n",
        "        # Set different padding and alignment for each set of bars\n",
        "        ax.bar_label(rects, padding=6 + multiplier * 9, label_type='edge')\n",
        "\n",
        "        multiplier += 1\n",
        "\n",
        "    # Add some text for labels, title, and custom x-axis tick labels, etc.\n",
        "    ax.set_ylabel('Percentage (%)')\n",
        "    ax.set_title('Models Performance')\n",
        "    ax.set_xticks(x + (width * 1.5), species)  # Adjusted for better alignment\n",
        "    ax.legend(loc='upper left', ncols=3)\n",
        "\n",
        "    # Optionally, set y-axis limits and grid\n",
        "    ax.set_ylim(0, 1.3)\n",
        "    plt.grid()\n",
        "\n",
        "    plt.show()\n",
        "\n",
        "\n"
      ]
    },
    {
      "cell_type": "markdown",
      "id": "0f13b1e9",
      "metadata": {
        "id": "0f13b1e9",
        "papermill": {
          "duration": 0.00756,
          "end_time": "2024-08-16T14:30:07.942721",
          "exception": false,
          "start_time": "2024-08-16T14:30:07.935161",
          "status": "completed"
        },
        "tags": []
      },
      "source": [
        "# **MLP Model**"
      ]
    },
    {
      "cell_type": "code",
      "execution_count": null,
      "id": "229b4acd",
      "metadata": {
        "execution": {
          "iopub.execute_input": "2024-08-16T14:30:07.959647Z",
          "iopub.status.busy": "2024-08-16T14:30:07.959175Z",
          "iopub.status.idle": "2024-08-16T14:30:21.895628Z",
          "shell.execute_reply": "2024-08-16T14:30:21.894346Z"
        },
        "id": "229b4acd",
        "papermill": {
          "duration": 13.947987,
          "end_time": "2024-08-16T14:30:21.898204",
          "exception": false,
          "start_time": "2024-08-16T14:30:07.950217",
          "status": "completed"
        },
        "tags": [],
        "outputId": "084139c4-4ba3-4f5c-e5cd-4453af7a204f"
      },
      "outputs": [
        {
          "name": "stderr",
          "output_type": "stream",
          "text": [
            "2024-08-16 14:30:10.157192: E external/local_xla/xla/stream_executor/cuda/cuda_dnn.cc:9261] Unable to register cuDNN factory: Attempting to register factory for plugin cuDNN when one has already been registered\n",
            "2024-08-16 14:30:10.157345: E external/local_xla/xla/stream_executor/cuda/cuda_fft.cc:607] Unable to register cuFFT factory: Attempting to register factory for plugin cuFFT when one has already been registered\n",
            "2024-08-16 14:30:10.316625: E external/local_xla/xla/stream_executor/cuda/cuda_blas.cc:1515] Unable to register cuBLAS factory: Attempting to register factory for plugin cuBLAS when one has already been registered\n"
          ]
        }
      ],
      "source": [
        "import tensorflow as tf\n",
        "from tensorflow import keras\n",
        "from keras import layers\n",
        "from tensorflow.keras.utils import plot_model"
      ]
    },
    {
      "cell_type": "code",
      "execution_count": null,
      "id": "6a11437a",
      "metadata": {
        "execution": {
          "iopub.execute_input": "2024-08-16T14:30:21.917111Z",
          "iopub.status.busy": "2024-08-16T14:30:21.916378Z",
          "iopub.status.idle": "2024-08-16T14:33:50.214501Z",
          "shell.execute_reply": "2024-08-16T14:33:50.213112Z"
        },
        "id": "6a11437a",
        "outputId": "859d3168-fe6f-47ec-f31e-1ea741b3c160",
        "papermill": {
          "duration": 208.309736,
          "end_time": "2024-08-16T14:33:50.216757",
          "exception": false,
          "start_time": "2024-08-16T14:30:21.907021",
          "status": "completed"
        },
        "tags": []
      },
      "outputs": [
        {
          "name": "stdout",
          "output_type": "stream",
          "text": [
            "This result is for MLP using best feature list obtained from RF method:\n",
            "----------------------------------------------------------------------------------------------------\n",
            "X_train.shape: (400000, 20)\n",
            "x_test.shape: (100000, 20)\n",
            "y_train.shape: (400000,)\n",
            "y_test.shape: (100000,)\n",
            "In the train dataset we have:49469 anomalies with this distribution [350531    303  19910   4672  24584]and 350531 normal points\n",
            "In the test dataset we have:12367 anomalies with this distribution [87633    76  4977  1168  6146] and 87633 normal points\n",
            "****************************************************************************************************\n",
            "After Normalizing we have:\n",
            "X_train_normalized.shape: (400000, 20)\n",
            "x_test_normalized.shape: (100000, 20)\n",
            "****************************************************************************************************\n"
          ]
        },
        {
          "data": {
            "text/html": [
              "<pre style=\"white-space:pre;overflow-x:auto;line-height:normal;font-family:Menlo,'DejaVu Sans Mono',consolas,'Courier New',monospace\"><span style=\"font-weight: bold\">Model: \"mlp_model\"</span>\n",
              "</pre>\n"
            ],
            "text/plain": [
              "\u001b[1mModel: \"mlp_model\"\u001b[0m\n"
            ]
          },
          "metadata": {},
          "output_type": "display_data"
        },
        {
          "data": {
            "text/html": [
              "<pre style=\"white-space:pre;overflow-x:auto;line-height:normal;font-family:Menlo,'DejaVu Sans Mono',consolas,'Courier New',monospace\">┏━━━━━━━━━━━━━━━━━━━━━━━━━━━━━━━━━┳━━━━━━━━━━━━━━━━━━━━━━━━┳━━━━━━━━━━━━━━━┓\n",
              "┃<span style=\"font-weight: bold\"> Layer (type)                    </span>┃<span style=\"font-weight: bold\"> Output Shape           </span>┃<span style=\"font-weight: bold\">       Param # </span>┃\n",
              "┡━━━━━━━━━━━━━━━━━━━━━━━━━━━━━━━━━╇━━━━━━━━━━━━━━━━━━━━━━━━╇━━━━━━━━━━━━━━━┩\n",
              "│ Input (<span style=\"color: #0087ff; text-decoration-color: #0087ff\">InputLayer</span>)              │ (<span style=\"color: #00d7ff; text-decoration-color: #00d7ff\">None</span>, <span style=\"color: #00af00; text-decoration-color: #00af00\">20</span>)             │             <span style=\"color: #00af00; text-decoration-color: #00af00\">0</span> │\n",
              "├─────────────────────────────────┼────────────────────────┼───────────────┤\n",
              "│ 1st_hidden_layer (<span style=\"color: #0087ff; text-decoration-color: #0087ff\">Dense</span>)        │ (<span style=\"color: #00d7ff; text-decoration-color: #00d7ff\">None</span>, <span style=\"color: #00af00; text-decoration-color: #00af00\">64</span>)             │         <span style=\"color: #00af00; text-decoration-color: #00af00\">1,344</span> │\n",
              "├─────────────────────────────────┼────────────────────────┼───────────────┤\n",
              "│ dropout_layer_1 (<span style=\"color: #0087ff; text-decoration-color: #0087ff\">Dropout</span>)       │ (<span style=\"color: #00d7ff; text-decoration-color: #00d7ff\">None</span>, <span style=\"color: #00af00; text-decoration-color: #00af00\">64</span>)             │             <span style=\"color: #00af00; text-decoration-color: #00af00\">0</span> │\n",
              "├─────────────────────────────────┼────────────────────────┼───────────────┤\n",
              "│ 2nd_hidden_layer (<span style=\"color: #0087ff; text-decoration-color: #0087ff\">Dense</span>)        │ (<span style=\"color: #00d7ff; text-decoration-color: #00d7ff\">None</span>, <span style=\"color: #00af00; text-decoration-color: #00af00\">128</span>)            │         <span style=\"color: #00af00; text-decoration-color: #00af00\">8,320</span> │\n",
              "├─────────────────────────────────┼────────────────────────┼───────────────┤\n",
              "│ dropout_layer_2 (<span style=\"color: #0087ff; text-decoration-color: #0087ff\">Dropout</span>)       │ (<span style=\"color: #00d7ff; text-decoration-color: #00d7ff\">None</span>, <span style=\"color: #00af00; text-decoration-color: #00af00\">128</span>)            │             <span style=\"color: #00af00; text-decoration-color: #00af00\">0</span> │\n",
              "├─────────────────────────────────┼────────────────────────┼───────────────┤\n",
              "│ 3rd_hidden_layer (<span style=\"color: #0087ff; text-decoration-color: #0087ff\">Dense</span>)        │ (<span style=\"color: #00d7ff; text-decoration-color: #00d7ff\">None</span>, <span style=\"color: #00af00; text-decoration-color: #00af00\">128</span>)            │        <span style=\"color: #00af00; text-decoration-color: #00af00\">16,512</span> │\n",
              "├─────────────────────────────────┼────────────────────────┼───────────────┤\n",
              "│ Output (<span style=\"color: #0087ff; text-decoration-color: #0087ff\">Dense</span>)                  │ (<span style=\"color: #00d7ff; text-decoration-color: #00d7ff\">None</span>, <span style=\"color: #00af00; text-decoration-color: #00af00\">5</span>)              │           <span style=\"color: #00af00; text-decoration-color: #00af00\">645</span> │\n",
              "└─────────────────────────────────┴────────────────────────┴───────────────┘\n",
              "</pre>\n"
            ],
            "text/plain": [
              "┏━━━━━━━━━━━━━━━━━━━━━━━━━━━━━━━━━┳━━━━━━━━━━━━━━━━━━━━━━━━┳━━━━━━━━━━━━━━━┓\n",
              "┃\u001b[1m \u001b[0m\u001b[1mLayer (type)                   \u001b[0m\u001b[1m \u001b[0m┃\u001b[1m \u001b[0m\u001b[1mOutput Shape          \u001b[0m\u001b[1m \u001b[0m┃\u001b[1m \u001b[0m\u001b[1m      Param #\u001b[0m\u001b[1m \u001b[0m┃\n",
              "┡━━━━━━━━━━━━━━━━━━━━━━━━━━━━━━━━━╇━━━━━━━━━━━━━━━━━━━━━━━━╇━━━━━━━━━━━━━━━┩\n",
              "│ Input (\u001b[38;5;33mInputLayer\u001b[0m)              │ (\u001b[38;5;45mNone\u001b[0m, \u001b[38;5;34m20\u001b[0m)             │             \u001b[38;5;34m0\u001b[0m │\n",
              "├─────────────────────────────────┼────────────────────────┼───────────────┤\n",
              "│ 1st_hidden_layer (\u001b[38;5;33mDense\u001b[0m)        │ (\u001b[38;5;45mNone\u001b[0m, \u001b[38;5;34m64\u001b[0m)             │         \u001b[38;5;34m1,344\u001b[0m │\n",
              "├─────────────────────────────────┼────────────────────────┼───────────────┤\n",
              "│ dropout_layer_1 (\u001b[38;5;33mDropout\u001b[0m)       │ (\u001b[38;5;45mNone\u001b[0m, \u001b[38;5;34m64\u001b[0m)             │             \u001b[38;5;34m0\u001b[0m │\n",
              "├─────────────────────────────────┼────────────────────────┼───────────────┤\n",
              "│ 2nd_hidden_layer (\u001b[38;5;33mDense\u001b[0m)        │ (\u001b[38;5;45mNone\u001b[0m, \u001b[38;5;34m128\u001b[0m)            │         \u001b[38;5;34m8,320\u001b[0m │\n",
              "├─────────────────────────────────┼────────────────────────┼───────────────┤\n",
              "│ dropout_layer_2 (\u001b[38;5;33mDropout\u001b[0m)       │ (\u001b[38;5;45mNone\u001b[0m, \u001b[38;5;34m128\u001b[0m)            │             \u001b[38;5;34m0\u001b[0m │\n",
              "├─────────────────────────────────┼────────────────────────┼───────────────┤\n",
              "│ 3rd_hidden_layer (\u001b[38;5;33mDense\u001b[0m)        │ (\u001b[38;5;45mNone\u001b[0m, \u001b[38;5;34m128\u001b[0m)            │        \u001b[38;5;34m16,512\u001b[0m │\n",
              "├─────────────────────────────────┼────────────────────────┼───────────────┤\n",
              "│ Output (\u001b[38;5;33mDense\u001b[0m)                  │ (\u001b[38;5;45mNone\u001b[0m, \u001b[38;5;34m5\u001b[0m)              │           \u001b[38;5;34m645\u001b[0m │\n",
              "└─────────────────────────────────┴────────────────────────┴───────────────┘\n"
            ]
          },
          "metadata": {},
          "output_type": "display_data"
        },
        {
          "data": {
            "text/html": [
              "<pre style=\"white-space:pre;overflow-x:auto;line-height:normal;font-family:Menlo,'DejaVu Sans Mono',consolas,'Courier New',monospace\"><span style=\"font-weight: bold\"> Total params: </span><span style=\"color: #00af00; text-decoration-color: #00af00\">26,821</span> (104.77 KB)\n",
              "</pre>\n"
            ],
            "text/plain": [
              "\u001b[1m Total params: \u001b[0m\u001b[38;5;34m26,821\u001b[0m (104.77 KB)\n"
            ]
          },
          "metadata": {},
          "output_type": "display_data"
        },
        {
          "data": {
            "text/html": [
              "<pre style=\"white-space:pre;overflow-x:auto;line-height:normal;font-family:Menlo,'DejaVu Sans Mono',consolas,'Courier New',monospace\"><span style=\"font-weight: bold\"> Trainable params: </span><span style=\"color: #00af00; text-decoration-color: #00af00\">26,821</span> (104.77 KB)\n",
              "</pre>\n"
            ],
            "text/plain": [
              "\u001b[1m Trainable params: \u001b[0m\u001b[38;5;34m26,821\u001b[0m (104.77 KB)\n"
            ]
          },
          "metadata": {},
          "output_type": "display_data"
        },
        {
          "data": {
            "text/html": [
              "<pre style=\"white-space:pre;overflow-x:auto;line-height:normal;font-family:Menlo,'DejaVu Sans Mono',consolas,'Courier New',monospace\"><span style=\"font-weight: bold\"> Non-trainable params: </span><span style=\"color: #00af00; text-decoration-color: #00af00\">0</span> (0.00 B)\n",
              "</pre>\n"
            ],
            "text/plain": [
              "\u001b[1m Non-trainable params: \u001b[0m\u001b[38;5;34m0\u001b[0m (0.00 B)\n"
            ]
          },
          "metadata": {},
          "output_type": "display_data"
        },
        {
          "name": "stdout",
          "output_type": "stream",
          "text": [
            "Epoch 1/10\n",
            "\u001b[1m11250/11250\u001b[0m \u001b[32m━━━━━━━━━━━━━━━━━━━━\u001b[0m\u001b[37m\u001b[0m \u001b[1m23s\u001b[0m 2ms/step - accuracy: 0.8863 - loss: 0.3910 - val_accuracy: 0.9653 - val_loss: 0.1396\n",
            "Epoch 2/10\n",
            "\u001b[1m11250/11250\u001b[0m \u001b[32m━━━━━━━━━━━━━━━━━━━━\u001b[0m\u001b[37m\u001b[0m \u001b[1m21s\u001b[0m 2ms/step - accuracy: 0.9571 - loss: 0.1470 - val_accuracy: 0.9696 - val_loss: 0.1032\n",
            "Epoch 3/10\n",
            "\u001b[1m11250/11250\u001b[0m \u001b[32m━━━━━━━━━━━━━━━━━━━━\u001b[0m\u001b[37m\u001b[0m \u001b[1m21s\u001b[0m 2ms/step - accuracy: 0.9670 - loss: 0.1137 - val_accuracy: 0.9770 - val_loss: 0.0865\n",
            "Epoch 4/10\n",
            "\u001b[1m11250/11250\u001b[0m \u001b[32m━━━━━━━━━━━━━━━━━━━━\u001b[0m\u001b[37m\u001b[0m \u001b[1m20s\u001b[0m 2ms/step - accuracy: 0.9726 - loss: 0.0991 - val_accuracy: 0.9787 - val_loss: 0.0781\n",
            "Epoch 5/10\n",
            "\u001b[1m11250/11250\u001b[0m \u001b[32m━━━━━━━━━━━━━━━━━━━━\u001b[0m\u001b[37m\u001b[0m \u001b[1m20s\u001b[0m 2ms/step - accuracy: 0.9750 - loss: 0.0914 - val_accuracy: 0.9772 - val_loss: 0.0792\n",
            "Epoch 6/10\n",
            "\u001b[1m11250/11250\u001b[0m \u001b[32m━━━━━━━━━━━━━━━━━━━━\u001b[0m\u001b[37m\u001b[0m \u001b[1m19s\u001b[0m 2ms/step - accuracy: 0.9752 - loss: 0.0881 - val_accuracy: 0.9787 - val_loss: 0.0723\n",
            "Epoch 7/10\n",
            "\u001b[1m11250/11250\u001b[0m \u001b[32m━━━━━━━━━━━━━━━━━━━━\u001b[0m\u001b[37m\u001b[0m \u001b[1m20s\u001b[0m 2ms/step - accuracy: 0.9760 - loss: 0.0828 - val_accuracy: 0.9790 - val_loss: 0.0732\n",
            "Epoch 8/10\n",
            "\u001b[1m11250/11250\u001b[0m \u001b[32m━━━━━━━━━━━━━━━━━━━━\u001b[0m\u001b[37m\u001b[0m \u001b[1m20s\u001b[0m 2ms/step - accuracy: 0.9764 - loss: 0.0795 - val_accuracy: 0.9795 - val_loss: 0.0678\n",
            "Epoch 9/10\n",
            "\u001b[1m11250/11250\u001b[0m \u001b[32m━━━━━━━━━━━━━━━━━━━━\u001b[0m\u001b[37m\u001b[0m \u001b[1m20s\u001b[0m 2ms/step - accuracy: 0.9762 - loss: 0.0759 - val_accuracy: 0.9796 - val_loss: 0.0632\n",
            "Epoch 10/10\n",
            "\u001b[1m11250/11250\u001b[0m \u001b[32m━━━━━━━━━━━━━━━━━━━━\u001b[0m\u001b[37m\u001b[0m \u001b[1m20s\u001b[0m 2ms/step - accuracy: 0.9771 - loss: 0.0710 - val_accuracy: 0.9798 - val_loss: 0.0596\n",
            "\u001b[1m3125/3125\u001b[0m \u001b[32m━━━━━━━━━━━━━━━━━━━━\u001b[0m\u001b[37m\u001b[0m \u001b[1m3s\u001b[0m 1ms/step\n",
            "**************************************** Performance Table ****************************************\n"
          ]
        },
        {
          "data": {
            "text/html": [
              "<style type=\"text/css\">\n",
              "#T_469fe_row0_col4, #T_469fe_row0_col5, #T_469fe_row1_col4, #T_469fe_row1_col5, #T_469fe_row2_col4, #T_469fe_row2_col5, #T_469fe_row3_col4, #T_469fe_row3_col5, #T_469fe_row4_col4, #T_469fe_row4_col5, #T_469fe_row5_col4, #T_469fe_row5_col5, #T_469fe_row6_col4, #T_469fe_row6_col5, #T_469fe_row7_col4, #T_469fe_row7_col5 {\n",
              "  background-color: #dcdcdc;\n",
              "}\n",
              "</style>\n",
              "<table id=\"T_469fe\">\n",
              "  <thead>\n",
              "    <tr>\n",
              "      <th class=\"blank\" >&nbsp;</th>\n",
              "      <th class=\"blank level0\" >&nbsp;</th>\n",
              "      <th id=\"T_469fe_level0_col0\" class=\"col_heading level0 col0\" >Precision</th>\n",
              "      <th id=\"T_469fe_level0_col1\" class=\"col_heading level0 col1\" >Recall</th>\n",
              "      <th id=\"T_469fe_level0_col2\" class=\"col_heading level0 col2\" >F1_Score</th>\n",
              "      <th id=\"T_469fe_level0_col3\" class=\"col_heading level0 col3\" >Support</th>\n",
              "      <th id=\"T_469fe_level0_col4\" class=\"col_heading level0 col4\" >Training_Time</th>\n",
              "      <th id=\"T_469fe_level0_col5\" class=\"col_heading level0 col5\" >Predicting_Time</th>\n",
              "    </tr>\n",
              "    <tr>\n",
              "      <th class=\"index_name level0\" >Model_name</th>\n",
              "      <th class=\"index_name level1\" >Classes</th>\n",
              "      <th class=\"blank col0\" >&nbsp;</th>\n",
              "      <th class=\"blank col1\" >&nbsp;</th>\n",
              "      <th class=\"blank col2\" >&nbsp;</th>\n",
              "      <th class=\"blank col3\" >&nbsp;</th>\n",
              "      <th class=\"blank col4\" >&nbsp;</th>\n",
              "      <th class=\"blank col5\" >&nbsp;</th>\n",
              "    </tr>\n",
              "  </thead>\n",
              "  <tbody>\n",
              "    <tr>\n",
              "      <th id=\"T_469fe_level0_row0\" class=\"row_heading level0 row0\" rowspan=\"8\">MLP</th>\n",
              "      <th id=\"T_469fe_level1_row0\" class=\"row_heading level1 row0\" >Class-0</th>\n",
              "      <td id=\"T_469fe_row0_col0\" class=\"data row0 col0\" >0.989850</td>\n",
              "      <td id=\"T_469fe_row0_col1\" class=\"data row0 col1\" >0.984834</td>\n",
              "      <td id=\"T_469fe_row0_col2\" class=\"data row0 col2\" >0.987336</td>\n",
              "      <td id=\"T_469fe_row0_col3\" class=\"data row0 col3\" >87633.000000</td>\n",
              "      <td id=\"T_469fe_row0_col4\" class=\"data row0 col4\" >3.375300</td>\n",
              "      <td id=\"T_469fe_row0_col5\" class=\"data row0 col5\" >0.078274</td>\n",
              "    </tr>\n",
              "    <tr>\n",
              "      <th id=\"T_469fe_level1_row1\" class=\"row_heading level1 row1\" >Class-1</th>\n",
              "      <td id=\"T_469fe_row1_col0\" class=\"data row1 col0\" >0.000000</td>\n",
              "      <td id=\"T_469fe_row1_col1\" class=\"data row1 col1\" >0.000000</td>\n",
              "      <td id=\"T_469fe_row1_col2\" class=\"data row1 col2\" >0.000000</td>\n",
              "      <td id=\"T_469fe_row1_col3\" class=\"data row1 col3\" >76.000000</td>\n",
              "      <td id=\"T_469fe_row1_col4\" class=\"data row1 col4\" >3.375300</td>\n",
              "      <td id=\"T_469fe_row1_col5\" class=\"data row1 col5\" >0.078274</td>\n",
              "    </tr>\n",
              "    <tr>\n",
              "      <th id=\"T_469fe_level1_row2\" class=\"row_heading level1 row2\" >Class-2</th>\n",
              "      <td id=\"T_469fe_row2_col0\" class=\"data row2 col0\" >0.996925</td>\n",
              "      <td id=\"T_469fe_row2_col1\" class=\"data row2 col1\" >0.977095</td>\n",
              "      <td id=\"T_469fe_row2_col2\" class=\"data row2 col2\" >0.986910</td>\n",
              "      <td id=\"T_469fe_row2_col3\" class=\"data row2 col3\" >4977.000000</td>\n",
              "      <td id=\"T_469fe_row2_col4\" class=\"data row2 col4\" >3.375300</td>\n",
              "      <td id=\"T_469fe_row2_col5\" class=\"data row2 col5\" >0.078274</td>\n",
              "    </tr>\n",
              "    <tr>\n",
              "      <th id=\"T_469fe_level1_row3\" class=\"row_heading level1 row3\" >Class-3</th>\n",
              "      <td id=\"T_469fe_row3_col0\" class=\"data row3 col0\" >0.964552</td>\n",
              "      <td id=\"T_469fe_row3_col1\" class=\"data row3 col1\" >0.442637</td>\n",
              "      <td id=\"T_469fe_row3_col2\" class=\"data row3 col2\" >0.606808</td>\n",
              "      <td id=\"T_469fe_row3_col3\" class=\"data row3 col3\" >1168.000000</td>\n",
              "      <td id=\"T_469fe_row3_col4\" class=\"data row3 col4\" >3.375300</td>\n",
              "      <td id=\"T_469fe_row3_col5\" class=\"data row3 col5\" >0.078274</td>\n",
              "    </tr>\n",
              "    <tr>\n",
              "      <th id=\"T_469fe_level1_row4\" class=\"row_heading level1 row4\" >Class-4</th>\n",
              "      <td id=\"T_469fe_row4_col0\" class=\"data row4 col0\" >0.824523</td>\n",
              "      <td id=\"T_469fe_row4_col1\" class=\"data row4 col1\" >0.992353</td>\n",
              "      <td id=\"T_469fe_row4_col2\" class=\"data row4 col2\" >0.900687</td>\n",
              "      <td id=\"T_469fe_row4_col3\" class=\"data row4 col3\" >6146.000000</td>\n",
              "      <td id=\"T_469fe_row4_col4\" class=\"data row4 col4\" >3.375300</td>\n",
              "      <td id=\"T_469fe_row4_col5\" class=\"data row4 col5\" >0.078274</td>\n",
              "    </tr>\n",
              "    <tr>\n",
              "      <th id=\"T_469fe_level1_row5\" class=\"row_heading level1 row5\" >accuracy</th>\n",
              "      <td id=\"T_469fe_row5_col0\" class=\"data row5 col0\" >0.977830</td>\n",
              "      <td id=\"T_469fe_row5_col1\" class=\"data row5 col1\" >0.977830</td>\n",
              "      <td id=\"T_469fe_row5_col2\" class=\"data row5 col2\" >0.977830</td>\n",
              "      <td id=\"T_469fe_row5_col3\" class=\"data row5 col3\" >0.977830</td>\n",
              "      <td id=\"T_469fe_row5_col4\" class=\"data row5 col4\" >3.375300</td>\n",
              "      <td id=\"T_469fe_row5_col5\" class=\"data row5 col5\" >0.078274</td>\n",
              "    </tr>\n",
              "    <tr>\n",
              "      <th id=\"T_469fe_level1_row6\" class=\"row_heading level1 row6\" >macro avg</th>\n",
              "      <td id=\"T_469fe_row6_col0\" class=\"data row6 col0\" >0.755170</td>\n",
              "      <td id=\"T_469fe_row6_col1\" class=\"data row6 col1\" >0.679384</td>\n",
              "      <td id=\"T_469fe_row6_col2\" class=\"data row6 col2\" >0.696348</td>\n",
              "      <td id=\"T_469fe_row6_col3\" class=\"data row6 col3\" >100000.000000</td>\n",
              "      <td id=\"T_469fe_row6_col4\" class=\"data row6 col4\" >3.375300</td>\n",
              "      <td id=\"T_469fe_row6_col5\" class=\"data row6 col5\" >0.078274</td>\n",
              "    </tr>\n",
              "    <tr>\n",
              "      <th id=\"T_469fe_level1_row7\" class=\"row_heading level1 row7\" >weighted avg</th>\n",
              "      <td id=\"T_469fe_row7_col0\" class=\"data row7 col0\" >0.978993</td>\n",
              "      <td id=\"T_469fe_row7_col1\" class=\"data row7 col1\" >0.977830</td>\n",
              "      <td id=\"T_469fe_row7_col2\" class=\"data row7 col2\" >0.976794</td>\n",
              "      <td id=\"T_469fe_row7_col3\" class=\"data row7 col3\" >100000.000000</td>\n",
              "      <td id=\"T_469fe_row7_col4\" class=\"data row7 col4\" >3.375300</td>\n",
              "      <td id=\"T_469fe_row7_col5\" class=\"data row7 col5\" >0.078274</td>\n",
              "    </tr>\n",
              "  </tbody>\n",
              "</table>\n"
            ],
            "text/plain": [
              "<pandas.io.formats.style.Styler at 0x782c085227a0>"
            ]
          },
          "metadata": {},
          "output_type": "display_data"
        },
        {
          "name": "stdout",
          "output_type": "stream",
          "text": [
            "\n",
            "It takes you  3minutes to see MLP\n"
          ]
        }
      ],
      "source": [
        "\n",
        "\n",
        "# Step0) Hyperparameters\n",
        "\n",
        "no_neurons_1 = 64\n",
        "no_neurons_2 = 128\n",
        "no_neurons_3 = 128\n",
        "dropout_rate = 0.2\n",
        "epoch = 10\n",
        "batch_size = 32\n",
        "learning_rate = 0.0001\n",
        "activation ='relu'\n",
        "\n",
        "# Step1) Choose another set of features\n",
        "best_feature_list = best_feature_list_from_RF\n",
        "print('This result is for MLP using best feature list obtained from RF method:')\n",
        "print('-'*100)\n",
        "\n",
        "# Step2) Splitting\n",
        "X_train, x_test, y_train, y_test = spliting(df= clean_df, best_feature_list= best_feature_list)\n",
        "\n",
        "# Step3) Normalizing\n",
        "X_train_normalized, x_test_normalized = normalizing(X_train, x_test)\n",
        "\n",
        "\n",
        "# Step4) Define Model\n",
        "def mlp_model(X_train_normalized,no_neurons_1,no_neurons_2,activation,dropout_rate,learning_rate,no_of_classes):\n",
        "\n",
        "  input_shape = X_train_normalized.shape[1]\n",
        "  input = keras.Input(shape=(input_shape,),name='Input')\n",
        "  first_layer = layers.Dense(units = no_neurons_1,activation=activation,name='1st_hidden_layer')(input)\n",
        "  dropout_layer_1 =  layers.Dropout(dropout_rate,name='dropout_layer_1')(first_layer)\n",
        "  second_layer = layers.Dense(units = no_neurons_2,activation=activation,name='2nd_hidden_layer')(dropout_layer_1)\n",
        "  dropout_layer_2 =  layers.Dropout(1.5* dropout_rate,name='dropout_layer_2')(second_layer)\n",
        "  third_layer = layers.Dense(units = no_neurons_3,activation=activation,name='3rd_hidden_layer')(dropout_layer_2)\n",
        "  output = layers.Dense(units = no_of_classes,activation='softmax',name='Output')(third_layer)\n",
        "\n",
        "  # Create model\n",
        "  model = keras.Model(inputs=input, outputs=output, name=\"mlp_model\")\n",
        "  model.compile(\n",
        "    loss='sparse_categorical_crossentropy',\n",
        "    optimizer=keras.optimizers.Adam(learning_rate=learning_rate),\n",
        "    metrics=['accuracy'])\n",
        "  model.summary()\n",
        "\n",
        "  return model\n",
        "\n",
        "# Step5) Call Model\n",
        "mlp_model = mlp_model(X_train_normalized,no_neurons_1,no_neurons_2,activation,dropout_rate,learning_rate,no_of_classes)\n",
        "plot_model(mlp_model, to_file='mlp_model.png', show_shapes=True, show_layer_names=True,dpi=100)\n",
        "\n",
        "\n",
        "# Step6) Fit and Predict\n",
        "start_time = time.time()\n",
        "history = mlp_model.fit(X_train_normalized, y_train, batch_size=batch_size, epochs=epoch, validation_split=0.1)\n",
        "stop_time = time.time()\n",
        "train_time = (stop_time-start_time)/60\n",
        "\n",
        "\n",
        "# Step7) Call Performance\n",
        "start_time = time.time()\n",
        "y_pred_proba = mlp_model.predict(x_test_normalized)\n",
        "y_pred = np.argmax(y_pred_proba, axis=1)\n",
        "stop_time = time.time()\n",
        "pred_time = (stop_time-start_time)/60\n",
        "\n",
        "print('*'*40,'Performance Table','*'*40)\n",
        "_,mlp_performance_df  = performance('MLP',y_test,y_pred,clean_df,train_time,pred_time)\n",
        "print(f'\\nIt takes you  {int((time.time() - initial_time)/60)}minutes to see MLP')\n",
        "\n",
        "# Step8) Save model performance\n",
        "current_working_dir = os.getcwd()\n",
        "os.makedirs(os.path.join(current_working_dir,'Models_results'),exist_ok=True)\n",
        "Models_results_folder = os.path.join(current_working_dir,'Models_results')\n",
        "mlp_performance_df.to_csv(os.path.join(Models_results_folder,'MLP_performance_df.csv'),index=True)"
      ]
    },
    {
      "cell_type": "markdown",
      "id": "50e2b1eb",
      "metadata": {
        "id": "50e2b1eb",
        "papermill": {
          "duration": 0.257651,
          "end_time": "2024-08-16T14:33:50.733452",
          "exception": false,
          "start_time": "2024-08-16T14:33:50.475801",
          "status": "completed"
        },
        "tags": []
      },
      "source": [
        "# **MLP Model Performance**"
      ]
    },
    {
      "cell_type": "code",
      "execution_count": null,
      "id": "0f36a54a",
      "metadata": {
        "execution": {
          "iopub.execute_input": "2024-08-16T14:33:51.268843Z",
          "iopub.status.busy": "2024-08-16T14:33:51.268432Z",
          "iopub.status.idle": "2024-08-16T14:33:51.646060Z",
          "shell.execute_reply": "2024-08-16T14:33:51.644778Z"
        },
        "id": "0f36a54a",
        "outputId": "74110f51-2e60-491a-9ffd-d4d57be28e3f",
        "papermill": {
          "duration": 0.661339,
          "end_time": "2024-08-16T14:33:51.648500",
          "exception": false,
          "start_time": "2024-08-16T14:33:50.987161",
          "status": "completed"
        },
        "tags": []
      },
      "outputs": [
        {
          "data": {
            "image/png": "[encoded data removed]",
            "text/plain": [
              "<Figure size 800x500 with 1 Axes>"
            ]
          },
          "metadata": {},
          "output_type": "display_data"
        }
      ],
      "source": [
        "# Let's see the the performance of MLP in a plot\n",
        "model_names =  ['MLP']\n",
        "Accuracy_list = list(np.round([mlp_performance_df['F1_Score'][-3]],3))\n",
        "F1_Score_Macro_Avg_list= list(np.round([mlp_performance_df['F1_Score'][-2]],3))\n",
        "F1_Score_Weighted_Avg_list = list(np.round([mlp_performance_df['F1_Score'][-1]],3))\n",
        "plot_performance(model_names, F1_Score_Macro_Avg_list, F1_Score_Weighted_Avg_list,Accuracy_list)"
      ]
    },
    {
      "cell_type": "code",
      "execution_count": null,
      "id": "97571410",
      "metadata": {
        "execution": {
          "iopub.execute_input": "2024-08-16T14:33:52.222279Z",
          "iopub.status.busy": "2024-08-16T14:33:52.221428Z",
          "iopub.status.idle": "2024-08-16T14:33:52.227259Z",
          "shell.execute_reply": "2024-08-16T14:33:52.226119Z"
        },
        "id": "97571410",
        "outputId": "2c05b1d1-d942-4dc8-b301-6ade6681c9fa",
        "papermill": {
          "duration": 0.323312,
          "end_time": "2024-08-16T14:33:52.229932",
          "exception": false,
          "start_time": "2024-08-16T14:33:51.906620",
          "status": "completed"
        },
        "tags": []
      },
      "outputs": [
        {
          "name": "stdout",
          "output_type": "stream",
          "text": [
            "This notebook takes 4 minutes of your time.\n"
          ]
        }
      ],
      "source": [
        "last_time =  time.time()\n",
        "print(f'This notebook takes {int((last_time-initial_time)/60)} minutes of your time.')"
      ]
    }
  ],
  "metadata": {
    "colab": {
      "collapsed_sections": [
        "330cc221"
      ],
      "provenance": [],
      "include_colab_link": true
    },
    "kaggle": {
      "accelerator": "none",
      "dataSources": [],
      "dockerImageVersionId": 30746,
      "isGpuEnabled": false,
      "isInternetEnabled": true,
      "language": "python",
      "sourceType": "notebook"
    },
    "kernelspec": {
      "display_name": "Python 3",
      "language": "python",
      "name": "python3"
    },
    "language_info": {
      "codemirror_mode": {
        "name": "ipython",
        "version": 3
      },
      "file_extension": ".py",
      "mimetype": "text/x-python",
      "name": "python",
      "nbconvert_exporter": "python",
      "pygments_lexer": "ipython3",
      "version": "3.10.13"
    },
    "papermill": {
      "default_parameters": {},
      "duration": 272.667349,
      "end_time": "2024-08-16T14:33:54.111756",
      "environment_variables": {},
      "exception": null,
      "input_path": "__notebook__.ipynb",
      "output_path": "__notebook__.ipynb",
      "parameters": {},
      "start_time": "2024-08-16T14:29:21.444407",
      "version": "2.5.0"
    }
  },
  "nbformat": 4,
  "nbformat_minor": 5
}