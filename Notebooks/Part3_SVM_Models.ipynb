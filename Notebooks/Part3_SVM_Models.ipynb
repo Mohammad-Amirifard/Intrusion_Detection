{
 "cells": [
  {
   "cell_type": "markdown",
   "metadata": {
    "id": "view-in-github",
    "colab_type": "text",
    "pycharm": {
     "name": "#%% md\n"
    }
   },
   "source": [
    "<a href=\"https://colab.research.google.com/github/Mohammad-Amirifard/Intrusion_Detection/blob/main/Part3_SVM_Models.ipynb\" target=\"_parent\"><img src=\"https://colab.research.google.com/assets/colab-badge.svg\" alt=\"Open In Colab\"/></a>"
   ]
  },
  {
   "cell_type": "markdown",
   "id": "1189ce4d",
   "metadata": {
    "id": "1189ce4d",
    "papermill": {
     "duration": 0.009867,
     "end_time": "2024-08-14T21:23:57.028746",
     "exception": false,
     "start_time": "2024-08-14T21:23:57.018879",
     "status": "completed"
    },
    "pycharm": {
     "name": "#%% md\n"
    },
    "tags": []
   },
   "source": [
    "# **Intrusion Detection Using Machine Learning Techniques On CIC-IDS2017 Dataset**\n",
    "\n",
    "Created By [Mohammad Amirifard](https://www.linkedin.com/in/mohammad-amirifard/)\n",
    "\n",
    "\n",
    "<img src=\"https://www.teligentsolutions.com/wp-content/uploads/2015/04/Teligent_Solutions_Intrusion_Detection.jpg\" alt=\"Image\" />\n",
    "\n",
    "# **Structure of notebooks**\n",
    "`This program includes several notebooks regarding different parts.`\n",
    "\n",
    "This is **notebook number 3**, called **Part3_SVM_Models**\n",
    "\n",
    "For other notebooks you can use the following links:\n",
    "\n",
    "\n",
    "1.   Notebook number 1, [Part1_EDA](https://github.com/Mohammad-Amirifard/Intrusion_Detection/blob/main/Notebooks/Part1_EDA.ipynb)\n",
    "2.   Notebook number 2, [Part2_KNN_Models](https://github.com/Mohammad-Amirifard/Intrusion_Detection/blob/main/Notebooks/Part2_KNN_Models.ipynb)\n",
    "3.   Notebook number 3, [Part3_SVM_Models](https://github.com/Mohammad-Amirifard/Intrusion_Detection/blob/main/Notebooks/Part3_SVM_Models.ipynb)\n",
    "4.   Notebook number 4, [Part4_Gboost_Model](https://github.com/Mohammad-Amirifard/Intrusion_Detection/blob/main/Notebooks/Part4_GBoost_Model.ipynb)\n",
    "5.   Notebook number 5, [Part5_MLP_Model](https://github.com/Mohammad-Amirifard/Intrusion_Detection/blob/main/Notebooks/Part5_MLP_Model.ipynb)\n",
    "6.   Notebook number 6, [Part6_Conclusion](https://github.com/Mohammad-Amirifard/Intrusion_Detection/blob/main/Notebooks/Part6_Conclusion.ipynb)\n"
   ]
  },
  {
   "cell_type": "markdown",
   "id": "00e87fa0",
   "metadata": {
    "id": "00e87fa0",
    "papermill": {
     "duration": 0.009697,
     "end_time": "2024-08-14T21:23:57.048004",
     "exception": false,
     "start_time": "2024-08-14T21:23:57.038307",
     "status": "completed"
    },
    "pycharm": {
     "name": "#%% md\n"
    },
    "tags": []
   },
   "source": [
    "# **Problem Statement**\n",
    "The objective of this project is to **detect** and classify various types of **anomalies** within the `CIC-IDS2017 dataset`, which is a widely recognized benchmark dataset used for cybersecurity research, particularly in the domain of intrusion detection systems (IDS). Anomalies in this context refer to unusual or suspicious patterns in the network traffic data that may indicate potential security threats such as attacks or intrusions.\n",
    "\n",
    "To achieve this, we will apply a range of **machine learning techniques** that are commonly used for anomaly detection and classification tasks. These techniques include, but are not limited to, supervised learning methods, such as decision trees, support vector machines, and neural networks, as well as unsupervised learning approaches like clustering algorithms and autoencoders. By leveraging these methods, we aim to accurately classify network traffic data into normal and anomalous categories.\n",
    "\n",
    "The problem we are addressing is inherently a classification problem, where the primary goal is to categorize the data into predefined classes based on the learned patterns. This involves training machine learning models on labeled data to distinguish between normal and anomalous network traffic, enabling the detection of potential security threats with high precision and recall.\n",
    "\n",
    "**Goal:**\n",
    "\n",
    "Our ultimate aim is to develop a robust system that can effectively identify various types of anomalies, contributing to the enhancement of network security measures.\n",
    "\n",
    "**Dataset:**\n",
    "\n",
    "you can see detail of available dataset on this [link](https://www.unb.ca/cic/datasets/ids-2017.html)"
   ]
  },
  {
   "cell_type": "markdown",
   "id": "3c14a03e",
   "metadata": {
    "id": "3c14a03e",
    "papermill": {
     "duration": 0.009718,
     "end_time": "2024-08-14T21:23:57.067496",
     "exception": false,
     "start_time": "2024-08-14T21:23:57.057778",
     "status": "completed"
    },
    "pycharm": {
     "name": "#%% md\n"
    },
    "tags": []
   },
   "source": [
    "# **Table of Content**\n",
    "\n"
   ]
  },
  {
   "cell_type": "markdown",
   "id": "3f83ba60",
   "metadata": {
    "id": "3f83ba60",
    "papermill": {
     "duration": 0.009163,
     "end_time": "2024-08-14T21:23:57.086145",
     "exception": false,
     "start_time": "2024-08-14T21:23:57.076982",
     "status": "completed"
    },
    "pycharm": {
     "name": "#%% md\n"
    },
    "tags": []
   },
   "source": [
    "<div class=\"toc\" style=\"background-color: #d4d0cf; padding: 10px; border-radius: 5px;\">\n",
    "  <h2 style=\"color: black;\"></h2>\n",
    "  <ul>\n",
    "    <li style=\"color: black;\">Import Libraries</li>\n",
    "    <li style=\"color: black;\">Download Clean CIC-IDS2017 Dataset</li>\n",
    "    <li style=\"color: black;\">Load datasets</li>\n",
    "    <li style=\"color: black;\">Encode Labels</li>\n",
    "    <li style=\"color: black;\">Split dataset</li>\n",
    "    <li style=\"color: black;\">Normalize Data</li>\n",
    "    <li style=\"color: black;\">Performance function</li>\n",
    "    <li style=\"color: black;\">Perfomance Plot</li>\n",
    "    <li style=\"color: black;\">SVM Models\n",
    "      <ul>\n",
    "        <li style=\"color: black;\">SVM_1</li>\n",
    "        <li style=\"color: black;\">SVM_2</li>\n",
    "      </ul>\n",
    "    </li>\n",
    "    <li style=\"color: black;\">SVM_models Performance</li>\n",
    "  </ul>\n",
    "</div>\n"
   ]
  },
  {
   "cell_type": "markdown",
   "id": "566648f2",
   "metadata": {
    "id": "566648f2",
    "papermill": {
     "duration": 0.00953,
     "end_time": "2024-08-14T21:23:57.105121",
     "exception": false,
     "start_time": "2024-08-14T21:23:57.095591",
     "status": "completed"
    },
    "pycharm": {
     "name": "#%% md\n"
    },
    "tags": []
   },
   "source": [
    "# **Import Libraries**\n",
    "\n",
    "Here we import libraries on which we need to work."
   ]
  },
  {
   "cell_type": "code",
   "execution_count": null,
   "id": "4cdc6293",
   "metadata": {
    "execution": {
     "iopub.execute_input": "2024-08-14T21:23:57.126218Z",
     "iopub.status.busy": "2024-08-14T21:23:57.125738Z",
     "iopub.status.idle": "2024-08-14T21:24:16.302259Z",
     "shell.execute_reply": "2024-08-14T21:24:16.300887Z"
    },
    "id": "4cdc6293",
    "papermill": {
     "duration": 19.190549,
     "end_time": "2024-08-14T21:24:16.305154",
     "exception": false,
     "start_time": "2024-08-14T21:23:57.114605",
     "status": "completed"
    },
    "pycharm": {
     "name": "#%%\n"
    },
    "tags": []
   },
   "outputs": [],
   "source": [
    "!pip install -qq gdown\n",
    "import pandas as pd\n",
    "import numpy as np\n",
    "import matplotlib.pyplot as plt\n",
    "import scipy\n",
    "import os, gdown\n",
    "import zipfile, time\n",
    "import warnings\n",
    "import joblib\n",
    "warnings.filterwarnings('ignore')\n"
   ]
  },
  {
   "cell_type": "markdown",
   "id": "ab9a7e8b",
   "metadata": {
    "id": "ab9a7e8b",
    "papermill": {
     "duration": 0.009043,
     "end_time": "2024-08-14T21:24:16.323604",
     "exception": false,
     "start_time": "2024-08-14T21:24:16.314561",
     "status": "completed"
    },
    "pycharm": {
     "name": "#%% md\n"
    },
    "tags": []
   },
   "source": [
    "# **Download Clean CIC-IDS2017 Dataset**\n",
    "\n",
    "Here we download dataset from google drive and try to unzip it. This is not the main dataset. This is the clean dataset obtained from Part 1."
   ]
  },
  {
   "cell_type": "code",
   "execution_count": null,
   "id": "5f2970bc",
   "metadata": {
    "execution": {
     "iopub.execute_input": "2024-08-14T21:24:16.345110Z",
     "iopub.status.busy": "2024-08-14T21:24:16.344521Z",
     "iopub.status.idle": "2024-08-14T21:24:27.118515Z",
     "shell.execute_reply": "2024-08-14T21:24:27.117118Z"
    },
    "id": "5f2970bc",
    "outputId": "48f80a15-42bb-4ebf-85e5-942f2dceb349",
    "papermill": {
     "duration": 10.788362,
     "end_time": "2024-08-14T21:24:27.121195",
     "exception": false,
     "start_time": "2024-08-14T21:24:16.332833",
     "status": "completed"
    },
    "pycharm": {
     "name": "#%%\n"
    },
    "tags": []
   },
   "outputs": [
    {
     "name": "stdout",
     "output_type": "stream",
     "text": [
      "clean_dataset.zip was downloaded successfuly.\n",
      "clean_dataset.zip  was unziped successfuly.\n"
     ]
    }
   ],
   "source": [
    "def download_file_from_google_drive(file_id, destination):\n",
    "\n",
    "    \"\"\"\n",
    "    Input: file_id (Obtained from google drive), destionation (For saving the file)\n",
    "    Output: _ (Download the file in destination directory)\n",
    "    \"\"\"\n",
    "    url = f\"https://drive.google.com/uc?id={file_id}\"\n",
    "    gdown.download(url, destination, quiet=True) # download file using given URL\n",
    "\n",
    "\n",
    "def unzip_dataset(extraction_dir):\n",
    "\n",
    "  \"\"\"\n",
    "  Input: Extraction_dir (Direction of dataset to unzip into)\n",
    "  Output: _ (Exract the zip file in the given direction)\n",
    "  \"\"\"\n",
    "\n",
    "  # Ensure the extraction directory exists\n",
    "  os.makedirs(extraction_dir, exist_ok=True)\n",
    "\n",
    "  # Unzip the file\n",
    "  with zipfile.ZipFile(zip_file_path, 'r') as zip_ref:\n",
    "      zip_ref.extractall(extraction_dir)\n",
    "\n",
    "\n",
    "\n",
    "# Setup variables to download dataset\n",
    "current_working_dir = os.getcwd()\n",
    "destination = current_working_dir\n",
    "zip_file_path = os.path.join(destination, 'clean_dataset.zip')\n",
    "file_id =  '1CG1DqRkNUBAOTcmT-eSg9fHMWy3FQacl' # File Id\n",
    "extraction_dir = os.path.join(destination,'dataset/')\n",
    "# call functions\n",
    "download_file_from_google_drive(file_id, zip_file_path) # Download\n",
    "print('clean_dataset.zip was downloaded successfuly.')\n",
    "unzip_dataset(extraction_dir)                           # Unzip\n",
    "print('clean_dataset.zip  was unziped successfuly.')"
   ]
  },
  {
   "cell_type": "markdown",
   "id": "7452e227",
   "metadata": {
    "id": "7452e227",
    "papermill": {
     "duration": 0.009685,
     "end_time": "2024-08-14T21:24:27.140650",
     "exception": false,
     "start_time": "2024-08-14T21:24:27.130965",
     "status": "completed"
    },
    "pycharm": {
     "name": "#%% md\n"
    },
    "tags": []
   },
   "source": [
    "# **Load datasets**\n",
    "On this [link](https://www.unb.ca/cic/datasets/ids-2017.html), You can access all information you need about dataset."
   ]
  },
  {
   "cell_type": "code",
   "execution_count": null,
   "id": "7b17ac94",
   "metadata": {
    "execution": {
     "iopub.execute_input": "2024-08-14T21:24:27.162952Z",
     "iopub.status.busy": "2024-08-14T21:24:27.161681Z",
     "iopub.status.idle": "2024-08-14T21:24:42.981440Z",
     "shell.execute_reply": "2024-08-14T21:24:42.980171Z"
    },
    "id": "7b17ac94",
    "papermill": {
     "duration": 15.834286,
     "end_time": "2024-08-14T21:24:42.984618",
     "exception": false,
     "start_time": "2024-08-14T21:24:27.150332",
     "status": "completed"
    },
    "pycharm": {
     "name": "#%%\n"
    },
    "tags": []
   },
   "outputs": [],
   "source": [
    "# Let's load all csv files.\n",
    "initial_time = time.time()\n",
    "clean_df = pd.read_csv(os.path.join(extraction_dir,'clean_df.csv'))\n",
    "# Shuffling the dataframe\n",
    "clean_df = clean_df.sample(frac=1, random_state=42).reset_index(drop=True)\n",
    "\n",
    "# Here for not wasting time we choose a part of dataset.\n",
    "no_sample_to_model = 500000 # Samples\n",
    "clean_df =clean_df[:no_sample_to_model]\n",
    "\n",
    "\n",
    "# Load best features obtained from EDA part\n",
    "best_feature_list_from_MI = np.load(os.path.join(extraction_dir,'best_feature_list_from_MI.npy'),allow_pickle =True)\n",
    "best_feature_list_from_Anova = np.load(os.path.join(extraction_dir,'best_feature_list_from_Anova.npy'),allow_pickle =True)\n",
    "best_feature_list_from_RF = np.load(os.path.join(extraction_dir,'best_feature_list_from_RF.npy'),allow_pickle =True)"
   ]
  },
  {
   "cell_type": "code",
   "execution_count": null,
   "id": "e9588264",
   "metadata": {
    "execution": {
     "iopub.execute_input": "2024-08-14T21:24:43.007258Z",
     "iopub.status.busy": "2024-08-14T21:24:43.006867Z",
     "iopub.status.idle": "2024-08-14T21:24:43.143797Z",
     "shell.execute_reply": "2024-08-14T21:24:43.142489Z"
    },
    "id": "e9588264",
    "outputId": "b158fe02-b237-4a01-ff54-80d9b76e52e6",
    "papermill": {
     "duration": 0.151334,
     "end_time": "2024-08-14T21:24:43.146515",
     "exception": false,
     "start_time": "2024-08-14T21:24:42.995181",
     "status": "completed"
    },
    "pycharm": {
     "name": "#%%\n"
    },
    "tags": []
   },
   "outputs": [
    {
     "data": {
      "text/html": [
       "<div>\n",
       "<style scoped>\n",
       "    .dataframe tbody tr th:only-of-type {\n",
       "        vertical-align: middle;\n",
       "    }\n",
       "\n",
       "    .dataframe tbody tr th {\n",
       "        vertical-align: top;\n",
       "    }\n",
       "\n",
       "    .dataframe thead th {\n",
       "        text-align: right;\n",
       "    }\n",
       "</style>\n",
       "<table border=\"1\" class=\"dataframe\">\n",
       "  <thead>\n",
       "    <tr style=\"text-align: right;\">\n",
       "      <th></th>\n",
       "      <th>Flow Duration</th>\n",
       "      <th>Total Backward Packets</th>\n",
       "      <th>Total Length of Bwd Packets</th>\n",
       "      <th>Fwd Packet Length Min</th>\n",
       "      <th>Fwd Packet Length Std</th>\n",
       "      <th>Bwd Packet Length Min</th>\n",
       "      <th>Bwd Packet Length Std</th>\n",
       "      <th>Flow Packets/s</th>\n",
       "      <th>Flow IAT Std</th>\n",
       "      <th>Flow IAT Min</th>\n",
       "      <th>...</th>\n",
       "      <th>Bwd Avg Bulk Rate</th>\n",
       "      <th>Subflow Fwd Bytes</th>\n",
       "      <th>Subflow Bwd Bytes</th>\n",
       "      <th>Init_Win_bytes_backward</th>\n",
       "      <th>min_seg_size_forward</th>\n",
       "      <th>Active Std</th>\n",
       "      <th>Active Min</th>\n",
       "      <th>Idle Std</th>\n",
       "      <th>Idle Min</th>\n",
       "      <th>Label</th>\n",
       "    </tr>\n",
       "  </thead>\n",
       "  <tbody>\n",
       "    <tr>\n",
       "      <th>0</th>\n",
       "      <td>134</td>\n",
       "      <td>2</td>\n",
       "      <td>96</td>\n",
       "      <td>32</td>\n",
       "      <td>0.000000</td>\n",
       "      <td>48</td>\n",
       "      <td>0.000000</td>\n",
       "      <td>29850.746270</td>\n",
       "      <td>7.216878e+01</td>\n",
       "      <td>3</td>\n",
       "      <td>...</td>\n",
       "      <td>0</td>\n",
       "      <td>64</td>\n",
       "      <td>96</td>\n",
       "      <td>-1</td>\n",
       "      <td>32</td>\n",
       "      <td>0.0</td>\n",
       "      <td>0</td>\n",
       "      <td>0.0</td>\n",
       "      <td>0</td>\n",
       "      <td>BENIGN</td>\n",
       "    </tr>\n",
       "    <tr>\n",
       "      <th>1</th>\n",
       "      <td>29</td>\n",
       "      <td>1</td>\n",
       "      <td>6</td>\n",
       "      <td>0</td>\n",
       "      <td>0.000000</td>\n",
       "      <td>6</td>\n",
       "      <td>0.000000</td>\n",
       "      <td>68965.517240</td>\n",
       "      <td>0.000000e+00</td>\n",
       "      <td>29</td>\n",
       "      <td>...</td>\n",
       "      <td>0</td>\n",
       "      <td>0</td>\n",
       "      <td>6</td>\n",
       "      <td>0</td>\n",
       "      <td>40</td>\n",
       "      <td>0.0</td>\n",
       "      <td>0</td>\n",
       "      <td>0.0</td>\n",
       "      <td>0</td>\n",
       "      <td>PortScan</td>\n",
       "    </tr>\n",
       "    <tr>\n",
       "      <th>2</th>\n",
       "      <td>4</td>\n",
       "      <td>0</td>\n",
       "      <td>0</td>\n",
       "      <td>0</td>\n",
       "      <td>0.000000</td>\n",
       "      <td>0</td>\n",
       "      <td>0.000000</td>\n",
       "      <td>750000.000000</td>\n",
       "      <td>1.414214e+00</td>\n",
       "      <td>1</td>\n",
       "      <td>...</td>\n",
       "      <td>0</td>\n",
       "      <td>0</td>\n",
       "      <td>0</td>\n",
       "      <td>-1</td>\n",
       "      <td>32</td>\n",
       "      <td>0.0</td>\n",
       "      <td>0</td>\n",
       "      <td>0.0</td>\n",
       "      <td>0</td>\n",
       "      <td>BENIGN</td>\n",
       "    </tr>\n",
       "    <tr>\n",
       "      <th>3</th>\n",
       "      <td>82052747</td>\n",
       "      <td>6</td>\n",
       "      <td>11607</td>\n",
       "      <td>0</td>\n",
       "      <td>5.656854</td>\n",
       "      <td>0</td>\n",
       "      <td>2177.344966</td>\n",
       "      <td>0.170622</td>\n",
       "      <td>1.980000e+07</td>\n",
       "      <td>0</td>\n",
       "      <td>...</td>\n",
       "      <td>0</td>\n",
       "      <td>56</td>\n",
       "      <td>11607</td>\n",
       "      <td>229</td>\n",
       "      <td>20</td>\n",
       "      <td>0.0</td>\n",
       "      <td>1000</td>\n",
       "      <td>43600000.0</td>\n",
       "      <td>9985727</td>\n",
       "      <td>DDoS</td>\n",
       "    </tr>\n",
       "    <tr>\n",
       "      <th>4</th>\n",
       "      <td>1408725</td>\n",
       "      <td>4</td>\n",
       "      <td>3619</td>\n",
       "      <td>0</td>\n",
       "      <td>39.244426</td>\n",
       "      <td>0</td>\n",
       "      <td>701.785995</td>\n",
       "      <td>8.518341</td>\n",
       "      <td>3.200900e+05</td>\n",
       "      <td>9</td>\n",
       "      <td>...</td>\n",
       "      <td>0</td>\n",
       "      <td>111</td>\n",
       "      <td>3619</td>\n",
       "      <td>35466</td>\n",
       "      <td>20</td>\n",
       "      <td>0.0</td>\n",
       "      <td>0</td>\n",
       "      <td>0.0</td>\n",
       "      <td>0</td>\n",
       "      <td>BENIGN</td>\n",
       "    </tr>\n",
       "    <tr>\n",
       "      <th>...</th>\n",
       "      <td>...</td>\n",
       "      <td>...</td>\n",
       "      <td>...</td>\n",
       "      <td>...</td>\n",
       "      <td>...</td>\n",
       "      <td>...</td>\n",
       "      <td>...</td>\n",
       "      <td>...</td>\n",
       "      <td>...</td>\n",
       "      <td>...</td>\n",
       "      <td>...</td>\n",
       "      <td>...</td>\n",
       "      <td>...</td>\n",
       "      <td>...</td>\n",
       "      <td>...</td>\n",
       "      <td>...</td>\n",
       "      <td>...</td>\n",
       "      <td>...</td>\n",
       "      <td>...</td>\n",
       "      <td>...</td>\n",
       "      <td>...</td>\n",
       "    </tr>\n",
       "    <tr>\n",
       "      <th>499995</th>\n",
       "      <td>44</td>\n",
       "      <td>1</td>\n",
       "      <td>6</td>\n",
       "      <td>0</td>\n",
       "      <td>0.000000</td>\n",
       "      <td>6</td>\n",
       "      <td>0.000000</td>\n",
       "      <td>45454.545450</td>\n",
       "      <td>0.000000e+00</td>\n",
       "      <td>44</td>\n",
       "      <td>...</td>\n",
       "      <td>0</td>\n",
       "      <td>0</td>\n",
       "      <td>6</td>\n",
       "      <td>0</td>\n",
       "      <td>40</td>\n",
       "      <td>0.0</td>\n",
       "      <td>0</td>\n",
       "      <td>0.0</td>\n",
       "      <td>0</td>\n",
       "      <td>PortScan</td>\n",
       "    </tr>\n",
       "    <tr>\n",
       "      <th>499996</th>\n",
       "      <td>74</td>\n",
       "      <td>1</td>\n",
       "      <td>0</td>\n",
       "      <td>0</td>\n",
       "      <td>17.897858</td>\n",
       "      <td>0</td>\n",
       "      <td>0.000000</td>\n",
       "      <td>54054.054050</td>\n",
       "      <td>2.182506e+01</td>\n",
       "      <td>1</td>\n",
       "      <td>...</td>\n",
       "      <td>0</td>\n",
       "      <td>31</td>\n",
       "      <td>0</td>\n",
       "      <td>0</td>\n",
       "      <td>20</td>\n",
       "      <td>0.0</td>\n",
       "      <td>0</td>\n",
       "      <td>0.0</td>\n",
       "      <td>0</td>\n",
       "      <td>BENIGN</td>\n",
       "    </tr>\n",
       "    <tr>\n",
       "      <th>499997</th>\n",
       "      <td>184627</td>\n",
       "      <td>4</td>\n",
       "      <td>360</td>\n",
       "      <td>30</td>\n",
       "      <td>5.773503</td>\n",
       "      <td>56</td>\n",
       "      <td>39.259818</td>\n",
       "      <td>43.330607</td>\n",
       "      <td>6.148513e+04</td>\n",
       "      <td>3</td>\n",
       "      <td>...</td>\n",
       "      <td>0</td>\n",
       "      <td>140</td>\n",
       "      <td>360</td>\n",
       "      <td>-1</td>\n",
       "      <td>20</td>\n",
       "      <td>0.0</td>\n",
       "      <td>0</td>\n",
       "      <td>0.0</td>\n",
       "      <td>0</td>\n",
       "      <td>BENIGN</td>\n",
       "    </tr>\n",
       "    <tr>\n",
       "      <th>499998</th>\n",
       "      <td>183</td>\n",
       "      <td>2</td>\n",
       "      <td>288</td>\n",
       "      <td>36</td>\n",
       "      <td>0.000000</td>\n",
       "      <td>144</td>\n",
       "      <td>0.000000</td>\n",
       "      <td>21857.923500</td>\n",
       "      <td>1.004589e+02</td>\n",
       "      <td>3</td>\n",
       "      <td>...</td>\n",
       "      <td>0</td>\n",
       "      <td>72</td>\n",
       "      <td>288</td>\n",
       "      <td>-1</td>\n",
       "      <td>20</td>\n",
       "      <td>0.0</td>\n",
       "      <td>0</td>\n",
       "      <td>0.0</td>\n",
       "      <td>0</td>\n",
       "      <td>BENIGN</td>\n",
       "    </tr>\n",
       "    <tr>\n",
       "      <th>499999</th>\n",
       "      <td>83604</td>\n",
       "      <td>2</td>\n",
       "      <td>482</td>\n",
       "      <td>34</td>\n",
       "      <td>0.000000</td>\n",
       "      <td>241</td>\n",
       "      <td>0.000000</td>\n",
       "      <td>71.766901</td>\n",
       "      <td>2.418833e+04</td>\n",
       "      <td>3</td>\n",
       "      <td>...</td>\n",
       "      <td>0</td>\n",
       "      <td>136</td>\n",
       "      <td>482</td>\n",
       "      <td>-1</td>\n",
       "      <td>20</td>\n",
       "      <td>0.0</td>\n",
       "      <td>0</td>\n",
       "      <td>0.0</td>\n",
       "      <td>0</td>\n",
       "      <td>BENIGN</td>\n",
       "    </tr>\n",
       "  </tbody>\n",
       "</table>\n",
       "<p>500000 rows × 43 columns</p>\n",
       "</div>"
      ],
      "text/plain": [
       "         Flow Duration   Total Backward Packets   Total Length of Bwd Packets  \\\n",
       "0                  134                        2                            96   \n",
       "1                   29                        1                             6   \n",
       "2                    4                        0                             0   \n",
       "3             82052747                        6                         11607   \n",
       "4              1408725                        4                          3619   \n",
       "...                ...                      ...                           ...   \n",
       "499995              44                        1                             6   \n",
       "499996              74                        1                             0   \n",
       "499997          184627                        4                           360   \n",
       "499998             183                        2                           288   \n",
       "499999           83604                        2                           482   \n",
       "\n",
       "         Fwd Packet Length Min   Fwd Packet Length Std  \\\n",
       "0                           32                0.000000   \n",
       "1                            0                0.000000   \n",
       "2                            0                0.000000   \n",
       "3                            0                5.656854   \n",
       "4                            0               39.244426   \n",
       "...                        ...                     ...   \n",
       "499995                       0                0.000000   \n",
       "499996                       0               17.897858   \n",
       "499997                      30                5.773503   \n",
       "499998                      36                0.000000   \n",
       "499999                      34                0.000000   \n",
       "\n",
       "         Bwd Packet Length Min   Bwd Packet Length Std   Flow Packets/s  \\\n",
       "0                           48                0.000000     29850.746270   \n",
       "1                            6                0.000000     68965.517240   \n",
       "2                            0                0.000000    750000.000000   \n",
       "3                            0             2177.344966         0.170622   \n",
       "4                            0              701.785995         8.518341   \n",
       "...                        ...                     ...              ...   \n",
       "499995                       6                0.000000     45454.545450   \n",
       "499996                       0                0.000000     54054.054050   \n",
       "499997                      56               39.259818        43.330607   \n",
       "499998                     144                0.000000     21857.923500   \n",
       "499999                     241                0.000000        71.766901   \n",
       "\n",
       "         Flow IAT Std   Flow IAT Min  ...  Bwd Avg Bulk Rate  \\\n",
       "0        7.216878e+01              3  ...                  0   \n",
       "1        0.000000e+00             29  ...                  0   \n",
       "2        1.414214e+00              1  ...                  0   \n",
       "3        1.980000e+07              0  ...                  0   \n",
       "4        3.200900e+05              9  ...                  0   \n",
       "...               ...            ...  ...                ...   \n",
       "499995   0.000000e+00             44  ...                  0   \n",
       "499996   2.182506e+01              1  ...                  0   \n",
       "499997   6.148513e+04              3  ...                  0   \n",
       "499998   1.004589e+02              3  ...                  0   \n",
       "499999   2.418833e+04              3  ...                  0   \n",
       "\n",
       "         Subflow Fwd Bytes   Subflow Bwd Bytes   Init_Win_bytes_backward  \\\n",
       "0                       64                  96                        -1   \n",
       "1                        0                   6                         0   \n",
       "2                        0                   0                        -1   \n",
       "3                       56               11607                       229   \n",
       "4                      111                3619                     35466   \n",
       "...                    ...                 ...                       ...   \n",
       "499995                   0                   6                         0   \n",
       "499996                  31                   0                         0   \n",
       "499997                 140                 360                        -1   \n",
       "499998                  72                 288                        -1   \n",
       "499999                 136                 482                        -1   \n",
       "\n",
       "         min_seg_size_forward   Active Std   Active Min    Idle Std  \\\n",
       "0                          32          0.0            0         0.0   \n",
       "1                          40          0.0            0         0.0   \n",
       "2                          32          0.0            0         0.0   \n",
       "3                          20          0.0         1000  43600000.0   \n",
       "4                          20          0.0            0         0.0   \n",
       "...                       ...          ...          ...         ...   \n",
       "499995                     40          0.0            0         0.0   \n",
       "499996                     20          0.0            0         0.0   \n",
       "499997                     20          0.0            0         0.0   \n",
       "499998                     20          0.0            0         0.0   \n",
       "499999                     20          0.0            0         0.0   \n",
       "\n",
       "         Idle Min     Label  \n",
       "0               0    BENIGN  \n",
       "1               0  PortScan  \n",
       "2               0    BENIGN  \n",
       "3         9985727      DDoS  \n",
       "4               0    BENIGN  \n",
       "...           ...       ...  \n",
       "499995          0  PortScan  \n",
       "499996          0    BENIGN  \n",
       "499997          0    BENIGN  \n",
       "499998          0    BENIGN  \n",
       "499999          0    BENIGN  \n",
       "\n",
       "[500000 rows x 43 columns]"
      ]
     },
     "metadata": {},
     "output_type": "display_data"
    }
   ],
   "source": [
    "# Let's see one of them.\n",
    "display(clean_df)"
   ]
  },
  {
   "cell_type": "markdown",
   "id": "08c28a5d",
   "metadata": {
    "id": "08c28a5d",
    "papermill": {
     "duration": 0.010676,
     "end_time": "2024-08-14T21:24:43.168047",
     "exception": false,
     "start_time": "2024-08-14T21:24:43.157371",
     "status": "completed"
    },
    "pycharm": {
     "name": "#%% md\n"
    },
    "tags": []
   },
   "source": [
    "# **Encoding Labels**"
   ]
  },
  {
   "cell_type": "code",
   "execution_count": null,
   "id": "b2fdcc60",
   "metadata": {
    "execution": {
     "iopub.execute_input": "2024-08-14T21:24:43.191640Z",
     "iopub.status.busy": "2024-08-14T21:24:43.191243Z",
     "iopub.status.idle": "2024-08-14T21:24:47.887782Z",
     "shell.execute_reply": "2024-08-14T21:24:47.886516Z"
    },
    "id": "b2fdcc60",
    "outputId": "48aebf70-d5e0-4113-dcf3-f407399e4a22",
    "papermill": {
     "duration": 4.711521,
     "end_time": "2024-08-14T21:24:47.890594",
     "exception": false,
     "start_time": "2024-08-14T21:24:43.179073",
     "status": "completed"
    },
    "pycharm": {
     "name": "#%%\n"
    },
    "tags": []
   },
   "outputs": [
    {
     "name": "stdout",
     "output_type": "stream",
     "text": [
      "No of clasees:  5\n",
      "No items in each clasess:\n",
      "(array(['BENIGN', 'Botnet', 'DDoS', 'Exploitation', 'PortScan'],\n",
      "      dtype=object), array([438164,    379,  24887,   5840,  30730]))\n",
      "****************************************************************************************************\n",
      "In this selected part of dataset, there is no class having one sample as evidence. So, it means all classes have more than one sample as their evidence.\n"
     ]
    },
    {
     "data": {
      "text/plain": [
       "(array(['BENIGN', 'Botnet', 'DDoS', 'Exploitation', 'PortScan'],\n",
       "       dtype=object),\n",
       " array([438164,    379,  24887,   5840,  30730]))"
      ]
     },
     "execution_count": 5,
     "metadata": {},
     "output_type": "execute_result"
    }
   ],
   "source": [
    "# Here we check that ,per class, there are at least 2 samples. Otherwise we remove that class from dataset.\n",
    "no_of_classes = len(np.unique(clean_df[' Label'],return_counts=True)[0])\n",
    "print('No of clasees: ',no_of_classes)\n",
    "print('No items in each clasess:')\n",
    "print(np.unique(clean_df[' Label'],return_counts=True))\n",
    "classes , classes_samples = np.unique(clean_df[' Label'],return_counts=True)\n",
    "\n",
    "\n",
    "\n",
    "claess_with_one_sample = []\n",
    "for index,sample in enumerate(classes_samples):\n",
    "  if sample==1:\n",
    "    claess_with_one_sample.append(classes[index])\n",
    "\n",
    "if len(claess_with_one_sample)>=1:\n",
    "\n",
    "  for item in claess_with_one_sample:\n",
    "    clean_df = clean_df.drop(index = clean_df[clean_df[' Label']==item].index, axis=1)\n",
    "\n",
    "  print('*'*100)\n",
    "  print('After removing those classes with just one sample, we have:')\n",
    "  print('No of clasees: ',len(np.unique(clean_df[' Label'],return_counts=True)[0]))\n",
    "  print('No items in each clasess:')\n",
    "\n",
    "else:\n",
    "    print('*'*100)\n",
    "    print('In this selected part of dataset, there is no class having one sample as evidence. So, it means all classes have more than one sample as their evidence.')\n",
    "\n",
    "\n",
    "\n",
    "no_of_classes , classes_samples = np.unique(clean_df[' Label'],return_counts=True)\n",
    "np.unique(clean_df[' Label'],return_counts=True)"
   ]
  },
  {
   "cell_type": "code",
   "execution_count": null,
   "id": "fd7e2eb1",
   "metadata": {
    "execution": {
     "iopub.execute_input": "2024-08-14T21:24:47.915282Z",
     "iopub.status.busy": "2024-08-14T21:24:47.914856Z",
     "iopub.status.idle": "2024-08-14T21:24:49.364263Z",
     "shell.execute_reply": "2024-08-14T21:24:49.363028Z"
    },
    "id": "fd7e2eb1",
    "outputId": "e31bbf66-8c51-45b9-da4e-fd7f103fcabe",
    "papermill": {
     "duration": 1.464784,
     "end_time": "2024-08-14T21:24:49.366885",
     "exception": false,
     "start_time": "2024-08-14T21:24:47.902101",
     "status": "completed"
    },
    "pycharm": {
     "name": "#%%\n"
    },
    "tags": []
   },
   "outputs": [
    {
     "name": "stdout",
     "output_type": "stream",
     "text": [
      "After Encoding:\n"
     ]
    },
    {
     "data": {
      "text/html": [
       "<div>\n",
       "<style scoped>\n",
       "    .dataframe tbody tr th:only-of-type {\n",
       "        vertical-align: middle;\n",
       "    }\n",
       "\n",
       "    .dataframe tbody tr th {\n",
       "        vertical-align: top;\n",
       "    }\n",
       "\n",
       "    .dataframe thead th {\n",
       "        text-align: right;\n",
       "    }\n",
       "</style>\n",
       "<table border=\"1\" class=\"dataframe\">\n",
       "  <thead>\n",
       "    <tr style=\"text-align: right;\">\n",
       "      <th></th>\n",
       "      <th>Classes</th>\n",
       "      <th>Samples per class</th>\n",
       "    </tr>\n",
       "  </thead>\n",
       "  <tbody>\n",
       "    <tr>\n",
       "      <th>0</th>\n",
       "      <td>0</td>\n",
       "      <td>438164</td>\n",
       "    </tr>\n",
       "    <tr>\n",
       "      <th>1</th>\n",
       "      <td>1</td>\n",
       "      <td>379</td>\n",
       "    </tr>\n",
       "    <tr>\n",
       "      <th>2</th>\n",
       "      <td>2</td>\n",
       "      <td>24887</td>\n",
       "    </tr>\n",
       "    <tr>\n",
       "      <th>3</th>\n",
       "      <td>3</td>\n",
       "      <td>5840</td>\n",
       "    </tr>\n",
       "    <tr>\n",
       "      <th>4</th>\n",
       "      <td>4</td>\n",
       "      <td>30730</td>\n",
       "    </tr>\n",
       "  </tbody>\n",
       "</table>\n",
       "</div>"
      ],
      "text/plain": [
       "   Classes  Samples per class\n",
       "0        0             438164\n",
       "1        1                379\n",
       "2        2              24887\n",
       "3        3               5840\n",
       "4        4              30730"
      ]
     },
     "metadata": {},
     "output_type": "display_data"
    }
   ],
   "source": [
    "# We need to encode labels.\n",
    "from sklearn.preprocessing import LabelEncoder\n",
    "encoder = LabelEncoder()\n",
    "encoded_labels = encoder.fit_transform(clean_df[' Label'])\n",
    "clean_df[' Label'] = encoded_labels\n",
    "print('After Encoding:')\n",
    "classes , class_samples = np.unique(clean_df[' Label'],return_counts=True)\n",
    "no_of_classes = len(classes)\n",
    "dataframe = pd.DataFrame({'Classes':classes,'Samples per class':class_samples})\n",
    "display(dataframe)\n",
    "\n"
   ]
  },
  {
   "cell_type": "markdown",
   "id": "7ed2bd02",
   "metadata": {
    "id": "7ed2bd02",
    "papermill": {
     "duration": 0.011381,
     "end_time": "2024-08-14T21:24:49.390553",
     "exception": false,
     "start_time": "2024-08-14T21:24:49.379172",
     "status": "completed"
    },
    "pycharm": {
     "name": "#%% md\n"
    },
    "tags": []
   },
   "source": [
    "# **Split dataset**\n",
    "<!DOCTYPE html>\n",
    "<html lang=\"en\">\n",
    "<head>\n",
    "    <meta charset=\"UTF-8\">\n",
    "    <meta name=\"viewport\" content=\"width=device-width, initial-scale=1.0\">\n",
    "    <title></title>\n",
    "</head>\n",
    "<body>\n",
    "    <img src=\"https://drive.google.com/uc?export=view&id=1zn-wpJgfOO6Pa_w-Kk35BgwNwwPm70gh\" width=\"50%\">\n",
    "</body>\n",
    "</html>\n",
    "\n"
   ]
  },
  {
   "cell_type": "code",
   "execution_count": null,
   "id": "0ec316b6",
   "metadata": {
    "execution": {
     "iopub.execute_input": "2024-08-14T21:24:49.415572Z",
     "iopub.status.busy": "2024-08-14T21:24:49.415122Z",
     "iopub.status.idle": "2024-08-14T21:24:49.530088Z",
     "shell.execute_reply": "2024-08-14T21:24:49.528880Z"
    },
    "id": "0ec316b6",
    "papermill": {
     "duration": 0.131113,
     "end_time": "2024-08-14T21:24:49.533174",
     "exception": false,
     "start_time": "2024-08-14T21:24:49.402061",
     "status": "completed"
    },
    "pycharm": {
     "name": "#%%\n"
    },
    "tags": []
   },
   "outputs": [],
   "source": [
    "from sklearn.model_selection import train_test_split\n",
    "def spliting(df, best_feature_list):\n",
    "\n",
    "\n",
    "  test_size = 0.2 # 20%\n",
    "  X = df[best_feature_list]\n",
    "  y  = df[' Label']\n",
    "\n",
    "  our_X_train, our_x_test, our_y_train, our_y_test = train_test_split(X,y,test_size=test_size, stratify=y,random_state=True)\n",
    "  print('X_train.shape:',our_X_train.shape)\n",
    "  print('x_test.shape:',our_x_test.shape)\n",
    "  print('y_train.shape:',our_y_train.shape)\n",
    "  print('y_test.shape:',our_y_test.shape)\n",
    "  no_of_anomalies_in_test_part = np.where(our_y_test!=0)[0].shape[0]\n",
    "  no_of_normal_points_in_test_part = np.where(our_y_test==0)[0].shape[0]\n",
    "  no_of_anomalies_in_train_part = np.where(our_y_train!=0)[0].shape[0]\n",
    "  no_of_normal_points_in_train_part = np.where(our_y_train==0)[0].shape[0]\n",
    "\n",
    "  print(f'In the train dataset we have:{no_of_anomalies_in_train_part} anomalies with this distribution {np.unique(our_y_train,return_counts=True)[1]}and {no_of_normal_points_in_train_part} normal points')\n",
    "  print(f'In the test dataset we have:{no_of_anomalies_in_test_part} anomalies with this distribution {np.unique(our_y_test,return_counts=True)[1]} and {no_of_normal_points_in_test_part} normal points')\n",
    "  print('*'*100)\n",
    "  return our_X_train, our_x_test, our_y_train, our_y_test"
   ]
  },
  {
   "cell_type": "markdown",
   "id": "703601dd",
   "metadata": {
    "id": "703601dd",
    "papermill": {
     "duration": 0.011697,
     "end_time": "2024-08-14T21:24:49.557096",
     "exception": false,
     "start_time": "2024-08-14T21:24:49.545399",
     "status": "completed"
    },
    "pycharm": {
     "name": "#%% md\n"
    },
    "tags": []
   },
   "source": [
    "# **Normalizing with MinMaxSclaer**\n",
    "\n",
    "\n",
    "### MinMaxScaler Formula\n",
    "\n",
    "The MinMaxScaler scales each feature to a given range, typically between 0 and 1. The formula for MinMax scaling is:\n",
    "\n",
    "$[\n",
    "X_{\\text{scaled}} = \\frac{X - X_{\\text{min}}}{X_{\\text{max}} - X_{\\text{min}}}\n",
    "]$\n",
    "\n",
    "Where:\n",
    "- $( X $) is the original value.\n",
    "- $( X_{\\text{min}} $) is the minimum value of the feature.\n",
    "- $( X_{\\text{max}} $) is the maximum value of the feature.\n",
    "- $( X_{\\text{scaled}} $) is the scaled value.\n",
    "\n",
    "The resulting $( X_{\\text{scaled}} $) will be within the range [0, 1] (by default).\n",
    "\n",
    "\n"
   ]
  },
  {
   "cell_type": "code",
   "execution_count": null,
   "id": "6799ed62",
   "metadata": {
    "execution": {
     "iopub.execute_input": "2024-08-14T21:24:49.582538Z",
     "iopub.status.busy": "2024-08-14T21:24:49.582099Z",
     "iopub.status.idle": "2024-08-14T21:24:49.589622Z",
     "shell.execute_reply": "2024-08-14T21:24:49.588467Z"
    },
    "id": "6799ed62",
    "papermill": {
     "duration": 0.023318,
     "end_time": "2024-08-14T21:24:49.592108",
     "exception": false,
     "start_time": "2024-08-14T21:24:49.568790",
     "status": "completed"
    },
    "pycharm": {
     "name": "#%%\n"
    },
    "tags": []
   },
   "outputs": [],
   "source": [
    "from sklearn.preprocessing import MinMaxScaler\n",
    "\n",
    "def normalizing(X_train, x_test):\n",
    "\n",
    "  scaler = MinMaxScaler ()\n",
    "  our_X_train = scaler.fit_transform(X_train)\n",
    "  our_x_test = scaler.transform(x_test)\n",
    "  print('After Normalizing we have:')\n",
    "  print('X_train_normalized.shape:',our_X_train.shape)\n",
    "  print('x_test_normalized.shape:',our_x_test.shape)\n",
    "  print('*'*100)\n",
    "\n",
    "  return our_X_train, our_x_test"
   ]
  },
  {
   "cell_type": "markdown",
   "id": "83468cff",
   "metadata": {
    "id": "83468cff",
    "papermill": {
     "duration": 0.0113,
     "end_time": "2024-08-14T21:24:49.615219",
     "exception": false,
     "start_time": "2024-08-14T21:24:49.603919",
     "status": "completed"
    },
    "pycharm": {
     "name": "#%% md\n"
    },
    "tags": []
   },
   "source": [
    "# **Performance function**\n",
    "\n",
    "### For our models, we result; Precision, Recall, and F1 Score Formulas\n",
    "\n",
    "\n",
    "$ \\text{Precision} = \\frac{\\text{True Positives (TP)}}{\\text{True Positives (TP)} + \\text{False Positives (FP)}} $\n",
    "\n",
    "\n",
    "\n",
    "$ \\text{Recall} = \\frac{\\text{True Positives (TP)}}{\\text{True Positives (TP)} + \\text{False Negatives (FN)}} $\n",
    "\n",
    "\n",
    "\n",
    "$ \\text{F1 Score} = 2 \\times \\frac{\\text{Precision} \\times \\text{Recall}}{\\text{Precision} + \\text{Recall}} $\n",
    "\n",
    "Also, we collect `training time` and `prediciting time` and `multicalsss confusion matirx`.\n",
    "\n",
    "\n",
    "\n",
    "\n"
   ]
  },
  {
   "cell_type": "code",
   "execution_count": null,
   "id": "2f188747",
   "metadata": {
    "execution": {
     "iopub.execute_input": "2024-08-14T21:24:49.640141Z",
     "iopub.status.busy": "2024-08-14T21:24:49.639699Z",
     "iopub.status.idle": "2024-08-14T21:24:49.653667Z",
     "shell.execute_reply": "2024-08-14T21:24:49.652070Z"
    },
    "id": "2f188747",
    "papermill": {
     "duration": 0.02968,
     "end_time": "2024-08-14T21:24:49.656518",
     "exception": false,
     "start_time": "2024-08-14T21:24:49.626838",
     "status": "completed"
    },
    "pycharm": {
     "name": "#%%\n"
    },
    "tags": []
   },
   "outputs": [],
   "source": [
    "from sklearn import metrics\n",
    "from sklearn.metrics import classification_report\n",
    "\n",
    "def performance(model_name,y_test,y_pred,clean_df,train_time,pred_time):\n",
    "\n",
    "  \"\"\"This function tries to calculate the Precesion, Recall, and F1_score for each given model.\\\n",
    "  Input: model_name,y_test,y_pred,clean_df,train_time,pred_time for each model we will create in the future.\n",
    "  Output: styled_df (Which is just for view),df (which is used for more access in the futrue.)\n",
    "  \"\"\"\n",
    "\n",
    "  labels = [f'Class-{index}' for index in range(len(np.unique(clean_df[' Label'])))]\n",
    "\n",
    "  report = classification_report(y_test, y_pred, target_names=labels, output_dict=True)\n",
    "  report_df = pd.DataFrame(report).transpose()\n",
    "\n",
    "  precision =report_df['precision'].values\n",
    "  recall =report_df['recall'].values\n",
    "  f1_score =report_df['f1-score'].values\n",
    "  support = report_df['support'].values\n",
    "\n",
    "\n",
    "\n",
    "  # Creating the DataFrame\n",
    "  data = {\n",
    "      'Precision': precision,\n",
    "      'Recall': recall,\n",
    "      'F1_Score': f1_score,\n",
    "      'Support':support,\n",
    "      'Training_Time':train_time,\n",
    "      'Predicting_Time':pred_time\n",
    "\n",
    "  }\n",
    "\n",
    "  # Using a MultiIndex for the rows\n",
    "  index = pd.MultiIndex.from_product([[model_name], labels+['accuracy','macro avg','weighted avg']], names=['Model_name', 'Classes'])\n",
    "\n",
    "  df = pd.DataFrame(data, index=index)\n",
    "\n",
    "  # Using Styler to merge cells in 'Column3'\n",
    "  def highlight_merge(s):\n",
    "\n",
    "      return ['background-color: #dcdcdc '] * len(s) if pd.notna(s.iloc[0]) else ['display: none'] * len(s)\n",
    "\n",
    "\n",
    "  styled_df = df.style.apply(highlight_merge, subset=['Training_Time','Predicting_Time'], axis=1)\n",
    "\n",
    "\n",
    "\n",
    "  # Displaying the styled DataFrame\n",
    "  display(styled_df)\n",
    "\n",
    "  return styled_df,df\n",
    "\n",
    "\n"
   ]
  },
  {
   "cell_type": "markdown",
   "id": "b03f1660",
   "metadata": {
    "id": "b03f1660",
    "papermill": {
     "duration": 0.011498,
     "end_time": "2024-08-14T21:24:49.679615",
     "exception": false,
     "start_time": "2024-08-14T21:24:49.668117",
     "status": "completed"
    },
    "pycharm": {
     "name": "#%% md\n"
    },
    "tags": []
   },
   "source": [
    "#**Perfomance Plot**"
   ]
  },
  {
   "cell_type": "code",
   "execution_count": null,
   "id": "dc298e52",
   "metadata": {
    "execution": {
     "iopub.execute_input": "2024-08-14T21:24:49.704817Z",
     "iopub.status.busy": "2024-08-14T21:24:49.704239Z",
     "iopub.status.idle": "2024-08-14T21:24:49.716226Z",
     "shell.execute_reply": "2024-08-14T21:24:49.715000Z"
    },
    "id": "dc298e52",
    "papermill": {
     "duration": 0.027987,
     "end_time": "2024-08-14T21:24:49.719205",
     "exception": false,
     "start_time": "2024-08-14T21:24:49.691218",
     "status": "completed"
    },
    "pycharm": {
     "name": "#%%\n"
    },
    "tags": []
   },
   "outputs": [],
   "source": [
    "import matplotlib.pyplot as plt\n",
    "import numpy as np\n",
    "\n",
    "def plot_performance(model_names, F1_Score_Macro_Avg_list, F1_Score_Weighted_Avg_list, Accuracy_list):\n",
    "\n",
    "    species = model_names\n",
    "    penguin_means = {\n",
    "        'F1_Score_Macro_Avg': F1_Score_Macro_Avg_list,\n",
    "        'F1_Score_Weighted_Avg': F1_Score_Weighted_Avg_list,\n",
    "        'Accuracy': Accuracy_list\n",
    "    }\n",
    "\n",
    "    x = np.arange(len(species))  # the label locations\n",
    "    width = 0.15  # the width of the bars\n",
    "    multiplier = 0\n",
    "\n",
    "    fig, ax = plt.subplots(layout='constrained',figsize=(8,5))\n",
    "\n",
    "    for attribute, measurement in penguin_means.items():\n",
    "        offset = width * multiplier\n",
    "        rects = ax.bar(x + offset, measurement, width, label=attribute)\n",
    "\n",
    "        # Set different padding and alignment for each set of bars\n",
    "        ax.bar_label(rects, padding=6 + multiplier * 9, label_type='edge')\n",
    "\n",
    "        multiplier += 1\n",
    "\n",
    "    # Add some text for labels, title, and custom x-axis tick labels, etc.\n",
    "    ax.set_ylabel('Percentage (%)')\n",
    "    ax.set_title('Models Performance')\n",
    "    ax.set_xticks(x + (width * 1.5), species)  # Adjusted for better alignment\n",
    "    ax.legend(loc='upper left', ncols=3)\n",
    "\n",
    "    # Optionally, set y-axis limits and grid\n",
    "    ax.set_ylim(0, 1.3)\n",
    "    plt.grid()\n",
    "\n",
    "    plt.show()\n",
    "\n",
    "\n"
   ]
  },
  {
   "cell_type": "markdown",
   "id": "70af8720",
   "metadata": {
    "id": "70af8720",
    "papermill": {
     "duration": 0.011995,
     "end_time": "2024-08-14T21:24:49.745297",
     "exception": false,
     "start_time": "2024-08-14T21:24:49.733302",
     "status": "completed"
    },
    "pycharm": {
     "name": "#%% md\n"
    },
    "tags": []
   },
   "source": [
    "# **SVM Model**"
   ]
  },
  {
   "cell_type": "markdown",
   "id": "2da3ff58",
   "metadata": {
    "id": "2da3ff58",
    "papermill": {
     "duration": 0.011751,
     "end_time": "2024-08-14T21:24:49.768840",
     "exception": false,
     "start_time": "2024-08-14T21:24:49.757089",
     "status": "completed"
    },
    "pycharm": {
     "name": "#%% md\n"
    },
    "tags": []
   },
   "source": [
    "## SVM_1, using linear kernel"
   ]
  },
  {
   "cell_type": "code",
   "execution_count": null,
   "id": "3e9f92da",
   "metadata": {
    "execution": {
     "iopub.execute_input": "2024-08-14T21:24:49.795011Z",
     "iopub.status.busy": "2024-08-14T21:24:49.793738Z",
     "iopub.status.idle": "2024-08-14T21:27:16.548377Z",
     "shell.execute_reply": "2024-08-14T21:27:16.547003Z"
    },
    "id": "3e9f92da",
    "outputId": "2488b2d0-cb97-4e3f-e803-ee8cc1195e39",
    "papermill": {
     "duration": 146.770692,
     "end_time": "2024-08-14T21:27:16.551217",
     "exception": false,
     "start_time": "2024-08-14T21:24:49.780525",
     "status": "completed"
    },
    "pycharm": {
     "name": "#%%\n"
    },
    "tags": []
   },
   "outputs": [
    {
     "name": "stdout",
     "output_type": "stream",
     "text": [
      "This result is for SVM_1 best feature list obtained from RF method:\n",
      "----------------------------------------------------------------------------------------------------\n",
      "X_train.shape: (400000, 20)\n",
      "x_test.shape: (100000, 20)\n",
      "y_train.shape: (400000,)\n",
      "y_test.shape: (100000,)\n",
      "In the train dataset we have:49469 anomalies with this distribution [350531    303  19910   4672  24584]and 350531 normal points\n",
      "In the test dataset we have:12367 anomalies with this distribution [87633    76  4977  1168  6146] and 87633 normal points\n",
      "****************************************************************************************************\n",
      "After Normalizing we have:\n",
      "X_train_normalized.shape: (400000, 20)\n",
      "x_test_normalized.shape: (100000, 20)\n",
      "****************************************************************************************************\n",
      "**************************************** Performance Table ****************************************\n"
     ]
    },
    {
     "data": {
      "text/html": [
       "<style type=\"text/css\">\n",
       "#T_42ac2_row0_col4, #T_42ac2_row0_col5, #T_42ac2_row1_col4, #T_42ac2_row1_col5, #T_42ac2_row2_col4, #T_42ac2_row2_col5, #T_42ac2_row3_col4, #T_42ac2_row3_col5, #T_42ac2_row4_col4, #T_42ac2_row4_col5, #T_42ac2_row5_col4, #T_42ac2_row5_col5, #T_42ac2_row6_col4, #T_42ac2_row6_col5, #T_42ac2_row7_col4, #T_42ac2_row7_col5 {\n",
       "  background-color: #dcdcdc;\n",
       "}\n",
       "</style>\n",
       "<table id=\"T_42ac2\">\n",
       "  <thead>\n",
       "    <tr>\n",
       "      <th class=\"blank\" >&nbsp;</th>\n",
       "      <th class=\"blank level0\" >&nbsp;</th>\n",
       "      <th id=\"T_42ac2_level0_col0\" class=\"col_heading level0 col0\" >Precision</th>\n",
       "      <th id=\"T_42ac2_level0_col1\" class=\"col_heading level0 col1\" >Recall</th>\n",
       "      <th id=\"T_42ac2_level0_col2\" class=\"col_heading level0 col2\" >F1_Score</th>\n",
       "      <th id=\"T_42ac2_level0_col3\" class=\"col_heading level0 col3\" >Support</th>\n",
       "      <th id=\"T_42ac2_level0_col4\" class=\"col_heading level0 col4\" >Training_Time</th>\n",
       "      <th id=\"T_42ac2_level0_col5\" class=\"col_heading level0 col5\" >Predicting_Time</th>\n",
       "    </tr>\n",
       "    <tr>\n",
       "      <th class=\"index_name level0\" >Model_name</th>\n",
       "      <th class=\"index_name level1\" >Classes</th>\n",
       "      <th class=\"blank col0\" >&nbsp;</th>\n",
       "      <th class=\"blank col1\" >&nbsp;</th>\n",
       "      <th class=\"blank col2\" >&nbsp;</th>\n",
       "      <th class=\"blank col3\" >&nbsp;</th>\n",
       "      <th class=\"blank col4\" >&nbsp;</th>\n",
       "      <th class=\"blank col5\" >&nbsp;</th>\n",
       "    </tr>\n",
       "  </thead>\n",
       "  <tbody>\n",
       "    <tr>\n",
       "      <th id=\"T_42ac2_level0_row0\" class=\"row_heading level0 row0\" rowspan=\"8\">SVM_1</th>\n",
       "      <th id=\"T_42ac2_level1_row0\" class=\"row_heading level1 row0\" >Class-0</th>\n",
       "      <td id=\"T_42ac2_row0_col0\" class=\"data row0 col0\" >0.964247</td>\n",
       "      <td id=\"T_42ac2_row0_col1\" class=\"data row0 col1\" >0.984207</td>\n",
       "      <td id=\"T_42ac2_row0_col2\" class=\"data row0 col2\" >0.974125</td>\n",
       "      <td id=\"T_42ac2_row0_col3\" class=\"data row0 col3\" >87633.000000</td>\n",
       "      <td id=\"T_42ac2_row0_col4\" class=\"data row0 col4\" >2.430361</td>\n",
       "      <td id=\"T_42ac2_row0_col5\" class=\"data row0 col5\" >0.000385</td>\n",
       "    </tr>\n",
       "    <tr>\n",
       "      <th id=\"T_42ac2_level1_row1\" class=\"row_heading level1 row1\" >Class-1</th>\n",
       "      <td id=\"T_42ac2_row1_col0\" class=\"data row1 col0\" >0.000000</td>\n",
       "      <td id=\"T_42ac2_row1_col1\" class=\"data row1 col1\" >0.000000</td>\n",
       "      <td id=\"T_42ac2_row1_col2\" class=\"data row1 col2\" >0.000000</td>\n",
       "      <td id=\"T_42ac2_row1_col3\" class=\"data row1 col3\" >76.000000</td>\n",
       "      <td id=\"T_42ac2_row1_col4\" class=\"data row1 col4\" >2.430361</td>\n",
       "      <td id=\"T_42ac2_row1_col5\" class=\"data row1 col5\" >0.000385</td>\n",
       "    </tr>\n",
       "    <tr>\n",
       "      <th id=\"T_42ac2_level1_row2\" class=\"row_heading level1 row2\" >Class-2</th>\n",
       "      <td id=\"T_42ac2_row2_col0\" class=\"data row2 col0\" >0.973179</td>\n",
       "      <td id=\"T_42ac2_row2_col1\" class=\"data row2 col1\" >0.641551</td>\n",
       "      <td id=\"T_42ac2_row2_col2\" class=\"data row2 col2\" >0.773311</td>\n",
       "      <td id=\"T_42ac2_row2_col3\" class=\"data row2 col3\" >4977.000000</td>\n",
       "      <td id=\"T_42ac2_row2_col4\" class=\"data row2 col4\" >2.430361</td>\n",
       "      <td id=\"T_42ac2_row2_col5\" class=\"data row2 col5\" >0.000385</td>\n",
       "    </tr>\n",
       "    <tr>\n",
       "      <th id=\"T_42ac2_level1_row3\" class=\"row_heading level1 row3\" >Class-3</th>\n",
       "      <td id=\"T_42ac2_row3_col0\" class=\"data row3 col0\" >0.000000</td>\n",
       "      <td id=\"T_42ac2_row3_col1\" class=\"data row3 col1\" >0.000000</td>\n",
       "      <td id=\"T_42ac2_row3_col2\" class=\"data row3 col2\" >0.000000</td>\n",
       "      <td id=\"T_42ac2_row3_col3\" class=\"data row3 col3\" >1168.000000</td>\n",
       "      <td id=\"T_42ac2_row3_col4\" class=\"data row3 col4\" >2.430361</td>\n",
       "      <td id=\"T_42ac2_row3_col5\" class=\"data row3 col5\" >0.000385</td>\n",
       "    </tr>\n",
       "    <tr>\n",
       "      <th id=\"T_42ac2_level1_row4\" class=\"row_heading level1 row4\" >Class-4</th>\n",
       "      <td id=\"T_42ac2_row4_col0\" class=\"data row4 col0\" >0.821483</td>\n",
       "      <td id=\"T_42ac2_row4_col1\" class=\"data row4 col1\" >0.971852</td>\n",
       "      <td id=\"T_42ac2_row4_col2\" class=\"data row4 col2\" >0.890363</td>\n",
       "      <td id=\"T_42ac2_row4_col3\" class=\"data row4 col3\" >6146.000000</td>\n",
       "      <td id=\"T_42ac2_row4_col4\" class=\"data row4 col4\" >2.430361</td>\n",
       "      <td id=\"T_42ac2_row4_col5\" class=\"data row4 col5\" >0.000385</td>\n",
       "    </tr>\n",
       "    <tr>\n",
       "      <th id=\"T_42ac2_level1_row5\" class=\"row_heading level1 row5\" >accuracy</th>\n",
       "      <td id=\"T_42ac2_row5_col0\" class=\"data row5 col0\" >0.954150</td>\n",
       "      <td id=\"T_42ac2_row5_col1\" class=\"data row5 col1\" >0.954150</td>\n",
       "      <td id=\"T_42ac2_row5_col2\" class=\"data row5 col2\" >0.954150</td>\n",
       "      <td id=\"T_42ac2_row5_col3\" class=\"data row5 col3\" >0.954150</td>\n",
       "      <td id=\"T_42ac2_row5_col4\" class=\"data row5 col4\" >2.430361</td>\n",
       "      <td id=\"T_42ac2_row5_col5\" class=\"data row5 col5\" >0.000385</td>\n",
       "    </tr>\n",
       "    <tr>\n",
       "      <th id=\"T_42ac2_level1_row6\" class=\"row_heading level1 row6\" >macro avg</th>\n",
       "      <td id=\"T_42ac2_row6_col0\" class=\"data row6 col0\" >0.551782</td>\n",
       "      <td id=\"T_42ac2_row6_col1\" class=\"data row6 col1\" >0.519522</td>\n",
       "      <td id=\"T_42ac2_row6_col2\" class=\"data row6 col2\" >0.527560</td>\n",
       "      <td id=\"T_42ac2_row6_col3\" class=\"data row6 col3\" >100000.000000</td>\n",
       "      <td id=\"T_42ac2_row6_col4\" class=\"data row6 col4\" >2.430361</td>\n",
       "      <td id=\"T_42ac2_row6_col5\" class=\"data row6 col5\" >0.000385</td>\n",
       "    </tr>\n",
       "    <tr>\n",
       "      <th id=\"T_42ac2_level1_row7\" class=\"row_heading level1 row7\" >weighted avg</th>\n",
       "      <td id=\"T_42ac2_row7_col0\" class=\"data row7 col0\" >0.943922</td>\n",
       "      <td id=\"T_42ac2_row7_col1\" class=\"data row7 col1\" >0.954150</td>\n",
       "      <td id=\"T_42ac2_row7_col2\" class=\"data row7 col2\" >0.946864</td>\n",
       "      <td id=\"T_42ac2_row7_col3\" class=\"data row7 col3\" >100000.000000</td>\n",
       "      <td id=\"T_42ac2_row7_col4\" class=\"data row7 col4\" >2.430361</td>\n",
       "      <td id=\"T_42ac2_row7_col5\" class=\"data row7 col5\" >0.000385</td>\n",
       "    </tr>\n",
       "  </tbody>\n",
       "</table>\n"
      ],
      "text/plain": [
       "<pandas.io.formats.style.Styler at 0x794e303e8430>"
      ]
     },
     "metadata": {},
     "output_type": "display_data"
    },
    {
     "name": "stdout",
     "output_type": "stream",
     "text": [
      "\n",
      "It takes you  2mintues to see SVM_1\n"
     ]
    }
   ],
   "source": [
    "# First we start with linear SVM using linear kernel\n",
    "from sklearn.svm import LinearSVC\n",
    "\n",
    "# Step0) Hyperparameters\n",
    "regularization_term = 'l2'\n",
    "regularization_parameter = 1.5\n",
    "loss_function = 'hinge'\n",
    "max_iter = 1000\n",
    "\n",
    "\n",
    "# Step1) Choose a set of features\n",
    "best_feature_list = best_feature_list_from_RF # We choose RF, since in figure 1, RF method showed better performance\n",
    "print('This result is for SVM_1 best feature list obtained from RF method:')\n",
    "print('-'*100)\n",
    "\n",
    "# Step2) Splitting\n",
    "X_train, x_test, y_train, y_test = spliting(df= clean_df, best_feature_list= best_feature_list)\n",
    "\n",
    "# Step3) Normalizing\n",
    "X_train_normalized, x_test_normalized = normalizing(X_train, x_test)\n",
    "\n",
    "# Step4) Define Model\n",
    "\n",
    "def Linear_SVM(X_train_normalized,y_train,regularization_term,regularization_parameter,loss_function,max_iter):\n",
    "\n",
    "  linear_svm = LinearSVC(\n",
    "      penalty=regularization_term,\n",
    "      C=regularization_parameter,\n",
    "      loss=loss_function,\n",
    "      max_iter=max_iter)\n",
    "\n",
    "  start_time = time.time()\n",
    "  model = linear_svm.fit(X_train_normalized,y_train)\n",
    "  stop_time = time.time()\n",
    "  train_time = (stop_time-start_time)/60\n",
    "\n",
    "  return model, train_time\n",
    "\n",
    "# Step5) Call Model\n",
    "Linear_SVM_model, train_time = Linear_SVM(X_train_normalized,y_train,regularization_term,regularization_parameter,loss_function,max_iter)\n",
    "\n",
    "\n",
    "# Define pred function\n",
    "def pred_svm(model,x_test_normalized):\n",
    "\n",
    "  start_time = time.time()\n",
    "  predictions = model.predict(x_test_normalized)\n",
    "  stop_time = time.time()\n",
    "\n",
    "  pred_time = (stop_time-start_time)/60\n",
    "\n",
    "  return predictions,pred_time\n",
    "\n",
    "# Step6) Call pred function\n",
    "y_pred, pred_time = pred_svm(Linear_SVM_model,x_test_normalized)\n",
    "\n",
    "# Step6) Call Performance\n",
    "print('*'*40,'Performance Table','*'*40)\n",
    "_,SVM_1_performance_df  = performance('SVM_1',y_test,y_pred,clean_df,train_time,pred_time)\n",
    "print(f'\\nIt takes you  {int((time.time() - initial_time)/60)}mintues to see SVM_1')\n",
    "\n",
    "# Step7) Save model performance\n",
    "current_working_dir = os.getcwd()\n",
    "os.makedirs(os.path.join(current_working_dir,'Models_results'),exist_ok=True)\n",
    "Models_results_folder = os.path.join(current_working_dir,'Models_results')\n",
    "SVM_1_performance_df.to_csv(os.path.join(Models_results_folder,'SVM_1_performance_df.csv'),index=True)"
   ]
  },
  {
   "cell_type": "markdown",
   "id": "3a458344",
   "metadata": {
    "id": "3a458344",
    "papermill": {
     "duration": 0.012791,
     "end_time": "2024-08-14T21:27:16.576798",
     "exception": false,
     "start_time": "2024-08-14T21:27:16.564007",
     "status": "completed"
    },
    "pycharm": {
     "name": "#%% md\n"
    },
    "tags": []
   },
   "source": [
    "## SVM_2, using non_linear kernel"
   ]
  },
  {
   "cell_type": "code",
   "execution_count": null,
   "id": "37b81741",
   "metadata": {
    "execution": {
     "iopub.execute_input": "2024-08-14T21:27:16.604187Z",
     "iopub.status.busy": "2024-08-14T21:27:16.603780Z",
     "iopub.status.idle": "2024-08-15T01:14:47.445671Z",
     "shell.execute_reply": "2024-08-15T01:14:47.443141Z"
    },
    "id": "37b81741",
    "outputId": "eda05242-787c-40dd-dabb-69fd1c5a2543",
    "papermill": {
     "duration": 13650.873398,
     "end_time": "2024-08-15T01:14:47.462869",
     "exception": false,
     "start_time": "2024-08-14T21:27:16.589471",
     "status": "completed"
    },
    "pycharm": {
     "name": "#%%\n"
    },
    "tags": []
   },
   "outputs": [
    {
     "name": "stdout",
     "output_type": "stream",
     "text": [
      "This result is for SVM_2 using best feature list obtained from RF method:\n",
      "----------------------------------------------------------------------------------------------------\n",
      "X_train.shape: (400000, 20)\n",
      "x_test.shape: (100000, 20)\n",
      "y_train.shape: (400000,)\n",
      "y_test.shape: (100000,)\n",
      "In the train dataset we have:49469 anomalies with this distribution [350531    303  19910   4672  24584]and 350531 normal points\n",
      "In the test dataset we have:12367 anomalies with this distribution [87633    76  4977  1168  6146] and 87633 normal points\n",
      "****************************************************************************************************\n",
      "After Normalizing we have:\n",
      "X_train_normalized.shape: (400000, 20)\n",
      "x_test_normalized.shape: (100000, 20)\n",
      "****************************************************************************************************\n",
      "**************************************** Performance Table ****************************************\n"
     ]
    },
    {
     "data": {
      "text/html": [
       "<style type=\"text/css\">\n",
       "#T_b9ed0_row0_col4, #T_b9ed0_row0_col5, #T_b9ed0_row1_col4, #T_b9ed0_row1_col5, #T_b9ed0_row2_col4, #T_b9ed0_row2_col5, #T_b9ed0_row3_col4, #T_b9ed0_row3_col5, #T_b9ed0_row4_col4, #T_b9ed0_row4_col5, #T_b9ed0_row5_col4, #T_b9ed0_row5_col5, #T_b9ed0_row6_col4, #T_b9ed0_row6_col5, #T_b9ed0_row7_col4, #T_b9ed0_row7_col5 {\n",
       "  background-color: #dcdcdc;\n",
       "}\n",
       "</style>\n",
       "<table id=\"T_b9ed0\">\n",
       "  <thead>\n",
       "    <tr>\n",
       "      <th class=\"blank\" >&nbsp;</th>\n",
       "      <th class=\"blank level0\" >&nbsp;</th>\n",
       "      <th id=\"T_b9ed0_level0_col0\" class=\"col_heading level0 col0\" >Precision</th>\n",
       "      <th id=\"T_b9ed0_level0_col1\" class=\"col_heading level0 col1\" >Recall</th>\n",
       "      <th id=\"T_b9ed0_level0_col2\" class=\"col_heading level0 col2\" >F1_Score</th>\n",
       "      <th id=\"T_b9ed0_level0_col3\" class=\"col_heading level0 col3\" >Support</th>\n",
       "      <th id=\"T_b9ed0_level0_col4\" class=\"col_heading level0 col4\" >Training_Time</th>\n",
       "      <th id=\"T_b9ed0_level0_col5\" class=\"col_heading level0 col5\" >Predicting_Time</th>\n",
       "    </tr>\n",
       "    <tr>\n",
       "      <th class=\"index_name level0\" >Model_name</th>\n",
       "      <th class=\"index_name level1\" >Classes</th>\n",
       "      <th class=\"blank col0\" >&nbsp;</th>\n",
       "      <th class=\"blank col1\" >&nbsp;</th>\n",
       "      <th class=\"blank col2\" >&nbsp;</th>\n",
       "      <th class=\"blank col3\" >&nbsp;</th>\n",
       "      <th class=\"blank col4\" >&nbsp;</th>\n",
       "      <th class=\"blank col5\" >&nbsp;</th>\n",
       "    </tr>\n",
       "  </thead>\n",
       "  <tbody>\n",
       "    <tr>\n",
       "      <th id=\"T_b9ed0_level0_row0\" class=\"row_heading level0 row0\" rowspan=\"8\">SVM_2</th>\n",
       "      <th id=\"T_b9ed0_level1_row0\" class=\"row_heading level1 row0\" >Class-0</th>\n",
       "      <td id=\"T_b9ed0_row0_col0\" class=\"data row0 col0\" >0.977636</td>\n",
       "      <td id=\"T_b9ed0_row0_col1\" class=\"data row0 col1\" >0.983214</td>\n",
       "      <td id=\"T_b9ed0_row0_col2\" class=\"data row0 col2\" >0.980417</td>\n",
       "      <td id=\"T_b9ed0_row0_col3\" class=\"data row0 col3\" >87633.000000</td>\n",
       "      <td id=\"T_b9ed0_row0_col4\" class=\"data row0 col4\" >219.705384</td>\n",
       "      <td id=\"T_b9ed0_row0_col5\" class=\"data row0 col5\" >7.797743</td>\n",
       "    </tr>\n",
       "    <tr>\n",
       "      <th id=\"T_b9ed0_level1_row1\" class=\"row_heading level1 row1\" >Class-1</th>\n",
       "      <td id=\"T_b9ed0_row1_col0\" class=\"data row1 col0\" >0.000000</td>\n",
       "      <td id=\"T_b9ed0_row1_col1\" class=\"data row1 col1\" >0.000000</td>\n",
       "      <td id=\"T_b9ed0_row1_col2\" class=\"data row1 col2\" >0.000000</td>\n",
       "      <td id=\"T_b9ed0_row1_col3\" class=\"data row1 col3\" >76.000000</td>\n",
       "      <td id=\"T_b9ed0_row1_col4\" class=\"data row1 col4\" >219.705384</td>\n",
       "      <td id=\"T_b9ed0_row1_col5\" class=\"data row1 col5\" >7.797743</td>\n",
       "    </tr>\n",
       "    <tr>\n",
       "      <th id=\"T_b9ed0_level1_row2\" class=\"row_heading level1 row2\" >Class-2</th>\n",
       "      <td id=\"T_b9ed0_row2_col0\" class=\"data row2 col0\" >0.975017</td>\n",
       "      <td id=\"T_b9ed0_row2_col1\" class=\"data row2 col1\" >0.862568</td>\n",
       "      <td id=\"T_b9ed0_row2_col2\" class=\"data row2 col2\" >0.915352</td>\n",
       "      <td id=\"T_b9ed0_row2_col3\" class=\"data row2 col3\" >4977.000000</td>\n",
       "      <td id=\"T_b9ed0_row2_col4\" class=\"data row2 col4\" >219.705384</td>\n",
       "      <td id=\"T_b9ed0_row2_col5\" class=\"data row2 col5\" >7.797743</td>\n",
       "    </tr>\n",
       "    <tr>\n",
       "      <th id=\"T_b9ed0_level1_row3\" class=\"row_heading level1 row3\" >Class-3</th>\n",
       "      <td id=\"T_b9ed0_row3_col0\" class=\"data row3 col0\" >0.000000</td>\n",
       "      <td id=\"T_b9ed0_row3_col1\" class=\"data row3 col1\" >0.000000</td>\n",
       "      <td id=\"T_b9ed0_row3_col2\" class=\"data row3 col2\" >0.000000</td>\n",
       "      <td id=\"T_b9ed0_row3_col3\" class=\"data row3 col3\" >1168.000000</td>\n",
       "      <td id=\"T_b9ed0_row3_col4\" class=\"data row3 col4\" >219.705384</td>\n",
       "      <td id=\"T_b9ed0_row3_col5\" class=\"data row3 col5\" >7.797743</td>\n",
       "    </tr>\n",
       "    <tr>\n",
       "      <th id=\"T_b9ed0_level1_row4\" class=\"row_heading level1 row4\" >Class-4</th>\n",
       "      <td id=\"T_b9ed0_row4_col0\" class=\"data row4 col0\" >0.816988</td>\n",
       "      <td id=\"T_b9ed0_row4_col1\" class=\"data row4 col1\" >0.992190</td>\n",
       "      <td id=\"T_b9ed0_row4_col2\" class=\"data row4 col2\" >0.896106</td>\n",
       "      <td id=\"T_b9ed0_row4_col3\" class=\"data row4 col3\" >6146.000000</td>\n",
       "      <td id=\"T_b9ed0_row4_col4\" class=\"data row4 col4\" >219.705384</td>\n",
       "      <td id=\"T_b9ed0_row4_col5\" class=\"data row4 col5\" >7.797743</td>\n",
       "    </tr>\n",
       "    <tr>\n",
       "      <th id=\"T_b9ed0_level1_row5\" class=\"row_heading level1 row5\" >accuracy</th>\n",
       "      <td id=\"T_b9ed0_row5_col0\" class=\"data row5 col0\" >0.965530</td>\n",
       "      <td id=\"T_b9ed0_row5_col1\" class=\"data row5 col1\" >0.965530</td>\n",
       "      <td id=\"T_b9ed0_row5_col2\" class=\"data row5 col2\" >0.965530</td>\n",
       "      <td id=\"T_b9ed0_row5_col3\" class=\"data row5 col3\" >0.965530</td>\n",
       "      <td id=\"T_b9ed0_row5_col4\" class=\"data row5 col4\" >219.705384</td>\n",
       "      <td id=\"T_b9ed0_row5_col5\" class=\"data row5 col5\" >7.797743</td>\n",
       "    </tr>\n",
       "    <tr>\n",
       "      <th id=\"T_b9ed0_level1_row6\" class=\"row_heading level1 row6\" >macro avg</th>\n",
       "      <td id=\"T_b9ed0_row6_col0\" class=\"data row6 col0\" >0.553928</td>\n",
       "      <td id=\"T_b9ed0_row6_col1\" class=\"data row6 col1\" >0.567594</td>\n",
       "      <td id=\"T_b9ed0_row6_col2\" class=\"data row6 col2\" >0.558375</td>\n",
       "      <td id=\"T_b9ed0_row6_col3\" class=\"data row6 col3\" >100000.000000</td>\n",
       "      <td id=\"T_b9ed0_row6_col4\" class=\"data row6 col4\" >219.705384</td>\n",
       "      <td id=\"T_b9ed0_row6_col5\" class=\"data row6 col5\" >7.797743</td>\n",
       "    </tr>\n",
       "    <tr>\n",
       "      <th id=\"T_b9ed0_level1_row7\" class=\"row_heading level1 row7\" >weighted avg</th>\n",
       "      <td id=\"T_b9ed0_row7_col0\" class=\"data row7 col0\" >0.955471</td>\n",
       "      <td id=\"T_b9ed0_row7_col1\" class=\"data row7 col1\" >0.965530</td>\n",
       "      <td id=\"T_b9ed0_row7_col2\" class=\"data row7 col2\" >0.959801</td>\n",
       "      <td id=\"T_b9ed0_row7_col3\" class=\"data row7 col3\" >100000.000000</td>\n",
       "      <td id=\"T_b9ed0_row7_col4\" class=\"data row7 col4\" >219.705384</td>\n",
       "      <td id=\"T_b9ed0_row7_col5\" class=\"data row7 col5\" >7.797743</td>\n",
       "    </tr>\n",
       "  </tbody>\n",
       "</table>\n"
      ],
      "text/plain": [
       "<pandas.io.formats.style.Styler at 0x794e3d0d66e0>"
      ]
     },
     "metadata": {},
     "output_type": "display_data"
    },
    {
     "name": "stdout",
     "output_type": "stream",
     "text": [
      "\n",
      "It takes you  230 minutes to see SVM_2\n"
     ]
    }
   ],
   "source": [
    "from sklearn.svm import SVC\n",
    "\n",
    "# Step0) Hyperparameters\n",
    "kernel = 'rbf'\n",
    "degree = 2\n",
    "regularization_parameter = 1\n",
    "\n",
    "# Step1) Choose a set of features\n",
    "best_feature_list = best_feature_list_from_RF\n",
    "print('This result is for SVM_2 using best feature list obtained from RF method:')\n",
    "print('-'*100)\n",
    "\n",
    "# Step2) Splitting\n",
    "X_train, x_test, y_train, y_test = spliting(df= clean_df, best_feature_list= best_feature_list)\n",
    "\n",
    "# Step3) Normalizing\n",
    "X_train_normalized, x_test_normalized = normalizing(X_train, x_test)\n",
    "\n",
    "\n",
    "# Step4) Define Model\n",
    "\n",
    "def Poly_SVM(X_train_normalized,y_train,kernel,regularization_parameter,degree):\n",
    "\n",
    "  linear_svm = SVC(\n",
    "      kernel=kernel,\n",
    "      C=regularization_parameter,\n",
    "      degree=degree)\n",
    "\n",
    "  start_time = time.time()\n",
    "  model = linear_svm.fit(X_train_normalized,y_train)\n",
    "  stop_time = time.time()\n",
    "  train_time = (stop_time-start_time)/60\n",
    "\n",
    "  return model, train_time\n",
    "\n",
    "# Step5) Call Model\n",
    "poly_SVM_model, train_time = Poly_SVM(X_train_normalized,y_train,kernel,regularization_parameter,degree)\n",
    "\n",
    "\n",
    "# Define pred function\n",
    "def pred_svm(model,x_test_normalized):\n",
    "\n",
    "  start_time = time.time()\n",
    "  predictions = model.predict(x_test_normalized)\n",
    "  stop_time = time.time()\n",
    "\n",
    "  pred_time = (stop_time-start_time)/60\n",
    "\n",
    "  return predictions,pred_time\n",
    "\n",
    "# Step6) Call pred function\n",
    "y_pred, pred_time = pred_svm(poly_SVM_model,x_test_normalized)\n",
    "\n",
    "# Step7) Call Performance\n",
    "print('*'*40,'Performance Table','*'*40)\n",
    "_,SVM_2_performance_df  = performance('SVM_2',y_test,y_pred,clean_df,train_time,pred_time)\n",
    "print(f'\\nIt takes you  {int((time.time() - initial_time)/60)} minutes to see SVM_2')\n",
    "\n",
    "# Step7) Save model performance\n",
    "SVM_2_performance_df.to_csv(os.path.join(Models_results_folder,'SVM_2_performance_df.csv'),index=True)"
   ]
  },
  {
   "cell_type": "code",
   "execution_count": null,
   "id": "2ee2e6a0",
   "metadata": {
    "execution": {
     "iopub.execute_input": "2024-08-15T01:14:47.497263Z",
     "iopub.status.busy": "2024-08-15T01:14:47.496393Z",
     "iopub.status.idle": "2024-08-15T01:14:48.083651Z",
     "shell.execute_reply": "2024-08-15T01:14:48.082261Z"
    },
    "id": "2ee2e6a0",
    "outputId": "f789da2f-433c-463a-d4ae-fd828e24f2a1",
    "papermill": {
     "duration": 0.608242,
     "end_time": "2024-08-15T01:14:48.086907",
     "exception": false,
     "start_time": "2024-08-15T01:14:47.478665",
     "status": "completed"
    },
    "pycharm": {
     "name": "#%%\n"
    },
    "tags": []
   },
   "outputs": [
    {
     "data": {
      "image/png": "[encoded data removed]",
      "text/plain": [
       "<Figure size 800x500 with 1 Axes>"
      ]
     },
     "metadata": {},
     "output_type": "display_data"
    }
   ],
   "source": [
    "# Let's see the the performance of SVMs\n",
    "model_names = ['SVM_1','SVM_2']\n",
    "Accuracy_list = list(np.round([SVM_1_performance_df['F1_Score'][-3],SVM_2_performance_df['F1_Score'][-3]],3))\n",
    "F1_Score_Macro_Avg_list=    list(np.round([SVM_1_performance_df['F1_Score'][-2],SVM_2_performance_df['F1_Score'][-2]],3))\n",
    "F1_Score_Weighted_Avg_list =  list(np.round([SVM_1_performance_df['F1_Score'][-1],SVM_2_performance_df['F1_Score'][-1]],3))\n",
    "\n",
    "plot_performance(model_names, F1_Score_Macro_Avg_list, F1_Score_Weighted_Avg_list,Accuracy_list)"
   ]
  },
  {
   "cell_type": "code",
   "execution_count": null,
   "id": "49f214e4",
   "metadata": {
    "execution": {
     "iopub.execute_input": "2024-08-15T01:14:48.120176Z",
     "iopub.status.busy": "2024-08-15T01:14:48.119494Z",
     "iopub.status.idle": "2024-08-15T01:14:48.128030Z",
     "shell.execute_reply": "2024-08-15T01:14:48.125823Z"
    },
    "id": "49f214e4",
    "outputId": "636b21c3-186b-48cd-d73e-e0c341fd6362",
    "papermill": {
     "duration": 0.029924,
     "end_time": "2024-08-15T01:14:48.132318",
     "exception": false,
     "start_time": "2024-08-15T01:14:48.102394",
     "status": "completed"
    },
    "pycharm": {
     "name": "#%%\n"
    },
    "tags": []
   },
   "outputs": [
    {
     "name": "stdout",
     "output_type": "stream",
     "text": [
      "This notebook takes 230 minutes of your time.\n"
     ]
    }
   ],
   "source": [
    "last_time =  time.time()\n",
    "print(f'This notebook takes {int((last_time-initial_time)/60)} minutes of your time.')"
   ]
  }
 ],
 "metadata": {
  "colab": {
   "collapsed_sections": [
    "330cc221"
   ],
   "provenance": [],
   "include_colab_link": true
  },
  "kaggle": {
   "accelerator": "none",
   "dataSources": [],
   "dockerImageVersionId": 30746,
   "isGpuEnabled": false,
   "isInternetEnabled": true,
   "language": "python",
   "sourceType": "notebook"
  },
  "kernelspec": {
   "display_name": "Python 3",
   "language": "python",
   "name": "python3"
  },
  "language_info": {
   "codemirror_mode": {
    "name": "ipython",
    "version": 3
   },
   "file_extension": ".py",
   "mimetype": "text/x-python",
   "name": "python",
   "nbconvert_exporter": "python",
   "pygments_lexer": "ipython3",
   "version": "3.10.13"
  },
  "papermill": {
   "default_parameters": {},
   "duration": 13855.61847,
   "end_time": "2024-08-15T01:14:49.114238",
   "environment_variables": {},
   "exception": null,
   "input_path": "__notebook__.ipynb",
   "output_path": "__notebook__.ipynb",
   "parameters": {},
   "start_time": "2024-08-14T21:23:53.495768",
   "version": "2.5.0"
  }
 },
 "nbformat": 4,
 "nbformat_minor": 5
}